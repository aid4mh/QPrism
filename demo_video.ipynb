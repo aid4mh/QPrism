{
  "nbformat": 4,
  "nbformat_minor": 0,
  "metadata": {
    "colab": {
      "name": "demo_video.ipynb",
      "provenance": [],
      "collapsed_sections": [],
      "authorship_tag": "ABX9TyPqX4kROZF2y6Ql5OpzTx6B",
      "include_colab_link": true
    },
    "kernelspec": {
      "name": "python3",
      "display_name": "Python 3"
    },
    "language_info": {
      "name": "python"
    }
  },
  "cells": [
    {
      "cell_type": "markdown",
      "metadata": {
        "id": "view-in-github",
        "colab_type": "text"
      },
      "source": [
        "<a href=\"https://colab.research.google.com/github/aid4mh/QPrism/blob/main/demo_video.ipynb\" target=\"_parent\"><img src=\"https://colab.research.google.com/assets/colab-badge.svg\" alt=\"Open In Colab\"/></a>"
      ]
    },
    {
      "cell_type": "code",
      "source": [
        "!python3 -m pip install --upgrade pip"
      ],
      "metadata": {
        "colab": {
          "base_uri": "https://localhost:8080/"
        },
        "id": "QN8nipRsKWcN",
        "outputId": "136dc061-c881-40fe-8ca1-da742fbb7601"
      },
      "execution_count": 9,
      "outputs": [
        {
          "output_type": "stream",
          "name": "stdout",
          "text": [
            "Looking in indexes: https://pypi.org/simple, https://us-python.pkg.dev/colab-wheels/public/simple/\n",
            "Requirement already satisfied: pip in /usr/local/lib/python3.7/dist-packages (21.1.3)\n",
            "Collecting pip\n",
            "  Downloading pip-22.2-py3-none-any.whl (2.0 MB)\n",
            "\u001b[K     |████████████████████████████████| 2.0 MB 5.4 MB/s \n",
            "\u001b[?25hInstalling collected packages: pip\n",
            "  Attempting uninstall: pip\n",
            "    Found existing installation: pip 21.1.3\n",
            "    Uninstalling pip-21.1.3:\n",
            "      Successfully uninstalled pip-21.1.3\n",
            "Successfully installed pip-22.2\n"
          ]
        }
      ]
    },
    {
      "cell_type": "code",
      "execution_count": null,
      "metadata": {
        "id": "jV38gnfPIQpU"
      },
      "outputs": [],
      "source": [
        "!pip install -i https://test.pypi.org/simple/ QPrism==0.1.2"
      ]
    },
    {
      "cell_type": "code",
      "source": [
        "import QPrism.Video.DQM as Video"
      ],
      "metadata": {
        "id": "TzV6U6T1KnRh"
      },
      "execution_count": 1,
      "outputs": []
    },
    {
      "cell_type": "code",
      "source": [
        "Video = Video.Video_DQM()"
      ],
      "metadata": {
        "id": "glYjN3bBKvtQ"
      },
      "execution_count": 2,
      "outputs": []
    },
    {
      "cell_type": "code",
      "source": [
        "# Length of a single video file\n",
        "length = Video.length(path='/content/video_1.mp4')\n",
        "print(\"Length of the video is %d seconds\" %length)\n",
        "\n",
        "# Length of a video folder\n",
        "length = Video.length(path='/content/video_samples')\n",
        "print(\"Length of the videos are: \\n\", length)"
      ],
      "metadata": {
        "colab": {
          "base_uri": "https://localhost:8080/"
        },
        "id": "0lW-4HS8MVq7",
        "outputId": "a36c94ad-8344-4021-e685-77474057ba91"
      },
      "execution_count": 3,
      "outputs": [
        {
          "output_type": "stream",
          "name": "stdout",
          "text": [
            "Length of the video is 154 seconds\n",
            "Length of the videos are: \n",
            "     Videos  Length\n",
            "0  video_2     267\n",
            "1  video_1     154\n"
          ]
        }
      ]
    },
    {
      "cell_type": "code",
      "source": [
        "# Resolution of the video\n",
        "resolution = Video.resolution(path='/content/video_1.mp4')\n",
        "print(\"Resolution of the video:\", resolution)\n",
        "\n",
        "# Resolution of the video folder\n",
        "resolution = Video.resolution(path='/content/video_samples')\n",
        "print(\"Resolution of the videos: \\n\", resolution)"
      ],
      "metadata": {
        "colab": {
          "base_uri": "https://localhost:8080/"
        },
        "id": "UN4_CqgtPQ-G",
        "outputId": "b0fb6bd4-b23b-4bb8-b79b-680ed8d58998"
      },
      "execution_count": 4,
      "outputs": [
        {
          "output_type": "stream",
          "name": "stdout",
          "text": [
            "Resolution of the video: 720\n",
            "Resolution of the videos: \n",
            "     Videos  Resolution\n",
            "0  video_2         720\n",
            "1  video_1         720\n"
          ]
        }
      ]
    },
    {
      "cell_type": "code",
      "source": [
        "# Format of a single video file\n",
        "format = Video.format(path='/content/video_1.mp4')\n",
        "print(\"Format of the video is\", format)\n",
        "\n",
        "# Format of a video folder\n",
        "format = Video.format(path='/content/video_samples')\n",
        "print(\"Format of the videos are: \\n\", format)"
      ],
      "metadata": {
        "colab": {
          "base_uri": "https://localhost:8080/"
        },
        "id": "a4Xik-D5Pfle",
        "outputId": "b762a5d1-74a6-4aa3-dc75-6aed79795be9"
      },
      "execution_count": 5,
      "outputs": [
        {
          "output_type": "stream",
          "name": "stdout",
          "text": [
            "Format of the video is .mp4\n",
            "Format of the videos are: \n",
            "     Videos Format\n",
            "0  video_2   .mp4\n",
            "1  video_1   .mp4\n"
          ]
        }
      ]
    },
    {
      "cell_type": "code",
      "source": [
        "# Bitrate of a single video file\n",
        "bitrate = Video.bit_rate(path='/content/video_1.mp4')\n",
        "print(\"Bitrate of the video is\", bitrate)\n",
        "\n",
        "# Bitrate of a video folder\n",
        "bitrate = Video.bit_rate(path='/content/video_samples')\n",
        "print(\"Bitrate of the videos are: \\n\", bitrate)"
      ],
      "metadata": {
        "colab": {
          "base_uri": "https://localhost:8080/"
        },
        "id": "suC_vY-jPnLq",
        "outputId": "dfcc064b-e828-4b73-85d8-84bb64c18de7"
      },
      "execution_count": 29,
      "outputs": [
        {
          "output_type": "stream",
          "name": "stdout",
          "text": [
            "Audio file not found!!!\n",
            "Extracting audio from video\n",
            "[MoviePy] Writing audio in audio_files/video_1_Audio.mp3\n"
          ]
        },
        {
          "output_type": "stream",
          "name": "stderr",
          "text": [
            "100%|██████████| 3274/3274 [00:05<00:00, 604.64it/s]"
          ]
        },
        {
          "output_type": "stream",
          "name": "stdout",
          "text": [
            "[MoviePy] Done.\n"
          ]
        },
        {
          "output_type": "stream",
          "name": "stderr",
          "text": [
            "\n"
          ]
        },
        {
          "output_type": "stream",
          "name": "stdout",
          "text": [
            "Bitrate of the video is 1205\n",
            "Audio file not found!!!\n",
            "Extracting audio from video\n",
            "[MoviePy] Writing audio in audio_files/video_2_Audio.mp3\n"
          ]
        },
        {
          "output_type": "stream",
          "name": "stderr",
          "text": [
            "100%|██████████| 5659/5659 [00:09<00:00, 600.67it/s]"
          ]
        },
        {
          "output_type": "stream",
          "name": "stdout",
          "text": [
            "[MoviePy] Done.\n"
          ]
        },
        {
          "output_type": "stream",
          "name": "stderr",
          "text": [
            "\n"
          ]
        },
        {
          "output_type": "stream",
          "name": "stdout",
          "text": [
            "Bitrate of the videos are: \n",
            "     Videos  Bitrate\n",
            "0  video_2      337\n",
            "1  video_1     1205\n"
          ]
        }
      ]
    },
    {
      "cell_type": "code",
      "source": [
        "# Object Detection for Single file\n",
        "objects = Video.object_detection(path='/content/video_1.mp4', modelname='yolov5s')\n",
        "print(\"Objects detected in the video are:\", objects)\n",
        "\n",
        "# Folder\n",
        "objects = Video.object_detection(path='/content/video_samples', modelname='yolov5s')\n",
        "print(\"Objects detected in the videos are \\n:\", objects)"
      ],
      "metadata": {
        "colab": {
          "base_uri": "https://localhost:8080/"
        },
        "id": "yYhyaQtMQJpB",
        "outputId": "a0b474a4-755c-4e13-c8ff-6b28f619134e"
      },
      "execution_count": 6,
      "outputs": [
        {
          "metadata": {
            "tags": null
          },
          "name": "stderr",
          "output_type": "stream",
          "text": [
            "Using cache found in /root/.cache/torch/hub/ultralytics_yolov5_master\n",
            "YOLOv5 🚀 2022-7-27 Python-3.7.13 torch-1.12.0+cu113 CPU\n",
            "\n",
            "Fusing layers... \n",
            "YOLOv5s summary: 213 layers, 7225885 parameters, 0 gradients\n",
            "Adding AutoShape... \n",
            "Using cache found in /root/.cache/torch/hub/ultralytics_yolov5_master\n",
            "YOLOv5 🚀 2022-7-27 Python-3.7.13 torch-1.12.0+cu113 CPU\n",
            "\n",
            "Fusing layers... \n"
          ]
        },
        {
          "metadata": {
            "tags": null
          },
          "name": "stdout",
          "output_type": "stream",
          "text": [
            "Objects detected in the video are: ['person', 'suitcase', 'cell phone', 'refrigerator', 'backpack', 'chair', 'bottle', 'bowl', 'tv', 'sports ball', 'umbrella', 'cup', 'handbag', 'cake', 'tie', 'wine glass', 'cat', 'spoon', 'couch', 'bus', 'dining table', 'baseball glove', 'vase', 'bicycle', 'fork', 'oven', 'bed', 'potted plant', 'car', 'bird', 'motorcycle', 'dog', 'clock', 'book', 'laptop', 'truck', 'remote', 'parking meter']\n"
          ]
        },
        {
          "metadata": {
            "tags": null
          },
          "name": "stderr",
          "output_type": "stream",
          "text": [
            "YOLOv5s summary: 213 layers, 7225885 parameters, 0 gradients\n",
            "Adding AutoShape... \n"
          ]
        },
        {
          "output_type": "stream",
          "name": "stdout",
          "text": [
            "Objects detected in the videos are \n",
            ":     Videos                                            Objects\n",
            "0  video_2  [person, suitcase, cell phone, backpack, mouse...\n",
            "1  video_1  [person, suitcase, cell phone, refrigerator, b...\n"
          ]
        }
      ]
    },
    {
      "cell_type": "code",
      "source": [
        "# Frame rate of a single video file\n",
        "framerate = Video.framerate(path='/content/video_1.mp4')\n",
        "print(\"Frame rate of the video is\", framerate)\n",
        "\n",
        "# Frame Rate of a video folder\n",
        "framerate = Video.framerate(path='/content/video_samples')\n",
        "print(\"Frame rate of the videos are: \\n\", framerate)"
      ],
      "metadata": {
        "colab": {
          "base_uri": "https://localhost:8080/"
        },
        "id": "6Gbo2_LnR0iF",
        "outputId": "dca5bfe4-cea3-415b-d716-415717f32788"
      },
      "execution_count": 7,
      "outputs": [
        {
          "output_type": "stream",
          "name": "stdout",
          "text": [
            "Frame rate of the video is 23\n",
            "Frame rate of the videos are: \n",
            "     Videos  Framerate\n",
            "0  video_2         23\n",
            "1  video_1         23\n"
          ]
        }
      ]
    },
    {
      "cell_type": "code",
      "source": [
        "# Brightness of a single video file\n",
        "brightness = Video.brightness(path='/content/video_1.mp4')\n",
        "print(\"Brightness of the video is\", brightness)\n",
        "\n",
        "# Brightness of a video folder\n",
        "brightness = Video.brightness(path='/content/video_samples')\n",
        "print(\"Brightness of the videos are: \\n\", brightness)"
      ],
      "metadata": {
        "colab": {
          "base_uri": "https://localhost:8080/"
        },
        "id": "P_0YJ-4ASlsf",
        "outputId": "6ceeea6a-d9e7-4033-decd-50db804f5a93"
      },
      "execution_count": 8,
      "outputs": [
        {
          "output_type": "stream",
          "name": "stdout",
          "text": [
            "Brightness of the video is 56.75\n",
            "Brightness of the videos are: \n",
            "     Videos  Brightness\n",
            "0  video_2      49.158\n",
            "1  video_1      56.750\n"
          ]
        }
      ]
    },
    {
      "cell_type": "code",
      "source": [
        "# Time created of a single video file\n",
        "time = Video.time_created(path='/content/video_1.mp4')\n",
        "print(\"Time created of the video is\", time)\n",
        "\n",
        "# Time created of a video folder\n",
        "time = Video.time_created(path='/content/video_samples')\n",
        "print(\"Time created of the videos are: \\n\", time)"
      ],
      "metadata": {
        "colab": {
          "base_uri": "https://localhost:8080/"
        },
        "id": "FUHIzSXJSojf",
        "outputId": "e3e84b4b-76be-4d83-cda0-715b868b1634"
      },
      "execution_count": 9,
      "outputs": [
        {
          "output_type": "stream",
          "name": "stdout",
          "text": [
            "Time created of the video is 2019-12-14T06:50:03\n",
            "Enter path of video directory: /content/video_samples\n",
            "Time created of the videos are: \n",
            "     Videos         Date created\n",
            "0  video_2  2022-06-03T15:05:49\n",
            "1  video_1  2019-12-14T06:50:03\n"
          ]
        }
      ]
    },
    {
      "cell_type": "code",
      "source": [
        "# Percentage of artifacts present of a single video file\n",
        "artifact = Video.check_artifacts(path='/content/video_1.mp4')\n",
        "print(\"Percentage of artifacts present of the video is\", artifact)\n",
        "\n",
        "# Percentage of artifacts present of a video folder\n",
        "artifact = Video.check_artifacts(path='/content/video_samples')\n",
        "print(\"Percentage of artifacts present of the videos are: \\n\", artifact)"
      ],
      "metadata": {
        "colab": {
          "base_uri": "https://localhost:8080/"
        },
        "id": "h82Gr3LeSq5G",
        "outputId": "a205bdfe-a00a-42b2-8c3d-9be055d488e5"
      },
      "execution_count": 10,
      "outputs": [
        {
          "output_type": "stream",
          "name": "stdout",
          "text": [
            "Percentage of artifacts present of the video is 1.0\n",
            "Percentage of artifacts present of the videos are: \n",
            "     Videos  Artifacts\n",
            "0  video_2      0.982\n",
            "1  video_1      1.000\n"
          ]
        }
      ]
    },
    {
      "cell_type": "code",
      "source": [
        "# All metrics\n",
        "Video.all_video(path='/content/video_1.mp4', modelname='yolov5s')"
      ],
      "metadata": {
        "colab": {
          "base_uri": "https://localhost:8080/"
        },
        "id": "p8CbLjKWSrYX",
        "outputId": "d2cef41b-983a-419e-ddf9-e61e23c22d26"
      },
      "execution_count": 11,
      "outputs": [
        {
          "metadata": {
            "tags": null
          },
          "name": "stdout",
          "output_type": "stream",
          "text": [
            "Audio file not found!!!\n",
            "Extracting audio from video\n",
            "[MoviePy] Writing audio in audio_files/video_1_Audio.mp3\n"
          ]
        },
        {
          "metadata": {
            "tags": null
          },
          "name": "stderr",
          "output_type": "stream",
          "text": [
            "100%|██████████| 3274/3274 [00:05<00:00, 640.78it/s]"
          ]
        },
        {
          "metadata": {
            "tags": null
          },
          "name": "stdout",
          "output_type": "stream",
          "text": [
            "[MoviePy] Done.\n"
          ]
        },
        {
          "metadata": {
            "tags": null
          },
          "name": "stderr",
          "output_type": "stream",
          "text": [
            "\n"
          ]
        },
        {
          "name": "stdout",
          "output_type": "stream",
          "text": [
            "Enter path of video directory: /content/\n"
          ]
        },
        {
          "output_type": "stream",
          "name": "stderr",
          "text": [
            "Using cache found in /root/.cache/torch/hub/ultralytics_yolov5_master\n",
            "YOLOv5 🚀 2022-7-27 Python-3.7.13 torch-1.12.0+cu113 CPU\n",
            "\n",
            "Fusing layers... \n",
            "YOLOv5s summary: 213 layers, 7225885 parameters, 0 gradients\n",
            "Adding AutoShape... \n"
          ]
        },
        {
          "output_type": "stream",
          "name": "stdout",
          "text": [
            "Metrics saved to  /content/video_samples/video_metrics.csv\n"
          ]
        }
      ]
    }
  ]
}