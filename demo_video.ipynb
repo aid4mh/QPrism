{
 "cells": [
  {
   "cell_type": "code",
   "execution_count": 1,
   "metadata": {},
   "outputs": [],
   "source": [
    "# Import library\n",
    "from modules.Video import Video"
   ]
  },
  {
   "cell_type": "code",
   "execution_count": 2,
   "metadata": {},
   "outputs": [],
   "source": [
    "Video = Video.Video()"
   ]
  },
  {
   "cell_type": "code",
   "execution_count": 3,
   "metadata": {},
   "outputs": [
    {
     "output_type": "stream",
     "name": "stdout",
     "text": "Downloading starts...\n\nDownload completed..!!\n"
    }
   ],
   "source": [
    "# This helper function allows you to download any video from the internet\n",
    "from modules.Video.helpers.download import download\n",
    "url='https://www.youtube.com/watch?v=B50o2ExffyY'\n",
    "name = 'video'\n",
    "download(url, name)"
   ]
  },
  {
   "cell_type": "code",
   "execution_count": 4,
   "metadata": {},
   "outputs": [
    {
     "output_type": "stream",
     "name": "stdout",
     "text": "Length of the video is 122 seconds\nLength of the videos are: \n    Videos  Length\n0  Video2     122\n1  Video1     103\n"
    }
   ],
   "source": [
    "# Length of a single video file\n",
    "length = Video.length(path='/mnt/video_samples/Video2.mp4')\n",
    "print(\"Length of the video is %d seconds\" %length)\n",
    "\n",
    "# Length of a video folder\n",
    "length = Video.length(path='/mnt/video_samples')\n",
    "print(\"Length of the videos are: \\n\", length)"
   ]
  },
  {
   "cell_type": "code",
   "execution_count": 3,
   "metadata": {},
   "outputs": [
    {
     "output_type": "stream",
     "name": "stdout",
     "text": "Resolution of the video: 1280\nResolution of the videos: \n    Videos  Resolution\n0  Video2        1280\n1  Video1        1280\n"
    }
   ],
   "source": [
    "# Resolution of the video\n",
    "resolution = Video.resolution(path='/mnt/video_samples/Video2.mp4')\n",
    "print(\"Resolution of the video:\", resolution)\n",
    "\n",
    "# Resolution of the video folder\n",
    "resolution = Video.resolution(path='/mnt/video_samples')\n",
    "print(\"Resolution of the videos: \\n\", resolution)"
   ]
  },
  {
   "cell_type": "code",
   "execution_count": 5,
   "metadata": {},
   "outputs": [
    {
     "output_type": "stream",
     "name": "stdout",
     "text": "Format of the video is .mp4\nFormat of the videos are: \n    Videos Format\n0  Video2   .mp4\n1  Video1   .mp4\n"
    }
   ],
   "source": [
    "# Format of a single video file\n",
    "format = Video.format(path='/mnt/video_samples/Video2.mp4')\n",
    "print(\"Format of the video is\", format)\n",
    "\n",
    "# Format of a video folder\n",
    "format = Video.format(path='/mnt/video_samples')\n",
    "print(\"Format of the videos are: \\n\", format)"
   ]
  },
  {
   "cell_type": "code",
   "execution_count": 5,
   "metadata": {},
   "outputs": [
    {
     "output_type": "stream",
     "name": "stdout",
     "text": "Bitrate of the video is 1142\nBitrate of the videos are: \n    Videos  Bitrate\n0  Video2     1142\n1  Video1     1369\n"
    }
   ],
   "source": [
    "# Bitrate of a single video file\n",
    "bitrate = Video.bit_rate(path='/mnt/video_samples/Video2.mp4')\n",
    "print(\"Bitrate of the video is\", bitrate)\n",
    "\n",
    "# Bitrate of a video folder\n",
    "bitrate = Video.bit_rate(path='/mnt/video_samples')\n",
    "print(\"Bitrate of the videos are: \\n\", bitrate)"
   ]
  },
  {
   "cell_type": "code",
   "execution_count": 3,
   "metadata": {},
   "outputs": [
    {
     "output_type": "stream",
     "name": "stderr",
     "text": "Using cache found in /home/ubuntu/.cache/torch/hub/ultralytics_yolov5_master\nYOLOv5 🚀 2022-7-4 Python-3.6.10 torch-1.10.1+cu102 CUDA:0 (Tesla V100-SXM2-16GB, 16160MiB)\n\nPython 3.7.0 required by YOLOv5, but Python 3.6.10 is currently installed\nFusing layers... \nYOLOv5s summary: 213 layers, 7225885 parameters, 0 gradients\nAdding AutoShape... \nUsing cache found in /home/ubuntu/.cache/torch/hub/ultralytics_yolov5_master\nYOLOv5 🚀 2022-7-4 Python-3.6.10 torch-1.10.1+cu102 CUDA:0 (Tesla V100-SXM2-16GB, 16160MiB)\n\nFusing layers... \nYOLOv5s summary: 213 layers, 7225885 parameters, 0 gradients\nAdding AutoShape... \nObjects detected in the video are: ['chair', 'bottle', 'sink', 'cat', 'vase', 'bird', 'cup', 'teddy bear', 'dog', 'dining table', 'car', 'parking meter', 'laptop', 'book', 'bed', 'umbrella', 'person', 'tie']\nPython 3.7.0 required by YOLOv5, but Python 3.6.10 is currently installed\nObjects detected in the videos are \n:    Videos                                            Objects\n0  Video2  [chair, bottle, sink, cat, vase, bird, cup, te...\n1  Video1  [toilet, cup, dog, mouse, fire hydrant, person...\n"
    }
   ],
   "source": [
    "# Object Detection for Single file\n",
    "objects = Video.object_detection(path='/mnt/video_samples/Video2.mp4', modelname='yolov5s')\n",
    "print(\"Objects detected in the video are:\", objects)\n",
    "\n",
    "# Folder\n",
    "objects = Video.object_detection(path='/mnt/video_samples', modelname='yolov5s')\n",
    "print(\"Objects detected in the videos are \\n:\", objects)"
   ]
  },
  {
   "cell_type": "code",
   "execution_count": 8,
   "metadata": {},
   "outputs": [
    {
     "output_type": "stream",
     "name": "stdout",
     "text": "Frame rate of the video is 29\nFrame rate of the videos are: \n    Videos  Framerate\n0  Video2         29\n1  Video1         29\n"
    }
   ],
   "source": [
    "# Frame rate of a single video file\n",
    "framerate = Video.framerate(path='/mnt/video_samples/Video2.mp4')\n",
    "print(\"Frame rate of the video is\", framerate)\n",
    "\n",
    "# Frame Rate of a video folder\n",
    "framerate = Video.framerate(path='/mnt/video_samples')\n",
    "print(\"Frame rate of the videos are: \\n\", framerate)"
   ]
  },
  {
   "cell_type": "code",
   "execution_count": 2,
   "metadata": {},
   "outputs": [
    {
     "output_type": "stream",
     "name": "stdout",
     "text": "Brightness of the video is 110.016\nBrightness of the videos are: \n    Videos  Brightness\n0  Video2     110.016\n1  Video1      18.473\n"
    }
   ],
   "source": [
    "# Brightness of a single video file\n",
    "brightness = Video.brightness(path='/mnt/video_samples/Video2.mp4')\n",
    "print(\"Brightness of the video is\", brightness)\n",
    "\n",
    "# Brightness of a video folder\n",
    "brightness = Video.brightness(path='/mnt/video_samples')\n",
    "print(\"Brightness of the videos are: \\n\", brightness)"
   ]
  },
  {
   "cell_type": "code",
   "execution_count": 3,
   "metadata": {},
   "outputs": [
    {
     "output_type": "stream",
     "name": "stdout",
     "text": "Time created of the video is 2021-05-24T00:03:17\nTime created of the videos are: \n    Videos         Date created\n0  Video2  2021-05-24T00:03:17\n1  Video1  2022-01-03T00:47:22\n"
    }
   ],
   "source": [
    "# Time created of a single video file\n",
    "time = Video.time_created(path='/mnt/video_samples/Video2.mp4')\n",
    "print(\"Time created of the video is\", time)\n",
    "\n",
    "# Time created of a video folder\n",
    "time = Video.time_created(path='/mnt/video_samples')\n",
    "print(\"Time created of the videos are: \\n\", time)"
   ]
  },
  {
   "cell_type": "code",
   "execution_count": 4,
   "metadata": {},
   "outputs": [
    {
     "output_type": "stream",
     "name": "stdout",
     "text": "Percentage of artifacts present of the video is 97.078\nPercentage of artifacts present of the videos are: \n    Videos  Artifacts\n0  Video2     97.078\n1  Video1     44.496\n"
    }
   ],
   "source": [
    "# Percentage of artifacts present of a single video file\n",
    "artifact = Video.check_artifacts(path='/mnt/video_samples/Video2.mp4')\n",
    "print(\"Percentage of artifacts present of the video is\", artifact)\n",
    "\n",
    "# Percentage of artifacts present of a video folder\n",
    "artifact = Video.check_artifacts(path='/mnt/video_samples')\n",
    "print(\"Percentage of artifacts present of the videos are: \\n\", artifact)"
   ]
  },
  {
   "cell_type": "code",
   "execution_count": 4,
   "metadata": {},
   "outputs": [
    {
     "output_type": "stream",
     "name": "stderr",
     "text": "Using cache found in /home/ubuntu/.cache/torch/hub/ultralytics_yolov5_master\nYOLOv5 🚀 2022-7-4 Python-3.6.10 torch-1.10.1+cu102 CUDA:0 (Tesla V100-SXM2-16GB, 16160MiB)\n\nDownloading https://github.com/ultralytics/yolov5/releases/download/v6.1/yolov5s.pt to yolov5s.pt...\nPython 3.7.0 required by YOLOv5, but Python 3.6.10 is currently installed\n"
    },
    {
     "output_type": "display_data",
     "data": {
      "text/plain": "HBox(children=(IntProgress(value=0, max=14808437), HTML(value='')))",
      "application/vnd.jupyter.widget-view+json": {
       "version_major": 2,
       "version_minor": 0,
       "model_id": "2f689b7d28dc47f38980a50fccb97ab9"
      }
     },
     "metadata": {}
    },
    {
     "output_type": "stream",
     "name": "stderr",
     "text": "\n\nFusing layers... \nYOLOv5s summary: 213 layers, 7225885 parameters, 0 gradients\nAdding AutoShape... \nMetrics saved to  /mnt/QPrism/video_metrics.csv\n"
    }
   ],
   "source": [
    "# All metrics\n",
    "Video.all_video(path='/mnt/video_samples/Video2.mp4', modelname='yolov5s')"
   ]
  }
 ],
 "metadata": {
  "kernelspec": {
   "display_name": "Python 3.6.10 64-bit ('base': conda)",
   "language": "python",
   "name": "python361064bitbaseconda6601ac633b3d4a8da5c5c001c8905f8c"
  },
  "language_info": {
   "codemirror_mode": {
    "name": "ipython",
    "version": 3
   },
   "file_extension": ".py",
   "mimetype": "text/x-python",
   "name": "python",
   "nbconvert_exporter": "python",
   "pygments_lexer": "ipython3",
   "version": "3.6.10-final"
  },
  "orig_nbformat": 4,
  "vscode": {
   "interpreter": {
    "hash": "10514fac1101a9004193c1241e8a1e65ce5546b0de4b301a6547d5f4a83192d5"
   }
  }
 },
 "nbformat": 4,
 "nbformat_minor": 2
}