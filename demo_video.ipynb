{
 "cells": [
  {
   "cell_type": "code",
   "execution_count": 1,
   "metadata": {},
   "outputs": [],
   "source": [
    "# Import library\n",
    "import modules as qmod"
   ]
  },
  {
   "cell_type": "code",
   "execution_count": 2,
   "metadata": {},
   "outputs": [],
   "source": [
    "# Define an object for the Video class\n",
    "Video = qmod.Video()"
   ]
  },
  {
   "cell_type": "code",
   "execution_count": 3,
   "metadata": {},
   "outputs": [
    {
     "name": "stdout",
     "output_type": "stream",
     "text": [
      "Length of the video is 31\n",
      "Length of the videos are {'videos/friends_video.mp4': 31, 'videos/test_video.mp4': 186}\n"
     ]
    }
   ],
   "source": [
    "# Length of a single video file\n",
    "length = Video.video_length(path='friends_video.mp4')\n",
    "print(\"Length of the video is\", length)\n",
    "\n",
    "# Length of a video folder\n",
    "length = Video.video_length(path='videos')\n",
    "print(\"Length of the videos are\", length)"
   ]
  },
  {
   "cell_type": "code",
   "execution_count": 4,
   "metadata": {},
   "outputs": [
    {
     "name": "stdout",
     "output_type": "stream",
     "text": [
      "Resolution of the video: 1080p\n",
      "Resolution of the videos: {'videos/friends_video.mp4': '1080p', 'videos/test_video.mp4': '1080p'}\n"
     ]
    }
   ],
   "source": [
    "# Resolution of the video\n",
    "resolution = Video.resolution(path='friends_video.mp4')\n",
    "print(\"Resolution of the video:\", resolution)\n",
    "\n",
    "# Resolution of the video folder\n",
    "resolution = Video.resolution(path='videos')\n",
    "print(\"Resolution of the videos:\", resolution)"
   ]
  },
  {
   "cell_type": "code",
   "execution_count": 5,
   "metadata": {},
   "outputs": [
    {
     "name": "stdout",
     "output_type": "stream",
     "text": [
      "Format of the video is .mp4\n",
      "Format of the videos are {'videos/friends_video.mp4': '.mp4', 'videos/test_video.mp4': '.mp4'}\n"
     ]
    }
   ],
   "source": [
    "# Format of a single video file\n",
    "format = Video.video_format(path='friends_video.mp4')\n",
    "print(\"Format of the video is\", format)\n",
    "\n",
    "# Length of a video folder\n",
    "format = Video.video_format(path='videos')\n",
    "print(\"Format of the videos are\", format)"
   ]
  },
  {
   "cell_type": "code",
   "execution_count": 6,
   "metadata": {},
   "outputs": [
    {
     "name": "stdout",
     "output_type": "stream",
     "text": [
      "Audio file not found!!!\n",
      "Extracting audio from video\n",
      "MoviePy - Writing audio in audio_files/friends_video_Audio.mp3\n"
     ]
    },
    {
     "name": "stderr",
     "output_type": "stream",
     "text": [
      "                                                                   \r"
     ]
    },
    {
     "name": "stdout",
     "output_type": "stream",
     "text": [
      "MoviePy - Done.\n",
      "Bitrate of the video is 22783\n",
      "Audio file not found!!!\n",
      "Extracting audio from video\n",
      "MoviePy - Writing audio in audio_files/test_video_Audio.mp3\n"
     ]
    },
    {
     "name": "stderr",
     "output_type": "stream",
     "text": [
      "                                                                      \r"
     ]
    },
    {
     "name": "stdout",
     "output_type": "stream",
     "text": [
      "MoviePy - Done.\n",
      "Bitrate of the videos are {'friends_video': 22783, 'test_video': 23246}\n"
     ]
    }
   ],
   "source": [
    "# Bitrate of a single video file\n",
    "bitrate = Video.bitrate(path='friends_video.mp4')\n",
    "print(\"Bitrate of the video is\", bitrate)\n",
    "\n",
    "# Length of a video folder\n",
    "bitrate = Video.bitrate(path='videos')\n",
    "print(\"Bitrate of the videos are\", bitrate)"
   ]
  },
  {
   "cell_type": "code",
   "execution_count": 7,
   "metadata": {},
   "outputs": [],
   "source": [
    "# objects = Video.detect_objects(path='friends_video.mp4', modelname='yolov5s')\n",
    "# print(\"Objects detected in the video are:\", objects)\n",
    "\n",
    "# objects = Video.detect_objects(path='videos', modelname='yolov5s')\n",
    "# print(\"Objects detected in the videos are:\", objects)"
   ]
  },
  {
   "cell_type": "code",
   "execution_count": 8,
   "metadata": {},
   "outputs": [
    {
     "name": "stdout",
     "output_type": "stream",
     "text": [
      "Frame rate of the video is 60\n",
      "Frame rate of the videos are {'videos/friends_video.mp4': 60, 'videos/test_video.mp4': 60}\n"
     ]
    }
   ],
   "source": [
    "# Frame rate of a single video file\n",
    "framerate = Video.framerate(path='friends_video.mp4')\n",
    "print(\"Frame rate of the video is\", framerate)\n",
    "\n",
    "# Frame Rate of a video folder\n",
    "framerate = Video.framerate(path='videos')\n",
    "print(\"Frame rate of the videos are\", framerate)"
   ]
  },
  {
   "cell_type": "code",
   "execution_count": 9,
   "metadata": {},
   "outputs": [
    {
     "name": "stdout",
     "output_type": "stream",
     "text": [
      "Brightness of the video is 47.45016237432738\n",
      "Brightness of the videos are {'videos/friends_video.mp4': 47.45016237432738, 'videos/test_video.mp4': 68.0313353990182}\n"
     ]
    }
   ],
   "source": [
    "# Brightness of a single video file\n",
    "brightness = Video.brightness(path='friends_video.mp4')\n",
    "print(\"Brightness of the video is\", brightness)\n",
    "\n",
    "# Brightness of a video folder\n",
    "brightness = Video.brightness(path='videos')\n",
    "print(\"Brightness of the videos are\", brightness)"
   ]
  }
 ],
 "metadata": {
  "kernelspec": {
   "display_name": "Python 3.10.4 ('bump')",
   "language": "python",
   "name": "python3"
  },
  "language_info": {
   "codemirror_mode": {
    "name": "ipython",
    "version": 3
   },
   "file_extension": ".py",
   "mimetype": "text/x-python",
   "name": "python",
   "nbconvert_exporter": "python",
   "pygments_lexer": "ipython3",
   "version": "3.10.4"
  },
  "orig_nbformat": 4,
  "vscode": {
   "interpreter": {
    "hash": "10514fac1101a9004193c1241e8a1e65ce5546b0de4b301a6547d5f4a83192d5"
   }
  }
 },
 "nbformat": 4,
 "nbformat_minor": 2
}
