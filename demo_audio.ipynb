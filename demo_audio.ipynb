{
 "cells": [
  {
   "cell_type": "code",
   "execution_count": null,
   "metadata": {},
   "outputs": [],
   "source": [
    "! git clone https://github.com/aid4mh/QA-module.git"
   ]
  },
  {
   "cell_type": "code",
   "execution_count": 1,
   "metadata": {},
   "outputs": [],
   "source": [
    "# Import library\n",
    "import modules as qmod"
   ]
  },
  {
   "cell_type": "code",
   "execution_count": 2,
   "metadata": {},
   "outputs": [],
   "source": [
    "# Define an object for the Audio class\n",
    "Audio = qmod.Audio()"
   ]
  },
  {
   "cell_type": "code",
   "execution_count": 3,
   "metadata": {},
   "outputs": [],
   "source": [
    "# Convert mp3 to wav\n",
    "# Folder\n",
    "Audio.mp3_to_wav('/mnt/audio_samples')\n",
    "\n",
    "# Single file\n",
    "Audio.mp3_to_wav('/mnt/audio_samples/user_28_video_diary_18333_Audio.mp3')"
   ]
  },
  {
   "cell_type": "code",
   "execution_count": 4,
   "metadata": {},
   "outputs": [
    {
     "output_type": "stream",
     "name": "stdout",
     "text": "Length of the audio is 120.13\nLength of the audios are {'/mnt/wav_samples/user_28_video_diary_23321_Audio_Wav.wav': 120.09, '/mnt/wav_samples/user_28_video_diary_18333_Audio_Wav.wav': 120.13}\n"
    }
   ],
   "source": [
    "# Length of a single audio file\n",
    "length = Audio.audio_length(path='/mnt/wav_samples/user_28_video_diary_18333_Audio_Wav.wav')\n",
    "print(\"Length of the audio is\", length)\n",
    "\n",
    "# Length of a video folder\n",
    "length = Audio.audio_length(path='/mnt/wav_samples')\n",
    "print(\"Length of the audios are\", length)"
   ]
  },
  {
   "cell_type": "code",
   "execution_count": 5,
   "metadata": {},
   "outputs": [
    {
     "output_type": "stream",
     "name": "stdout",
     "text": "Audio array (44100, array([   0,    0,    0, ..., 1626, 1952, 1550], dtype=int16))\nAudio arrays {'/mnt/wav_samples/user_28_video_diary_23321_Audio_Wav.wav': (44100, array([ 0,  0,  0, ...,  2,  7, 15], dtype=int16)), '/mnt/wav_samples/user_28_video_diary_18333_Audio_Wav.wav': (44100, array([   0,    0,    0, ..., 1626, 1952, 1550], dtype=int16))}\n"
    }
   ],
   "source": [
    "# Audio to Array\n",
    "# Single file\n",
    "array = Audio.audio_2_array(path='/mnt/wav_samples/user_28_video_diary_18333_Audio_Wav.wav')\n",
    "print(\"Audio array\", array)\n",
    "\n",
    "# Folder\n",
    "array = Audio.audio_2_array(path='/mnt/wav_samples')\n",
    "print(\"Audio arrays\", array)"
   ]
  },
  {
   "cell_type": "code",
   "execution_count": null,
   "metadata": {},
   "outputs": [],
   "source": [
    "# Audio transcription\n",
    "# Single file\n",
    "text = Audio.audio_translation(path='/mnt/audio_samples/user_28_video_diary_18333_Audio.mp3')\n",
    "print(\"Audio transcription\", text)\n",
    "\n",
    "# Folder\n",
    "text = Audio.audio_translation(path='/mnt/audio_samples')\n",
    "print(\"Audio transcription\", text)"
   ]
  },
  {
   "cell_type": "code",
   "execution_count": 6,
   "metadata": {},
   "outputs": [
    {
     "output_type": "stream",
     "name": "stdout",
     "text": "Sample rate of the audio is 120.13\nSample rate of the audios are {'/mnt/wav_samples/user_28_video_diary_23321_Audio_Wav.wav': 120.09, '/mnt/wav_samples/user_28_video_diary_18333_Audio_Wav.wav': 120.13}\n"
    }
   ],
   "source": [
    "# Sample rate of a single audio file\n",
    "s_rate = Audio.audio_length(path='/mnt/wav_samples/user_28_video_diary_18333_Audio_Wav.wav')\n",
    "print(\"Sample rate of the audio is\", s_rate)\n",
    "\n",
    "# Sample rate of a video folder\n",
    "s_rate = Audio.audio_length(path='/mnt/wav_samples')\n",
    "print(\"Sample rate of the audios are\", s_rate)"
   ]
  },
  {
   "cell_type": "code",
   "execution_count": 8,
   "metadata": {},
   "outputs": [
    {
     "output_type": "stream",
     "name": "stdout",
     "text": "Audio classification ['Speech']\nAudio classification {'/mnt/wav_samples/user_28_video_diary_23321_Audio_Wav.wav': ['Speech'], '/mnt/wav_samples/user_28_video_diary_18333_Audio_Wav.wav': ['Speech']}\n"
    }
   ],
   "source": [
    "# Audio classification\n",
    "# Single file\n",
    "sounds = Audio.audio_classify(path='/mnt/wav_samples/user_28_video_diary_18333_Audio_Wav.wav')\n",
    "print(\"Audio classification\", sounds)\n",
    "\n",
    "# Folder\n",
    "sounds = Audio.audio_classify(path='/mnt/wav_samples')\n",
    "print(\"Audio classification\", sounds)"
   ]
  },
  {
   "cell_type": "code",
   "execution_count": 3,
   "metadata": {},
   "outputs": [
    {
     "output_type": "stream",
     "name": "stdout",
     "text": "Saved to  user_28_video_diary_23321_Audio_Wav_cleaned.wav\nSaved to  user_28_video_diary_18333_Audio_Wav_cleaned.wav\nSaved to  user_28_video_diary_18333_Audio_Wav_cleaned.wav\n"
    }
   ],
   "source": [
    "# Noise Reduction\n",
    "# Folder\n",
    "Audio.noise_reduce('/mnt/wav_samples')\n",
    "\n",
    "# Single file\n",
    "Audio.noise_reduce('/mnt/wav_samples/user_28_video_diary_18333_Audio_Wav.wav')"
   ]
  }
 ],
 "metadata": {
  "language_info": {
   "codemirror_mode": {
    "name": "ipython",
    "version": 3
   },
   "file_extension": ".py",
   "mimetype": "text/x-python",
   "name": "python",
   "nbconvert_exporter": "python",
   "pygments_lexer": "ipython3",
   "version": "3.6.10-final"
  },
  "orig_nbformat": 2,
  "kernelspec": {
   "name": "python361064bitbumpconda2e3dca47b9664c429dba6db425ce8034",
   "display_name": "Python 3.6.10 64-bit ('bump': conda)"
  }
 },
 "nbformat": 4,
 "nbformat_minor": 2
}