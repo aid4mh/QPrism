{
 "cells": [
  {
   "cell_type": "code",
   "execution_count": null,
   "metadata": {},
   "outputs": [],
   "source": [
    "# Import library\n",
    "from modules.Audio import Audio"
   ]
  },
  {
   "cell_type": "code",
   "execution_count": 2,
   "metadata": {},
   "outputs": [],
   "source": [
    "# Define an object for the Audio class\n",
    "Audio = Audio.Audio()"
   ]
  },
  {
   "cell_type": "code",
   "execution_count": 8,
   "metadata": {},
   "outputs": [],
   "source": [
    "from modules.Audio.helpers.to_mono_wav import to_mono_wav\n",
    "# Convert mp3 to wav\n",
    "to_mono_wav('/Users/jana/Documents/GitHub/QA-module/Audios/taunt.wav')"
   ]
  },
  {
   "cell_type": "code",
   "execution_count": null,
   "metadata": {},
   "outputs": [
    {
     "name": "stdout",
     "output_type": "stream",
     "text": [
      "Length of the audio is 4.099\n",
      "Length of the audios are \n",
      "              Audios  Length\n",
      "0         taunt_Wav   4.099\n",
      "1  Video1_Audio_Wav  99.640\n"
     ]
    }
   ],
   "source": [
    "# Length of a single audio file\n",
    "audio_length = Audio.length(path='/mnt/QPrism/audio_files/taunt_Wav.wav')\n",
    "print(\"Length of the audio is\", audio_length)\n",
    "\n",
    "# Length of a audio folder\n",
    "audio_length = Audio.length(path='/mnt/QPrism/audio_files')\n",
    "print(\"Length of the audios are \\n\", audio_length)"
   ]
  },
  {
   "cell_type": "code",
   "execution_count": null,
   "metadata": {},
   "outputs": [
    {
     "name": "stdout",
     "output_type": "stream",
     "text": [
      "Sample rate of the audio is 22050\n",
      "Sample rate of the audios are\n",
      "              Audios  Sample Rate\n",
      "0         taunt_Wav        22050\n",
      "1  Video1_Audio_Wav        44100\n"
     ]
    }
   ],
   "source": [
    "# Sample rate of a single audio file\n",
    "fs = Audio.sample_rate(path='/mnt/QPrism/audio_files/taunt_Wav.wav')\n",
    "print(\"Sample rate of the audio is\", fs)\n",
    "\n",
    "# Sample rate of a audio folder\n",
    "fs = Audio.sample_rate(path='/mnt/QPrism/audio_files')\n",
    "print(\"Sample rate of the audios are\\n\", fs)"
   ]
  },
  {
   "cell_type": "code",
   "execution_count": null,
   "metadata": {},
   "outputs": [
    {
     "name": "stdout",
     "output_type": "stream",
     "text": [
      "RMS of the audio is 7256\n",
      "RMS of the audios are\n",
      "              Audios   RMS\n",
      "0         taunt_Wav  7256\n",
      "1  Video1_Audio_Wav   514\n"
     ]
    }
   ],
   "source": [
    "# RMS of a single audio file\n",
    "rms = Audio.root_mean_square(path='/mnt/QPrism/audio_files/taunt_Wav.wav')\n",
    "print(\"RMS of the audio is\", rms)\n",
    "\n",
    "# RMS of a audio folder\n",
    "rms = Audio.root_mean_square(path='/mnt/QPrism/audio_files')\n",
    "print(\"RMS of the audios are\\n\", rms)"
   ]
  },
  {
   "cell_type": "code",
   "execution_count": null,
   "metadata": {},
   "outputs": [
    {
     "name": "stdout",
     "output_type": "stream",
     "text": [
      "SNR of the audio is 4.617\n",
      "SNR of the audios are\n",
      "              Audios    SNR\n",
      "0         taunt_Wav  4.617\n",
      "1  Video1_Audio_Wav  4.009\n"
     ]
    }
   ],
   "source": [
    "# SNR of a single audio file\n",
    "snr = Audio.signaltonoise(path='/mnt/QPrism/audio_files/taunt_Wav.wav')\n",
    "print(\"SNR of the audio is\", snr)\n",
    "\n",
    "# SNR of a audio folder\n",
    "snr = Audio.signaltonoise(path='/mnt/QPrism/audio_files')\n",
    "print(\"SNR of the audios are\\n\", snr)"
   ]
  },
  {
   "cell_type": "code",
   "execution_count": 5,
   "metadata": {},
   "outputs": [
    {
     "name": "stderr",
     "output_type": "stream",
     "text": [
      "2022-07-20 21:54:01.061948: I tensorflow/core/grappler/optimizers/custom_graph_optimizer_registry.cc:113] Plugin optimizer for device_type GPU is enabled.\n",
      "2022-07-20 21:54:01.182849: I tensorflow/core/grappler/optimizers/custom_graph_optimizer_registry.cc:113] Plugin optimizer for device_type GPU is enabled.\n"
     ]
    },
    {
     "name": "stdout",
     "output_type": "stream",
     "text": [
      "Audio classification ['Speech', 'Silence']\n"
     ]
    },
    {
     "name": "stderr",
     "output_type": "stream",
     "text": [
      "2022-07-20 21:54:07.054695: I tensorflow/core/grappler/optimizers/custom_graph_optimizer_registry.cc:113] Plugin optimizer for device_type GPU is enabled.\n",
      "2022-07-20 21:54:07.392996: I tensorflow/core/grappler/optimizers/custom_graph_optimizer_registry.cc:113] Plugin optimizer for device_type GPU is enabled.\n",
      "2022-07-20 21:54:14.019687: I tensorflow/core/grappler/optimizers/custom_graph_optimizer_registry.cc:113] Plugin optimizer for device_type GPU is enabled.\n",
      "2022-07-20 21:54:14.126590: I tensorflow/core/grappler/optimizers/custom_graph_optimizer_registry.cc:113] Plugin optimizer for device_type GPU is enabled.\n"
     ]
    },
    {
     "name": "stdout",
     "output_type": "stream",
     "text": [
      "Audio classification\n",
      "                            Audios             Voices\n",
      "0  example_video_1_Audio_Wav_Mono           [Speech]\n",
      "1                           taunt  [Speech, Silence]\n"
     ]
    }
   ],
   "source": [
    "# Audio classification\n",
    "# Single file\n",
    "sounds = Audio.audio_classify(path='/Users/jana/Documents/GitHub/QA-module/Audios/taunt.wav')\n",
    "print(\"Audio classification\", sounds)\n",
    "\n",
    "# Folder\n",
    "sounds = Audio.audio_classify(path='/Users/jana/Documents/GitHub/QA-module/Audios')\n",
    "print(\"Audio classification\\n\", sounds)"
   ]
  }
 ],
 "metadata": {
  "kernelspec": {
   "display_name": "Python 3.10.4 ('env_tf')",
   "language": "python",
   "name": "python3"
  },
  "language_info": {
   "codemirror_mode": {
    "name": "ipython",
    "version": 3
   },
   "file_extension": ".py",
   "mimetype": "text/x-python",
   "name": "python",
   "nbconvert_exporter": "python",
   "pygments_lexer": "ipython3",
   "version": "3.10.4"
  },
  "orig_nbformat": 2,
  "vscode": {
   "interpreter": {
    "hash": "5de9ea968598f77146e9bcf7403aafc4990d0b8fd820669c1cc9c3a0b1879543"
   }
  }
 },
 "nbformat": 4,
 "nbformat_minor": 2
}
