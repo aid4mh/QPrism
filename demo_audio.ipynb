{
 "cells": [
  {
   "cell_type": "code",
   "execution_count": 3,
   "metadata": {},
   "outputs": [],
   "source": [
    "# Import library\n",
    "from modules.Audio import Audio"
   ]
  },
  {
   "cell_type": "code",
   "execution_count": 4,
   "metadata": {},
   "outputs": [],
   "source": [
    "# Define an object for the Audio class\n",
    "Audio = Audio.Audio()"
   ]
  },
  {
   "cell_type": "code",
   "execution_count": null,
   "metadata": {},
   "outputs": [],
   "source": [
    "from modules.Audio.helpers.to_mono_wav import to_mono_wav\n",
    "# Convert mp3 to wav\n",
    "to_mono_wav('/mnt/taunt.mp3')"
   ]
  },
  {
   "cell_type": "code",
   "execution_count": 5,
   "metadata": {},
   "outputs": [
    {
     "output_type": "stream",
     "name": "stdout",
     "text": "Length of the audio is 4.099\nLength of the audios are \n              Audios  Length\n0         taunt_Wav   4.099\n1  Video1_Audio_Wav  99.640\n"
    }
   ],
   "source": [
    "# Length of a single audio file\n",
    "audio_length = Audio.length(path='/mnt/QPrism/audio_files/taunt_Wav.wav')\n",
    "print(\"Length of the audio is\", audio_length)\n",
    "\n",
    "# Length of a audio folder\n",
    "audio_length = Audio.length(path='/mnt/QPrism/audio_files')\n",
    "print(\"Length of the audios are \\n\", audio_length)"
   ]
  },
  {
   "cell_type": "code",
   "execution_count": 6,
   "metadata": {},
   "outputs": [
    {
     "output_type": "stream",
     "name": "stdout",
     "text": "Sample rate of the audio is 22050\nSample rate of the audios are\n              Audios  Sample Rate\n0         taunt_Wav        22050\n1  Video1_Audio_Wav        44100\n"
    }
   ],
   "source": [
    "# Sample rate of a single audio file\n",
    "fs = Audio.sample_rate(path='/mnt/QPrism/audio_files/taunt_Wav.wav')\n",
    "print(\"Sample rate of the audio is\", fs)\n",
    "\n",
    "# Sample rate of a audio folder\n",
    "fs = Audio.sample_rate(path='/mnt/QPrism/audio_files')\n",
    "print(\"Sample rate of the audios are\\n\", fs)"
   ]
  },
  {
   "cell_type": "code",
   "execution_count": 9,
   "metadata": {},
   "outputs": [
    {
     "output_type": "stream",
     "name": "stdout",
     "text": "RMS of the audio is 7256\nRMS of the audios are\n              Audios   RMS\n0         taunt_Wav  7256\n1  Video1_Audio_Wav   514\n"
    }
   ],
   "source": [
    "# RMS of a single audio file\n",
    "rms = Audio.root_mean_square(path='/mnt/QPrism/audio_files/taunt_Wav.wav')\n",
    "print(\"RMS of the audio is\", rms)\n",
    "\n",
    "# RMS of a audio folder\n",
    "rms = Audio.root_mean_square(path='/mnt/QPrism/audio_files')\n",
    "print(\"RMS of the audios are\\n\", rms)"
   ]
  },
  {
   "cell_type": "code",
   "execution_count": 10,
   "metadata": {},
   "outputs": [
    {
     "output_type": "stream",
     "name": "stdout",
     "text": "SNR of the audio is 4.617\nSNR of the audios are\n              Audios    SNR\n0         taunt_Wav  4.617\n1  Video1_Audio_Wav  4.009\n"
    }
   ],
   "source": [
    "# SNR of a single audio file\n",
    "snr = Audio.signaltonoise(path='/mnt/QPrism/audio_files/taunt_Wav.wav')\n",
    "print(\"SNR of the audio is\", snr)\n",
    "\n",
    "# SNR of a audio folder\n",
    "snr = Audio.signaltonoise(path='/mnt/QPrism/audio_files')\n",
    "print(\"SNR of the audios are\\n\", snr)"
   ]
  },
  {
   "cell_type": "code",
   "execution_count": null,
   "metadata": {},
   "outputs": [],
   "source": [
    "# Audio classification\n",
    "# Single file\n",
    "sounds = Audio.audio_classify(path='/mnt/QPrism/audio_files/taunt_Wav.wav')\n",
    "print(\"Audio classification\", sounds)\n",
    "\n",
    "# Folder\n",
    "sounds = Audio.audio_classify(path='/mnt/QPrism/audio_files')\n",
    "print(\"Audio classification\\n\", sounds)"
   ]
  }
 ],
 "metadata": {
  "language_info": {
   "codemirror_mode": {
    "name": "ipython",
    "version": 3
   },
   "file_extension": ".py",
   "mimetype": "text/x-python",
   "name": "python",
   "nbconvert_exporter": "python",
   "pygments_lexer": "ipython3",
   "version": "3.6.10-final"
  },
  "orig_nbformat": 2,
  "kernelspec": {
   "name": "python361064bitbaseconda6601ac633b3d4a8da5c5c001c8905f8c",
   "display_name": "Python 3.6.10 64-bit ('base': conda)"
  }
 },
 "nbformat": 4,
 "nbformat_minor": 2
}