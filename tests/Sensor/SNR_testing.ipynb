{
 "cells": [
  {
   "cell_type": "markdown",
   "metadata": {},
   "source": [
    "This notebook tests the correctness of SNR using generated data located in data/sensor/generated_testing_data"
   ]
  },
  {
   "cell_type": "code",
   "execution_count": 1,
   "metadata": {},
   "outputs": [],
   "source": [
    "from DQM import DQM_single_file\n",
    "import pandas as pd"
   ]
  },
  {
   "cell_type": "markdown",
   "metadata": {},
   "source": [
    "For a record with one consistent frequency (25Hz) over each channel, the noise ratio is low, thus the SNR score should be high. "
   ]
  },
  {
   "cell_type": "code",
   "execution_count": 2,
   "metadata": {},
   "outputs": [
    {
     "name": "stdout",
     "output_type": "stream",
     "text": [
      "   time_s  lw_x  lw_y\n",
      "0    0.01     0     1\n",
      "1    0.02     1     0\n",
      "2    0.03     0     1\n",
      "3    0.04     1     0\n",
      "4    0.05     0     1\n"
     ]
    }
   ],
   "source": [
    "df = pd.read_csv('/home/lin/Documents/CAMH/QA-module/data/sensor/generated_testing_data/SNR_high.csv')\n",
    "print(df)"
   ]
  },
  {
   "cell_type": "code",
   "execution_count": 3,
   "metadata": {},
   "outputs": [
    {
     "name": "stdout",
     "output_type": "stream",
     "text": [
      "Start computing the DQM... This may take a long time if the dataset is large\n",
      "The total time for computing the DQM is: 0.07451033592224121 seconds.\n"
     ]
    }
   ],
   "source": [
    "testing_SNR_DQM = DQM_single_file()\n",
    "testing_SNR_DQM.set_input_data(df)\n",
    "testing_SNR_DQM.compute_DQM()"
   ]
  },
  {
   "cell_type": "markdown",
   "metadata": {},
   "source": [
    "The SNR score is relatively high as expected. Note that our SNR use 20*log10(snr) as the actual score, as it magnifies the difference between two records have relatively similar signal-to-noise ratio."
   ]
  },
  {
   "cell_type": "code",
   "execution_count": 5,
   "metadata": {},
   "outputs": [
    {
     "data": {
      "text/plain": [
       "'-1.1463877996848821'"
      ]
     },
     "execution_count": 5,
     "metadata": {},
     "output_type": "execute_result"
    }
   ],
   "source": [
    "testing_SNR_DQM.get_SNR()"
   ]
  },
  {
   "cell_type": "markdown",
   "metadata": {},
   "source": [
    "Now we add a noise with 50Hz to the previous record. The SNR should be lower than the previous SNR we computed."
   ]
  },
  {
   "cell_type": "code",
   "execution_count": 6,
   "metadata": {},
   "outputs": [
    {
     "name": "stdout",
     "output_type": "stream",
     "text": [
      "   time_s  lw_x  lw_y\n",
      "0    0.01     0     3\n",
      "1    0.02     2     1\n",
      "2    0.03     2     1\n",
      "3    0.04     2     1\n",
      "4    0.05     0     3\n",
      "5    0.06     2     1\n"
     ]
    }
   ],
   "source": [
    "df = pd.read_csv('/home/lin/Documents/CAMH/QA-module/data/sensor/generated_testing_data/SNR_low.csv')\n",
    "print(df)"
   ]
  },
  {
   "cell_type": "code",
   "execution_count": 7,
   "metadata": {},
   "outputs": [
    {
     "name": "stdout",
     "output_type": "stream",
     "text": [
      "Start computing the DQM... This may take a long time if the dataset is large\n",
      "The total time for computing the DQM is: 0.022333145141601562 seconds.\n"
     ]
    }
   ],
   "source": [
    "testing_SNR_DQM.set_input_data(df)\n",
    "testing_SNR_DQM.compute_DQM()"
   ]
  },
  {
   "cell_type": "markdown",
   "metadata": {},
   "source": [
    "The SNR score is lower as expected."
   ]
  },
  {
   "cell_type": "code",
   "execution_count": 8,
   "metadata": {},
   "outputs": [
    {
     "data": {
      "text/plain": [
       "'-1.3033376849500615'"
      ]
     },
     "execution_count": 8,
     "metadata": {},
     "output_type": "execute_result"
    }
   ],
   "source": [
    "testing_SNR_DQM.get_SNR()"
   ]
  }
 ],
 "metadata": {
  "kernelspec": {
   "display_name": "Python 3.8.10 64-bit",
   "language": "python",
   "name": "python3"
  },
  "language_info": {
   "codemirror_mode": {
    "name": "ipython",
    "version": 3
   },
   "file_extension": ".py",
   "mimetype": "text/x-python",
   "name": "python",
   "nbconvert_exporter": "python",
   "pygments_lexer": "ipython3",
   "version": "3.8.10"
  },
  "orig_nbformat": 4,
  "vscode": {
   "interpreter": {
    "hash": "916dbcbb3f70747c44a77c7bcd40155683ae19c65e1c03b4aa3499c5328201f1"
   }
  }
 },
 "nbformat": 4,
 "nbformat_minor": 2
}
