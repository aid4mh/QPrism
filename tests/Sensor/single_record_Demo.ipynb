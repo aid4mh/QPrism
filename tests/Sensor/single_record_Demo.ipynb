{
  "nbformat": 4,
  "nbformat_minor": 0,
  "metadata": {
    "colab": {
      "name": "single_file_Demo.ipynb",
      "provenance": [],
      "collapsed_sections": [],
      "authorship_tag": "ABX9TyNWEncAKDsXCcCnsSTD/kwn",
      "include_colab_link": true
    },
    "kernelspec": {
      "name": "python3",
      "display_name": "Python 3"
    },
    "language_info": {
      "name": "python"
    },
    "accelerator": "GPU",
    "gpuClass": "standard"
  },
  "cells": [
    {
      "cell_type": "markdown",
      "metadata": {
        "id": "view-in-github",
        "colab_type": "text"
      },
      "source": [
        "<a href=\"https://colab.research.google.com/github/aid4mh/QPrism/blob/main/tests/Sensor/single_record_Demo.ipynb\" target=\"_parent\"><img src=\"https://colab.research.google.com/assets/colab-badge.svg\" alt=\"Open In Colab\"/></a>"
      ]
    },
    {
      "cell_type": "code",
      "execution_count": 1,
      "metadata": {
        "id": "TsLMcFWy4lFc",
        "colab": {
          "base_uri": "https://localhost:8080/"
        },
        "outputId": "70f981cf-232a-4a26-e856-3ff11aabdb1c"
      },
      "outputs": [
        {
          "output_type": "stream",
          "name": "stdout",
          "text": [
            "Looking in indexes: https://pypi.org/simple, https://us-python.pkg.dev/colab-wheels/public/simple/\n",
            "Requirement already satisfied: pip in /usr/local/lib/python3.7/dist-packages (21.1.3)\n",
            "Collecting pip\n",
            "  Downloading pip-22.2.2-py3-none-any.whl (2.0 MB)\n",
            "\u001b[K     |████████████████████████████████| 2.0 MB 3.7 MB/s \n",
            "\u001b[?25hInstalling collected packages: pip\n",
            "  Attempting uninstall: pip\n",
            "    Found existing installation: pip 21.1.3\n",
            "    Uninstalling pip-21.1.3:\n",
            "      Successfully uninstalled pip-21.1.3\n",
            "Successfully installed pip-22.2.2\n"
          ]
        }
      ],
      "source": [
        "! python3 -m pip install --upgrade pip"
      ]
    },
    {
      "cell_type": "markdown",
      "source": [
        "Install the dependencies"
      ],
      "metadata": {
        "id": "J7iYiUIHxxZP"
      }
    },
    {
      "cell_type": "code",
      "source": [
        "! pip install -r https://raw.githubusercontent.com/aid4mh/QPrism/main/requirements.txt"
      ],
      "metadata": {
        "id": "vp6NbBaoxzxw"
      },
      "execution_count": null,
      "outputs": []
    },
    {
      "cell_type": "code",
      "source": [
        "! pip install --no-deps QPrism"
      ],
      "metadata": {
        "id": "6EkTzyu07_y-",
        "colab": {
          "base_uri": "https://localhost:8080/"
        },
        "outputId": "d63e94cd-0bae-4a41-e17e-1366a9605e0c"
      },
      "execution_count": 3,
      "outputs": [
        {
          "output_type": "stream",
          "name": "stdout",
          "text": [
            "Looking in indexes: https://pypi.org/simple, https://us-python.pkg.dev/colab-wheels/public/simple/\n",
            "Collecting QPrism\n",
            "  Downloading qprism-0.1.8-py3-none-any.whl (34 kB)\n",
            "Installing collected packages: QPrism\n",
            "Successfully installed QPrism-0.1.8\n",
            "\u001b[33mWARNING: Running pip as the 'root' user can result in broken permissions and conflicting behaviour with the system package manager. It is recommended to use a virtual environment instead: https://pip.pypa.io/warnings/venv\u001b[0m\u001b[33m\n",
            "\u001b[0m"
          ]
        }
      ]
    },
    {
      "cell_type": "code",
      "source": [
        "from QPrism.Sensor.DQM import DQM_single_record\n",
        "from QPrism.Sensor.load_data import *"
      ],
      "metadata": {
        "id": "ddgvt-pT9RBJ"
      },
      "execution_count": 4,
      "outputs": []
    },
    {
      "cell_type": "markdown",
      "source": [
        "Load a sufficient json record and demonstrate the structure of the loaded data frame. For the original json file data structure, check the provided test data under data/sensor/json in the repo. modules/Sensor/load_data.py provides examples of how to load a json/csv file into this particular structure locally."
      ],
      "metadata": {
        "id": "MZLDOoHDDjmc"
      }
    },
    {
      "cell_type": "code",
      "source": [
        "from urllib.request import urlopen\n",
        "import json\n",
        "import pandas as pd\n",
        "\n",
        "response = urlopen(\"https://raw.githubusercontent.com/aid4mh/QPrism/main/data/sensor/json/SUBJ00001_Accelerometer_REC000000.json\")\n",
        "json_data = response.read().decode('utf-8', 'replace')\n",
        "\n",
        "json_file = json.loads(json_data)\n",
        "json_file = json.dumps(list(json_file['records']))\n",
        "df = (pd.read_json(json_file))\n",
        "df[list(df.keys())[0]] = df[list(df.keys())[0]].apply(lambda x: x.value)\n",
        "print(df)"
      ],
      "metadata": {
        "colab": {
          "base_uri": "https://localhost:8080/"
        },
        "id": "G_hzZ30lBSx0",
        "outputId": "76c0c2ab-7642-4e01-83e2-b883d3180ab0"
      },
      "execution_count": 5,
      "outputs": [
        {
          "output_type": "stream",
          "name": "stdout",
          "text": [
            "               timestamp         x         y          z\n",
            "0    1593954057754000000  2.229002  6.114791   5.324705\n",
            "1    1593954058125000000  2.135628  4.283227   6.833052\n",
            "2    1593954058506000000 -1.721431  5.561730  10.201694\n",
            "3    1593954058729000000 -0.220267  5.365406   7.668628\n",
            "4    1593954058937000000 -0.177171  5.130774   8.346188\n",
            "..                   ...       ...       ...        ...\n",
            "440  1593954154639000000 -0.258574  6.212954   7.388506\n",
            "441  1593954154858000000 -0.301669  6.212954   7.378930\n",
            "442  1593954155076000000 -0.275333  6.193800   7.407660\n",
            "443  1593954155276000000 -0.385466  6.205771   7.474698\n",
            "444  1593954155491000000 -0.385466  6.215348   7.129933\n",
            "\n",
            "[445 rows x 4 columns]\n"
          ]
        }
      ]
    },
    {
      "cell_type": "markdown",
      "source": [
        "Create the DQM_single_file object, set the input data frame, then compute DQM"
      ],
      "metadata": {
        "id": "SVi2w41qEHVg"
      }
    },
    {
      "cell_type": "code",
      "source": [
        "single_json_file_dqm = DQM_single_record()\n",
        "single_json_file_dqm.set_input_data(df)\n",
        "single_json_file_dqm.compute_DQM()"
      ],
      "metadata": {
        "id": "LE5FGzAwEJKa"
      },
      "execution_count": 6,
      "outputs": []
    },
    {
      "cell_type": "markdown",
      "source": [
        "Get the fields of computed data quality matrix"
      ],
      "metadata": {
        "id": "8tAUKcHqEV5b"
      }
    },
    {
      "cell_type": "code",
      "source": [
        "single_json_file_dqm.get_fields()"
      ],
      "metadata": {
        "colab": {
          "base_uri": "https://localhost:8080/"
        },
        "id": "z_jGawxLEWcU",
        "outputId": "41a9e1ce-c9dc-43cb-d26a-dfe96886b2e5"
      },
      "execution_count": 7,
      "outputs": [
        {
          "output_type": "execute_result",
          "data": {
            "text/plain": [
              "['IRLR', 'SNR', 'VDR', 'SRC', 'MDR', 'APD']"
            ]
          },
          "metadata": {},
          "execution_count": 7
        }
      ]
    },
    {
      "cell_type": "markdown",
      "source": [
        "Get the computed data quality matrix as a list, each element in the list represents a metric."
      ],
      "metadata": {
        "id": "zevqKAmBEZA-"
      }
    },
    {
      "cell_type": "code",
      "source": [
        "single_json_file_dqm.get_DQM()"
      ],
      "metadata": {
        "colab": {
          "base_uri": "https://localhost:8080/"
        },
        "id": "Om7c73RqEZ67",
        "outputId": "8317642a-2867-4180-d840-49467f7e4d50"
      },
      "execution_count": 8,
      "outputs": [
        {
          "output_type": "execute_result",
          "data": {
            "text/plain": [
              "['1',\n",
              " '-3.096340603605768',\n",
              " '1.0',\n",
              " '0.9011216710642995',\n",
              " '0.013303769401330377',\n",
              " '0.02696629213483146']"
            ]
          },
          "metadata": {},
          "execution_count": 8
        }
      ]
    },
    {
      "cell_type": "markdown",
      "source": [
        "Get each single metric of the computed DQM as a str"
      ],
      "metadata": {
        "id": "thLISO7BEg9u"
      }
    },
    {
      "cell_type": "code",
      "source": [
        "single_json_file_dqm.get_IRLR()"
      ],
      "metadata": {
        "colab": {
          "base_uri": "https://localhost:8080/",
          "height": 35
        },
        "id": "zCQRj9bAEljK",
        "outputId": "236b664a-ffa4-4dd4-e031-61bfed8b874e"
      },
      "execution_count": 9,
      "outputs": [
        {
          "output_type": "execute_result",
          "data": {
            "text/plain": [
              "'1'"
            ],
            "application/vnd.google.colaboratory.intrinsic+json": {
              "type": "string"
            }
          },
          "metadata": {},
          "execution_count": 9
        }
      ]
    },
    {
      "cell_type": "code",
      "source": [
        "single_json_file_dqm.get_SNR()"
      ],
      "metadata": {
        "colab": {
          "base_uri": "https://localhost:8080/",
          "height": 35
        },
        "id": "AB8wzKQ3EosY",
        "outputId": "c91db4b7-aeda-41f7-ab0a-c415bf1ff330"
      },
      "execution_count": 10,
      "outputs": [
        {
          "output_type": "execute_result",
          "data": {
            "text/plain": [
              "'-3.096340603605768'"
            ],
            "application/vnd.google.colaboratory.intrinsic+json": {
              "type": "string"
            }
          },
          "metadata": {},
          "execution_count": 10
        }
      ]
    },
    {
      "cell_type": "code",
      "source": [
        "single_json_file_dqm.get_VDR()"
      ],
      "metadata": {
        "colab": {
          "base_uri": "https://localhost:8080/",
          "height": 35
        },
        "id": "2DxN8dD_EqDm",
        "outputId": "ed653755-c8f6-44a0-a371-4854922e2e74"
      },
      "execution_count": 11,
      "outputs": [
        {
          "output_type": "execute_result",
          "data": {
            "text/plain": [
              "'1.0'"
            ],
            "application/vnd.google.colaboratory.intrinsic+json": {
              "type": "string"
            }
          },
          "metadata": {},
          "execution_count": 11
        }
      ]
    },
    {
      "cell_type": "code",
      "source": [
        "single_json_file_dqm.get_SRC()"
      ],
      "metadata": {
        "colab": {
          "base_uri": "https://localhost:8080/",
          "height": 35
        },
        "id": "Dvd4ir6FEtqC",
        "outputId": "37c814fa-1784-41a6-c3d1-e3c514d80a87"
      },
      "execution_count": 12,
      "outputs": [
        {
          "output_type": "execute_result",
          "data": {
            "text/plain": [
              "'0.9011216710642995'"
            ],
            "application/vnd.google.colaboratory.intrinsic+json": {
              "type": "string"
            }
          },
          "metadata": {},
          "execution_count": 12
        }
      ]
    },
    {
      "cell_type": "code",
      "source": [
        "single_json_file_dqm.get_MDR()"
      ],
      "metadata": {
        "colab": {
          "base_uri": "https://localhost:8080/",
          "height": 35
        },
        "id": "lNyXD7z2Eux6",
        "outputId": "1642af2c-9b24-42a4-9091-3eb1bfd666de"
      },
      "execution_count": 13,
      "outputs": [
        {
          "output_type": "execute_result",
          "data": {
            "text/plain": [
              "'0.013303769401330377'"
            ],
            "application/vnd.google.colaboratory.intrinsic+json": {
              "type": "string"
            }
          },
          "metadata": {},
          "execution_count": 13
        }
      ]
    },
    {
      "cell_type": "code",
      "source": [
        "single_json_file_dqm.get_APD()"
      ],
      "metadata": {
        "colab": {
          "base_uri": "https://localhost:8080/",
          "height": 35
        },
        "id": "MAKthq5uEwLY",
        "outputId": "6a4f374f-0647-4179-ab9e-b60bbf3c74ce"
      },
      "execution_count": 14,
      "outputs": [
        {
          "output_type": "execute_result",
          "data": {
            "text/plain": [
              "'0.02696629213483146'"
            ],
            "application/vnd.google.colaboratory.intrinsic+json": {
              "type": "string"
            }
          },
          "metadata": {},
          "execution_count": 14
        }
      ]
    },
    {
      "cell_type": "markdown",
      "source": [
        "We can also get the detected outliers' index"
      ],
      "metadata": {
        "id": "ehQckjk4aFNh"
      }
    },
    {
      "cell_type": "code",
      "source": [
        "single_json_file_dqm.get_anomaly_index()"
      ],
      "metadata": {
        "colab": {
          "base_uri": "https://localhost:8080/"
        },
        "id": "45DMEE0eaLuT",
        "outputId": "6af8017d-82d8-4e86-f614-83e14e5a3aa5"
      },
      "execution_count": 15,
      "outputs": [
        {
          "output_type": "execute_result",
          "data": {
            "text/plain": [
              "[268, 277, 306, 310, 334, 340, 354, 360, 361, 367, 382, 384]"
            ]
          },
          "metadata": {},
          "execution_count": 15
        }
      ]
    },
    {
      "cell_type": "markdown",
      "source": [
        "Save the computed DQM as a csv file at given path."
      ],
      "metadata": {
        "id": "gHRGVdafFG7d"
      }
    },
    {
      "cell_type": "code",
      "source": [
        "from google.colab import drive\n",
        "drive.mount('/content/gdrive')"
      ],
      "metadata": {
        "colab": {
          "base_uri": "https://localhost:8080/"
        },
        "id": "EOVNZAnaSyA2",
        "outputId": "72bc9b18-8e51-4f3f-f67a-fc4b76d8d5e3"
      },
      "execution_count": 16,
      "outputs": [
        {
          "output_type": "stream",
          "name": "stdout",
          "text": [
            "Mounted at /content/gdrive\n"
          ]
        }
      ]
    },
    {
      "cell_type": "markdown",
      "source": [
        "Change the saved path to your gdrive path before run the following lines."
      ],
      "metadata": {
        "id": "H3xNX-ZcTPdQ"
      }
    },
    {
      "cell_type": "code",
      "source": [
        "\n",
        "single_json_file_dqm.save_to_file('/content/gdrive/MyDrive/CAMH/JOSS/Sensor_result/demo_result_single_file.csv')"
      ],
      "metadata": {
        "colab": {
          "base_uri": "https://localhost:8080/"
        },
        "id": "aY0DmWJIFHcz",
        "outputId": "7a450638-5e91-49b3-b036-0c26b3c74a0b"
      },
      "execution_count": 17,
      "outputs": [
        {
          "output_type": "stream",
          "name": "stdout",
          "text": [
            "Data successfuly saved.\n"
          ]
        }
      ]
    },
    {
      "cell_type": "markdown",
      "source": [
        "Display the saved csv file."
      ],
      "metadata": {
        "id": "ecHlVhARFOX3"
      }
    },
    {
      "cell_type": "code",
      "source": [
        "with open(\"/content/gdrive/MyDrive/CAMH/JOSS/Sensor_result/demo_result_single_file.csv\", \"r\") as DQM_csv:\n",
        "    for row in DQM_csv:\n",
        "        print(row)"
      ],
      "metadata": {
        "colab": {
          "base_uri": "https://localhost:8080/"
        },
        "id": "vO-m8RNzFPCT",
        "outputId": "a76e342a-5613-4876-e106-09fdc057efb7"
      },
      "execution_count": 18,
      "outputs": [
        {
          "output_type": "stream",
          "name": "stdout",
          "text": [
            "IRLR,SNR,VDR,SRC,MDR,APD\n",
            "\n",
            "1,-3.096340603605768,1.0,0.9011216710642995,0.013303769401330377,0.02696629213483146\n",
            "\n"
          ]
        }
      ]
    },
    {
      "cell_type": "markdown",
      "source": [
        "Set SNR to be not included in DQM"
      ],
      "metadata": {
        "id": "e-Jnlzi4FTtx"
      }
    },
    {
      "cell_type": "code",
      "source": [
        "single_json_file_dqm.set_SNR(False)"
      ],
      "metadata": {
        "id": "Eyai4thbFWLO"
      },
      "execution_count": 19,
      "outputs": []
    },
    {
      "cell_type": "markdown",
      "source": [
        "Compute and get the updated DQM, now SNR should not be included in DQM."
      ],
      "metadata": {
        "id": "_kl8rH2jFX0M"
      }
    },
    {
      "cell_type": "code",
      "source": [
        "single_json_file_dqm.compute_DQM()"
      ],
      "metadata": {
        "id": "5Qe0JQQEFZU0"
      },
      "execution_count": 20,
      "outputs": []
    },
    {
      "cell_type": "code",
      "source": [
        "single_json_file_dqm.get_fields()"
      ],
      "metadata": {
        "colab": {
          "base_uri": "https://localhost:8080/"
        },
        "id": "hlnNDt3iFc0E",
        "outputId": "02f998f7-10cc-40a4-8a60-70cc737e0cf0"
      },
      "execution_count": 21,
      "outputs": [
        {
          "output_type": "execute_result",
          "data": {
            "text/plain": [
              "['IRLR', 'VDR', 'SRC', 'MDR', 'APD']"
            ]
          },
          "metadata": {},
          "execution_count": 21
        }
      ]
    },
    {
      "cell_type": "code",
      "source": [
        "single_json_file_dqm.get_DQM()"
      ],
      "metadata": {
        "colab": {
          "base_uri": "https://localhost:8080/"
        },
        "id": "eDkVg6bVFeHS",
        "outputId": "77075e51-eaac-42a6-ab44-f832c99d441d"
      },
      "execution_count": 22,
      "outputs": [
        {
          "output_type": "execute_result",
          "data": {
            "text/plain": [
              "['1',\n",
              " '1.0',\n",
              " '0.9011216710642995',\n",
              " '0.013303769401330377',\n",
              " '0.02696629213483146']"
            ]
          },
          "metadata": {},
          "execution_count": 22
        }
      ]
    },
    {
      "cell_type": "markdown",
      "source": [
        "Now get_SNR should not be called"
      ],
      "metadata": {
        "id": "YzpPaWXjFftR"
      }
    },
    {
      "cell_type": "code",
      "source": [
        "single_json_file_dqm.get_SNR()"
      ],
      "metadata": {
        "colab": {
          "base_uri": "https://localhost:8080/",
          "height": 35
        },
        "id": "TE_BOLnYFgdC",
        "outputId": "92b6936e-5e2f-44c7-96e4-72cf023b0a23"
      },
      "execution_count": 23,
      "outputs": [
        {
          "output_type": "execute_result",
          "data": {
            "text/plain": [
              "'SNR is not computed according to the configuration'"
            ],
            "application/vnd.google.colaboratory.intrinsic+json": {
              "type": "string"
            }
          },
          "metadata": {},
          "execution_count": 23
        }
      ]
    },
    {
      "cell_type": "markdown",
      "source": [
        "Note that you can set any metrics except IRLR to be not included as above."
      ],
      "metadata": {
        "id": "YyCt_8NXTs4T"
      }
    },
    {
      "cell_type": "markdown",
      "source": [
        "\n",
        "\n",
        "For an insufficient record, DQM will have np.NaN for all metrics except IRLR. IRLR will have a value of 0 to indicate the input record is insufficient. The following record is an empty record, thus the input data is an empty DataFrame."
      ],
      "metadata": {
        "id": "Ychjr_19Ttn1"
      }
    },
    {
      "cell_type": "code",
      "source": [
        "response = urlopen(\"https://raw.githubusercontent.com/aid4mh/QPrism/main/data/sensor/json/SUBJ00001_Accelerometer_REC000006.json\")\n",
        "json_data = response.read().decode('utf-8', 'replace')\n",
        "\n",
        "print(json_data)"
      ],
      "metadata": {
        "colab": {
          "base_uri": "https://localhost:8080/"
        },
        "id": "fZ2_LksmTwGc",
        "outputId": "4a5f2000-dcaa-4db0-f48a-f3ffcb8ffc59"
      },
      "execution_count": 24,
      "outputs": [
        {
          "output_type": "stream",
          "name": "stdout",
          "text": [
            "\n"
          ]
        }
      ]
    },
    {
      "cell_type": "code",
      "source": [
        "df = pd.DataFrame([])\n",
        "single_json_file_dqm.set_input_data(df)\n"
      ],
      "metadata": {
        "id": "Fe_F_K_HVvz8"
      },
      "execution_count": 25,
      "outputs": []
    },
    {
      "cell_type": "markdown",
      "source": [
        "First we need to set SNR to be included, since we previously excluded SNR."
      ],
      "metadata": {
        "id": "W4h70J02WIyK"
      }
    },
    {
      "cell_type": "code",
      "source": [
        "single_json_file_dqm.set_SNR(True)"
      ],
      "metadata": {
        "id": "5kyI5wjtWPxm"
      },
      "execution_count": 26,
      "outputs": []
    },
    {
      "cell_type": "markdown",
      "source": [
        "Then we compute the DQM for this insufficient record."
      ],
      "metadata": {
        "id": "53obhxKDWUon"
      }
    },
    {
      "cell_type": "code",
      "source": [
        "single_json_file_dqm.compute_DQM()\n"
      ],
      "metadata": {
        "id": "4Y0mwxl-WTdh"
      },
      "execution_count": 27,
      "outputs": []
    },
    {
      "cell_type": "code",
      "source": [
        "single_json_file_dqm.get_fields()\n"
      ],
      "metadata": {
        "colab": {
          "base_uri": "https://localhost:8080/"
        },
        "id": "s4MVV3jGWowg",
        "outputId": "9548701f-6dfc-4e1e-c346-9fd418f1208f"
      },
      "execution_count": 28,
      "outputs": [
        {
          "output_type": "execute_result",
          "data": {
            "text/plain": [
              "['IRLR', 'SNR', 'VDR', 'SRC', 'MDR', 'APD']"
            ]
          },
          "metadata": {},
          "execution_count": 28
        }
      ]
    },
    {
      "cell_type": "code",
      "source": [
        "single_json_file_dqm.get_DQM()"
      ],
      "metadata": {
        "colab": {
          "base_uri": "https://localhost:8080/"
        },
        "id": "oixsMKudWqBJ",
        "outputId": "f3cd60d9-c8ca-4dd5-e1ca-affb9c103280"
      },
      "execution_count": 29,
      "outputs": [
        {
          "output_type": "execute_result",
          "data": {
            "text/plain": [
              "['0', nan, nan, nan, nan, nan]"
            ]
          },
          "metadata": {},
          "execution_count": 29
        }
      ]
    },
    {
      "cell_type": "markdown",
      "source": [
        "For the definition of insufficient, please check the IRLR in this [Glossary](https://qprism.readthedocs.io/en/latest/glossary.html#sensor-module)."
      ],
      "metadata": {
        "id": "by6mz-BDWsme"
      }
    },
    {
      "cell_type": "markdown",
      "source": [
        "Now load a sufficient csv sensor data, similarly, you can check modules/Sensor/load_data.py for the code that loads the csv into this structure locally."
      ],
      "metadata": {
        "id": "SFW_0KfPXoKj"
      }
    },
    {
      "cell_type": "code",
      "source": [
        "df = load_data_csv_one_file('https://raw.githubusercontent.com/aid4mh/QPrism/main/data/sensor/csv/id9603e9c3.csv')\n",
        "print(df)"
      ],
      "metadata": {
        "colab": {
          "base_uri": "https://localhost:8080/"
        },
        "id": "DZ8xtnBcXssx",
        "outputId": "2f219fc9-8aaa-42d4-fb30-8ef63a768ad0"
      },
      "execution_count": 30,
      "outputs": [
        {
          "output_type": "stream",
          "name": "stdout",
          "text": [
            "         time_s   lw_x   lw_y   lw_z   lh_x   lh_y   lh_z   la_x   la_y  \\\n",
            "0          0.01 -0.004  0.945 -0.461  0.055  0.992 -0.199  0.168  1.418   \n",
            "1          0.02 -0.406 -0.379  1.031 -0.320 -0.102  0.844 -0.422  0.559   \n",
            "2          0.03 -0.340 -0.918  1.160 -0.152 -0.676  1.160 -0.500  1.004   \n",
            "3          0.04 -0.207 -1.023  0.344  0.059 -0.797  0.453 -0.363  1.363   \n",
            "4          0.05 -0.152 -1.098 -0.012  0.133 -0.875  0.133 -0.301  1.582   \n",
            "...         ...    ...    ...    ...    ...    ...    ...    ...    ...   \n",
            "111295  1112.96  0.000  0.000  0.000  0.246  0.012  0.949  0.453  0.102   \n",
            "111296  1112.97  0.000  0.000  0.000  0.246  0.012  0.949  0.449  0.102   \n",
            "111297  1112.98  0.000  0.000  0.000  0.246  0.012  0.949  0.449  0.102   \n",
            "111298  1112.99  0.000  0.000  0.000  0.246  0.012  0.949  0.449  0.102   \n",
            "111299  1113.00  0.000  0.000  0.000  0.246  0.012  0.949  0.453  0.102   \n",
            "\n",
            "         la_z   ra_x   ra_y   ra_z  \n",
            "0      -0.070 -0.105  1.000  0.125  \n",
            "1       0.891 -0.352 -0.086  0.984  \n",
            "2       1.168 -0.105 -0.602  1.438  \n",
            "3       0.523  0.109 -0.797  0.793  \n",
            "4       0.305  0.203 -0.992  0.512  \n",
            "...       ...    ...    ...    ...  \n",
            "111295  0.879 -0.059  1.027 -0.043  \n",
            "111296  0.879 -0.059  1.027 -0.043  \n",
            "111297  0.871 -0.059  1.027 -0.043  \n",
            "111298  0.875 -0.059  1.027 -0.043  \n",
            "111299  0.875 -0.059  1.027 -0.043  \n",
            "\n",
            "[111300 rows x 13 columns]\n"
          ]
        }
      ]
    },
    {
      "cell_type": "markdown",
      "source": [
        "Compute the DQM, this computation takes significantly longer time, since the record contains 111300 rows × 13 columns of data. The runtime for this record on a PC with intel i7-8700k processor, 16G DDR4 3600MHz RAM is ~160s"
      ],
      "metadata": {
        "id": "YB8Kn086YPWX"
      }
    },
    {
      "cell_type": "code",
      "source": [
        "single_csv_file_dqm = DQM_single_record()\n",
        "single_csv_file_dqm.set_input_data(df)\n",
        "single_csv_file_dqm.compute_DQM()"
      ],
      "metadata": {
        "id": "1Od9_K43YQul"
      },
      "execution_count": 32,
      "outputs": []
    },
    {
      "cell_type": "markdown",
      "source": [
        "Now display the result"
      ],
      "metadata": {
        "id": "3aNF1DY2ZytC"
      }
    },
    {
      "cell_type": "code",
      "source": [
        "single_csv_file_dqm.get_fields()"
      ],
      "metadata": {
        "colab": {
          "base_uri": "https://localhost:8080/"
        },
        "id": "d24_kzkWZwBd",
        "outputId": "bc60d60c-c1dd-4f1b-8d32-31e2525749bf"
      },
      "execution_count": 33,
      "outputs": [
        {
          "output_type": "execute_result",
          "data": {
            "text/plain": [
              "['IRLR', 'SNR', 'VDR', 'SRC', 'MDR', 'APD']"
            ]
          },
          "metadata": {},
          "execution_count": 33
        }
      ]
    },
    {
      "cell_type": "code",
      "source": [
        "single_csv_file_dqm.get_DQM()"
      ],
      "metadata": {
        "colab": {
          "base_uri": "https://localhost:8080/"
        },
        "id": "wtq8JEdZZ8Tl",
        "outputId": "82849e9b-46f2-4a5e-fc0a-332cf9bda044"
      },
      "execution_count": 34,
      "outputs": [
        {
          "output_type": "execute_result",
          "data": {
            "text/plain": [
              "['1',\n",
              " '-3.436961042075442',\n",
              " '1.0',\n",
              " '0.9999999999986589',\n",
              " '0.0',\n",
              " '0.004932614555256064']"
            ]
          },
          "metadata": {},
          "execution_count": 34
        }
      ]
    },
    {
      "cell_type": "code",
      "source": [
        "single_csv_file_dqm.get_anomaly_index()"
      ],
      "metadata": {
        "colab": {
          "base_uri": "https://localhost:8080/"
        },
        "id": "53lg-euDaZcv",
        "outputId": "f917b27c-06c7-4800-be74-e8bf3f21e9c1"
      },
      "execution_count": 35,
      "outputs": [
        {
          "output_type": "execute_result",
          "data": {
            "text/plain": [
              "[102036,\n",
              " 102099,\n",
              " 102121,\n",
              " 102152,\n",
              " 102246,\n",
              " 102266,\n",
              " 102287,\n",
              " 102432,\n",
              " 102670,\n",
              " 102687,\n",
              " 102713,\n",
              " 102722,\n",
              " 102748,\n",
              " 102749,\n",
              " 102750,\n",
              " 102756,\n",
              " 102783,\n",
              " 102790,\n",
              " 102795,\n",
              " 102802,\n",
              " 102803,\n",
              " 102829,\n",
              " 102833,\n",
              " 102853,\n",
              " 102858,\n",
              " 102877,\n",
              " 102899,\n",
              " 102917,\n",
              " 102922,\n",
              " 102925,\n",
              " 102945,\n",
              " 102947,\n",
              " 102963,\n",
              " 102978,\n",
              " 102981,\n",
              " 103057,\n",
              " 103067,\n",
              " 103088,\n",
              " 103099,\n",
              " 103100,\n",
              " 103116,\n",
              " 103125,\n",
              " 103170,\n",
              " 103171,\n",
              " 103175,\n",
              " 103192,\n",
              " 103202,\n",
              " 103205,\n",
              " 103233,\n",
              " 103257,\n",
              " 103258,\n",
              " 103260,\n",
              " 103262,\n",
              " 103277,\n",
              " 103304,\n",
              " 103311,\n",
              " 103313,\n",
              " 103338,\n",
              " 103385,\n",
              " 103402,\n",
              " 103413,\n",
              " 103414,\n",
              " 103466,\n",
              " 103473,\n",
              " 103508,\n",
              " 103522,\n",
              " 103547,\n",
              " 103552,\n",
              " 103560,\n",
              " 103561,\n",
              " 103562,\n",
              " 103609,\n",
              " 103612,\n",
              " 103619,\n",
              " 103624,\n",
              " 103631,\n",
              " 103668,\n",
              " 103680,\n",
              " 103684,\n",
              " 103696,\n",
              " 103734,\n",
              " 103763,\n",
              " 103797,\n",
              " 103828,\n",
              " 103829,\n",
              " 103830,\n",
              " 103831,\n",
              " 103837,\n",
              " 103838,\n",
              " 103842,\n",
              " 103844,\n",
              " 103878,\n",
              " 103891,\n",
              " 103899,\n",
              " 103909,\n",
              " 103926,\n",
              " 103928,\n",
              " 103943,\n",
              " 103945,\n",
              " 103961,\n",
              " 103963,\n",
              " 103974,\n",
              " 103982,\n",
              " 103988,\n",
              " 104014,\n",
              " 104017,\n",
              " 104032,\n",
              " 104037,\n",
              " 104046,\n",
              " 104057,\n",
              " 104071,\n",
              " 104075,\n",
              " 104085,\n",
              " 104089,\n",
              " 104094,\n",
              " 104126,\n",
              " 104131,\n",
              " 104132,\n",
              " 104200,\n",
              " 104205,\n",
              " 104223,\n",
              " 104230,\n",
              " 104232,\n",
              " 104234,\n",
              " 104243,\n",
              " 104250,\n",
              " 104275,\n",
              " 104346,\n",
              " 104356,\n",
              " 104364,\n",
              " 104371,\n",
              " 104372,\n",
              " 104385,\n",
              " 104394,\n",
              " 104403,\n",
              " 104413,\n",
              " 104447,\n",
              " 104470,\n",
              " 104478,\n",
              " 104484,\n",
              " 104491,\n",
              " 104501,\n",
              " 104514,\n",
              " 104530,\n",
              " 104536,\n",
              " 104554,\n",
              " 104559,\n",
              " 104649,\n",
              " 104650,\n",
              " 104666,\n",
              " 104684,\n",
              " 104693,\n",
              " 104711,\n",
              " 104760,\n",
              " 104783,\n",
              " 104840,\n",
              " 104855,\n",
              " 104869,\n",
              " 104877,\n",
              " 104878,\n",
              " 104890,\n",
              " 104927,\n",
              " 104928,\n",
              " 104955,\n",
              " 104966,\n",
              " 104974,\n",
              " 104980,\n",
              " 104985,\n",
              " 104986,\n",
              " 104987,\n",
              " 104991,\n",
              " 104992,\n",
              " 104998,\n",
              " 105001,\n",
              " 105021,\n",
              " 105027,\n",
              " 105035,\n",
              " 105039,\n",
              " 105054,\n",
              " 105305,\n",
              " 105479,\n",
              " 105901,\n",
              " 105904,\n",
              " 105905,\n",
              " 105959,\n",
              " 105972,\n",
              " 106419,\n",
              " 106486,\n",
              " 106495,\n",
              " 106573,\n",
              " 106581,\n",
              " 106604,\n",
              " 106614,\n",
              " 106681,\n",
              " 106690,\n",
              " 106728,\n",
              " 106751,\n",
              " 106775,\n",
              " 106794,\n",
              " 106815,\n",
              " 106823,\n",
              " 106832,\n",
              " 106853,\n",
              " 106862,\n",
              " 106887,\n",
              " 106942,\n",
              " 106950,\n",
              " 106956,\n",
              " 106972,\n",
              " 106973,\n",
              " 106982,\n",
              " 107073,\n",
              " 107181,\n",
              " 107182,\n",
              " 107190,\n",
              " 107221,\n",
              " 107334,\n",
              " 107384,\n",
              " 107387,\n",
              " 107494,\n",
              " 107505,\n",
              " 107656,\n",
              " 107666,\n",
              " 107801,\n",
              " 107854,\n",
              " 107876,\n",
              " 107893,\n",
              " 107900,\n",
              " 107904,\n",
              " 107909,\n",
              " 107912,\n",
              " 107917,\n",
              " 107922,\n",
              " 107926,\n",
              " 107940,\n",
              " 107944,\n",
              " 107953,\n",
              " 107954,\n",
              " 107959,\n",
              " 107987,\n",
              " 108039,\n",
              " 108041,\n",
              " 108044,\n",
              " 108045,\n",
              " 108048,\n",
              " 108074,\n",
              " 108078,\n",
              " 108080,\n",
              " 108093,\n",
              " 108116,\n",
              " 108126,\n",
              " 108134,\n",
              " 108151,\n",
              " 108153,\n",
              " 108187,\n",
              " 108188,\n",
              " 108195,\n",
              " 108202,\n",
              " 108213,\n",
              " 108237,\n",
              " 108238,\n",
              " 108246,\n",
              " 108251,\n",
              " 108253,\n",
              " 108254,\n",
              " 108277,\n",
              " 108283,\n",
              " 108284,\n",
              " 108287,\n",
              " 108290,\n",
              " 108302,\n",
              " 108303,\n",
              " 108311,\n",
              " 108317,\n",
              " 108321,\n",
              " 108329,\n",
              " 108339,\n",
              " 108348,\n",
              " 108370,\n",
              " 108384,\n",
              " 108394,\n",
              " 108397,\n",
              " 108399,\n",
              " 108401,\n",
              " 108411,\n",
              " 108422,\n",
              " 108423,\n",
              " 108424,\n",
              " 108430,\n",
              " 108432,\n",
              " 108433,\n",
              " 108435,\n",
              " 108436,\n",
              " 108439,\n",
              " 108451,\n",
              " 108461,\n",
              " 108467,\n",
              " 108470,\n",
              " 108509,\n",
              " 108528,\n",
              " 108536,\n",
              " 108537,\n",
              " 108551,\n",
              " 108557,\n",
              " 108561,\n",
              " 108568,\n",
              " 108569,\n",
              " 108586,\n",
              " 108590,\n",
              " 108602,\n",
              " 108617,\n",
              " 108620,\n",
              " 108649,\n",
              " 108690,\n",
              " 108723,\n",
              " 108734,\n",
              " 108738,\n",
              " 108745,\n",
              " 108750,\n",
              " 108752,\n",
              " 108766,\n",
              " 108795,\n",
              " 108808,\n",
              " 108826,\n",
              " 108846,\n",
              " 108849,\n",
              " 108859,\n",
              " 108895,\n",
              " 108898,\n",
              " 108901,\n",
              " 108904,\n",
              " 108914,\n",
              " 108923,\n",
              " 108957,\n",
              " 108991,\n",
              " 108999,\n",
              " 109009,\n",
              " 109010,\n",
              " 109013,\n",
              " 109033,\n",
              " 109036,\n",
              " 109071,\n",
              " 109079,\n",
              " 109090,\n",
              " 109096,\n",
              " 109127,\n",
              " 109163,\n",
              " 109166,\n",
              " 109175,\n",
              " 109177,\n",
              " 109178,\n",
              " 109182,\n",
              " 109184,\n",
              " 109190,\n",
              " 109191,\n",
              " 109195,\n",
              " 109208,\n",
              " 109209,\n",
              " 109232,\n",
              " 109248,\n",
              " 109251,\n",
              " 109255,\n",
              " 109259,\n",
              " 109271,\n",
              " 109272,\n",
              " 109294,\n",
              " 109301,\n",
              " 109313,\n",
              " 109325,\n",
              " 109348,\n",
              " 109351,\n",
              " 109386,\n",
              " 109401,\n",
              " 109402,\n",
              " 109445,\n",
              " 109451,\n",
              " 109452,\n",
              " 109462,\n",
              " 109471,\n",
              " 109475,\n",
              " 109554,\n",
              " 109557,\n",
              " 109601,\n",
              " 109609,\n",
              " 109610,\n",
              " 109620,\n",
              " 109651,\n",
              " 109678,\n",
              " 109679,\n",
              " 109685,\n",
              " 109707,\n",
              " 109740,\n",
              " 109751,\n",
              " 109763,\n",
              " 109764,\n",
              " 109767,\n",
              " 109772,\n",
              " 109780,\n",
              " 109801,\n",
              " 109815,\n",
              " 109817,\n",
              " 109834,\n",
              " 109880,\n",
              " 109889,\n",
              " 109896,\n",
              " 109901,\n",
              " 109932,\n",
              " 109957,\n",
              " 109967,\n",
              " 109968,\n",
              " 109970,\n",
              " 109971,\n",
              " 109974,\n",
              " 109984,\n",
              " 109989,\n",
              " 109996,\n",
              " 109999,\n",
              " 110001,\n",
              " 110005,\n",
              " 110009,\n",
              " 110015,\n",
              " 110018,\n",
              " 110048,\n",
              " 110049,\n",
              " 110051,\n",
              " 110059,\n",
              " 110086,\n",
              " 110093,\n",
              " 110098,\n",
              " 110099,\n",
              " 110100,\n",
              " 110109,\n",
              " 110110,\n",
              " 110116,\n",
              " 110118,\n",
              " 110141,\n",
              " 110151,\n",
              " 110168,\n",
              " 110169,\n",
              " 110186,\n",
              " 110189,\n",
              " 110203,\n",
              " 110204,\n",
              " 110209,\n",
              " 110217,\n",
              " 110224,\n",
              " 110225,\n",
              " 110233,\n",
              " 110234,\n",
              " 110235,\n",
              " 110236,\n",
              " 110237,\n",
              " 110251,\n",
              " 110265,\n",
              " 110266,\n",
              " 110267,\n",
              " 110268,\n",
              " 110280,\n",
              " 110287,\n",
              " 110304,\n",
              " 110309,\n",
              " 110324,\n",
              " 110375,\n",
              " 110400,\n",
              " 110409,\n",
              " 110446,\n",
              " 110466,\n",
              " 110474,\n",
              " 110475,\n",
              " 110476,\n",
              " 110485,\n",
              " 110488,\n",
              " 110501,\n",
              " 110508,\n",
              " 110509,\n",
              " 110536,\n",
              " 110539,\n",
              " 110551,\n",
              " 110564,\n",
              " 110566,\n",
              " 110576,\n",
              " 110581,\n",
              " 110587,\n",
              " 110590,\n",
              " 110591,\n",
              " 110601,\n",
              " 110618,\n",
              " 110630,\n",
              " 110646,\n",
              " 110658,\n",
              " 110665,\n",
              " 110666,\n",
              " 110718,\n",
              " 110731,\n",
              " 110732,\n",
              " 110737,\n",
              " 110738,\n",
              " 110745,\n",
              " 110746,\n",
              " 110757,\n",
              " 110761,\n",
              " 110787,\n",
              " 110803,\n",
              " 110804,\n",
              " 110809,\n",
              " 110810,\n",
              " 110815,\n",
              " 110816,\n",
              " 110845,\n",
              " 110846,\n",
              " 110856,\n",
              " 110859,\n",
              " 110866,\n",
              " 110874,\n",
              " 110898,\n",
              " 110909,\n",
              " 110923,\n",
              " 110932,\n",
              " 110936,\n",
              " 110940,\n",
              " 110945,\n",
              " 111044,\n",
              " 111092,\n",
              " 111093,\n",
              " 111109,\n",
              " 111110,\n",
              " 111122,\n",
              " 111142,\n",
              " 111151,\n",
              " 111179,\n",
              " 111185,\n",
              " 111186,\n",
              " 111187,\n",
              " 111191,\n",
              " 111202,\n",
              " 111209,\n",
              " 111214,\n",
              " 111222,\n",
              " 111227,\n",
              " 111236,\n",
              " 111237,\n",
              " 111251,\n",
              " 111269,\n",
              " 111271,\n",
              " 111273,\n",
              " 111284,\n",
              " 111294,\n",
              " 111295,\n",
              " 111296]"
            ]
          },
          "metadata": {},
          "execution_count": 35
        }
      ]
    }
  ]
}