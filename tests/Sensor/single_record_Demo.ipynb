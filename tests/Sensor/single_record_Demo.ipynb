{
  "nbformat": 4,
  "nbformat_minor": 0,
  "metadata": {
    "colab": {
      "name": "single_file_Demo.ipynb",
      "provenance": [],
      "collapsed_sections": [],
      "authorship_tag": "ABX9TyOkDE/ptrYy0Md/V9By+sI1",
      "include_colab_link": true
    },
    "kernelspec": {
      "name": "python3",
      "display_name": "Python 3"
    },
    "language_info": {
      "name": "python"
    },
    "accelerator": "GPU",
    "gpuClass": "standard"
  },
  "cells": [
    {
      "cell_type": "markdown",
      "metadata": {
        "id": "view-in-github",
        "colab_type": "text"
      },
      "source": [
        "<a href=\"https://colab.research.google.com/github/aid4mh/QPrism/blob/main/tests/Sensor/single_record_Demo.ipynb\" target=\"_parent\"><img src=\"https://colab.research.google.com/assets/colab-badge.svg\" alt=\"Open In Colab\"/></a>"
      ]
    },
    {
      "cell_type": "code",
      "execution_count": 1,
      "metadata": {
        "id": "TsLMcFWy4lFc",
        "colab": {
          "base_uri": "https://localhost:8080/"
        },
        "outputId": "dd732480-6d47-4117-c8fc-849dcb39e66e"
      },
      "outputs": [
        {
          "output_type": "stream",
          "name": "stdout",
          "text": [
            "Looking in indexes: https://pypi.org/simple, https://us-python.pkg.dev/colab-wheels/public/simple/\n",
            "Requirement already satisfied: pip in /usr/local/lib/python3.7/dist-packages (21.1.3)\n",
            "Collecting pip\n",
            "  Downloading pip-22.2.2-py3-none-any.whl (2.0 MB)\n",
            "\u001b[K     |████████████████████████████████| 2.0 MB 5.2 MB/s \n",
            "\u001b[?25hInstalling collected packages: pip\n",
            "  Attempting uninstall: pip\n",
            "    Found existing installation: pip 21.1.3\n",
            "    Uninstalling pip-21.1.3:\n",
            "      Successfully uninstalled pip-21.1.3\n",
            "Successfully installed pip-22.2.2\n"
          ]
        }
      ],
      "source": [
        "! python3 -m pip install --upgrade pip"
      ]
    },
    {
      "cell_type": "markdown",
      "source": [
        "#Install the dependencies and QPrism"
      ],
      "metadata": {
        "id": "J7iYiUIHxxZP"
      }
    },
    {
      "cell_type": "code",
      "source": [
        "! pip install -r https://raw.githubusercontent.com/aid4mh/QPrism/main/requirements.txt"
      ],
      "metadata": {
        "id": "vp6NbBaoxzxw"
      },
      "execution_count": null,
      "outputs": []
    },
    {
      "cell_type": "code",
      "source": [
        "! pip install --no-deps QPrism"
      ],
      "metadata": {
        "id": "6EkTzyu07_y-",
        "colab": {
          "base_uri": "https://localhost:8080/"
        },
        "outputId": "b7e8f568-bc75-4f4c-c740-e11414f17b36"
      },
      "execution_count": 3,
      "outputs": [
        {
          "output_type": "stream",
          "name": "stdout",
          "text": [
            "Looking in indexes: https://pypi.org/simple, https://us-python.pkg.dev/colab-wheels/public/simple/\n",
            "Collecting QPrism\n",
            "  Downloading qprism-0.1.9-py3-none-any.whl (34 kB)\n",
            "Installing collected packages: QPrism\n",
            "Successfully installed QPrism-0.1.9\n",
            "\u001b[33mWARNING: Running pip as the 'root' user can result in broken permissions and conflicting behaviour with the system package manager. It is recommended to use a virtual environment instead: https://pip.pypa.io/warnings/venv\u001b[0m\u001b[33m\n",
            "\u001b[0m"
          ]
        }
      ]
    },
    {
      "cell_type": "code",
      "source": [
        "from QPrism.Sensor.DQM import DQM_single_record\n",
        "from QPrism.Sensor.load_data import *"
      ],
      "metadata": {
        "id": "ddgvt-pT9RBJ"
      },
      "execution_count": 4,
      "outputs": []
    },
    {
      "cell_type": "markdown",
      "source": [
        "#Load a sufficient json record and demonstrate the structure of the loaded data frame. For the original json file data structure, check the provided test data under data/sensor/json in the repo. modules/Sensor/load_data.py provides examples of how to load a json/csv file into this particular structure locally."
      ],
      "metadata": {
        "id": "MZLDOoHDDjmc"
      }
    },
    {
      "cell_type": "code",
      "source": [
        "from urllib.request import urlopen\n",
        "import json\n",
        "import pandas as pd\n",
        "\n",
        "response = urlopen(\"https://raw.githubusercontent.com/aid4mh/QPrism/main/data/sensor/json/SUBJ00001_Accelerometer_REC000000.json\")\n",
        "json_data = response.read().decode('utf-8', 'replace')\n",
        "\n",
        "json_file = json.loads(json_data)\n",
        "json_file = json.dumps(list(json_file['records']))\n",
        "df = (pd.read_json(json_file))\n",
        "df[list(df.keys())[0]] = df[list(df.keys())[0]].apply(lambda x: x.value)\n",
        "print(df)"
      ],
      "metadata": {
        "colab": {
          "base_uri": "https://localhost:8080/"
        },
        "id": "G_hzZ30lBSx0",
        "outputId": "1420b1d7-5fb9-4386-d172-1c10d84263b5"
      },
      "execution_count": 5,
      "outputs": [
        {
          "output_type": "stream",
          "name": "stdout",
          "text": [
            "               timestamp         x         y          z\n",
            "0    1593954057754000000  2.229002  6.114791   5.324705\n",
            "1    1593954058125000000  2.135628  4.283227   6.833052\n",
            "2    1593954058506000000 -1.721431  5.561730  10.201694\n",
            "3    1593954058729000000 -0.220267  5.365406   7.668628\n",
            "4    1593954058937000000 -0.177171  5.130774   8.346188\n",
            "..                   ...       ...       ...        ...\n",
            "440  1593954154639000000 -0.258574  6.212954   7.388506\n",
            "441  1593954154858000000 -0.301669  6.212954   7.378930\n",
            "442  1593954155076000000 -0.275333  6.193800   7.407660\n",
            "443  1593954155276000000 -0.385466  6.205771   7.474698\n",
            "444  1593954155491000000 -0.385466  6.215348   7.129933\n",
            "\n",
            "[445 rows x 4 columns]\n"
          ]
        }
      ]
    },
    {
      "cell_type": "markdown",
      "source": [
        "#Create the DQM_single_file object, set the input data frame, then compute DQM"
      ],
      "metadata": {
        "id": "SVi2w41qEHVg"
      }
    },
    {
      "cell_type": "code",
      "source": [
        "single_json_file_dqm = DQM_single_record()\n",
        "single_json_file_dqm.set_input_data(df)\n",
        "single_json_file_dqm.compute_DQM()"
      ],
      "metadata": {
        "id": "LE5FGzAwEJKa"
      },
      "execution_count": 6,
      "outputs": []
    },
    {
      "cell_type": "markdown",
      "source": [
        "#Get the fields of computed data quality matrix"
      ],
      "metadata": {
        "id": "8tAUKcHqEV5b"
      }
    },
    {
      "cell_type": "code",
      "source": [
        "single_json_file_dqm.get_fields()"
      ],
      "metadata": {
        "colab": {
          "base_uri": "https://localhost:8080/"
        },
        "id": "z_jGawxLEWcU",
        "outputId": "04af1b97-38ca-4d69-f3b7-16f9316dd34f"
      },
      "execution_count": 7,
      "outputs": [
        {
          "output_type": "execute_result",
          "data": {
            "text/plain": [
              "['IRLR', 'SNR', 'VDR', 'SRC', 'MDR', 'APD']"
            ]
          },
          "metadata": {},
          "execution_count": 7
        }
      ]
    },
    {
      "cell_type": "markdown",
      "source": [
        "#Get the computed data quality matrix as a list, each element in the list represents a metric."
      ],
      "metadata": {
        "id": "zevqKAmBEZA-"
      }
    },
    {
      "cell_type": "code",
      "source": [
        "single_json_file_dqm.get_DQM()"
      ],
      "metadata": {
        "colab": {
          "base_uri": "https://localhost:8080/"
        },
        "id": "Om7c73RqEZ67",
        "outputId": "edf0e788-f3f9-4515-e16d-923e1df91e66"
      },
      "execution_count": 8,
      "outputs": [
        {
          "output_type": "execute_result",
          "data": {
            "text/plain": [
              "['1',\n",
              " '-3.096340603605768',\n",
              " '1.0',\n",
              " '0.9011216710642995',\n",
              " '0.013303769401330377',\n",
              " '0.02696629213483146']"
            ]
          },
          "metadata": {},
          "execution_count": 8
        }
      ]
    },
    {
      "cell_type": "markdown",
      "source": [
        "#Get each single metric of the computed DQM as a str"
      ],
      "metadata": {
        "id": "thLISO7BEg9u"
      }
    },
    {
      "cell_type": "code",
      "source": [
        "single_json_file_dqm.get_IRLR()"
      ],
      "metadata": {
        "colab": {
          "base_uri": "https://localhost:8080/",
          "height": 35
        },
        "id": "zCQRj9bAEljK",
        "outputId": "40c6f4ae-a017-4557-920d-1c01c5953d6b"
      },
      "execution_count": 9,
      "outputs": [
        {
          "output_type": "execute_result",
          "data": {
            "text/plain": [
              "'1'"
            ],
            "application/vnd.google.colaboratory.intrinsic+json": {
              "type": "string"
            }
          },
          "metadata": {},
          "execution_count": 9
        }
      ]
    },
    {
      "cell_type": "code",
      "source": [
        "single_json_file_dqm.get_SNR()"
      ],
      "metadata": {
        "colab": {
          "base_uri": "https://localhost:8080/",
          "height": 35
        },
        "id": "AB8wzKQ3EosY",
        "outputId": "771cbc61-eaab-4853-9fa7-f06bf7085ae3"
      },
      "execution_count": 10,
      "outputs": [
        {
          "output_type": "execute_result",
          "data": {
            "text/plain": [
              "'-3.096340603605768'"
            ],
            "application/vnd.google.colaboratory.intrinsic+json": {
              "type": "string"
            }
          },
          "metadata": {},
          "execution_count": 10
        }
      ]
    },
    {
      "cell_type": "code",
      "source": [
        "single_json_file_dqm.get_VDR()"
      ],
      "metadata": {
        "colab": {
          "base_uri": "https://localhost:8080/",
          "height": 35
        },
        "id": "2DxN8dD_EqDm",
        "outputId": "d4b34c3b-cd61-4d92-9520-e01f3c25f7b9"
      },
      "execution_count": 11,
      "outputs": [
        {
          "output_type": "execute_result",
          "data": {
            "text/plain": [
              "'1.0'"
            ],
            "application/vnd.google.colaboratory.intrinsic+json": {
              "type": "string"
            }
          },
          "metadata": {},
          "execution_count": 11
        }
      ]
    },
    {
      "cell_type": "code",
      "source": [
        "single_json_file_dqm.get_SRC()"
      ],
      "metadata": {
        "colab": {
          "base_uri": "https://localhost:8080/",
          "height": 35
        },
        "id": "Dvd4ir6FEtqC",
        "outputId": "a95f8cf4-b4fa-4774-d129-411a559413fa"
      },
      "execution_count": 12,
      "outputs": [
        {
          "output_type": "execute_result",
          "data": {
            "text/plain": [
              "'0.9011216710642995'"
            ],
            "application/vnd.google.colaboratory.intrinsic+json": {
              "type": "string"
            }
          },
          "metadata": {},
          "execution_count": 12
        }
      ]
    },
    {
      "cell_type": "code",
      "source": [
        "single_json_file_dqm.get_MDR()"
      ],
      "metadata": {
        "colab": {
          "base_uri": "https://localhost:8080/",
          "height": 35
        },
        "id": "lNyXD7z2Eux6",
        "outputId": "4809dc3e-6c61-4cf5-a278-b7cf2bcfc8d5"
      },
      "execution_count": 13,
      "outputs": [
        {
          "output_type": "execute_result",
          "data": {
            "text/plain": [
              "'0.013303769401330377'"
            ],
            "application/vnd.google.colaboratory.intrinsic+json": {
              "type": "string"
            }
          },
          "metadata": {},
          "execution_count": 13
        }
      ]
    },
    {
      "cell_type": "code",
      "source": [
        "single_json_file_dqm.get_APD()"
      ],
      "metadata": {
        "colab": {
          "base_uri": "https://localhost:8080/",
          "height": 35
        },
        "id": "MAKthq5uEwLY",
        "outputId": "f49deb8b-3e4c-43a3-c219-c82873c7d643"
      },
      "execution_count": 14,
      "outputs": [
        {
          "output_type": "execute_result",
          "data": {
            "text/plain": [
              "'0.02696629213483146'"
            ],
            "application/vnd.google.colaboratory.intrinsic+json": {
              "type": "string"
            }
          },
          "metadata": {},
          "execution_count": 14
        }
      ]
    },
    {
      "cell_type": "markdown",
      "source": [
        "#We can also get the detected outliers' index"
      ],
      "metadata": {
        "id": "ehQckjk4aFNh"
      }
    },
    {
      "cell_type": "code",
      "source": [
        "single_json_file_dqm.get_anomaly_index()"
      ],
      "metadata": {
        "colab": {
          "base_uri": "https://localhost:8080/"
        },
        "id": "45DMEE0eaLuT",
        "outputId": "c9dd0bea-47d8-4f16-d905-54eb7acca32c"
      },
      "execution_count": 15,
      "outputs": [
        {
          "output_type": "execute_result",
          "data": {
            "text/plain": [
              "[268, 277, 306, 310, 334, 340, 354, 360, 361, 367, 382, 384]"
            ]
          },
          "metadata": {},
          "execution_count": 15
        }
      ]
    },
    {
      "cell_type": "markdown",
      "source": [
        "#Save the computed DQM as a csv file at given path."
      ],
      "metadata": {
        "id": "gHRGVdafFG7d"
      }
    },
    {
      "cell_type": "code",
      "source": [
        "from google.colab import drive\n",
        "drive.mount('/content/gdrive')"
      ],
      "metadata": {
        "colab": {
          "base_uri": "https://localhost:8080/"
        },
        "id": "EOVNZAnaSyA2",
        "outputId": "6b2fa86f-e3b9-4610-8304-f7b00deab750"
      },
      "execution_count": 16,
      "outputs": [
        {
          "output_type": "stream",
          "name": "stdout",
          "text": [
            "Mounted at /content/gdrive\n"
          ]
        }
      ]
    },
    {
      "cell_type": "markdown",
      "source": [
        "#Change the saved path to your gdrive path before run the following lines."
      ],
      "metadata": {
        "id": "H3xNX-ZcTPdQ"
      }
    },
    {
      "cell_type": "code",
      "source": [
        "\n",
        "single_json_file_dqm.save_to_file('/content/gdrive/MyDrive/CAMH/JOSS/Sensor_result/demo_result_single_file.csv')"
      ],
      "metadata": {
        "colab": {
          "base_uri": "https://localhost:8080/"
        },
        "id": "aY0DmWJIFHcz",
        "outputId": "1e9a1526-6d55-4a10-eb07-d42dc1080de6"
      },
      "execution_count": 17,
      "outputs": [
        {
          "output_type": "stream",
          "name": "stdout",
          "text": [
            "Data successfuly saved.\n"
          ]
        }
      ]
    },
    {
      "cell_type": "markdown",
      "source": [
        "#Display the saved csv file."
      ],
      "metadata": {
        "id": "ecHlVhARFOX3"
      }
    },
    {
      "cell_type": "code",
      "source": [
        "with open(\"/content/gdrive/MyDrive/CAMH/JOSS/Sensor_result/demo_result_single_file.csv\", \"r\") as DQM_csv:\n",
        "    for row in DQM_csv:\n",
        "        print(row)"
      ],
      "metadata": {
        "colab": {
          "base_uri": "https://localhost:8080/"
        },
        "id": "vO-m8RNzFPCT",
        "outputId": "55f27cd5-1919-49c6-c7eb-e3f691cdebb0"
      },
      "execution_count": 18,
      "outputs": [
        {
          "output_type": "stream",
          "name": "stdout",
          "text": [
            "IRLR,SNR,VDR,SRC,MDR,APD\n",
            "\n",
            "1,-3.096340603605768,1.0,0.9011216710642995,0.013303769401330377,0.02696629213483146\n",
            "\n"
          ]
        }
      ]
    },
    {
      "cell_type": "markdown",
      "source": [
        "#Set SNR to be not included in DQM"
      ],
      "metadata": {
        "id": "e-Jnlzi4FTtx"
      }
    },
    {
      "cell_type": "code",
      "source": [
        "single_json_file_dqm.set_SNR(False)"
      ],
      "metadata": {
        "id": "Eyai4thbFWLO"
      },
      "execution_count": 19,
      "outputs": []
    },
    {
      "cell_type": "markdown",
      "source": [
        "#Compute and get the updated DQM, now SNR should not be included in DQM."
      ],
      "metadata": {
        "id": "_kl8rH2jFX0M"
      }
    },
    {
      "cell_type": "code",
      "source": [
        "single_json_file_dqm.compute_DQM()"
      ],
      "metadata": {
        "id": "5Qe0JQQEFZU0"
      },
      "execution_count": 20,
      "outputs": []
    },
    {
      "cell_type": "code",
      "source": [
        "single_json_file_dqm.get_fields()"
      ],
      "metadata": {
        "colab": {
          "base_uri": "https://localhost:8080/"
        },
        "id": "hlnNDt3iFc0E",
        "outputId": "c519023b-abfa-49d3-8144-ba30fe81d534"
      },
      "execution_count": 21,
      "outputs": [
        {
          "output_type": "execute_result",
          "data": {
            "text/plain": [
              "['IRLR', 'VDR', 'SRC', 'MDR', 'APD']"
            ]
          },
          "metadata": {},
          "execution_count": 21
        }
      ]
    },
    {
      "cell_type": "code",
      "source": [
        "single_json_file_dqm.get_DQM()"
      ],
      "metadata": {
        "colab": {
          "base_uri": "https://localhost:8080/"
        },
        "id": "eDkVg6bVFeHS",
        "outputId": "710a1743-e635-45eb-b0f9-6e54896cd16c"
      },
      "execution_count": 22,
      "outputs": [
        {
          "output_type": "execute_result",
          "data": {
            "text/plain": [
              "['1',\n",
              " '1.0',\n",
              " '0.9011216710642995',\n",
              " '0.013303769401330377',\n",
              " '0.015730337078651686']"
            ]
          },
          "metadata": {},
          "execution_count": 22
        }
      ]
    },
    {
      "cell_type": "markdown",
      "source": [
        "#Now get_SNR should not be called"
      ],
      "metadata": {
        "id": "YzpPaWXjFftR"
      }
    },
    {
      "cell_type": "code",
      "source": [
        "single_json_file_dqm.get_SNR()"
      ],
      "metadata": {
        "colab": {
          "base_uri": "https://localhost:8080/",
          "height": 35
        },
        "id": "TE_BOLnYFgdC",
        "outputId": "de7c5125-e2cb-49ab-bb76-7a1917801228"
      },
      "execution_count": 23,
      "outputs": [
        {
          "output_type": "execute_result",
          "data": {
            "text/plain": [
              "'SNR is not computed according to the configuration'"
            ],
            "application/vnd.google.colaboratory.intrinsic+json": {
              "type": "string"
            }
          },
          "metadata": {},
          "execution_count": 23
        }
      ]
    },
    {
      "cell_type": "markdown",
      "source": [
        "#Note that you can set any metrics except IRLR to be not included as above."
      ],
      "metadata": {
        "id": "YyCt_8NXTs4T"
      }
    },
    {
      "cell_type": "markdown",
      "source": [
        "#For an insufficient record, DQM will have np.NaN for all metrics except IRLR. IRLR will have a value of 0 to indicate the input record is insufficient. The following record is an empty record, thus the input data is an empty DataFrame."
      ],
      "metadata": {
        "id": "Ychjr_19Ttn1"
      }
    },
    {
      "cell_type": "code",
      "source": [
        "response = urlopen(\"https://raw.githubusercontent.com/aid4mh/QPrism/main/data/sensor/json/SUBJ00001_Accelerometer_REC000006.json\")\n",
        "json_data = response.read().decode('utf-8', 'replace')\n",
        "\n",
        "print(json_data)"
      ],
      "metadata": {
        "colab": {
          "base_uri": "https://localhost:8080/"
        },
        "id": "fZ2_LksmTwGc",
        "outputId": "7dd9ab92-313b-4658-973f-37461a046b6c"
      },
      "execution_count": 24,
      "outputs": [
        {
          "output_type": "stream",
          "name": "stdout",
          "text": [
            "\n"
          ]
        }
      ]
    },
    {
      "cell_type": "code",
      "source": [
        "df = pd.DataFrame([])\n",
        "single_json_file_dqm.set_input_data(df)\n"
      ],
      "metadata": {
        "id": "Fe_F_K_HVvz8"
      },
      "execution_count": 25,
      "outputs": []
    },
    {
      "cell_type": "markdown",
      "source": [
        "#First we need to set SNR to be included, since we previously excluded SNR."
      ],
      "metadata": {
        "id": "W4h70J02WIyK"
      }
    },
    {
      "cell_type": "code",
      "source": [
        "single_json_file_dqm.set_SNR(True)"
      ],
      "metadata": {
        "id": "5kyI5wjtWPxm"
      },
      "execution_count": 26,
      "outputs": []
    },
    {
      "cell_type": "markdown",
      "source": [
        "#Then we compute the DQM for this insufficient record."
      ],
      "metadata": {
        "id": "53obhxKDWUon"
      }
    },
    {
      "cell_type": "code",
      "source": [
        "single_json_file_dqm.compute_DQM()\n"
      ],
      "metadata": {
        "id": "4Y0mwxl-WTdh"
      },
      "execution_count": 27,
      "outputs": []
    },
    {
      "cell_type": "code",
      "source": [
        "single_json_file_dqm.get_fields()\n"
      ],
      "metadata": {
        "colab": {
          "base_uri": "https://localhost:8080/"
        },
        "id": "s4MVV3jGWowg",
        "outputId": "0989afef-4bb3-4cb9-9242-aa7b5481f102"
      },
      "execution_count": 28,
      "outputs": [
        {
          "output_type": "execute_result",
          "data": {
            "text/plain": [
              "['IRLR', 'SNR', 'VDR', 'SRC', 'MDR', 'APD']"
            ]
          },
          "metadata": {},
          "execution_count": 28
        }
      ]
    },
    {
      "cell_type": "code",
      "source": [
        "single_json_file_dqm.get_DQM()"
      ],
      "metadata": {
        "colab": {
          "base_uri": "https://localhost:8080/"
        },
        "id": "oixsMKudWqBJ",
        "outputId": "45f509d1-6fd5-4d6e-b7fb-c7b108a3d3e4"
      },
      "execution_count": 29,
      "outputs": [
        {
          "output_type": "execute_result",
          "data": {
            "text/plain": [
              "['0', nan, nan, nan, nan, nan]"
            ]
          },
          "metadata": {},
          "execution_count": 29
        }
      ]
    },
    {
      "cell_type": "markdown",
      "source": [
        "#For the definition of insufficient, please check the IRLR in this [Glossary](https://qprism.readthedocs.io/en/latest/glossary.html#sensor-module)."
      ],
      "metadata": {
        "id": "by6mz-BDWsme"
      }
    },
    {
      "cell_type": "markdown",
      "source": [
        "#Now load a sufficient csv sensor data, similarly, you can check modules/Sensor/load_data.py for the code that loads the csv into this structure locally."
      ],
      "metadata": {
        "id": "SFW_0KfPXoKj"
      }
    },
    {
      "cell_type": "code",
      "source": [
        "df = load_data_csv_one_file('https://raw.githubusercontent.com/aid4mh/QPrism/main/data/sensor/csv/id9603e9c3.csv')\n",
        "print(df)"
      ],
      "metadata": {
        "colab": {
          "base_uri": "https://localhost:8080/"
        },
        "id": "DZ8xtnBcXssx",
        "outputId": "a75e267e-758b-4379-8910-3954065d0c5c"
      },
      "execution_count": 30,
      "outputs": [
        {
          "output_type": "stream",
          "name": "stdout",
          "text": [
            "         time_s   lw_x   lw_y   lw_z   lh_x   lh_y   lh_z   la_x   la_y  \\\n",
            "0          0.01 -0.004  0.945 -0.461  0.055  0.992 -0.199  0.168  1.418   \n",
            "1          0.02 -0.406 -0.379  1.031 -0.320 -0.102  0.844 -0.422  0.559   \n",
            "2          0.03 -0.340 -0.918  1.160 -0.152 -0.676  1.160 -0.500  1.004   \n",
            "3          0.04 -0.207 -1.023  0.344  0.059 -0.797  0.453 -0.363  1.363   \n",
            "4          0.05 -0.152 -1.098 -0.012  0.133 -0.875  0.133 -0.301  1.582   \n",
            "...         ...    ...    ...    ...    ...    ...    ...    ...    ...   \n",
            "111295  1112.96  0.000  0.000  0.000  0.246  0.012  0.949  0.453  0.102   \n",
            "111296  1112.97  0.000  0.000  0.000  0.246  0.012  0.949  0.449  0.102   \n",
            "111297  1112.98  0.000  0.000  0.000  0.246  0.012  0.949  0.449  0.102   \n",
            "111298  1112.99  0.000  0.000  0.000  0.246  0.012  0.949  0.449  0.102   \n",
            "111299  1113.00  0.000  0.000  0.000  0.246  0.012  0.949  0.453  0.102   \n",
            "\n",
            "         la_z   ra_x   ra_y   ra_z  \n",
            "0      -0.070 -0.105  1.000  0.125  \n",
            "1       0.891 -0.352 -0.086  0.984  \n",
            "2       1.168 -0.105 -0.602  1.438  \n",
            "3       0.523  0.109 -0.797  0.793  \n",
            "4       0.305  0.203 -0.992  0.512  \n",
            "...       ...    ...    ...    ...  \n",
            "111295  0.879 -0.059  1.027 -0.043  \n",
            "111296  0.879 -0.059  1.027 -0.043  \n",
            "111297  0.871 -0.059  1.027 -0.043  \n",
            "111298  0.875 -0.059  1.027 -0.043  \n",
            "111299  0.875 -0.059  1.027 -0.043  \n",
            "\n",
            "[111300 rows x 13 columns]\n"
          ]
        }
      ]
    },
    {
      "cell_type": "markdown",
      "source": [
        "#Compute the DQM, this computation takes significantly longer time, since the record contains 111300 rows × 13 columns of data. The runtime for this record on a PC with intel i7-8700k processor, 16G DDR4 3600MHz RAM is ~160s"
      ],
      "metadata": {
        "id": "YB8Kn086YPWX"
      }
    },
    {
      "cell_type": "code",
      "source": [
        "single_csv_file_dqm = DQM_single_record()\n",
        "single_csv_file_dqm.set_input_data(df)\n",
        "single_csv_file_dqm.compute_DQM()"
      ],
      "metadata": {
        "id": "1Od9_K43YQul"
      },
      "execution_count": 31,
      "outputs": []
    },
    {
      "cell_type": "markdown",
      "source": [
        "#Now display the result"
      ],
      "metadata": {
        "id": "3aNF1DY2ZytC"
      }
    },
    {
      "cell_type": "code",
      "source": [
        "single_csv_file_dqm.get_fields()"
      ],
      "metadata": {
        "colab": {
          "base_uri": "https://localhost:8080/"
        },
        "id": "d24_kzkWZwBd",
        "outputId": "a8a4244e-6420-40d6-87de-65a7c95f0338"
      },
      "execution_count": 32,
      "outputs": [
        {
          "output_type": "execute_result",
          "data": {
            "text/plain": [
              "['IRLR', 'SNR', 'VDR', 'SRC', 'MDR', 'APD']"
            ]
          },
          "metadata": {},
          "execution_count": 32
        }
      ]
    },
    {
      "cell_type": "code",
      "source": [
        "single_csv_file_dqm.get_DQM()"
      ],
      "metadata": {
        "colab": {
          "base_uri": "https://localhost:8080/"
        },
        "id": "wtq8JEdZZ8Tl",
        "outputId": "f16c4869-3862-4c82-c5c7-e8f8d2877621"
      },
      "execution_count": 33,
      "outputs": [
        {
          "output_type": "execute_result",
          "data": {
            "text/plain": [
              "['1',\n",
              " '-3.436961042075442',\n",
              " '1.0',\n",
              " '0.9999999999986589',\n",
              " '0.0',\n",
              " '0.002443845462713387']"
            ]
          },
          "metadata": {},
          "execution_count": 33
        }
      ]
    },
    {
      "cell_type": "code",
      "source": [
        "single_csv_file_dqm.get_anomaly_index()"
      ],
      "metadata": {
        "colab": {
          "base_uri": "https://localhost:8080/"
        },
        "id": "53lg-euDaZcv",
        "outputId": "041a2b1f-34e1-434d-911d-0ed1ef36e2b7"
      },
      "execution_count": 34,
      "outputs": [
        {
          "output_type": "execute_result",
          "data": {
            "text/plain": [
              "[55169,\n",
              " 102713,\n",
              " 102724,\n",
              " 102945,\n",
              " 103170,\n",
              " 103257,\n",
              " 103590,\n",
              " 103624,\n",
              " 103696,\n",
              " 103831,\n",
              " 103888,\n",
              " 103926,\n",
              " 103942,\n",
              " 104007,\n",
              " 104431,\n",
              " 104588,\n",
              " 104590,\n",
              " 104676,\n",
              " 104863,\n",
              " 104919,\n",
              " 105021,\n",
              " 106457,\n",
              " 106650,\n",
              " 106741,\n",
              " 106843,\n",
              " 107556,\n",
              " 107752,\n",
              " 107782,\n",
              " 107903,\n",
              " 107904,\n",
              " 107908,\n",
              " 107912,\n",
              " 107918,\n",
              " 107922,\n",
              " 107932,\n",
              " 107935,\n",
              " 107940,\n",
              " 107953,\n",
              " 107956,\n",
              " 107959,\n",
              " 107991,\n",
              " 107993,\n",
              " 108007,\n",
              " 108019,\n",
              " 108020,\n",
              " 108023,\n",
              " 108032,\n",
              " 108054,\n",
              " 108093,\n",
              " 108100,\n",
              " 108107,\n",
              " 108116,\n",
              " 108118,\n",
              " 108119,\n",
              " 108120,\n",
              " 108134,\n",
              " 108151,\n",
              " 108154,\n",
              " 108157,\n",
              " 108167,\n",
              " 108174,\n",
              " 108187,\n",
              " 108189,\n",
              " 108202,\n",
              " 108237,\n",
              " 108245,\n",
              " 108246,\n",
              " 108274,\n",
              " 108283,\n",
              " 108284,\n",
              " 108290,\n",
              " 108296,\n",
              " 108298,\n",
              " 108303,\n",
              " 108311,\n",
              " 108314,\n",
              " 108318,\n",
              " 108319,\n",
              " 108329,\n",
              " 108330,\n",
              " 108339,\n",
              " 108348,\n",
              " 108351,\n",
              " 108353,\n",
              " 108411,\n",
              " 108422,\n",
              " 108427,\n",
              " 108461,\n",
              " 108467,\n",
              " 108470,\n",
              " 108472,\n",
              " 108494,\n",
              " 108509,\n",
              " 108523,\n",
              " 108543,\n",
              " 108551,\n",
              " 108561,\n",
              " 108579,\n",
              " 108586,\n",
              " 108590,\n",
              " 108604,\n",
              " 108614,\n",
              " 108617,\n",
              " 108619,\n",
              " 108622,\n",
              " 108627,\n",
              " 108630,\n",
              " 108633,\n",
              " 108637,\n",
              " 108641,\n",
              " 108650,\n",
              " 108660,\n",
              " 108665,\n",
              " 108673,\n",
              " 108690,\n",
              " 108700,\n",
              " 108704,\n",
              " 108712,\n",
              " 108731,\n",
              " 108752,\n",
              " 108758,\n",
              " 108770,\n",
              " 108800,\n",
              " 108819,\n",
              " 108826,\n",
              " 108846,\n",
              " 108849,\n",
              " 108851,\n",
              " 108858,\n",
              " 108885,\n",
              " 108895,\n",
              " 108902,\n",
              " 108904,\n",
              " 108912,\n",
              " 108913,\n",
              " 108970,\n",
              " 108980,\n",
              " 108983,\n",
              " 108985,\n",
              " 108986,\n",
              " 108994,\n",
              " 109010,\n",
              " 109042,\n",
              " 109061,\n",
              " 109065,\n",
              " 109071,\n",
              " 109076,\n",
              " 109090,\n",
              " 109096,\n",
              " 109098,\n",
              " 109125,\n",
              " 109152,\n",
              " 109162,\n",
              " 109169,\n",
              " 109177,\n",
              " 109193,\n",
              " 109205,\n",
              " 109209,\n",
              " 109228,\n",
              " 109259,\n",
              " 109294,\n",
              " 109302,\n",
              " 109313,\n",
              " 109351,\n",
              " 109386,\n",
              " 109401,\n",
              " 109402,\n",
              " 109451,\n",
              " 109471,\n",
              " 109501,\n",
              " 109557,\n",
              " 109601,\n",
              " 109609,\n",
              " 109610,\n",
              " 109620,\n",
              " 109651,\n",
              " 109678,\n",
              " 109679,\n",
              " 109707,\n",
              " 109748,\n",
              " 109764,\n",
              " 109780,\n",
              " 109781,\n",
              " 109801,\n",
              " 109815,\n",
              " 109817,\n",
              " 109834,\n",
              " 109880,\n",
              " 109889,\n",
              " 109901,\n",
              " 109932,\n",
              " 109967,\n",
              " 109970,\n",
              " 109971,\n",
              " 109974,\n",
              " 110001,\n",
              " 110098,\n",
              " 110099,\n",
              " 110100,\n",
              " 110116,\n",
              " 110151,\n",
              " 110168,\n",
              " 110169,\n",
              " 110186,\n",
              " 110203,\n",
              " 110204,\n",
              " 110217,\n",
              " 110234,\n",
              " 110235,\n",
              " 110236,\n",
              " 110237,\n",
              " 110251,\n",
              " 110265,\n",
              " 110266,\n",
              " 110267,\n",
              " 110268,\n",
              " 110304,\n",
              " 110324,\n",
              " 110375,\n",
              " 110400,\n",
              " 110409,\n",
              " 110466,\n",
              " 110474,\n",
              " 110475,\n",
              " 110476,\n",
              " 110485,\n",
              " 110488,\n",
              " 110501,\n",
              " 110551,\n",
              " 110566,\n",
              " 110581,\n",
              " 110590,\n",
              " 110591,\n",
              " 110601,\n",
              " 110618,\n",
              " 110630,\n",
              " 110646,\n",
              " 110666,\n",
              " 110731,\n",
              " 110732,\n",
              " 110757,\n",
              " 110803,\n",
              " 110810,\n",
              " 110815,\n",
              " 110816,\n",
              " 110846,\n",
              " 110856,\n",
              " 110866,\n",
              " 110898,\n",
              " 110909,\n",
              " 110932,\n",
              " 110936,\n",
              " 110945,\n",
              " 110986,\n",
              " 111092,\n",
              " 111122,\n",
              " 111142,\n",
              " 111151,\n",
              " 111179,\n",
              " 111185,\n",
              " 111186,\n",
              " 111187,\n",
              " 111202,\n",
              " 111209,\n",
              " 111214,\n",
              " 111227,\n",
              " 111236,\n",
              " 111237,\n",
              " 111269,\n",
              " 111271,\n",
              " 111284,\n",
              " 111294]"
            ]
          },
          "metadata": {},
          "execution_count": 34
        }
      ]
    }
  ]
}