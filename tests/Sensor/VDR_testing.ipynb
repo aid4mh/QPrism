{
 "cells": [
  {
   "cell_type": "markdown",
   "metadata": {},
   "source": [
    "This notebook tests the correctness of VDR using generated data located in data/sensor/generated_testing_data"
   ]
  },
  {
   "cell_type": "code",
   "execution_count": 1,
   "metadata": {},
   "outputs": [],
   "source": [
    "from DQM import DQM_single_file\n",
    "import pandas as pd"
   ]
  },
  {
   "cell_type": "markdown",
   "metadata": {},
   "source": [
    "For a record with no invalid data, VDR should be 1"
   ]
  },
  {
   "cell_type": "code",
   "execution_count": 2,
   "metadata": {},
   "outputs": [
    {
     "name": "stdout",
     "output_type": "stream",
     "text": [
      "   time_s   lw_x   lw_y\n",
      "0    0.01 -0.004  0.945\n",
      "1    0.02 -0.406 -0.379\n",
      "2    0.03 -0.340 -0.918\n",
      "3    0.04 -0.300 -0.156\n",
      "4    0.05 -0.400  0.250\n"
     ]
    }
   ],
   "source": [
    "df = pd.read_csv('/home/lin/Documents/CAMH/QA-module/data/sensor/generated_testing_data/VDR_complete.csv')\n",
    "print(df)"
   ]
  },
  {
   "cell_type": "code",
   "execution_count": 3,
   "metadata": {},
   "outputs": [
    {
     "name": "stdout",
     "output_type": "stream",
     "text": [
      "Start computing the DQM... This may take a long time if the dataset is large\n",
      "The total time for computing the DQM is: 0.03203153610229492 seconds.\n"
     ]
    }
   ],
   "source": [
    "testing_VDR_DQM = DQM_single_file()\n",
    "testing_VDR_DQM.set_input_data(df)\n",
    "testing_VDR_DQM.compute_DQM()"
   ]
  },
  {
   "cell_type": "markdown",
   "metadata": {},
   "source": [
    "The VDR score is 1 as expected"
   ]
  },
  {
   "cell_type": "code",
   "execution_count": 4,
   "metadata": {},
   "outputs": [
    {
     "data": {
      "text/plain": [
       "'1.0'"
      ]
     },
     "execution_count": 4,
     "metadata": {},
     "output_type": "execute_result"
    }
   ],
   "source": [
    "testing_VDR_DQM.get_VDR()"
   ]
  },
  {
   "cell_type": "markdown",
   "metadata": {},
   "source": [
    "For a record with 1 invalid data out of 10, VDR should be 0.9"
   ]
  },
  {
   "cell_type": "code",
   "execution_count": 5,
   "metadata": {},
   "outputs": [
    {
     "name": "stdout",
     "output_type": "stream",
     "text": [
      "   time_s   lw_x   lw_y\n",
      "0    0.01 -0.004  0.945\n",
      "1    0.02 -0.406 -0.379\n",
      "2    0.03 -0.340 -0.918\n",
      "3    0.04    NaN -0.156\n",
      "4    0.05 -0.400  0.250\n"
     ]
    }
   ],
   "source": [
    "df = pd.read_csv('/home/lin/Documents/CAMH/QA-module/data/sensor/generated_testing_data/VDR_0.1_invalid.csv')\n",
    "print(df)"
   ]
  },
  {
   "cell_type": "code",
   "execution_count": 6,
   "metadata": {},
   "outputs": [
    {
     "name": "stdout",
     "output_type": "stream",
     "text": [
      "Start computing the DQM... This may take a long time if the dataset is large\n",
      "The total time for computing the DQM is: 0.02112722396850586 seconds.\n"
     ]
    }
   ],
   "source": [
    "testing_VDR_DQM.set_input_data(df)\n",
    "testing_VDR_DQM.compute_DQM()"
   ]
  },
  {
   "cell_type": "markdown",
   "metadata": {},
   "source": [
    "The VDR score is 0.9 as expected"
   ]
  },
  {
   "cell_type": "code",
   "execution_count": 8,
   "metadata": {},
   "outputs": [
    {
     "data": {
      "text/plain": [
       "'0.9'"
      ]
     },
     "execution_count": 8,
     "metadata": {},
     "output_type": "execute_result"
    }
   ],
   "source": [
    "testing_VDR_DQM.get_VDR()"
   ]
  }
 ],
 "metadata": {
  "kernelspec": {
   "display_name": "Python 3.8.10 64-bit",
   "language": "python",
   "name": "python3"
  },
  "language_info": {
   "codemirror_mode": {
    "name": "ipython",
    "version": 3
   },
   "file_extension": ".py",
   "mimetype": "text/x-python",
   "name": "python",
   "nbconvert_exporter": "python",
   "pygments_lexer": "ipython3",
   "version": "3.8.10"
  },
  "orig_nbformat": 4,
  "vscode": {
   "interpreter": {
    "hash": "916dbcbb3f70747c44a77c7bcd40155683ae19c65e1c03b4aa3499c5328201f1"
   }
  }
 },
 "nbformat": 4,
 "nbformat_minor": 2
}
