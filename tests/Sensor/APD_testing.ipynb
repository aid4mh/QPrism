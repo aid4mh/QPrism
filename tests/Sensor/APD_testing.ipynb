{
 "cells": [
  {
   "cell_type": "markdown",
   "metadata": {},
   "source": [
    "This notebook tests the correctness of APD using a read sensor (accelerometer) data."
   ]
  },
  {
   "cell_type": "code",
   "execution_count": 52,
   "metadata": {},
   "outputs": [],
   "source": [
    "from DQM import DQM_single_file\n",
    "import pandas as pd\n",
    "from load_data import load_data_json_single_file\n",
    "from pipeline_functions.preprocessing import *\n",
    "import matplotlib.pyplot as plt"
   ]
  },
  {
   "cell_type": "markdown",
   "metadata": {},
   "source": [
    "Import the read data, then compute the DQM for it."
   ]
  },
  {
   "cell_type": "code",
   "execution_count": 53,
   "metadata": {},
   "outputs": [
    {
     "name": "stdout",
     "output_type": "stream",
     "text": [
      "                timestamp         x         y         z\n",
      "0     1593961343290000000 -1.484405  8.662222 -4.252102\n",
      "1     1593961343495000000 -1.345541  8.561666 -4.793192\n",
      "2     1593961343708000000 -2.006341  8.595184 -4.841076\n",
      "3     1593961343912000000 -1.855506  8.528147 -4.848259\n",
      "4     1593961344114000000 -0.919373  8.396465 -4.754885\n",
      "...                   ...       ...       ...       ...\n",
      "5237  1593962661392000000  0.883460  5.846641  7.740454\n",
      "5238  1593962661598000000  0.905008  5.786786  7.757214\n",
      "5239  1593962661804000000  0.859518  5.870583  7.539341\n",
      "5240  1593962662009000000  0.864307  5.930438  7.671022\n",
      "5241  1593962662217000000  0.890643  5.872977  7.893683\n",
      "\n",
      "[5242 rows x 4 columns]\n"
     ]
    }
   ],
   "source": [
    "df = load_data_json_single_file('/home/lin/Documents/CAMH/QA-module/data/sensor/json/SUBJ00001_Accelerometer_REC000004.json')\n",
    "print(df)"
   ]
  },
  {
   "cell_type": "code",
   "execution_count": 54,
   "metadata": {},
   "outputs": [
    {
     "name": "stdout",
     "output_type": "stream",
     "text": [
      "Start computing the DQM... This may take a long time if the dataset is large\n",
      "The total time for computing the DQM is: 2.9254097938537598 seconds.\n"
     ]
    }
   ],
   "source": [
    "testing_APD_DQM = DQM_single_file()\n",
    "testing_APD_DQM.set_input_data(df)\n",
    "testing_APD_DQM.compute_DQM()"
   ]
  },
  {
   "cell_type": "markdown",
   "metadata": {},
   "source": [
    "First we get the APD score of the record"
   ]
  },
  {
   "cell_type": "code",
   "execution_count": 55,
   "metadata": {},
   "outputs": [
    {
     "data": {
      "text/plain": [
       "'0.002098435711560473'"
      ]
     },
     "execution_count": 55,
     "metadata": {},
     "output_type": "execute_result"
    }
   ],
   "source": [
    "testing_APD_DQM.get_APD()"
   ]
  },
  {
   "cell_type": "markdown",
   "metadata": {},
   "source": [
    "Now we get the index of the anomaly points."
   ]
  },
  {
   "cell_type": "code",
   "execution_count": 56,
   "metadata": {},
   "outputs": [
    {
     "data": {
      "text/plain": [
       "[649, 675, 1308, 1352, 1431, 1491, 1577, 1704, 2230, 3378, 3648]"
      ]
     },
     "execution_count": 56,
     "metadata": {},
     "output_type": "execute_result"
    }
   ],
   "source": [
    "testing_APD_DQM.get_anomaly_index()"
   ]
  },
  {
   "cell_type": "markdown",
   "metadata": {},
   "source": [
    "The computed APD score should be the lenth of categorized anomaly points divided by the length of the record."
   ]
  },
  {
   "cell_type": "code",
   "execution_count": 57,
   "metadata": {},
   "outputs": [
    {
     "data": {
      "text/plain": [
       "0.002098435711560473"
      ]
     },
     "execution_count": 57,
     "metadata": {},
     "output_type": "execute_result"
    }
   ],
   "source": [
    "len(testing_APD_DQM.get_anomaly_index())/(df.shape[0])"
   ]
  },
  {
   "cell_type": "markdown",
   "metadata": {},
   "source": [
    "Now we justified the correctness of APD score computation, then we show that the computed data points are actually anomaly points."
   ]
  },
  {
   "cell_type": "markdown",
   "metadata": {},
   "source": [
    "First we preprocess the raw data into one-dimension for the visulization. Note that the univariate_value is computed by the multi_var_to_uni function in pipeline_functions/preprocessing.py. Mathemeticallly, it is computed by take the square root of the sum of the square of each column element, i.e.: uni = sqrt(sum((each column)**2))."
   ]
  },
  {
   "cell_type": "code",
   "execution_count": 58,
   "metadata": {},
   "outputs": [
    {
     "name": "stdout",
     "output_type": "stream",
     "text": [
      "0        9.763090\n",
      "1        9.903903\n",
      "2       10.066708\n",
      "3        9.983877\n",
      "4        9.693028\n",
      "          ...    \n",
      "5237     9.740551\n",
      "5238     9.720097\n",
      "5239     9.593966\n",
      "5240     9.734562\n",
      "5241     9.879035\n",
      "Name: univariate_value, Length: 5242, dtype: float64\n"
     ]
    }
   ],
   "source": [
    "feature_names = list(df.keys())\n",
    "feature_names.remove(feature_names[0])\n",
    "record = features_to_float(df, feature_names)\n",
    "record = multi_var_to_uni(record, feature_names)\n",
    "print(record['univariate_value'])"
   ]
  },
  {
   "cell_type": "markdown",
   "metadata": {},
   "source": [
    "Now we visulize the record with the anomaly points highlighted."
   ]
  },
  {
   "cell_type": "code",
   "execution_count": 59,
   "metadata": {},
   "outputs": [
    {
     "name": "stdout",
     "output_type": "stream",
     "text": [
      "[9.870145978173145, 9.845846129293028, 9.84549933849222, 9.86652640641691, 9.792320444556013, 9.854981593826759, 9.972112683726662, 10.03254799298994, 9.826180074642311, 9.88412920873432, 9.802796962557492]\n"
     ]
    },
    {
     "data": {
      "image/png": "[encoded data removed]",
      "text/plain": [
       "<Figure size 432x288 with 1 Axes>"
      ]
     },
     "metadata": {
      "needs_background": "light"
     },
     "output_type": "display_data"
    }
   ],
   "source": [
    "index = [range(record['univariate_value'].shape[0])]\n",
    "plt.scatter(index, record['univariate_value'], color='blue')\n",
    "plt.xlabel('row_index')\n",
    "plt.ylabel('univariable_value')\n",
    "plt.title('Anomaly Points Scatter Plot')\n",
    "anomaly_index = testing_APD_DQM.get_anomaly_index()\n",
    "anomaly_value = []\n",
    "for i in anomaly_index:\n",
    "    anomaly_value.append(record['univariate_value'].iloc[i])\n",
    "plt.scatter(anomaly_index, anomaly_value, color='red')\n",
    "plt.show()"
   ]
  }
 ],
 "metadata": {
  "kernelspec": {
   "display_name": "Python 3.8.10 64-bit",
   "language": "python",
   "name": "python3"
  },
  "language_info": {
   "codemirror_mode": {
    "name": "ipython",
    "version": 3
   },
   "file_extension": ".py",
   "mimetype": "text/x-python",
   "name": "python",
   "nbconvert_exporter": "python",
   "pygments_lexer": "ipython3",
   "version": "3.8.10"
  },
  "orig_nbformat": 4,
  "vscode": {
   "interpreter": {
    "hash": "916dbcbb3f70747c44a77c7bcd40155683ae19c65e1c03b4aa3499c5328201f1"
   }
  }
 },
 "nbformat": 4,
 "nbformat_minor": 2
}
