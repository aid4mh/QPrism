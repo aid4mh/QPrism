{
 "cells": [
  {
   "cell_type": "code",
   "execution_count": 1,
   "metadata": {
    "scrolled": true
   },
   "outputs": [],
   "source": [
    "from DQM import DQM_multiple_file\n",
    "from load_data import *"
   ]
  },
  {
   "cell_type": "markdown",
   "metadata": {},
   "source": [
    "Load a list of sufficient json records and demonstrate the structure of the loaded data. For the original json file data structure, check the provided test data under data/sensor/json in the repo. modules/Sensor/load_data.py provides examples of how to load a json/csv file into this particular structure."
   ]
  },
  {
   "cell_type": "code",
   "execution_count": 2,
   "metadata": {},
   "outputs": [
    {
     "name": "stdout",
     "output_type": "stream",
     "text": [
      "[                timestamp         x         y         z\n",
      "0     1593963206555000000  2.944868  9.244013 -1.522712\n",
      "1     1593963206769000000  3.038242  9.196129 -1.829170\n",
      "2     1593963206973000000  3.059790  9.200917 -1.587356\n",
      "3     1593963207179000000  3.040636  9.203311 -1.539472\n",
      "4     1593963207385000000  3.014300  9.208099 -1.553837\n",
      "...                   ...       ...       ...       ...\n",
      "1062  1593963608699000000 -0.543484  3.928885  8.767567\n",
      "1063  1593963611106000000 -0.454898  3.940856  8.834604\n",
      "1064  1593963611310000000 -0.562637  3.653552  8.968679\n",
      "1065  1593963611518000000 -0.505177  3.612850  8.923190\n",
      "1066  1593963611733000000 -0.445322  3.598485  8.894460\n",
      "\n",
      "[1067 rows x 4 columns],                 timestamp         x         y         z\n",
      "0     1593965108713000000 -0.418985  8.166622 -5.542577\n",
      "1     1593965108914000000 -0.469264  8.145074 -5.604826\n",
      "2     1593965109115000000 -0.490811  8.154651 -5.590461\n",
      "3     1593965109335000000 -0.502782  8.183381 -5.499481\n",
      "4     1593965109539000000 -0.505177  8.190564 -5.379771\n",
      "...                   ...       ...       ...       ...\n",
      "1957  1593965596247000000 -1.824382  9.028535 -3.433285\n",
      "1958  1593965596467000000 -1.769315  9.021352 -3.402161\n",
      "1959  1593965596687000000 -1.704672  9.006987 -3.603274\n",
      "1960  1593965596898000000 -1.460463  9.047688 -3.129222\n",
      "1961  1593965597115000000 -1.726219  9.009381 -3.411737\n",
      "\n",
      "[1962 rows x 4 columns],                 timestamp          x         y          z\n",
      "0     1593968276953000000  -0.387861  3.294421   8.212111\n",
      "1     1593968277172000000  -0.706290  5.561730   6.098032\n",
      "2     1593968277378000000  -0.629675  5.595249   6.926425\n",
      "3     1593968277591000000  -5.078102  5.631162  13.709199\n",
      "4     1593968278539000000   1.314417  4.661511   9.356541\n",
      "...                   ...        ...       ...        ...\n",
      "1949  1593968831358000000  10.591949  9.016563   6.121974\n",
      "1950  1593968831573000000   2.521094  3.014300   1.242591\n",
      "1951  1593968831801000000   4.175488  8.130709   4.465186\n",
      "1952  1593968832010000000   1.754950  6.301539   2.896984\n",
      "1953  1593968832229000000   6.387730  8.485051   6.354211\n",
      "\n",
      "[1954 rows x 4 columns],                timestamp         x         y          z\n",
      "0    1593954057754000000  2.229002  6.114791   5.324705\n",
      "1    1593954058125000000  2.135628  4.283227   6.833052\n",
      "2    1593954058506000000 -1.721431  5.561730  10.201694\n",
      "3    1593954058729000000 -0.220267  5.365406   7.668628\n",
      "4    1593954058937000000 -0.177171  5.130774   8.346188\n",
      "..                   ...       ...       ...        ...\n",
      "440  1593954154639000000 -0.258574  6.212954   7.388506\n",
      "441  1593954154858000000 -0.301669  6.212954   7.378930\n",
      "442  1593954155076000000 -0.275333  6.193800   7.407660\n",
      "443  1593954155276000000 -0.385466  6.205771   7.474698\n",
      "444  1593954155491000000 -0.385466  6.215348   7.129933\n",
      "\n",
      "[445 rows x 4 columns],                 timestamp         x         y         z\n",
      "0     1593965108713000000 -0.418985  8.166622 -5.542577\n",
      "1     1593965108914000000 -0.469264  8.145074 -5.604826\n",
      "2     1593965109115000000 -0.490811  8.154651 -5.590461\n",
      "3     1593965109335000000 -0.502782  8.183381 -5.499481\n",
      "4     1593965109539000000 -0.505177  8.190564 -5.379771\n",
      "...                   ...       ...       ...       ...\n",
      "1957  1593965596247000000 -1.824382  9.028535 -3.433285\n",
      "1958  1593965596467000000 -1.769315  9.021352 -3.402161\n",
      "1959  1593965596687000000 -1.704672  9.006987 -3.603274\n",
      "1960  1593965596898000000 -1.460463  9.047688 -3.129222\n",
      "1961  1593965597115000000 -1.726219  9.009381 -3.411737\n",
      "\n",
      "[1962 rows x 4 columns],                 timestamp          x         y          z\n",
      "0     1593968276953000000  -0.387861  3.294421   8.212111\n",
      "1     1593968277172000000  -0.706290  5.561730   6.098032\n",
      "2     1593968277378000000  -0.629675  5.595249   6.926425\n",
      "3     1593968277591000000  -5.078102  5.631162  13.709199\n",
      "4     1593968278539000000   1.314417  4.661511   9.356541\n",
      "...                   ...        ...       ...        ...\n",
      "1949  1593968831358000000  10.591949  9.016563   6.121974\n",
      "1950  1593968831573000000   2.521094  3.014300   1.242591\n",
      "1951  1593968831801000000   4.175488  8.130709   4.465186\n",
      "1952  1593968832010000000   1.754950  6.301539   2.896984\n",
      "1953  1593968832229000000   6.387730  8.485051   6.354211\n",
      "\n",
      "[1954 rows x 4 columns],                 timestamp         x         y         z\n",
      "0     1593972468340000000 -1.288081  0.746991  5.501875\n",
      "1     1593972468574000000  0.890643  4.254497  7.196970\n",
      "2     1593972468790000000  3.150770  1.999158  7.814674\n",
      "3     1593972468991000000  1.498770  3.818752  3.342306\n",
      "4     1593972469213000000 -0.581791  5.944803  9.967062\n",
      "...                   ...       ...       ...       ...\n",
      "2061  1593974165350000000 -0.090980  0.337582  9.617508\n",
      "2062  1593974165572000000 -0.074220  0.323217  9.622296\n",
      "2063  1593974165772000000 -0.086191  0.318429  9.619903\n",
      "2064  1593974165983000000 -0.081403  0.318429  9.627085\n",
      "2065  1593974166197000000 -0.079009  0.325611  9.627085\n",
      "\n",
      "[2066 rows x 4 columns],                 timestamp         x          y          z\n",
      "0     1593971874412000000 -1.843535   7.187394   7.443573\n",
      "1     1593971874627000000 -9.962274   4.807557   3.069367\n",
      "2     1593971874846000000 -6.813898   3.995923   4.012682\n",
      "3     1593971875064000000 -2.753332   6.452374   6.744466\n",
      "4     1593971875282000000 -3.347094  10.807426   6.095637\n",
      "...                   ...       ...        ...        ...\n",
      "2639  1593972450041000000  3.385401   7.275979   9.368511\n",
      "2640  1593972450257000000  0.284910   4.630386  12.423512\n",
      "2641  1593972450462000000  2.142811   5.279215   3.742137\n",
      "2642  1593972450675000000  1.970428   7.038953   7.481880\n",
      "2643  1593972450893000000  6.313510   5.204995   6.220136\n",
      "\n",
      "[2644 rows x 4 columns],                 timestamp         x          y         z\n",
      "0     1593971244424000000 -0.311246   5.712565  7.802703\n",
      "1     1593971244624000000 -0.421380   5.643134  7.836222\n",
      "2     1593971244840000000 -0.287304   5.714960  8.183381\n",
      "3     1593971245058000000 -0.373495   5.659893  8.149862\n",
      "4     1593971245271000000 -0.227449   5.755661  7.829040\n",
      "...                   ...       ...        ...       ...\n",
      "2782  1593971855221000000 -1.242591   4.376601  6.536170\n",
      "2783  1593971855437000000  4.522647   7.220912  4.960786\n",
      "2784  1593971855655000000  3.794810  10.065224  6.179435\n",
      "2785  1593971855874000000  3.177106   7.934384  8.779537\n",
      "2786  1593971856092000000 -0.691924   4.752491  2.928109\n",
      "\n",
      "[2787 rows x 4 columns],                timestamp         x         y         z\n",
      "0    1593971073415000000 -0.313640  5.863400  7.857770\n",
      "1    1593971073622000000 -0.227449  5.676652  6.912060\n",
      "2    1593971073844000000 -0.763750  5.719748  8.248025\n",
      "3    1593971074044000000  0.454898  5.968745  7.955932\n",
      "4    1593971074256000000 -0.155623  5.899313  8.166622\n",
      "..                   ...       ...       ...       ...\n",
      "189  1593971241944000000 -0.859518  5.631162  7.769185\n",
      "190  1593971242161000000  0.124498  5.882554  8.413225\n",
      "191  1593971242364000000 -0.696713  6.198588  7.290344\n",
      "192  1593971243556000000 -0.028730  5.916072  8.719683\n",
      "193  1593971243766000000 -0.368707  5.750873  7.833828\n",
      "\n",
      "[194 rows x 4 columns],                 timestamp         x         y         z\n",
      "0     1593961343290000000 -1.484405  8.662222 -4.252102\n",
      "1     1593961343495000000 -1.345541  8.561666 -4.793192\n",
      "2     1593961343708000000 -2.006341  8.595184 -4.841076\n",
      "3     1593961343912000000 -1.855506  8.528147 -4.848259\n",
      "4     1593961344114000000 -0.919373  8.396465 -4.754885\n",
      "...                   ...       ...       ...       ...\n",
      "5237  1593962661392000000  0.883460  5.846641  7.740454\n",
      "5238  1593962661598000000  0.905008  5.786786  7.757214\n",
      "5239  1593962661804000000  0.859518  5.870583  7.539341\n",
      "5240  1593962662009000000  0.864307  5.930438  7.671022\n",
      "5241  1593962662217000000  0.890643  5.872977  7.893683\n",
      "\n",
      "[5242 rows x 4 columns],                timestamp         x         y         z\n",
      "0    1593961300097000000 -2.176329  8.549694 -4.436456\n",
      "1    1593961300302000000 -1.776498  8.360553 -4.797980\n",
      "2    1593961300506000000 -1.826776  8.434772 -4.697424\n",
      "3    1593961300713000000 -2.130840  8.477868 -4.601655\n",
      "4    1593961300920000000 -1.977611  8.463503 -4.762067\n",
      "..                   ...       ...       ...       ...\n",
      "200  1593961341850000000 -2.267309  8.640674 -4.256891\n",
      "201  1593961342054000000 -2.147599  8.645462 -4.010288\n",
      "202  1593961342261000000 -2.348712  8.640674 -4.340688\n",
      "203  1593961342468000000 -2.262521  8.635885 -4.118027\n",
      "204  1593961342674000000 -2.669535  8.643068 -4.814740\n",
      "\n",
      "[205 rows x 4 columns], Empty DataFrame\n",
      "Columns: []\n",
      "Index: [],                timestamp         x         y         z\n",
      "0    1593971073415000000 -0.313640  5.863400  7.857770\n",
      "1    1593971073622000000 -0.227449  5.676652  6.912060\n",
      "2    1593971073844000000 -0.763750  5.719748  8.248025\n",
      "3    1593971074044000000  0.454898  5.968745  7.955932\n",
      "4    1593971074256000000 -0.155623  5.899313  8.166622\n",
      "..                   ...       ...       ...       ...\n",
      "189  1593971241944000000 -0.859518  5.631162  7.769185\n",
      "190  1593971242161000000  0.124498  5.882554  8.413225\n",
      "191  1593971242364000000 -0.696713  6.198588  7.290344\n",
      "192  1593971243556000000 -0.028730  5.916072  8.719683\n",
      "193  1593971243766000000 -0.368707  5.750873  7.833828\n",
      "\n",
      "[194 rows x 4 columns],                timestamp         x         y         z\n",
      "0    1593961300097000000 -2.176329  8.549694 -4.436456\n",
      "1    1593961300302000000 -1.776498  8.360553 -4.797980\n",
      "2    1593961300506000000 -1.826776  8.434772 -4.697424\n",
      "3    1593961300713000000 -2.130840  8.477868 -4.601655\n",
      "4    1593961300920000000 -1.977611  8.463503 -4.762067\n",
      "..                   ...       ...       ...       ...\n",
      "200  1593961341850000000 -2.267309  8.640674 -4.256891\n",
      "201  1593961342054000000 -2.147599  8.645462 -4.010288\n",
      "202  1593961342261000000 -2.348712  8.640674 -4.340688\n",
      "203  1593961342468000000 -2.262521  8.635885 -4.118027\n",
      "204  1593961342674000000 -2.669535  8.643068 -4.814740\n",
      "\n",
      "[205 rows x 4 columns],                 timestamp          x         y          z\n",
      "0     1593968276953000000  -0.387861  3.294421   8.212111\n",
      "1     1593968277172000000  -0.706290  5.561730   6.098032\n",
      "2     1593968277378000000  -0.629675  5.595249   6.926425\n",
      "3     1593968277591000000  -5.078102  5.631162  13.709199\n",
      "4     1593968278539000000   1.314417  4.661511   9.356541\n",
      "...                   ...        ...       ...        ...\n",
      "1949  1593968831358000000  10.591949  9.016563   6.121974\n",
      "1950  1593968831573000000   2.521094  3.014300   1.242591\n",
      "1951  1593968831801000000   4.175488  8.130709   4.465186\n",
      "1952  1593968832010000000   1.754950  6.301539   2.896984\n",
      "1953  1593968832229000000   6.387730  8.485051   6.354211\n",
      "\n",
      "[1954 rows x 4 columns],                 timestamp         x         y         z\n",
      "0     1593961343290000000 -1.484405  8.662222 -4.252102\n",
      "1     1593961343495000000 -1.345541  8.561666 -4.793192\n",
      "2     1593961343708000000 -2.006341  8.595184 -4.841076\n",
      "3     1593961343912000000 -1.855506  8.528147 -4.848259\n",
      "4     1593961344114000000 -0.919373  8.396465 -4.754885\n",
      "...                   ...       ...       ...       ...\n",
      "5237  1593962661392000000  0.883460  5.846641  7.740454\n",
      "5238  1593962661598000000  0.905008  5.786786  7.757214\n",
      "5239  1593962661804000000  0.859518  5.870583  7.539341\n",
      "5240  1593962662009000000  0.864307  5.930438  7.671022\n",
      "5241  1593962662217000000  0.890643  5.872977  7.893683\n",
      "\n",
      "[5242 rows x 4 columns]]\n"
     ]
    }
   ],
   "source": [
    "df_list = load_data_json_multi_file('/home/lin/Documents/CAMH/QA-module/data/sensor/json')\n",
    "print(df_list)"
   ]
  },
  {
   "cell_type": "markdown",
   "metadata": {},
   "source": [
    "Create the DQM_multiple_file object, set the input data frame, then compute DQM"
   ]
  },
  {
   "cell_type": "code",
   "execution_count": 3,
   "metadata": {},
   "outputs": [
    {
     "name": "stdout",
     "output_type": "stream",
     "text": [
      "Start computing the DQM... This may take a long time if the dataset is large\n",
      "The total time for computing the DQM is: 16.445945501327515 seconds.\n"
     ]
    }
   ],
   "source": [
    "multi_json_file_dqm = DQM_multiple_file()\n",
    "multi_json_file_dqm.set_input_data(df_list)\n",
    "multi_json_file_dqm.compute_avg_DQM()"
   ]
  },
  {
   "cell_type": "markdown",
   "metadata": {},
   "source": [
    "Get the fields of computed data quality matrix"
   ]
  },
  {
   "cell_type": "code",
   "execution_count": 4,
   "metadata": {},
   "outputs": [
    {
     "data": {
      "text/plain": [
       "['IRLR', 'SNR', 'SCR', 'RLC', 'VRC', 'SRC', 'MDR', 'APD', 'VDR']"
      ]
     },
     "execution_count": 4,
     "metadata": {},
     "output_type": "execute_result"
    }
   ],
   "source": [
    "multi_json_file_dqm.get_avg_fields()"
   ]
  },
  {
   "cell_type": "markdown",
   "metadata": {},
   "source": [
    "Get the computed data quality matrix as a list, each element in the list represents a metric."
   ]
  },
  {
   "cell_type": "code",
   "execution_count": 5,
   "metadata": {},
   "outputs": [
    {
     "data": {
      "text/plain": [
       "['0.9411764705882353',\n",
       " '-2.2764849187263625',\n",
       " '1.0',\n",
       " '0.6111766701110624',\n",
       " '0.6713937097996874',\n",
       " '0.4218179319873303',\n",
       " '0.2447423162562039',\n",
       " '0.013581938407908568',\n",
       " '1.0']"
      ]
     },
     "execution_count": 5,
     "metadata": {},
     "output_type": "execute_result"
    }
   ],
   "source": [
    "multi_json_file_dqm.get_avg_DQM()"
   ]
  },
  {
   "cell_type": "markdown",
   "metadata": {},
   "source": [
    "Get each single metric of the computed DQM as a str"
   ]
  },
  {
   "cell_type": "code",
   "execution_count": 6,
   "metadata": {},
   "outputs": [
    {
     "data": {
      "text/plain": [
       "'0.9411764705882353'"
      ]
     },
     "execution_count": 6,
     "metadata": {},
     "output_type": "execute_result"
    }
   ],
   "source": [
    "multi_json_file_dqm.get_IRLR()"
   ]
  },
  {
   "cell_type": "code",
   "execution_count": 7,
   "metadata": {},
   "outputs": [
    {
     "data": {
      "text/plain": [
       "'-2.2764849187263625'"
      ]
     },
     "execution_count": 7,
     "metadata": {},
     "output_type": "execute_result"
    }
   ],
   "source": [
    "multi_json_file_dqm.get_SNR()"
   ]
  },
  {
   "cell_type": "code",
   "execution_count": 8,
   "metadata": {},
   "outputs": [
    {
     "data": {
      "text/plain": [
       "'1.0'"
      ]
     },
     "execution_count": 8,
     "metadata": {},
     "output_type": "execute_result"
    }
   ],
   "source": [
    "multi_json_file_dqm.get_SCR()"
   ]
  },
  {
   "cell_type": "code",
   "execution_count": 9,
   "metadata": {},
   "outputs": [
    {
     "data": {
      "text/plain": [
       "'0.4218179319873303'"
      ]
     },
     "execution_count": 9,
     "metadata": {},
     "output_type": "execute_result"
    }
   ],
   "source": [
    "multi_json_file_dqm.get_SRC()"
   ]
  },
  {
   "cell_type": "code",
   "execution_count": 10,
   "metadata": {},
   "outputs": [
    {
     "data": {
      "text/plain": [
       "'0.2447423162562039'"
      ]
     },
     "execution_count": 10,
     "metadata": {},
     "output_type": "execute_result"
    }
   ],
   "source": [
    "multi_json_file_dqm.get_MDR()"
   ]
  },
  {
   "cell_type": "code",
   "execution_count": 11,
   "metadata": {},
   "outputs": [
    {
     "data": {
      "text/plain": [
       "'0.013581938407908568'"
      ]
     },
     "execution_count": 11,
     "metadata": {},
     "output_type": "execute_result"
    }
   ],
   "source": [
    "multi_json_file_dqm.get_APD()"
   ]
  },
  {
   "cell_type": "code",
   "execution_count": 12,
   "metadata": {},
   "outputs": [
    {
     "data": {
      "text/plain": [
       "'0.6713937097996874'"
      ]
     },
     "execution_count": 12,
     "metadata": {},
     "output_type": "execute_result"
    }
   ],
   "source": [
    "multi_json_file_dqm.get_VRC()"
   ]
  },
  {
   "cell_type": "code",
   "execution_count": 13,
   "metadata": {},
   "outputs": [
    {
     "data": {
      "text/plain": [
       "'0.6111766701110624'"
      ]
     },
     "execution_count": 13,
     "metadata": {},
     "output_type": "execute_result"
    }
   ],
   "source": [
    "multi_json_file_dqm.get_RLC()"
   ]
  },
  {
   "cell_type": "markdown",
   "metadata": {},
   "source": [
    "Save the computed DQM as a csv file at given path."
   ]
  },
  {
   "cell_type": "code",
   "execution_count": 14,
   "metadata": {},
   "outputs": [
    {
     "name": "stdout",
     "output_type": "stream",
     "text": [
      "Data successfuly saved.\n"
     ]
    }
   ],
   "source": [
    "multi_json_file_dqm.save_avg_DQM_to_file('/home/lin/Documents/CAMH/SenseActivity/data/demo_result_multi_file.csv')"
   ]
  },
  {
   "cell_type": "markdown",
   "metadata": {},
   "source": [
    "Display the saved csv file"
   ]
  },
  {
   "cell_type": "code",
   "execution_count": 16,
   "metadata": {},
   "outputs": [
    {
     "name": "stdout",
     "output_type": "stream",
     "text": [
      "IRLR,SNR,SCR,RLC,VRC,SRC,MDR,APD,VDR\n",
      "\n",
      "0.9411764705882353,-2.2764849187263625,1.0,0.6111766701110624,0.6713937097996874,0.4218179319873303,0.2447423162562039,0.013581938407908568,1.0\n",
      "\n"
     ]
    }
   ],
   "source": [
    "with open(\"/home/lin/Documents/CAMH/SenseActivity/data/demo_result_multi_file.csv\", \"r\") as DQM_csv:\n",
    "    for row in DQM_csv:\n",
    "        print(row)"
   ]
  },
  {
   "cell_type": "markdown",
   "metadata": {},
   "source": [
    "Now we retrieve the individual DQMs"
   ]
  },
  {
   "cell_type": "code",
   "execution_count": 17,
   "metadata": {},
   "outputs": [
    {
     "name": "stdout",
     "output_type": "stream",
     "text": [
      "Start computing the DQM... This may take a long time if the dataset is large\n",
      "The total time for computing the DQM is: 16.491915941238403 seconds.\n"
     ]
    }
   ],
   "source": [
    "multi_json_file_dqm.compute_individual_DQM()"
   ]
  },
  {
   "cell_type": "code",
   "execution_count": 18,
   "metadata": {},
   "outputs": [
    {
     "data": {
      "text/plain": [
       "['IRLR', 'SNR', 'SRC', 'MDR', 'APD', 'VDR']"
      ]
     },
     "execution_count": 18,
     "metadata": {},
     "output_type": "execute_result"
    }
   ],
   "source": [
    "multi_json_file_dqm.get_individual_fields()"
   ]
  },
  {
   "cell_type": "markdown",
   "metadata": {},
   "source": [
    "Now the returned list represents a list of DQMs, each element for a corresponding record in the input data list."
   ]
  },
  {
   "cell_type": "code",
   "execution_count": 19,
   "metadata": {},
   "outputs": [
    {
     "data": {
      "text/plain": [
       "[['1',\n",
       "  '-2.5443294444725577',\n",
       "  '1.0',\n",
       "  '0.21887748986956956',\n",
       "  '0.42696025778732544',\n",
       "  '0.004686035613870665'],\n",
       " ['1',\n",
       "  '-2.1372237098572295',\n",
       "  '1.0',\n",
       "  '0.6597869045768825',\n",
       "  '0.11221719457013575',\n",
       "  '0.013761467889908258'],\n",
       " ['1',\n",
       "  '-2.425568247528492',\n",
       "  '1.0',\n",
       "  '0.22998553798698063',\n",
       "  '0.21399839098954143',\n",
       "  '0.007676560900716479'],\n",
       " ['1',\n",
       "  '-3.096340603605768',\n",
       "  '1.0',\n",
       "  '0.9011216710642995',\n",
       "  '0.013303769401330377',\n",
       "  '0.02696629213483146'],\n",
       " ['1',\n",
       "  '-2.1372237098572295',\n",
       "  '1.0',\n",
       "  '0.6597869045768825',\n",
       "  '0.11221719457013575',\n",
       "  '0.014271151885830785'],\n",
       " ['1',\n",
       "  '-2.425568247528492',\n",
       "  '1.0',\n",
       "  '0.22998553798698063',\n",
       "  '0.21399839098954143',\n",
       "  '0.011770726714431934'],\n",
       " ['1',\n",
       "  '-1.865302738232099',\n",
       "  '1.0',\n",
       "  '3.6927333790792716e-07',\n",
       "  '0.734890286154241',\n",
       "  '0.009196515004840271'],\n",
       " ['1',\n",
       "  '-2.623577265481869',\n",
       "  '1.0',\n",
       "  '0.9209837701144623',\n",
       "  '0.006015037593984963',\n",
       "  '0.023449319213313162'],\n",
       " ['1',\n",
       "  '-2.6345095072869413',\n",
       "  '1.0',\n",
       "  '0.853564399886102',\n",
       "  '0.014149274849663955',\n",
       "  '0.019734481521349122'],\n",
       " ['1',\n",
       "  '-1.6358899797539834',\n",
       "  '1.0',\n",
       "  '0.0008434478296908132',\n",
       "  '0.7531806615776081',\n",
       "  '0.030927835051546393'],\n",
       " ['1',\n",
       "  '-1.8544629444980452',\n",
       "  '1.0',\n",
       "  '0.011961611519057058',\n",
       "  '0.1642219387755102',\n",
       "  '0.002098435711560473'],\n",
       " ['1',\n",
       "  '-2.5639205648692864',\n",
       "  '1.0',\n",
       "  '0.9096993348886553',\n",
       "  '0.00966183574879227',\n",
       "  '0.004878048780487805'],\n",
       " ['1',\n",
       "  '-1.6358899797539834',\n",
       "  '1.0',\n",
       "  '0.0008434478296908132',\n",
       "  '0.7531806615776081',\n",
       "  '0.03608247422680412'],\n",
       " ['1',\n",
       "  '-2.5639205648692864',\n",
       "  '1.0',\n",
       "  '0.9096993348886553',\n",
       "  '0.00966183574879227',\n",
       "  '0.00975609756097561'],\n",
       " ['1',\n",
       "  '-2.425568247528492',\n",
       "  '1.0',\n",
       "  '0.22998553798698063',\n",
       "  '0.21399839098954143',\n",
       "  '0.011770726714431934'],\n",
       " ['1',\n",
       "  '-1.8544629444980452',\n",
       "  '1.0',\n",
       "  '0.011961611519057058',\n",
       "  '0.1642219387755102',\n",
       "  '0.002098435711560473']]"
      ]
     },
     "execution_count": 19,
     "metadata": {},
     "output_type": "execute_result"
    }
   ],
   "source": [
    "multi_json_file_dqm.get_individual_DQM()"
   ]
  },
  {
   "cell_type": "markdown",
   "metadata": {},
   "source": [
    "Save the list of DQMs to csv file "
   ]
  },
  {
   "cell_type": "code",
   "execution_count": 20,
   "metadata": {},
   "outputs": [
    {
     "name": "stdout",
     "output_type": "stream",
     "text": [
      "Data successfuly saved.\n"
     ]
    }
   ],
   "source": [
    "multi_json_file_dqm.save_individual_DQM_to_file(\"/home/lin/Documents/CAMH/SenseActivity/data/demo_result_multi_file_individual.csv\")"
   ]
  },
  {
   "cell_type": "markdown",
   "metadata": {},
   "source": [
    "Display the saved csv file."
   ]
  },
  {
   "cell_type": "code",
   "execution_count": 21,
   "metadata": {},
   "outputs": [
    {
     "name": "stdout",
     "output_type": "stream",
     "text": [
      "IRLR,SNR,SRC,MDR,APD,VDR\n",
      "\n",
      "1,-2.5443294444725577,1.0,0.21887748986956956,0.42696025778732544,0.004686035613870665\n",
      "\n",
      "1,-2.1372237098572295,1.0,0.6597869045768825,0.11221719457013575,0.013761467889908258\n",
      "\n",
      "1,-2.425568247528492,1.0,0.22998553798698063,0.21399839098954143,0.007676560900716479\n",
      "\n",
      "1,-3.096340603605768,1.0,0.9011216710642995,0.013303769401330377,0.02696629213483146\n",
      "\n",
      "1,-2.1372237098572295,1.0,0.6597869045768825,0.11221719457013575,0.014271151885830785\n",
      "\n",
      "1,-2.425568247528492,1.0,0.22998553798698063,0.21399839098954143,0.011770726714431934\n",
      "\n",
      "1,-1.865302738232099,1.0,3.6927333790792716e-07,0.734890286154241,0.009196515004840271\n",
      "\n",
      "1,-2.623577265481869,1.0,0.9209837701144623,0.006015037593984963,0.023449319213313162\n",
      "\n",
      "1,-2.6345095072869413,1.0,0.853564399886102,0.014149274849663955,0.019734481521349122\n",
      "\n",
      "1,-1.6358899797539834,1.0,0.0008434478296908132,0.7531806615776081,0.030927835051546393\n",
      "\n",
      "1,-1.8544629444980452,1.0,0.011961611519057058,0.1642219387755102,0.002098435711560473\n",
      "\n",
      "1,-2.5639205648692864,1.0,0.9096993348886553,0.00966183574879227,0.004878048780487805\n",
      "\n",
      "1,-1.6358899797539834,1.0,0.0008434478296908132,0.7531806615776081,0.03608247422680412\n",
      "\n",
      "1,-2.5639205648692864,1.0,0.9096993348886553,0.00966183574879227,0.00975609756097561\n",
      "\n",
      "1,-2.425568247528492,1.0,0.22998553798698063,0.21399839098954143,0.011770726714431934\n",
      "\n",
      "1,-1.8544629444980452,1.0,0.011961611519057058,0.1642219387755102,0.002098435711560473\n",
      "\n"
     ]
    }
   ],
   "source": [
    "with open(\"/home/lin/Documents/CAMH/SenseActivity/data/demo_result_multi_file_individual.csv\", \"r\") as DQM_csv:\n",
    "    for row in DQM_csv:\n",
    "        print(row)"
   ]
  },
  {
   "cell_type": "markdown",
   "metadata": {},
   "source": [
    "Set SNR to be not included in DQM"
   ]
  },
  {
   "cell_type": "code",
   "execution_count": 22,
   "metadata": {},
   "outputs": [],
   "source": [
    "multi_json_file_dqm.set_SNR(False)"
   ]
  },
  {
   "cell_type": "markdown",
   "metadata": {},
   "source": [
    "Compute and get the updated DQM, now SNR should not be included in DQM."
   ]
  },
  {
   "cell_type": "code",
   "execution_count": 23,
   "metadata": {},
   "outputs": [
    {
     "name": "stdout",
     "output_type": "stream",
     "text": [
      "Start computing the DQM... This may take a long time if the dataset is large\n",
      "The total time for computing the DQM is: 16.451045751571655 seconds.\n"
     ]
    }
   ],
   "source": [
    "multi_json_file_dqm.compute_avg_DQM()"
   ]
  },
  {
   "cell_type": "code",
   "execution_count": 24,
   "metadata": {},
   "outputs": [
    {
     "data": {
      "text/plain": [
       "['IRLR', 'SCR', 'RLC', 'VRC', 'SRC', 'MDR', 'APD', 'VDR']"
      ]
     },
     "execution_count": 24,
     "metadata": {},
     "output_type": "execute_result"
    }
   ],
   "source": [
    "multi_json_file_dqm.get_avg_fields()"
   ]
  },
  {
   "cell_type": "code",
   "execution_count": null,
   "metadata": {},
   "outputs": [],
   "source": [
    "multi_json_file_dqm.get_avg_DQM()"
   ]
  },
  {
   "cell_type": "markdown",
   "metadata": {},
   "source": [
    "Now get_SNR should not be called"
   ]
  },
  {
   "cell_type": "code",
   "execution_count": null,
   "metadata": {},
   "outputs": [],
   "source": [
    "multi_json_file_dqm.get_SNR()"
   ]
  },
  {
   "cell_type": "markdown",
   "metadata": {},
   "source": [
    "Note that you can set any metrics except IRLR to be not included as above."
   ]
  },
  {
   "cell_type": "markdown",
   "metadata": {},
   "source": [
    "For an empty record that cannot be loaded without error, load it as an empty data frame instead."
   ]
  },
  {
   "cell_type": "markdown",
   "metadata": {},
   "source": [
    "Now load a list csv sensor data, similarly, you can check modules/Sensor/load_data.py for the code that loads the csv into this structure"
   ]
  },
  {
   "cell_type": "code",
   "execution_count": null,
   "metadata": {},
   "outputs": [],
   "source": [
    "df_list = load_data_csv_multi_file('/home/lin/Documents/CAMH/QA-module/data/sensor/csv')\n",
    "print(df_list)"
   ]
  },
  {
   "cell_type": "markdown",
   "metadata": {},
   "source": [
    "Compute the DQM"
   ]
  },
  {
   "cell_type": "code",
   "execution_count": null,
   "metadata": {},
   "outputs": [],
   "source": [
    "multi_csv_file_dqm = DQM_multiple_file()\n",
    "multi_csv_file_dqm.set_input_data(df_list)\n",
    "multi_csv_file_dqm.compute_DQM()\n"
   ]
  },
  {
   "cell_type": "markdown",
   "metadata": {},
   "source": [
    "Output the results"
   ]
  },
  {
   "cell_type": "code",
   "execution_count": null,
   "metadata": {},
   "outputs": [],
   "source": [
    "multi_csv_file_dqm.get_fields()"
   ]
  },
  {
   "cell_type": "code",
   "execution_count": null,
   "metadata": {},
   "outputs": [],
   "source": [
    "multi_csv_file_dqm.get_DQM()"
   ]
  }
 ],
 "metadata": {
  "kernelspec": {
   "display_name": "Python 3",
   "language": "python",
   "name": "python3"
  },
  "language_info": {
   "codemirror_mode": {
    "name": "ipython",
    "version": 3
   },
   "file_extension": ".py",
   "mimetype": "text/x-python",
   "name": "python",
   "nbconvert_exporter": "python",
   "pygments_lexer": "ipython3",
   "version": "3.8.10"
  },
  "vscode": {
   "interpreter": {
    "hash": "916dbcbb3f70747c44a77c7bcd40155683ae19c65e1c03b4aa3499c5328201f1"
   }
  }
 },
 "nbformat": 4,
 "nbformat_minor": 4
}
