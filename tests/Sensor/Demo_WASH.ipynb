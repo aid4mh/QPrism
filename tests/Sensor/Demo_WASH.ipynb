{
 "cells": [
  {
   "cell_type": "code",
   "execution_count": 1,
   "metadata": {
    "scrolled": true
   },
   "outputs": [],
   "source": [
    "from DQM import DQM"
   ]
  },
  {
   "cell_type": "markdown",
   "metadata": {},
   "source": [
    "Create a DQM object, set input path of the dataset, then compute DQM"
   ]
  },
  {
   "cell_type": "code",
   "execution_count": 3,
   "metadata": {},
   "outputs": [
    {
     "name": "stdout",
     "output_type": "stream",
     "text": [
      "Loading data...\n",
      "The total time for loading data into dataframe is: 0.7262227535247803 seconds.\n",
      "Start computing the DQM... This may take a long time if the dataset is large\n",
      "The total time for computing the DQM is: 30.223211765289307 seconds.\n"
     ]
    }
   ],
   "source": [
    "dqm_obj = DQM()\n",
    "dqm_obj.set_input_path('/home/lin/Documents/CAMH/SenseActivity/data/Test')\n",
    "dqm_obj.compute_DQM()"
   ]
  },
  {
   "cell_type": "markdown",
   "metadata": {},
   "source": [
    "Get the fields of computed data quality matrix"
   ]
  },
  {
   "cell_type": "code",
   "execution_count": 4,
   "metadata": {},
   "outputs": [
    {
     "data": {
      "text/plain": [
       "['userID', 'IRLR', 'RLC', 'SNR', 'VRC', 'SCR', 'SRC', 'MDR', 'APD']"
      ]
     },
     "execution_count": 4,
     "metadata": {},
     "output_type": "execute_result"
    }
   ],
   "source": [
    "dqm_obj.get_fields()"
   ]
  },
  {
   "cell_type": "markdown",
   "metadata": {},
   "source": [
    "Get the computed data quality matrix as a list, each element in the list represents a user."
   ]
  },
  {
   "cell_type": "code",
   "execution_count": 5,
   "metadata": {},
   "outputs": [
    {
     "data": {
      "text/plain": [
       "[['743d552e-205a-4946-964b-a4dcd2c1cc40',\n",
       "  '1.0',\n",
       "  '0.8299053175352741',\n",
       "  '-8.17917961689028',\n",
       "  '0.9155528757514888',\n",
       "  '1.0',\n",
       "  '0.47236867360321033',\n",
       "  '0.08363162041785735',\n",
       "  '0.03795845358345358'],\n",
       " ['74489c15-8603-4ded-8c0f-76b738399f66',\n",
       "  '1.0',\n",
       "  '0.3615970656316115',\n",
       "  '-3.915088177621057',\n",
       "  '0.5012018717845714',\n",
       "  '1.0',\n",
       "  '0.17436946953969432',\n",
       "  '0.7991664116005435',\n",
       "  '0.021436971473215046'],\n",
       " ['f31de31b-fc5c-495f-b3e6-2ceb4500d892',\n",
       "  '0.9142857142857143',\n",
       "  '0.7904970354502113',\n",
       "  '-3.0060619489758964',\n",
       "  '0.7995080213031646',\n",
       "  '1.0',\n",
       "  '0.6085062141062153',\n",
       "  '0.07920100780078358',\n",
       "  '0.011908523472961667'],\n",
       " ['f33336fe-f90f-4617-9845-0a4ee5e3a2a5',\n",
       "  '0.9811320754716981',\n",
       "  '0.7822540816060561',\n",
       "  '-2.545686490962351',\n",
       "  '0.834558971402084',\n",
       "  '1.0',\n",
       "  '0.03677411543597855',\n",
       "  '0.5962060570739147',\n",
       "  '0.01611336982387427'],\n",
       " ['f3329a6a-bcd0-4e9d-8639-8c235e2fc096',\n",
       "  '0.33333333333333337',\n",
       "  '1.0',\n",
       "  '-2.734696839285777',\n",
       "  '1.0',\n",
       "  '1.0',\n",
       "  '0.004591707786194776',\n",
       "  '0.7007137902949787',\n",
       "  '0.01282051282051282'],\n",
       " ['f35b43b1-f391-48ae-8717-93e200563785',\n",
       "  '1.0',\n",
       "  '0.6798895837740864',\n",
       "  '-1.0368389109870135',\n",
       "  '0.9240739505995481',\n",
       "  '1.0',\n",
       "  '0.6312871768816419',\n",
       "  '0.22102586993465498',\n",
       "  '0.010473047551699238']]"
      ]
     },
     "execution_count": 5,
     "metadata": {},
     "output_type": "execute_result"
    }
   ],
   "source": [
    "dqm_obj.get_DQM()"
   ]
  },
  {
   "cell_type": "markdown",
   "metadata": {},
   "source": [
    "Get each single metric of the computed DQM as a dict of {userID: userScore}"
   ]
  },
  {
   "cell_type": "code",
   "execution_count": 6,
   "metadata": {},
   "outputs": [
    {
     "data": {
      "text/plain": [
       "{'743d552e-205a-4946-964b-a4dcd2c1cc40': '1.0',\n",
       " '74489c15-8603-4ded-8c0f-76b738399f66': '1.0',\n",
       " 'f31de31b-fc5c-495f-b3e6-2ceb4500d892': '0.9142857142857143',\n",
       " 'f33336fe-f90f-4617-9845-0a4ee5e3a2a5': '0.9811320754716981',\n",
       " 'f3329a6a-bcd0-4e9d-8639-8c235e2fc096': '0.33333333333333337',\n",
       " 'f35b43b1-f391-48ae-8717-93e200563785': '1.0'}"
      ]
     },
     "execution_count": 6,
     "metadata": {},
     "output_type": "execute_result"
    }
   ],
   "source": [
    "dqm_obj.get_IRLR()"
   ]
  },
  {
   "cell_type": "code",
   "execution_count": 7,
   "metadata": {},
   "outputs": [
    {
     "data": {
      "text/plain": [
       "{'743d552e-205a-4946-964b-a4dcd2c1cc40': '0.8299053175352741',\n",
       " '74489c15-8603-4ded-8c0f-76b738399f66': '0.3615970656316115',\n",
       " 'f31de31b-fc5c-495f-b3e6-2ceb4500d892': '0.7904970354502113',\n",
       " 'f33336fe-f90f-4617-9845-0a4ee5e3a2a5': '0.7822540816060561',\n",
       " 'f3329a6a-bcd0-4e9d-8639-8c235e2fc096': '1.0',\n",
       " 'f35b43b1-f391-48ae-8717-93e200563785': '0.6798895837740864'}"
      ]
     },
     "execution_count": 7,
     "metadata": {},
     "output_type": "execute_result"
    }
   ],
   "source": [
    "dqm_obj.get_RLC()"
   ]
  },
  {
   "cell_type": "code",
   "execution_count": 8,
   "metadata": {},
   "outputs": [
    {
     "data": {
      "text/plain": [
       "{'743d552e-205a-4946-964b-a4dcd2c1cc40': '-8.17917961689028',\n",
       " '74489c15-8603-4ded-8c0f-76b738399f66': '-3.915088177621057',\n",
       " 'f31de31b-fc5c-495f-b3e6-2ceb4500d892': '-3.0060619489758964',\n",
       " 'f33336fe-f90f-4617-9845-0a4ee5e3a2a5': '-2.545686490962351',\n",
       " 'f3329a6a-bcd0-4e9d-8639-8c235e2fc096': '-2.734696839285777',\n",
       " 'f35b43b1-f391-48ae-8717-93e200563785': '-1.0368389109870135'}"
      ]
     },
     "execution_count": 8,
     "metadata": {},
     "output_type": "execute_result"
    }
   ],
   "source": [
    "dqm_obj.get_SNR()"
   ]
  },
  {
   "cell_type": "code",
   "execution_count": 9,
   "metadata": {},
   "outputs": [
    {
     "data": {
      "text/plain": [
       "{'743d552e-205a-4946-964b-a4dcd2c1cc40': '0.9155528757514888',\n",
       " '74489c15-8603-4ded-8c0f-76b738399f66': '0.5012018717845714',\n",
       " 'f31de31b-fc5c-495f-b3e6-2ceb4500d892': '0.7995080213031646',\n",
       " 'f33336fe-f90f-4617-9845-0a4ee5e3a2a5': '0.834558971402084',\n",
       " 'f3329a6a-bcd0-4e9d-8639-8c235e2fc096': '1.0',\n",
       " 'f35b43b1-f391-48ae-8717-93e200563785': '0.9240739505995481'}"
      ]
     },
     "execution_count": 9,
     "metadata": {},
     "output_type": "execute_result"
    }
   ],
   "source": [
    "dqm_obj.get_VRC()"
   ]
  },
  {
   "cell_type": "code",
   "execution_count": 10,
   "metadata": {},
   "outputs": [
    {
     "data": {
      "text/plain": [
       "{'743d552e-205a-4946-964b-a4dcd2c1cc40': '1.0',\n",
       " '74489c15-8603-4ded-8c0f-76b738399f66': '1.0',\n",
       " 'f31de31b-fc5c-495f-b3e6-2ceb4500d892': '1.0',\n",
       " 'f33336fe-f90f-4617-9845-0a4ee5e3a2a5': '1.0',\n",
       " 'f3329a6a-bcd0-4e9d-8639-8c235e2fc096': '1.0',\n",
       " 'f35b43b1-f391-48ae-8717-93e200563785': '1.0'}"
      ]
     },
     "execution_count": 10,
     "metadata": {},
     "output_type": "execute_result"
    }
   ],
   "source": [
    "dqm_obj.get_SCR()"
   ]
  },
  {
   "cell_type": "code",
   "execution_count": 11,
   "metadata": {},
   "outputs": [
    {
     "data": {
      "text/plain": [
       "{'743d552e-205a-4946-964b-a4dcd2c1cc40': '0.47236867360321033',\n",
       " '74489c15-8603-4ded-8c0f-76b738399f66': '0.17436946953969432',\n",
       " 'f31de31b-fc5c-495f-b3e6-2ceb4500d892': '0.6085062141062153',\n",
       " 'f33336fe-f90f-4617-9845-0a4ee5e3a2a5': '0.03677411543597855',\n",
       " 'f3329a6a-bcd0-4e9d-8639-8c235e2fc096': '0.004591707786194776',\n",
       " 'f35b43b1-f391-48ae-8717-93e200563785': '0.6312871768816419'}"
      ]
     },
     "execution_count": 11,
     "metadata": {},
     "output_type": "execute_result"
    }
   ],
   "source": [
    "dqm_obj.get_SRC()"
   ]
  },
  {
   "cell_type": "code",
   "execution_count": 12,
   "metadata": {},
   "outputs": [
    {
     "data": {
      "text/plain": [
       "{'743d552e-205a-4946-964b-a4dcd2c1cc40': '0.08363162041785735',\n",
       " '74489c15-8603-4ded-8c0f-76b738399f66': '0.7991664116005435',\n",
       " 'f31de31b-fc5c-495f-b3e6-2ceb4500d892': '0.07920100780078358',\n",
       " 'f33336fe-f90f-4617-9845-0a4ee5e3a2a5': '0.5962060570739147',\n",
       " 'f3329a6a-bcd0-4e9d-8639-8c235e2fc096': '0.7007137902949787',\n",
       " 'f35b43b1-f391-48ae-8717-93e200563785': '0.22102586993465498'}"
      ]
     },
     "execution_count": 12,
     "metadata": {},
     "output_type": "execute_result"
    }
   ],
   "source": [
    "dqm_obj.get_MDR()"
   ]
  },
  {
   "cell_type": "code",
   "execution_count": 13,
   "metadata": {},
   "outputs": [
    {
     "data": {
      "text/plain": [
       "{'743d552e-205a-4946-964b-a4dcd2c1cc40': '0.03795845358345358',\n",
       " '74489c15-8603-4ded-8c0f-76b738399f66': '0.021436971473215046',\n",
       " 'f31de31b-fc5c-495f-b3e6-2ceb4500d892': '0.011908523472961667',\n",
       " 'f33336fe-f90f-4617-9845-0a4ee5e3a2a5': '0.01611336982387427',\n",
       " 'f3329a6a-bcd0-4e9d-8639-8c235e2fc096': '0.01282051282051282',\n",
       " 'f35b43b1-f391-48ae-8717-93e200563785': '0.010473047551699238'}"
      ]
     },
     "execution_count": 13,
     "metadata": {},
     "output_type": "execute_result"
    }
   ],
   "source": [
    "dqm_obj.get_APD()"
   ]
  },
  {
   "cell_type": "markdown",
   "metadata": {},
   "source": [
    "Save the computed DQM as a csv file at given path."
   ]
  },
  {
   "cell_type": "code",
   "execution_count": 14,
   "metadata": {},
   "outputs": [
    {
     "name": "stdout",
     "output_type": "stream",
     "text": [
      "Data successfuly saved.\n"
     ]
    }
   ],
   "source": [
    "dqm_obj.save_to_file('/home/lin/Documents/CAMH/SenseActivity/data/demo_result.csv')"
   ]
  },
  {
   "cell_type": "markdown",
   "metadata": {},
   "source": [
    "Display the saved csv file."
   ]
  },
  {
   "cell_type": "code",
   "execution_count": 18,
   "metadata": {},
   "outputs": [
    {
     "name": "stdout",
     "output_type": "stream",
     "text": [
      "userID,IRLR,RLC,SNR,VRC,SCR,SRC,MDR,APD\n",
      "\n",
      "743d552e-205a-4946-964b-a4dcd2c1cc40,1.0,0.8299053175352741,-8.17917961689028,0.9155528757514888,1.0,0.47236867360321033,0.08363162041785735,0.03795845358345358\n",
      "\n",
      "74489c15-8603-4ded-8c0f-76b738399f66,1.0,0.3615970656316115,-3.915088177621057,0.5012018717845714,1.0,0.17436946953969432,0.7991664116005435,0.021436971473215046\n",
      "\n",
      "f31de31b-fc5c-495f-b3e6-2ceb4500d892,0.9142857142857143,0.7904970354502113,-3.0060619489758964,0.7995080213031646,1.0,0.6085062141062153,0.07920100780078358,0.011908523472961667\n",
      "\n",
      "f33336fe-f90f-4617-9845-0a4ee5e3a2a5,0.9811320754716981,0.7822540816060561,-2.545686490962351,0.834558971402084,1.0,0.03677411543597855,0.5962060570739147,0.01611336982387427\n",
      "\n",
      "f3329a6a-bcd0-4e9d-8639-8c235e2fc096,0.33333333333333337,1.0,-2.734696839285777,1.0,1.0,0.004591707786194776,0.7007137902949787,0.01282051282051282\n",
      "\n",
      "f35b43b1-f391-48ae-8717-93e200563785,1.0,0.6798895837740864,-1.0368389109870135,0.9240739505995481,1.0,0.6312871768816419,0.22102586993465498,0.010473047551699238\n",
      "\n"
     ]
    }
   ],
   "source": [
    "with open(\"/home/lin/Documents/CAMH/SenseActivity/data/demo_result.csv\", \"r\") as DQM_csv:\n",
    "    for row in DQM_csv:\n",
    "        print(row)"
   ]
  }
 ],
 "metadata": {
  "kernelspec": {
   "display_name": "Python 3",
   "language": "python",
   "name": "python3"
  },
  "language_info": {
   "codemirror_mode": {
    "name": "ipython",
    "version": 3
   },
   "file_extension": ".py",
   "mimetype": "text/x-python",
   "name": "python",
   "nbconvert_exporter": "python",
   "pygments_lexer": "ipython3",
   "version": "3.8.10"
  }
 },
 "nbformat": 4,
 "nbformat_minor": 4
}
