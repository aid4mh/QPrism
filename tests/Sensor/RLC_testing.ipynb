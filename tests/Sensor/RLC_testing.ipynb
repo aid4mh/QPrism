{
  "nbformat": 4,
  "nbformat_minor": 0,
  "metadata": {
    "colab": {
      "name": "Copy of single_file_Demo.ipynb",
      "provenance": [],
      "collapsed_sections": [],
      "authorship_tag": "ABX9TyM3gsQpDRAmVoyaNrYXBXoQ",
      "include_colab_link": true
    },
    "kernelspec": {
      "name": "python3",
      "display_name": "Python 3"
    },
    "language_info": {
      "name": "python"
    },
    "accelerator": "GPU",
    "gpuClass": "standard"
  },
  "cells": [
    {
      "cell_type": "markdown",
      "metadata": {
        "id": "view-in-github",
        "colab_type": "text"
      },
      "source": [
        "<a href=\"https://colab.research.google.com/github/aid4mh/QPrism/blob/main/tests/Sensor/RLC_testing.ipynb\" target=\"_parent\"><img src=\"https://colab.research.google.com/assets/colab-badge.svg\" alt=\"Open In Colab\"/></a>"
      ]
    },
    {
      "cell_type": "markdown",
      "source": [
        "#This notebook tests the correctness of RLC using the generated data from [here](https://github.com/aid4mh/QPrism/tree/main/data/sensor/generated_testing_data)."
      ],
      "metadata": {
        "id": "9cTuxXa_N7nm"
      }
    },
    {
      "cell_type": "code",
      "execution_count": 1,
      "metadata": {
        "id": "TsLMcFWy4lFc",
        "colab": {
          "base_uri": "https://localhost:8080/"
        },
        "outputId": "8eb6f99e-6ee2-4d08-e70a-64fc129e79b8"
      },
      "outputs": [
        {
          "output_type": "stream",
          "name": "stdout",
          "text": [
            "Looking in indexes: https://pypi.org/simple, https://us-python.pkg.dev/colab-wheels/public/simple/\n",
            "Requirement already satisfied: pip in /usr/local/lib/python3.7/dist-packages (21.1.3)\n",
            "Collecting pip\n",
            "  Downloading pip-22.2.2-py3-none-any.whl (2.0 MB)\n",
            "\u001b[K     |████████████████████████████████| 2.0 MB 30.9 MB/s \n",
            "\u001b[?25hInstalling collected packages: pip\n",
            "  Attempting uninstall: pip\n",
            "    Found existing installation: pip 21.1.3\n",
            "    Uninstalling pip-21.1.3:\n",
            "      Successfully uninstalled pip-21.1.3\n",
            "Successfully installed pip-22.2.2\n"
          ]
        }
      ],
      "source": [
        "! python3 -m pip install --upgrade pip"
      ]
    },
    {
      "cell_type": "markdown",
      "source": [
        "#Install the dependencies and QPrism"
      ],
      "metadata": {
        "id": "J7iYiUIHxxZP"
      }
    },
    {
      "cell_type": "code",
      "source": [
        "! pip install -r https://raw.githubusercontent.com/aid4mh/QPrism/main/requirements.txt"
      ],
      "metadata": {
        "id": "vp6NbBaoxzxw"
      },
      "execution_count": null,
      "outputs": []
    },
    {
      "cell_type": "code",
      "source": [
        "! pip install --no-deps QPrism"
      ],
      "metadata": {
        "id": "6EkTzyu07_y-",
        "colab": {
          "base_uri": "https://localhost:8080/"
        },
        "outputId": "007fe48f-3538-44d7-fe48-62be51de56b5"
      },
      "execution_count": 34,
      "outputs": [
        {
          "output_type": "stream",
          "name": "stdout",
          "text": [
            "Looking in indexes: https://pypi.org/simple, https://us-python.pkg.dev/colab-wheels/public/simple/\n",
            "Requirement already satisfied: QPrism in /usr/local/lib/python3.7/dist-packages (0.2.7)\n",
            "\u001b[33mWARNING: Running pip as the 'root' user can result in broken permissions and conflicting behaviour with the system package manager. It is recommended to use a virtual environment instead: https://pip.pypa.io/warnings/venv\u001b[0m\u001b[33m\n",
            "\u001b[0m"
          ]
        }
      ]
    },
    {
      "cell_type": "code",
      "source": [
        "from QPrism.Sensor.DQM import DQM_multiple_record\n",
        "from QPrism.Sensor.load_data import *"
      ],
      "metadata": {
        "id": "ddgvt-pT9RBJ"
      },
      "execution_count": 83,
      "outputs": []
    },
    {
      "cell_type": "markdown",
      "source": [
        "#For two records both have 3 rows of data, RLC should be 1.."
      ],
      "metadata": {
        "id": "MZLDOoHDDjmc"
      }
    },
    {
      "cell_type": "code",
      "source": [
        "import pandas as pd\n",
        "\n",
        "df_list = []\n",
        "df_list.append(pd.read_csv(\"https://raw.githubusercontent.com/aid4mh/QPrism/main/data/sensor/generated_testing_data/RLC_3_rows_1.csv\"))\n",
        "df_list.append(pd.read_csv(\"https://raw.githubusercontent.com/aid4mh/QPrism/main/data/sensor/generated_testing_data/RLC_3_rows_1.csv\"))\n",
        "for df in df_list:\n",
        "    print(df)"
      ],
      "metadata": {
        "colab": {
          "base_uri": "https://localhost:8080/"
        },
        "id": "G_hzZ30lBSx0",
        "outputId": "a648d197-8203-49b8-d4c8-80d7fe7bfef1"
      },
      "execution_count": 80,
      "outputs": [
        {
          "output_type": "stream",
          "name": "stdout",
          "text": [
            "   time_s   lw_x   lw_y   lw_z\n",
            "0    0.01 -0.004  0.945 -0.461\n",
            "1    0.02 -0.406 -0.379  1.031\n",
            "2    0.03 -0.340 -0.918  1.160\n",
            "   time_s   lw_x   lw_y   lw_z\n",
            "0    0.01 -0.004  0.945 -0.461\n",
            "1    0.02 -0.406 -0.379  1.031\n",
            "2    0.03 -0.340 -0.918  1.160\n"
          ]
        }
      ]
    },
    {
      "cell_type": "code",
      "source": [
        "testing_RLC_DQM = DQM_multiple_record()\n",
        "testing_RLC_DQM.set_input_data(df_list)\n",
        "testing_RLC_DQM.compute_avg_DQM()"
      ],
      "metadata": {
        "colab": {
          "base_uri": "https://localhost:8080/"
        },
        "id": "lqOoL_mfRy7o",
        "outputId": "26478275-0084-4c74-bda6-f0657a492fad"
      },
      "execution_count": 85,
      "outputs": [
        {
          "output_type": "stream",
          "name": "stdout",
          "text": [
            "Start computing the DQM... This may take a long time if the dataset is large\n",
            "The total time for computing the DQM is: 0.057708740234375 seconds.\n"
          ]
        }
      ]
    },
    {
      "cell_type": "markdown",
      "source": [
        "#The RLC score is 1 as expected"
      ],
      "metadata": {
        "id": "NC0lMIXmUf-L"
      }
    },
    {
      "cell_type": "code",
      "source": [
        "testing_RLC_DQM.get_RLC()"
      ],
      "metadata": {
        "colab": {
          "base_uri": "https://localhost:8080/",
          "height": 35
        },
        "id": "PW1UwuOfUhGT",
        "outputId": "ca3b12c6-fe19-454d-884a-b376970873c1"
      },
      "execution_count": 86,
      "outputs": [
        {
          "output_type": "execute_result",
          "data": {
            "text/plain": [
              "'1.0'"
            ],
            "application/vnd.google.colaboratory.intrinsic+json": {
              "type": "string"
            }
          },
          "metadata": {},
          "execution_count": 86
        }
      ]
    },
    {
      "cell_type": "markdown",
      "source": [
        "#Now we adding one more record that has 2 rows of data to the list. Now the record lengths are not the same across records, RLC shoud be lower than 1."
      ],
      "metadata": {
        "id": "Q8GIM9pFR3ku"
      }
    },
    {
      "cell_type": "code",
      "source": [
        "df_list.append(pd.read_csv(\"https://raw.githubusercontent.com/aid4mh/QPrism/main/data/sensor/generated_testing_data/RLC_2_rows.csv\"))\n",
        "for df in df_list:\n",
        "    print(df)"
      ],
      "metadata": {
        "colab": {
          "base_uri": "https://localhost:8080/"
        },
        "id": "xT1mJaAJR6Ti",
        "outputId": "726486e3-a65c-4349-bc1e-b2ef99c81d89"
      },
      "execution_count": 88,
      "outputs": [
        {
          "output_type": "stream",
          "name": "stdout",
          "text": [
            "   time_s   lw_x   lw_y   lw_z\n",
            "0    0.01 -0.004  0.945 -0.461\n",
            "1    0.02 -0.406 -0.379  1.031\n",
            "2    0.03 -0.340 -0.918  1.160\n",
            "   time_s   lw_x   lw_y   lw_z\n",
            "0    0.01 -0.004  0.945 -0.461\n",
            "1    0.02 -0.406 -0.379  1.031\n",
            "2    0.03 -0.340 -0.918  1.160\n",
            "   time_s   lw_x   lw_y   lw_z\n",
            "0    0.01 -0.004  0.945 -0.461\n",
            "1    0.02 -0.406 -0.379  1.031\n"
          ]
        }
      ]
    },
    {
      "cell_type": "code",
      "source": [
        "testing_RLC_DQM.set_input_data(df_list)\n",
        "testing_RLC_DQM.compute_avg_DQM()"
      ],
      "metadata": {
        "colab": {
          "base_uri": "https://localhost:8080/"
        },
        "id": "uHFqiBXcSBsU",
        "outputId": "c424903b-15a3-40d4-bfbc-06ffd11295c3"
      },
      "execution_count": 89,
      "outputs": [
        {
          "output_type": "stream",
          "name": "stdout",
          "text": [
            "Start computing the DQM... This may take a long time if the dataset is large\n",
            "The total time for computing the DQM is: 0.08531379699707031 seconds.\n"
          ]
        }
      ]
    },
    {
      "cell_type": "markdown",
      "source": [
        "# The RLC score is less than 1 as expected"
      ],
      "metadata": {
        "id": "h7MdF2kZSKHs"
      }
    },
    {
      "cell_type": "code",
      "source": [
        "testing_RLC_DQM.get_RLC()"
      ],
      "metadata": {
        "colab": {
          "base_uri": "https://localhost:8080/",
          "height": 35
        },
        "id": "C0chw7UWSMJM",
        "outputId": "2d60c14e-ef21-4ade-d2aa-f0c5af74afd4"
      },
      "execution_count": 90,
      "outputs": [
        {
          "output_type": "execute_result",
          "data": {
            "text/plain": [
              "'0.911841113301548'"
            ],
            "application/vnd.google.colaboratory.intrinsic+json": {
              "type": "string"
            }
          },
          "metadata": {},
          "execution_count": 90
        }
      ]
    },
    {
      "cell_type": "markdown",
      "source": [
        "#Now we again adding one more record that has 2 rows of data to the list. Now RLC shoud be lower than 0.91184 that computed from provious steps since the it is more inconsistent, but should not be differed by a large value, as [3, 3, 2, 2] are not significantly inconsistent."
      ],
      "metadata": {
        "id": "8tAUKcHqEV5b"
      }
    },
    {
      "cell_type": "code",
      "source": [
        "df_list.append(pd.read_csv(\"https://raw.githubusercontent.com/aid4mh/QPrism/main/data/sensor/generated_testing_data/RLC_2_rows_2.csv\"))\n",
        "for df in df_list:\n",
        "    print(df)"
      ],
      "metadata": {
        "colab": {
          "base_uri": "https://localhost:8080/"
        },
        "id": "z_jGawxLEWcU",
        "outputId": "932c3d8b-6f4b-4047-dae3-1c11750f0668"
      },
      "execution_count": 91,
      "outputs": [
        {
          "output_type": "stream",
          "name": "stdout",
          "text": [
            "   time_s   lw_x   lw_y   lw_z\n",
            "0    0.01 -0.004  0.945 -0.461\n",
            "1    0.02 -0.406 -0.379  1.031\n",
            "2    0.03 -0.340 -0.918  1.160\n",
            "   time_s   lw_x   lw_y   lw_z\n",
            "0    0.01 -0.004  0.945 -0.461\n",
            "1    0.02 -0.406 -0.379  1.031\n",
            "2    0.03 -0.340 -0.918  1.160\n",
            "   time_s   lw_x   lw_y   lw_z\n",
            "0    0.01 -0.004  0.945 -0.461\n",
            "1    0.02 -0.406 -0.379  1.031\n",
            "   time_s   lw_x   lw_y   lw_z\n",
            "0    0.01 -0.004  0.945 -0.461\n",
            "1    0.02 -0.406 -0.379  1.031\n"
          ]
        }
      ]
    },
    {
      "cell_type": "code",
      "source": [
        "testing_RLC_DQM.set_input_data(df_list)\n",
        "testing_RLC_DQM.compute_avg_DQM()"
      ],
      "metadata": {
        "colab": {
          "base_uri": "https://localhost:8080/"
        },
        "id": "EMRrc9Z9Saw7",
        "outputId": "f4bd567e-160d-4768-e714-5faeaf3254cd"
      },
      "execution_count": 92,
      "outputs": [
        {
          "output_type": "stream",
          "name": "stdout",
          "text": [
            "Start computing the DQM... This may take a long time if the dataset is large\n",
            "The total time for computing the DQM is: 0.2597074508666992 seconds.\n"
          ]
        }
      ]
    },
    {
      "cell_type": "markdown",
      "source": [
        "#The RLC score is lower than 0.91184, but not significantly lower. Which is expected."
      ],
      "metadata": {
        "id": "ueSJoMepSb7O"
      }
    },
    {
      "cell_type": "code",
      "source": [
        "testing_RLC_DQM.get_RLC()"
      ],
      "metadata": {
        "colab": {
          "base_uri": "https://localhost:8080/",
          "height": 35
        },
        "id": "mFs07NPISelH",
        "outputId": "125981be-6ec2-4d4c-c237-656164b5cddc"
      },
      "execution_count": 93,
      "outputs": [
        {
          "output_type": "execute_result",
          "data": {
            "text/plain": [
              "'0.9003320053750441'"
            ],
            "application/vnd.google.colaboratory.intrinsic+json": {
              "type": "string"
            }
          },
          "metadata": {},
          "execution_count": 93
        }
      ]
    },
    {
      "cell_type": "markdown",
      "source": [
        "#Again adding one more record that has 20 rows of data to the list. Now RLC shoud be significantly lower than 0.90033 that computed from provious steps, as 20 addes 'a lot of inconsistency'."
      ],
      "metadata": {
        "id": "QJjGdooxVNu-"
      }
    },
    {
      "cell_type": "code",
      "source": [
        "df_list.append(pd.read_csv(\"https://raw.githubusercontent.com/aid4mh/QPrism/main/data/sensor/generated_testing_data/RLC_20_rows.csv\"))\n",
        "for df in df_list:\n",
        "    print(df)"
      ],
      "metadata": {
        "colab": {
          "base_uri": "https://localhost:8080/"
        },
        "id": "vKg6hRiZVRTO",
        "outputId": "c525207a-a253-4c80-c573-b946fdcffd71"
      },
      "execution_count": 94,
      "outputs": [
        {
          "output_type": "stream",
          "name": "stdout",
          "text": [
            "   time_s   lw_x   lw_y   lw_z\n",
            "0    0.01 -0.004  0.945 -0.461\n",
            "1    0.02 -0.406 -0.379  1.031\n",
            "2    0.03 -0.340 -0.918  1.160\n",
            "   time_s   lw_x   lw_y   lw_z\n",
            "0    0.01 -0.004  0.945 -0.461\n",
            "1    0.02 -0.406 -0.379  1.031\n",
            "2    0.03 -0.340 -0.918  1.160\n",
            "   time_s   lw_x   lw_y   lw_z\n",
            "0    0.01 -0.004  0.945 -0.461\n",
            "1    0.02 -0.406 -0.379  1.031\n",
            "   time_s   lw_x   lw_y   lw_z\n",
            "0    0.01 -0.004  0.945 -0.461\n",
            "1    0.02 -0.406 -0.379  1.031\n",
            "    time_s   lw_x   lw_y   lw_z\n",
            "0     0.01 -0.004  0.945 -0.461\n",
            "1     0.02 -0.406 -0.379  1.031\n",
            "2     0.03 -0.004  0.945 -0.461\n",
            "3     0.04 -0.406 -0.379  1.031\n",
            "4     0.05 -0.004  0.945 -0.461\n",
            "5     0.06 -0.406 -0.379  1.031\n",
            "6     0.07 -0.004  0.945 -0.461\n",
            "7     0.08 -0.406 -0.379  1.031\n",
            "8     0.09 -0.004  0.945 -0.461\n",
            "9     0.10 -0.406 -0.379  1.031\n",
            "10    0.11 -0.004  0.945 -0.461\n",
            "11    0.12 -0.406 -0.379  1.031\n",
            "12    0.13 -0.004  0.945 -0.461\n",
            "13    0.14 -0.406 -0.379  1.031\n",
            "14    0.15 -0.004  0.945 -0.461\n",
            "15    0.16 -0.406 -0.379  1.031\n",
            "16    0.17 -0.004  0.945 -0.461\n",
            "17    0.18 -0.406 -0.379  1.031\n",
            "18    0.19 -0.004  0.945 -0.461\n",
            "19    0.20 -0.406 -0.379  1.031\n"
          ]
        }
      ]
    },
    {
      "cell_type": "code",
      "source": [
        "testing_RLC_DQM.set_input_data(df_list)\n",
        "testing_RLC_DQM.compute_avg_DQM()"
      ],
      "metadata": {
        "colab": {
          "base_uri": "https://localhost:8080/"
        },
        "id": "hH_63mK3VVyB",
        "outputId": "f1b9e231-42e4-4d99-adc7-e38918fe04ce"
      },
      "execution_count": 96,
      "outputs": [
        {
          "output_type": "stream",
          "name": "stdout",
          "text": [
            "Start computing the DQM... This may take a long time if the dataset is large\n",
            "The total time for computing the DQM is: 0.14041590690612793 seconds.\n"
          ]
        }
      ]
    },
    {
      "cell_type": "markdown",
      "source": [
        "#The RLC score is significantly lower than 0.91184, which is expected."
      ],
      "metadata": {
        "id": "_khloR9RVZiE"
      }
    },
    {
      "cell_type": "code",
      "source": [
        "testing_RLC_DQM.get_RLC()"
      ],
      "metadata": {
        "colab": {
          "base_uri": "https://localhost:8080/",
          "height": 35
        },
        "id": "mZ_WeeVIVbCW",
        "outputId": "66fd0b77-a450-4df6-885d-0b56d1e4cbf2"
      },
      "execution_count": 97,
      "outputs": [
        {
          "output_type": "execute_result",
          "data": {
            "text/plain": [
              "'0.4740552264497351'"
            ],
            "application/vnd.google.colaboratory.intrinsic+json": {
              "type": "string"
            }
          },
          "metadata": {},
          "execution_count": 97
        }
      ]
    }
  ]
}