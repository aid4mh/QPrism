{
 "cells": [
  {
   "cell_type": "markdown",
   "metadata": {},
   "source": [
    "This notebook tests the correctness of SCR using generated data located in data/sensor/generated_testing_data"
   ]
  },
  {
   "cell_type": "code",
   "execution_count": 1,
   "metadata": {},
   "outputs": [],
   "source": [
    "from DQM import DQM_multiple_file\n",
    "import pandas as pd"
   ]
  },
  {
   "cell_type": "markdown",
   "metadata": {},
   "source": [
    "For two records both have 3 rows of data, RLC should be 1."
   ]
  },
  {
   "cell_type": "code",
   "execution_count": 2,
   "metadata": {},
   "outputs": [
    {
     "name": "stdout",
     "output_type": "stream",
     "text": [
      "   time_s   lw_x   lw_y   lw_z\n",
      "0    0.01 -0.004  0.945 -0.461\n",
      "1    0.02 -0.406 -0.379  1.031\n",
      "2    0.03 -0.340 -0.918  1.160\n",
      "   time_s   lw_x   lw_y   lw_z\n",
      "0    0.01 -0.004  0.945 -0.461\n",
      "1    0.02 -0.406 -0.379  1.031\n",
      "2    0.03 -0.340 -0.918  1.160\n"
     ]
    }
   ],
   "source": [
    "df_list = []\n",
    "df_list.append(pd.read_csv('/home/lin/Documents/CAMH/QA-module/data/sensor/generated_testing_data/RLC_3_rows_1.csv'))\n",
    "df_list.append(pd.read_csv('/home/lin/Documents/CAMH/QA-module/data/sensor/generated_testing_data/RLC_3_rows_1.csv'))\n",
    "for df in df_list:\n",
    "    print(df)"
   ]
  },
  {
   "cell_type": "code",
   "execution_count": 3,
   "metadata": {},
   "outputs": [
    {
     "name": "stdout",
     "output_type": "stream",
     "text": [
      "Start computing the DQM... This may take a long time if the dataset is large\n",
      "The total time for computing the DQM is: 0.05178999900817871 seconds.\n"
     ]
    }
   ],
   "source": [
    "testing_RLC_DQM = DQM_multiple_file()\n",
    "testing_RLC_DQM.set_input_data(df_list)\n",
    "testing_RLC_DQM.compute_DQM()"
   ]
  },
  {
   "cell_type": "markdown",
   "metadata": {},
   "source": [
    "The RLC score is 1 as expected"
   ]
  },
  {
   "cell_type": "code",
   "execution_count": 4,
   "metadata": {},
   "outputs": [
    {
     "data": {
      "text/plain": [
       "'1.0'"
      ]
     },
     "execution_count": 4,
     "metadata": {},
     "output_type": "execute_result"
    }
   ],
   "source": [
    "testing_RLC_DQM.get_RLC()"
   ]
  },
  {
   "cell_type": "markdown",
   "metadata": {},
   "source": [
    "Now we adding one more record that has 2 rows of data to the list. Now the record lengths are not the same across records, RLC shoud be lower than 1."
   ]
  },
  {
   "cell_type": "code",
   "execution_count": 5,
   "metadata": {},
   "outputs": [
    {
     "name": "stdout",
     "output_type": "stream",
     "text": [
      "   time_s   lw_x   lw_y   lw_z\n",
      "0    0.01 -0.004  0.945 -0.461\n",
      "1    0.02 -0.406 -0.379  1.031\n",
      "2    0.03 -0.340 -0.918  1.160\n",
      "   time_s   lw_x   lw_y   lw_z\n",
      "0    0.01 -0.004  0.945 -0.461\n",
      "1    0.02 -0.406 -0.379  1.031\n",
      "2    0.03 -0.340 -0.918  1.160\n",
      "   time_s   lw_x   lw_y   lw_z\n",
      "0    0.01 -0.004  0.945 -0.461\n",
      "1    0.02 -0.406 -0.379  1.031\n"
     ]
    }
   ],
   "source": [
    "df_list.append(pd.read_csv('/home/lin/Documents/CAMH/QA-module/data/sensor/generated_testing_data/RLC_2_rows.csv'))\n",
    "for df in df_list:\n",
    "    print(df)"
   ]
  },
  {
   "cell_type": "code",
   "execution_count": 6,
   "metadata": {},
   "outputs": [
    {
     "name": "stdout",
     "output_type": "stream",
     "text": [
      "Start computing the DQM... This may take a long time if the dataset is large\n",
      "The total time for computing the DQM is: 0.05527782440185547 seconds.\n"
     ]
    }
   ],
   "source": [
    "testing_RLC_DQM.set_input_data(df_list)\n",
    "testing_RLC_DQM.compute_DQM()"
   ]
  },
  {
   "cell_type": "markdown",
   "metadata": {},
   "source": [
    "The RLC score is less than 1 as expected"
   ]
  },
  {
   "cell_type": "code",
   "execution_count": 7,
   "metadata": {},
   "outputs": [
    {
     "data": {
      "text/plain": [
       "'0.911841113301548'"
      ]
     },
     "execution_count": 7,
     "metadata": {},
     "output_type": "execute_result"
    }
   ],
   "source": [
    "testing_RLC_DQM.get_RLC()"
   ]
  },
  {
   "cell_type": "markdown",
   "metadata": {},
   "source": [
    "Now we again adding one more record that has 2 rows of data to the list. Now RLC shoud be lower than 0.91184 that computed from provious steps since the it is more inconsistent, but should not be differed by a large value, as [3, 3, 2, 2] are not significantly inconsistent."
   ]
  },
  {
   "cell_type": "code",
   "execution_count": 11,
   "metadata": {},
   "outputs": [
    {
     "name": "stdout",
     "output_type": "stream",
     "text": [
      "   time_s   lw_x   lw_y   lw_z\n",
      "0    0.01 -0.004  0.945 -0.461\n",
      "1    0.02 -0.406 -0.379  1.031\n",
      "2    0.03 -0.340 -0.918  1.160\n",
      "   time_s   lw_x   lw_y   lw_z\n",
      "0    0.01 -0.004  0.945 -0.461\n",
      "1    0.02 -0.406 -0.379  1.031\n",
      "2    0.03 -0.340 -0.918  1.160\n",
      "   time_s   lw_x   lw_y   lw_z\n",
      "0    0.01 -0.004  0.945 -0.461\n",
      "1    0.02 -0.406 -0.379  1.031\n",
      "   time_s   lw_x   lw_y   lw_z\n",
      "0    0.01 -0.004  0.945 -0.461\n",
      "1    0.02 -0.406 -0.379  1.031\n"
     ]
    }
   ],
   "source": [
    "df_list.append(pd.read_csv('/home/lin/Documents/CAMH/QA-module/data/sensor/generated_testing_data/RLC_2_rows_2.csv'))\n",
    "for df in df_list:\n",
    "    print(df)"
   ]
  },
  {
   "cell_type": "code",
   "execution_count": 12,
   "metadata": {},
   "outputs": [
    {
     "name": "stdout",
     "output_type": "stream",
     "text": [
      "Start computing the DQM... This may take a long time if the dataset is large\n",
      "The total time for computing the DQM is: 0.07994771003723145 seconds.\n"
     ]
    }
   ],
   "source": [
    "testing_RLC_DQM.set_input_data(df_list)\n",
    "testing_RLC_DQM.compute_DQM()"
   ]
  },
  {
   "cell_type": "markdown",
   "metadata": {},
   "source": [
    "The RLC score is lower than 0.91184, but not significantly lower. Which is expected."
   ]
  },
  {
   "cell_type": "code",
   "execution_count": 13,
   "metadata": {},
   "outputs": [
    {
     "data": {
      "text/plain": [
       "'0.9003320053750441'"
      ]
     },
     "execution_count": 13,
     "metadata": {},
     "output_type": "execute_result"
    }
   ],
   "source": [
    "testing_RLC_DQM.get_RLC()"
   ]
  },
  {
   "cell_type": "markdown",
   "metadata": {},
   "source": [
    "Now we again adding one more record that has 20 rows of data to the list. Now RLC shoud be significantly lower than 0.90033 that computed from provious steps, as 20 addes 'a lot of inconsistency'."
   ]
  },
  {
   "cell_type": "code",
   "execution_count": 14,
   "metadata": {},
   "outputs": [
    {
     "name": "stdout",
     "output_type": "stream",
     "text": [
      "   time_s   lw_x   lw_y   lw_z\n",
      "0    0.01 -0.004  0.945 -0.461\n",
      "1    0.02 -0.406 -0.379  1.031\n",
      "2    0.03 -0.340 -0.918  1.160\n",
      "   time_s   lw_x   lw_y   lw_z\n",
      "0    0.01 -0.004  0.945 -0.461\n",
      "1    0.02 -0.406 -0.379  1.031\n",
      "2    0.03 -0.340 -0.918  1.160\n",
      "   time_s   lw_x   lw_y   lw_z\n",
      "0    0.01 -0.004  0.945 -0.461\n",
      "1    0.02 -0.406 -0.379  1.031\n",
      "   time_s   lw_x   lw_y   lw_z\n",
      "0    0.01 -0.004  0.945 -0.461\n",
      "1    0.02 -0.406 -0.379  1.031\n",
      "    time_s   lw_x   lw_y   lw_z\n",
      "0     0.01 -0.004  0.945 -0.461\n",
      "1     0.02 -0.406 -0.379  1.031\n",
      "2     0.03 -0.004  0.945 -0.461\n",
      "3     0.04 -0.406 -0.379  1.031\n",
      "4     0.05 -0.004  0.945 -0.461\n",
      "5     0.06 -0.406 -0.379  1.031\n",
      "6     0.07 -0.004  0.945 -0.461\n",
      "7     0.08 -0.406 -0.379  1.031\n",
      "8     0.09 -0.004  0.945 -0.461\n",
      "9     0.10 -0.406 -0.379  1.031\n",
      "10    0.11 -0.004  0.945 -0.461\n",
      "11    0.12 -0.406 -0.379  1.031\n",
      "12    0.13 -0.004  0.945 -0.461\n",
      "13    0.14 -0.406 -0.379  1.031\n",
      "14    0.15 -0.004  0.945 -0.461\n",
      "15    0.16 -0.406 -0.379  1.031\n",
      "16    0.17 -0.004  0.945 -0.461\n",
      "17    0.18 -0.406 -0.379  1.031\n",
      "18    0.19 -0.004  0.945 -0.461\n",
      "19    0.20 -0.406 -0.379  1.031\n"
     ]
    }
   ],
   "source": [
    "df_list.append(pd.read_csv('/home/lin/Documents/CAMH/QA-module/data/sensor/generated_testing_data/RLC_20_rows.csv'))\n",
    "for df in df_list:\n",
    "    print(df)"
   ]
  },
  {
   "cell_type": "code",
   "execution_count": 15,
   "metadata": {},
   "outputs": [
    {
     "name": "stdout",
     "output_type": "stream",
     "text": [
      "Start computing the DQM... This may take a long time if the dataset is large\n",
      "The total time for computing the DQM is: 0.10124468803405762 seconds.\n"
     ]
    }
   ],
   "source": [
    "testing_RLC_DQM.set_input_data(df_list)\n",
    "testing_RLC_DQM.compute_DQM()"
   ]
  },
  {
   "cell_type": "markdown",
   "metadata": {},
   "source": [
    "The RLC score is significantly lower than 0.91184, which is expected."
   ]
  },
  {
   "cell_type": "code",
   "execution_count": 16,
   "metadata": {},
   "outputs": [
    {
     "data": {
      "text/plain": [
       "'0.4740552264497351'"
      ]
     },
     "execution_count": 16,
     "metadata": {},
     "output_type": "execute_result"
    }
   ],
   "source": [
    "testing_RLC_DQM.get_RLC()"
   ]
  }
 ],
 "metadata": {
  "kernelspec": {
   "display_name": "Python 3.8.10 64-bit",
   "language": "python",
   "name": "python3"
  },
  "language_info": {
   "codemirror_mode": {
    "name": "ipython",
    "version": 3
   },
   "file_extension": ".py",
   "mimetype": "text/x-python",
   "name": "python",
   "nbconvert_exporter": "python",
   "pygments_lexer": "ipython3",
   "version": "3.8.10"
  },
  "orig_nbformat": 4,
  "vscode": {
   "interpreter": {
    "hash": "916dbcbb3f70747c44a77c7bcd40155683ae19c65e1c03b4aa3499c5328201f1"
   }
  }
 },
 "nbformat": 4,
 "nbformat_minor": 2
}
