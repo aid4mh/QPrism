{
 "cells": [
  {
   "cell_type": "markdown",
   "metadata": {},
   "source": [
    "This notebook tests the correctness of IRLR using generated data located in data/sensor/generated_testing_data"
   ]
  },
  {
   "cell_type": "code",
   "execution_count": 1,
   "metadata": {},
   "outputs": [],
   "source": [
    "from DQM import DQM_single_file\n",
    "import pandas as pd"
   ]
  },
  {
   "cell_type": "markdown",
   "metadata": {},
   "source": [
    "For single-row record, it is insufficient and the IRLR score should be 0"
   ]
  },
  {
   "cell_type": "code",
   "execution_count": 2,
   "metadata": {},
   "outputs": [
    {
     "name": "stdout",
     "output_type": "stream",
     "text": [
      "   time_s   lw_x   lw_y   lw_z\n",
      "0    0.01 -0.004  0.945 -0.461\n"
     ]
    }
   ],
   "source": [
    "df = pd.read_csv('/home/lin/Documents/CAMH/QA-module/data/sensor/generated_testing_data/IRLR_single_row.csv')\n",
    "print(df)"
   ]
  },
  {
   "cell_type": "code",
   "execution_count": 3,
   "metadata": {},
   "outputs": [
    {
     "name": "stdout",
     "output_type": "stream",
     "text": [
      "Start computing the DQM... This may take a long time if the dataset is large\n",
      "The total time for computing the DQM is: 9.059906005859375e-05 seconds.\n"
     ]
    }
   ],
   "source": [
    "testing_IRLR_DQM = DQM_single_file()\n",
    "testing_IRLR_DQM.set_input_data(df)\n",
    "testing_IRLR_DQM.compute_DQM()"
   ]
  },
  {
   "cell_type": "markdown",
   "metadata": {},
   "source": [
    "The IRLR score is 0 as expected"
   ]
  },
  {
   "cell_type": "code",
   "execution_count": 4,
   "metadata": {},
   "outputs": [
    {
     "data": {
      "text/plain": [
       "'0'"
      ]
     },
     "execution_count": 4,
     "metadata": {},
     "output_type": "execute_result"
    }
   ],
   "source": [
    "testing_IRLR_DQM.get_IRLR()"
   ]
  },
  {
   "cell_type": "markdown",
   "metadata": {},
   "source": [
    "For a sufficient record, which has more than 1 row, correctly ordered timestamp, and non-zero standard deviation across all channels, the IRLR score should be 1 to indicate it is sufficient. "
   ]
  },
  {
   "cell_type": "code",
   "execution_count": 5,
   "metadata": {},
   "outputs": [
    {
     "name": "stdout",
     "output_type": "stream",
     "text": [
      "   time_s   lw_x   lw_y   lw_z\n",
      "0    0.01 -0.004  0.945 -0.461\n",
      "1    0.02 -0.406 -0.379  1.031\n",
      "2    0.03 -0.340 -0.918  1.160\n"
     ]
    }
   ],
   "source": [
    "df = pd.read_csv('/home/lin/Documents/CAMH/QA-module/data/sensor/generated_testing_data/IRLR_sufficient.csv')\n",
    "print(df)"
   ]
  },
  {
   "cell_type": "code",
   "execution_count": 6,
   "metadata": {},
   "outputs": [
    {
     "name": "stdout",
     "output_type": "stream",
     "text": [
      "Start computing the DQM... This may take a long time if the dataset is large\n",
      "The total time for computing the DQM is: 0.02245926856994629 seconds.\n"
     ]
    }
   ],
   "source": [
    "testing_IRLR_DQM = DQM_single_file()\n",
    "testing_IRLR_DQM.set_input_data(df)\n",
    "testing_IRLR_DQM.compute_DQM()"
   ]
  },
  {
   "cell_type": "markdown",
   "metadata": {},
   "source": [
    "The IRLR score is 1 as expected"
   ]
  },
  {
   "cell_type": "code",
   "execution_count": 7,
   "metadata": {},
   "outputs": [
    {
     "data": {
      "text/plain": [
       "'1'"
      ]
     },
     "execution_count": 7,
     "metadata": {},
     "output_type": "execute_result"
    }
   ],
   "source": [
    "testing_IRLR_DQM.get_IRLR()"
   ]
  },
  {
   "cell_type": "markdown",
   "metadata": {},
   "source": [
    "For the same sufficient record above, reversing the timestamp only should make it insufficient and the IRLR score should be 0"
   ]
  },
  {
   "cell_type": "code",
   "execution_count": 8,
   "metadata": {},
   "outputs": [
    {
     "name": "stdout",
     "output_type": "stream",
     "text": [
      "   time_s   lw_x   lw_y   lw_z\n",
      "0    0.03 -0.004  0.945 -0.461\n",
      "1    0.02 -0.406 -0.379  1.031\n",
      "2    0.01 -0.340 -0.918  1.160\n"
     ]
    }
   ],
   "source": [
    "df = pd.read_csv('/home/lin/Documents/CAMH/QA-module/data/sensor/generated_testing_data/IRLR_wrong_timestamp.csv')\n",
    "print(df)"
   ]
  },
  {
   "cell_type": "code",
   "execution_count": 9,
   "metadata": {},
   "outputs": [
    {
     "name": "stdout",
     "output_type": "stream",
     "text": [
      "Start computing the DQM... This may take a long time if the dataset is large\n",
      "The total time for computing the DQM is: 0.0007119178771972656 seconds.\n"
     ]
    }
   ],
   "source": [
    "testing_IRLR_DQM = DQM_single_file()\n",
    "testing_IRLR_DQM.set_input_data(df)\n",
    "testing_IRLR_DQM.compute_DQM()"
   ]
  },
  {
   "cell_type": "markdown",
   "metadata": {},
   "source": [
    "The IRLR score is 0 as expected"
   ]
  },
  {
   "cell_type": "code",
   "execution_count": 10,
   "metadata": {},
   "outputs": [
    {
     "data": {
      "text/plain": [
       "'0'"
      ]
     },
     "execution_count": 10,
     "metadata": {},
     "output_type": "execute_result"
    }
   ],
   "source": [
    "testing_IRLR_DQM.get_IRLR()"
   ]
  },
  {
   "cell_type": "markdown",
   "metadata": {},
   "source": [
    "For a record has 0 standard deviation in one of the data channels, it is insufficient and the IRLR score should be 0"
   ]
  },
  {
   "cell_type": "code",
   "execution_count": 11,
   "metadata": {},
   "outputs": [
    {
     "name": "stdout",
     "output_type": "stream",
     "text": [
      "   time_s  lw_x   lw_y   lw_z\n",
      "0    0.01     0  0.945 -0.461\n",
      "1    0.02     0 -0.379  1.031\n",
      "2    0.03     0 -0.918  1.160\n"
     ]
    }
   ],
   "source": [
    "df = pd.read_csv('/home/lin/Documents/CAMH/QA-module/data/sensor/generated_testing_data/IRLR_0std.csv')\n",
    "print(df)"
   ]
  },
  {
   "cell_type": "code",
   "execution_count": 12,
   "metadata": {},
   "outputs": [
    {
     "name": "stdout",
     "output_type": "stream",
     "text": [
      "Start computing the DQM... This may take a long time if the dataset is large\n",
      "The total time for computing the DQM is: 0.0016562938690185547 seconds.\n"
     ]
    }
   ],
   "source": [
    "testing_IRLR_DQM = DQM_single_file()\n",
    "testing_IRLR_DQM.set_input_data(df)\n",
    "testing_IRLR_DQM.compute_DQM()"
   ]
  },
  {
   "cell_type": "markdown",
   "metadata": {},
   "source": [
    "The IRLR score is 0 as expected"
   ]
  },
  {
   "cell_type": "code",
   "execution_count": 13,
   "metadata": {},
   "outputs": [
    {
     "data": {
      "text/plain": [
       "'0'"
      ]
     },
     "execution_count": 13,
     "metadata": {},
     "output_type": "execute_result"
    }
   ],
   "source": [
    "testing_IRLR_DQM.get_IRLR()"
   ]
  }
 ],
 "metadata": {
  "kernelspec": {
   "display_name": "Python 3.8.10 64-bit",
   "language": "python",
   "name": "python3"
  },
  "language_info": {
   "codemirror_mode": {
    "name": "ipython",
    "version": 3
   },
   "file_extension": ".py",
   "mimetype": "text/x-python",
   "name": "python",
   "nbconvert_exporter": "python",
   "pygments_lexer": "ipython3",
   "version": "3.8.10"
  },
  "orig_nbformat": 4,
  "vscode": {
   "interpreter": {
    "hash": "916dbcbb3f70747c44a77c7bcd40155683ae19c65e1c03b4aa3499c5328201f1"
   }
  }
 },
 "nbformat": 4,
 "nbformat_minor": 2
}
