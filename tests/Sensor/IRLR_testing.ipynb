{
  "nbformat": 4,
  "nbformat_minor": 0,
  "metadata": {
    "colab": {
      "name": "Copy of single_file_Demo.ipynb",
      "provenance": [],
      "collapsed_sections": [],
      "authorship_tag": "ABX9TyP3m4r41SPwoGXryIMSevQN",
      "include_colab_link": true
    },
    "kernelspec": {
      "name": "python3",
      "display_name": "Python 3"
    },
    "language_info": {
      "name": "python"
    },
    "accelerator": "GPU",
    "gpuClass": "standard"
  },
  "cells": [
    {
      "cell_type": "markdown",
      "metadata": {
        "id": "view-in-github",
        "colab_type": "text"
      },
      "source": [
        "<a href=\"https://colab.research.google.com/github/aid4mh/QPrism/blob/main/tests/Sensor/IRLR_testing.ipynb\" target=\"_parent\"><img src=\"https://colab.research.google.com/assets/colab-badge.svg\" alt=\"Open In Colab\"/></a>"
      ]
    },
    {
      "cell_type": "markdown",
      "source": [
        "#This notebook tests the correctness of IRLR using the generated data from [here](https://github.com/aid4mh/QPrism/tree/main/data/sensor/generated_testing_data)."
      ],
      "metadata": {
        "id": "9cTuxXa_N7nm"
      }
    },
    {
      "cell_type": "code",
      "execution_count": 1,
      "metadata": {
        "id": "TsLMcFWy4lFc",
        "colab": {
          "base_uri": "https://localhost:8080/"
        },
        "outputId": "8eb6f99e-6ee2-4d08-e70a-64fc129e79b8"
      },
      "outputs": [
        {
          "output_type": "stream",
          "name": "stdout",
          "text": [
            "Looking in indexes: https://pypi.org/simple, https://us-python.pkg.dev/colab-wheels/public/simple/\n",
            "Requirement already satisfied: pip in /usr/local/lib/python3.7/dist-packages (21.1.3)\n",
            "Collecting pip\n",
            "  Downloading pip-22.2.2-py3-none-any.whl (2.0 MB)\n",
            "\u001b[K     |████████████████████████████████| 2.0 MB 30.9 MB/s \n",
            "\u001b[?25hInstalling collected packages: pip\n",
            "  Attempting uninstall: pip\n",
            "    Found existing installation: pip 21.1.3\n",
            "    Uninstalling pip-21.1.3:\n",
            "      Successfully uninstalled pip-21.1.3\n",
            "Successfully installed pip-22.2.2\n"
          ]
        }
      ],
      "source": [
        "! python3 -m pip install --upgrade pip"
      ]
    },
    {
      "cell_type": "markdown",
      "source": [
        "#Install the dependencies and QPrism"
      ],
      "metadata": {
        "id": "J7iYiUIHxxZP"
      }
    },
    {
      "cell_type": "code",
      "source": [
        "! pip install -r https://raw.githubusercontent.com/aid4mh/QPrism/main/requirements.txt"
      ],
      "metadata": {
        "id": "vp6NbBaoxzxw"
      },
      "execution_count": null,
      "outputs": []
    },
    {
      "cell_type": "code",
      "source": [
        "! pip install --no-deps QPrism"
      ],
      "metadata": {
        "id": "6EkTzyu07_y-",
        "colab": {
          "base_uri": "https://localhost:8080/"
        },
        "outputId": "007fe48f-3538-44d7-fe48-62be51de56b5"
      },
      "execution_count": 34,
      "outputs": [
        {
          "output_type": "stream",
          "name": "stdout",
          "text": [
            "Looking in indexes: https://pypi.org/simple, https://us-python.pkg.dev/colab-wheels/public/simple/\n",
            "Requirement already satisfied: QPrism in /usr/local/lib/python3.7/dist-packages (0.2.7)\n",
            "\u001b[33mWARNING: Running pip as the 'root' user can result in broken permissions and conflicting behaviour with the system package manager. It is recommended to use a virtual environment instead: https://pip.pypa.io/warnings/venv\u001b[0m\u001b[33m\n",
            "\u001b[0m"
          ]
        }
      ]
    },
    {
      "cell_type": "code",
      "source": [
        "from QPrism.Sensor.DQM import DQM_single_record\n",
        "from QPrism.Sensor.load_data import *"
      ],
      "metadata": {
        "id": "ddgvt-pT9RBJ"
      },
      "execution_count": 35,
      "outputs": []
    },
    {
      "cell_type": "markdown",
      "source": [
        "#For single-row record, it is insufficient and the IRLR score should be 0."
      ],
      "metadata": {
        "id": "MZLDOoHDDjmc"
      }
    },
    {
      "cell_type": "code",
      "source": [
        "import pandas as pd\n",
        "\n",
        "df = pd.read_csv(\"https://raw.githubusercontent.com/aid4mh/QPrism/main/data/sensor/generated_testing_data/IRLR_single_row.csv\")\n",
        "print(df)"
      ],
      "metadata": {
        "colab": {
          "base_uri": "https://localhost:8080/"
        },
        "id": "G_hzZ30lBSx0",
        "outputId": "dd9e18eb-12fb-46cc-dce1-b076fb981fc7"
      },
      "execution_count": 57,
      "outputs": [
        {
          "output_type": "stream",
          "name": "stdout",
          "text": [
            "   time_s   lw_x   lw_y   lw_z\n",
            "0    0.01 -0.004  0.945 -0.461\n"
          ]
        }
      ]
    },
    {
      "cell_type": "code",
      "source": [
        "testing_IRLR_DQM = DQM_single_record()\n",
        "testing_IRLR_DQM.set_input_data(df)\n",
        "testing_IRLR_DQM.compute_DQM()"
      ],
      "metadata": {
        "id": "lqOoL_mfRy7o"
      },
      "execution_count": 59,
      "outputs": []
    },
    {
      "cell_type": "markdown",
      "source": [
        "#The IRLR score is 0 as expected"
      ],
      "metadata": {
        "id": "Q8GIM9pFR3ku"
      }
    },
    {
      "cell_type": "code",
      "source": [
        "testing_IRLR_DQM.get_IRLR()"
      ],
      "metadata": {
        "colab": {
          "base_uri": "https://localhost:8080/",
          "height": 35
        },
        "id": "xT1mJaAJR6Ti",
        "outputId": "7798019d-6041-4afe-9538-e14c5b11f436"
      },
      "execution_count": 60,
      "outputs": [
        {
          "output_type": "execute_result",
          "data": {
            "text/plain": [
              "'0'"
            ],
            "application/vnd.google.colaboratory.intrinsic+json": {
              "type": "string"
            }
          },
          "metadata": {},
          "execution_count": 60
        }
      ]
    },
    {
      "cell_type": "markdown",
      "source": [
        "#For a sufficient record, which has more than 1 row, correctly ordered timestamp, and non-zero standard deviation across all channels, the IRLR score should be 1 to indicate it is sufficient."
      ],
      "metadata": {
        "id": "SVi2w41qEHVg"
      }
    },
    {
      "cell_type": "code",
      "source": [
        "df = pd.read_csv(\"https://raw.githubusercontent.com/aid4mh/QPrism/main/data/sensor/generated_testing_data/IRLR_sufficient.csv\")\n",
        "print(df)"
      ],
      "metadata": {
        "colab": {
          "base_uri": "https://localhost:8080/"
        },
        "id": "uHFqiBXcSBsU",
        "outputId": "edd83840-bb39-4d9f-ff70-3793c7e11b6f"
      },
      "execution_count": 61,
      "outputs": [
        {
          "output_type": "stream",
          "name": "stdout",
          "text": [
            "   time_s   lw_x   lw_y   lw_z\n",
            "0    0.01 -0.004  0.945 -0.461\n",
            "1    0.02 -0.406 -0.379  1.031\n",
            "2    0.03 -0.340 -0.918  1.160\n"
          ]
        }
      ]
    },
    {
      "cell_type": "code",
      "source": [
        "testing_IRLR_DQM.set_input_data(df)\n",
        "testing_IRLR_DQM.compute_DQM()"
      ],
      "metadata": {
        "id": "LE5FGzAwEJKa"
      },
      "execution_count": 62,
      "outputs": []
    },
    {
      "cell_type": "markdown",
      "source": [
        "# The IRLR score is 1 as expected"
      ],
      "metadata": {
        "id": "h7MdF2kZSKHs"
      }
    },
    {
      "cell_type": "code",
      "source": [
        "testing_IRLR_DQM.get_IRLR()"
      ],
      "metadata": {
        "colab": {
          "base_uri": "https://localhost:8080/",
          "height": 35
        },
        "id": "C0chw7UWSMJM",
        "outputId": "d2a2a62d-fef3-4e69-f839-7b78ab9e0fc2"
      },
      "execution_count": 63,
      "outputs": [
        {
          "output_type": "execute_result",
          "data": {
            "text/plain": [
              "'1'"
            ],
            "application/vnd.google.colaboratory.intrinsic+json": {
              "type": "string"
            }
          },
          "metadata": {},
          "execution_count": 63
        }
      ]
    },
    {
      "cell_type": "markdown",
      "source": [
        "#For the same sufficient record above, reversing the timestamp only should make it insufficient and the IRLR score should be 0."
      ],
      "metadata": {
        "id": "8tAUKcHqEV5b"
      }
    },
    {
      "cell_type": "code",
      "source": [
        "df = pd.read_csv(\"https://raw.githubusercontent.com/aid4mh/QPrism/main/data/sensor/generated_testing_data/IRLR_wrong_timestamp.csv\")\n",
        "print(df)"
      ],
      "metadata": {
        "colab": {
          "base_uri": "https://localhost:8080/"
        },
        "id": "z_jGawxLEWcU",
        "outputId": "75d8dba6-6a3c-4e5b-c61f-fff1e3ffd32a"
      },
      "execution_count": 64,
      "outputs": [
        {
          "output_type": "stream",
          "name": "stdout",
          "text": [
            "   time_s   lw_x   lw_y   lw_z\n",
            "0    0.03 -0.004  0.945 -0.461\n",
            "1    0.02 -0.406 -0.379  1.031\n",
            "2    0.01 -0.340 -0.918  1.160\n"
          ]
        }
      ]
    },
    {
      "cell_type": "code",
      "source": [
        "testing_IRLR_DQM.set_input_data(df)\n",
        "testing_IRLR_DQM.compute_DQM()"
      ],
      "metadata": {
        "id": "EMRrc9Z9Saw7"
      },
      "execution_count": 65,
      "outputs": []
    },
    {
      "cell_type": "markdown",
      "source": [
        "#The IRLR score is 0 as expected"
      ],
      "metadata": {
        "id": "ueSJoMepSb7O"
      }
    },
    {
      "cell_type": "code",
      "source": [
        "testing_IRLR_DQM.get_IRLR()"
      ],
      "metadata": {
        "colab": {
          "base_uri": "https://localhost:8080/",
          "height": 35
        },
        "id": "mFs07NPISelH",
        "outputId": "ecb536eb-e5d6-4836-944a-8d840ea70fd4"
      },
      "execution_count": 66,
      "outputs": [
        {
          "output_type": "execute_result",
          "data": {
            "text/plain": [
              "'0'"
            ],
            "application/vnd.google.colaboratory.intrinsic+json": {
              "type": "string"
            }
          },
          "metadata": {},
          "execution_count": 66
        }
      ]
    },
    {
      "cell_type": "markdown",
      "source": [
        "#For a record has 0 standard deviation in one of the data channels, it is insufficient and the IRLR score should be 0."
      ],
      "metadata": {
        "id": "ab6Z1dOKSgpM"
      }
    },
    {
      "cell_type": "code",
      "source": [
        "df = pd.read_csv(\"https://raw.githubusercontent.com/aid4mh/QPrism/main/data/sensor/generated_testing_data/IRLR_0std.csv\")\n",
        "print(df)"
      ],
      "metadata": {
        "colab": {
          "base_uri": "https://localhost:8080/"
        },
        "id": "HjwIvGU_ShxD",
        "outputId": "99a4a932-b94f-45fd-96a3-649c7e54099b"
      },
      "execution_count": 67,
      "outputs": [
        {
          "output_type": "stream",
          "name": "stdout",
          "text": [
            "   time_s  lw_x   lw_y   lw_z\n",
            "0    0.01     0  0.945 -0.461\n",
            "1    0.02     0 -0.379  1.031\n",
            "2    0.03     0 -0.918  1.160\n"
          ]
        }
      ]
    },
    {
      "cell_type": "code",
      "source": [
        "testing_IRLR_DQM.set_input_data(df)\n",
        "testing_IRLR_DQM.compute_DQM()"
      ],
      "metadata": {
        "id": "vWjO0XQwSmOv"
      },
      "execution_count": 68,
      "outputs": []
    },
    {
      "cell_type": "markdown",
      "source": [
        "#The IRLR score is 0 as expected"
      ],
      "metadata": {
        "id": "XEZoI4XxSqFj"
      }
    },
    {
      "cell_type": "code",
      "source": [
        "testing_IRLR_DQM.get_IRLR()"
      ],
      "metadata": {
        "colab": {
          "base_uri": "https://localhost:8080/",
          "height": 35
        },
        "id": "-uwDXW7oSpMz",
        "outputId": "ef9cbb12-d865-4136-cce0-1c307d948813"
      },
      "execution_count": 69,
      "outputs": [
        {
          "output_type": "execute_result",
          "data": {
            "text/plain": [
              "'0'"
            ],
            "application/vnd.google.colaboratory.intrinsic+json": {
              "type": "string"
            }
          },
          "metadata": {},
          "execution_count": 69
        }
      ]
    }
  ]
}