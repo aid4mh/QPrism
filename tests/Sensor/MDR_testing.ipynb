{
  "nbformat": 4,
  "nbformat_minor": 0,
  "metadata": {
    "colab": {
      "name": "Copy of single_file_Demo.ipynb",
      "provenance": [],
      "collapsed_sections": [],
      "authorship_tag": "ABX9TyNNz4wsh8tdEYQFVzpaJx2Q",
      "include_colab_link": true
    },
    "kernelspec": {
      "name": "python3",
      "display_name": "Python 3"
    },
    "language_info": {
      "name": "python"
    },
    "accelerator": "GPU",
    "gpuClass": "standard"
  },
  "cells": [
    {
      "cell_type": "markdown",
      "metadata": {
        "id": "view-in-github",
        "colab_type": "text"
      },
      "source": [
        "<a href=\"https://colab.research.google.com/github/aid4mh/QPrism/blob/main/tests/Sensor/MDR_testing.ipynb\" target=\"_parent\"><img src=\"https://colab.research.google.com/assets/colab-badge.svg\" alt=\"Open In Colab\"/></a>"
      ]
    },
    {
      "cell_type": "markdown",
      "source": [
        "#This notebook tests the correctness of MDR using the generated data from [here](https://github.com/aid4mh/QPrism/tree/main/data/sensor/generated_testing_data)."
      ],
      "metadata": {
        "id": "9cTuxXa_N7nm"
      }
    },
    {
      "cell_type": "code",
      "execution_count": 1,
      "metadata": {
        "id": "TsLMcFWy4lFc",
        "colab": {
          "base_uri": "https://localhost:8080/"
        },
        "outputId": "8eb6f99e-6ee2-4d08-e70a-64fc129e79b8"
      },
      "outputs": [
        {
          "output_type": "stream",
          "name": "stdout",
          "text": [
            "Looking in indexes: https://pypi.org/simple, https://us-python.pkg.dev/colab-wheels/public/simple/\n",
            "Requirement already satisfied: pip in /usr/local/lib/python3.7/dist-packages (21.1.3)\n",
            "Collecting pip\n",
            "  Downloading pip-22.2.2-py3-none-any.whl (2.0 MB)\n",
            "\u001b[K     |████████████████████████████████| 2.0 MB 30.9 MB/s \n",
            "\u001b[?25hInstalling collected packages: pip\n",
            "  Attempting uninstall: pip\n",
            "    Found existing installation: pip 21.1.3\n",
            "    Uninstalling pip-21.1.3:\n",
            "      Successfully uninstalled pip-21.1.3\n",
            "Successfully installed pip-22.2.2\n"
          ]
        }
      ],
      "source": [
        "! python3 -m pip install --upgrade pip"
      ]
    },
    {
      "cell_type": "markdown",
      "source": [
        "#Install the dependencies and QPrism"
      ],
      "metadata": {
        "id": "J7iYiUIHxxZP"
      }
    },
    {
      "cell_type": "code",
      "source": [
        "! pip install -r https://raw.githubusercontent.com/aid4mh/QPrism/main/requirements.txt"
      ],
      "metadata": {
        "id": "vp6NbBaoxzxw"
      },
      "execution_count": null,
      "outputs": []
    },
    {
      "cell_type": "code",
      "source": [
        "! pip install --no-deps QPrism"
      ],
      "metadata": {
        "id": "6EkTzyu07_y-",
        "colab": {
          "base_uri": "https://localhost:8080/"
        },
        "outputId": "007fe48f-3538-44d7-fe48-62be51de56b5"
      },
      "execution_count": 34,
      "outputs": [
        {
          "output_type": "stream",
          "name": "stdout",
          "text": [
            "Looking in indexes: https://pypi.org/simple, https://us-python.pkg.dev/colab-wheels/public/simple/\n",
            "Requirement already satisfied: QPrism in /usr/local/lib/python3.7/dist-packages (0.2.7)\n",
            "\u001b[33mWARNING: Running pip as the 'root' user can result in broken permissions and conflicting behaviour with the system package manager. It is recommended to use a virtual environment instead: https://pip.pypa.io/warnings/venv\u001b[0m\u001b[33m\n",
            "\u001b[0m"
          ]
        }
      ]
    },
    {
      "cell_type": "code",
      "source": [
        "from QPrism.Sensor.DQM import DQM_single_record\n",
        "from QPrism.Sensor.load_data import *"
      ],
      "metadata": {
        "id": "ddgvt-pT9RBJ"
      },
      "execution_count": 35,
      "outputs": []
    },
    {
      "cell_type": "markdown",
      "source": [
        "#For a record with no missing data points, MDR should be 0."
      ],
      "metadata": {
        "id": "MZLDOoHDDjmc"
      }
    },
    {
      "cell_type": "code",
      "source": [
        "import pandas as pd\n",
        "\n",
        "df = pd.read_csv(\"https://raw.githubusercontent.com/aid4mh/QPrism/main/data/sensor/generated_testing_data/MDR_0_missing.csv\")\n",
        "print(df)"
      ],
      "metadata": {
        "colab": {
          "base_uri": "https://localhost:8080/"
        },
        "id": "G_hzZ30lBSx0",
        "outputId": "958dc85a-e8e1-41bd-f230-e20886737c9f"
      },
      "execution_count": 70,
      "outputs": [
        {
          "output_type": "stream",
          "name": "stdout",
          "text": [
            "   time_s   lw_x   lw_y   lw_z\n",
            "0    0.01 -0.004  0.945 -0.461\n",
            "1    0.02 -0.406 -0.379  1.031\n",
            "2    0.03 -0.340 -0.918  1.160\n"
          ]
        }
      ]
    },
    {
      "cell_type": "code",
      "source": [
        "testing_MDR_DQM = DQM_single_record()\n",
        "testing_MDR_DQM.set_input_data(df)\n",
        "testing_MDR_DQM.compute_DQM()"
      ],
      "metadata": {
        "id": "lqOoL_mfRy7o"
      },
      "execution_count": 71,
      "outputs": []
    },
    {
      "cell_type": "markdown",
      "source": [
        "#The MDR score is 0 as expected"
      ],
      "metadata": {
        "id": "Q8GIM9pFR3ku"
      }
    },
    {
      "cell_type": "code",
      "source": [
        "testing_MDR_DQM.get_IRLR()"
      ],
      "metadata": {
        "colab": {
          "base_uri": "https://localhost:8080/",
          "height": 35
        },
        "id": "xT1mJaAJR6Ti",
        "outputId": "f2c9a14d-f00a-4799-8ba4-af43babbece3"
      },
      "execution_count": 72,
      "outputs": [
        {
          "output_type": "execute_result",
          "data": {
            "text/plain": [
              "'1'"
            ],
            "application/vnd.google.colaboratory.intrinsic+json": {
              "type": "string"
            }
          },
          "metadata": {},
          "execution_count": 72
        }
      ]
    },
    {
      "cell_type": "markdown",
      "source": [
        "#For a 3-row record with 1 missing data point, MDR should be 1/(3+1) = 0.25."
      ],
      "metadata": {
        "id": "SVi2w41qEHVg"
      }
    },
    {
      "cell_type": "code",
      "source": [
        "df = pd.read_csv(\"https://raw.githubusercontent.com/aid4mh/QPrism/main/data/sensor/generated_testing_data/MDR_0.25_missing.csv\")\n",
        "print(df)"
      ],
      "metadata": {
        "colab": {
          "base_uri": "https://localhost:8080/"
        },
        "id": "uHFqiBXcSBsU",
        "outputId": "8ce5809b-5fdc-47b7-afaa-a6407cc256c7"
      },
      "execution_count": 74,
      "outputs": [
        {
          "output_type": "stream",
          "name": "stdout",
          "text": [
            "   time_s   lw_x   lw_y   lw_z\n",
            "0    0.01 -0.004  0.945 -0.461\n",
            "1    0.02 -0.406 -0.379  1.031\n",
            "2    0.04 -0.340 -0.918  1.160\n"
          ]
        }
      ]
    },
    {
      "cell_type": "code",
      "source": [
        "testing_MDR_DQM.set_input_data(df)\n",
        "testing_MDR_DQM.compute_DQM()"
      ],
      "metadata": {
        "id": "LE5FGzAwEJKa"
      },
      "execution_count": 75,
      "outputs": []
    },
    {
      "cell_type": "markdown",
      "source": [
        "# The MDR score is 0.25 as expected"
      ],
      "metadata": {
        "id": "h7MdF2kZSKHs"
      }
    },
    {
      "cell_type": "code",
      "source": [
        "testing_MDR_DQM.get_MDR()"
      ],
      "metadata": {
        "colab": {
          "base_uri": "https://localhost:8080/",
          "height": 35
        },
        "id": "C0chw7UWSMJM",
        "outputId": "fa996f40-6558-4f2c-f1b8-24f5c464bde1"
      },
      "execution_count": 76,
      "outputs": [
        {
          "output_type": "execute_result",
          "data": {
            "text/plain": [
              "'0.25'"
            ],
            "application/vnd.google.colaboratory.intrinsic+json": {
              "type": "string"
            }
          },
          "metadata": {},
          "execution_count": 76
        }
      ]
    },
    {
      "cell_type": "markdown",
      "source": [
        "#For a 3-row record with 1 missing segment but 2 missing data points, MDR should be 2/(3+2) = 0.4."
      ],
      "metadata": {
        "id": "8tAUKcHqEV5b"
      }
    },
    {
      "cell_type": "code",
      "source": [
        "df = pd.read_csv(\"https://raw.githubusercontent.com/aid4mh/QPrism/main/data/sensor/generated_testing_data/MDR_0.4_missing.csv\")\n",
        "print(df)"
      ],
      "metadata": {
        "colab": {
          "base_uri": "https://localhost:8080/"
        },
        "id": "z_jGawxLEWcU",
        "outputId": "434da500-3900-440b-c278-88c1c7d216b2"
      },
      "execution_count": 77,
      "outputs": [
        {
          "output_type": "stream",
          "name": "stdout",
          "text": [
            "   time_s   lw_x   lw_y   lw_z\n",
            "0    0.01 -0.004  0.945 -0.461\n",
            "1    0.02 -0.406 -0.379  1.031\n",
            "2    0.05 -0.340 -0.918  1.160\n"
          ]
        }
      ]
    },
    {
      "cell_type": "code",
      "source": [
        "testing_MDR_DQM.set_input_data(df)\n",
        "testing_MDR_DQM.compute_DQM()"
      ],
      "metadata": {
        "id": "EMRrc9Z9Saw7"
      },
      "execution_count": 78,
      "outputs": []
    },
    {
      "cell_type": "markdown",
      "source": [
        "#The MDR score is 0.4 as expected"
      ],
      "metadata": {
        "id": "ueSJoMepSb7O"
      }
    },
    {
      "cell_type": "code",
      "source": [
        "testing_MDR_DQM.get_MDR()"
      ],
      "metadata": {
        "colab": {
          "base_uri": "https://localhost:8080/",
          "height": 35
        },
        "id": "mFs07NPISelH",
        "outputId": "d99d5028-6657-457b-f0bf-532a03ed24d9"
      },
      "execution_count": 79,
      "outputs": [
        {
          "output_type": "execute_result",
          "data": {
            "text/plain": [
              "'0.4'"
            ],
            "application/vnd.google.colaboratory.intrinsic+json": {
              "type": "string"
            }
          },
          "metadata": {},
          "execution_count": 79
        }
      ]
    }
  ]
}