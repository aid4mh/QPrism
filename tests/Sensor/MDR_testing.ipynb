{
 "cells": [
  {
   "cell_type": "markdown",
   "metadata": {},
   "source": [
    "This notebook tests the correctness of MDR using generated data located in data/sensor/generated_testing_data"
   ]
  },
  {
   "cell_type": "code",
   "execution_count": 2,
   "metadata": {},
   "outputs": [],
   "source": [
    "from DQM import DQM_single_file\n",
    "import pandas as pd"
   ]
  },
  {
   "cell_type": "markdown",
   "metadata": {},
   "source": [
    "For a record with no missing data points, MDR should be 0"
   ]
  },
  {
   "cell_type": "code",
   "execution_count": 3,
   "metadata": {},
   "outputs": [
    {
     "name": "stdout",
     "output_type": "stream",
     "text": [
      "   time_s   lw_x   lw_y   lw_z\n",
      "0    0.01 -0.004  0.945 -0.461\n",
      "1    0.02 -0.406 -0.379  1.031\n",
      "2    0.03 -0.340 -0.918  1.160\n"
     ]
    }
   ],
   "source": [
    "df = pd.read_csv('/home/lin/Documents/CAMH/QA-module/data/sensor/generated_testing_data/MDR_0_missing.csv')\n",
    "print(df)"
   ]
  },
  {
   "cell_type": "code",
   "execution_count": 5,
   "metadata": {},
   "outputs": [
    {
     "name": "stdout",
     "output_type": "stream",
     "text": [
      "Start computing the DQM... This may take a long time if the dataset is large\n",
      "The total time for computing the DQM is: 0.021306514739990234 seconds.\n"
     ]
    }
   ],
   "source": [
    "testing_MDR_DQM = DQM_single_file()\n",
    "testing_MDR_DQM.set_input_data(df)\n",
    "testing_MDR_DQM.compute_DQM()"
   ]
  },
  {
   "cell_type": "markdown",
   "metadata": {},
   "source": [
    "The MDR score is 0 as expected"
   ]
  },
  {
   "cell_type": "code",
   "execution_count": 6,
   "metadata": {},
   "outputs": [
    {
     "data": {
      "text/plain": [
       "'0.0'"
      ]
     },
     "execution_count": 6,
     "metadata": {},
     "output_type": "execute_result"
    }
   ],
   "source": [
    "testing_MDR_DQM.get_MDR()"
   ]
  },
  {
   "cell_type": "markdown",
   "metadata": {},
   "source": [
    "For a 3-row record with 1 missing data point, MDR should be 1/(3+1) = 0.25"
   ]
  },
  {
   "cell_type": "code",
   "execution_count": 7,
   "metadata": {},
   "outputs": [
    {
     "name": "stdout",
     "output_type": "stream",
     "text": [
      "   time_s   lw_x   lw_y   lw_z\n",
      "0    0.01 -0.004  0.945 -0.461\n",
      "1    0.02 -0.406 -0.379  1.031\n",
      "2    0.04 -0.340 -0.918  1.160\n"
     ]
    }
   ],
   "source": [
    "df = pd.read_csv('/home/lin/Documents/CAMH/QA-module/data/sensor/generated_testing_data/MDR_0.25_missing.csv')\n",
    "print(df)"
   ]
  },
  {
   "cell_type": "code",
   "execution_count": 8,
   "metadata": {},
   "outputs": [
    {
     "name": "stdout",
     "output_type": "stream",
     "text": [
      "Start computing the DQM... This may take a long time if the dataset is large\n",
      "The total time for computing the DQM is: 0.020873308181762695 seconds.\n"
     ]
    }
   ],
   "source": [
    "testing_MDR_DQM = DQM_single_file()\n",
    "testing_MDR_DQM.set_input_data(df)\n",
    "testing_MDR_DQM.compute_DQM()"
   ]
  },
  {
   "cell_type": "markdown",
   "metadata": {},
   "source": [
    "The MDR score is 0.25 as expected"
   ]
  },
  {
   "cell_type": "code",
   "execution_count": 9,
   "metadata": {},
   "outputs": [
    {
     "data": {
      "text/plain": [
       "'0.25'"
      ]
     },
     "execution_count": 9,
     "metadata": {},
     "output_type": "execute_result"
    }
   ],
   "source": [
    "testing_MDR_DQM.get_MDR()"
   ]
  },
  {
   "cell_type": "markdown",
   "metadata": {},
   "source": [
    "For a 3-row record with 1 missing segment but 2 missing data points, MDR should be 2/(3+2) = 0.4"
   ]
  },
  {
   "cell_type": "code",
   "execution_count": 10,
   "metadata": {},
   "outputs": [
    {
     "name": "stdout",
     "output_type": "stream",
     "text": [
      "   time_s   lw_x   lw_y   lw_z\n",
      "0    0.01 -0.004  0.945 -0.461\n",
      "1    0.02 -0.406 -0.379  1.031\n",
      "2    0.05 -0.340 -0.918  1.160\n"
     ]
    }
   ],
   "source": [
    "df = pd.read_csv('/home/lin/Documents/CAMH/QA-module/data/sensor/generated_testing_data/MDR_0.4_missing.csv')\n",
    "print(df)"
   ]
  },
  {
   "cell_type": "code",
   "execution_count": 11,
   "metadata": {},
   "outputs": [
    {
     "name": "stdout",
     "output_type": "stream",
     "text": [
      "Start computing the DQM... This may take a long time if the dataset is large\n",
      "The total time for computing the DQM is: 0.02471160888671875 seconds.\n"
     ]
    }
   ],
   "source": [
    "testing_MDR_DQM = DQM_single_file()\n",
    "testing_MDR_DQM.set_input_data(df)\n",
    "testing_MDR_DQM.compute_DQM()"
   ]
  },
  {
   "cell_type": "markdown",
   "metadata": {},
   "source": [
    "The MDR score is 0.4 as expected"
   ]
  },
  {
   "cell_type": "code",
   "execution_count": 12,
   "metadata": {},
   "outputs": [
    {
     "data": {
      "text/plain": [
       "'0.4'"
      ]
     },
     "execution_count": 12,
     "metadata": {},
     "output_type": "execute_result"
    }
   ],
   "source": [
    "testing_MDR_DQM.get_MDR()"
   ]
  }
 ],
 "metadata": {
  "kernelspec": {
   "display_name": "Python 3.8.10 64-bit",
   "language": "python",
   "name": "python3"
  },
  "language_info": {
   "codemirror_mode": {
    "name": "ipython",
    "version": 3
   },
   "file_extension": ".py",
   "mimetype": "text/x-python",
   "name": "python",
   "nbconvert_exporter": "python",
   "pygments_lexer": "ipython3",
   "version": "3.8.10"
  },
  "orig_nbformat": 4,
  "vscode": {
   "interpreter": {
    "hash": "916dbcbb3f70747c44a77c7bcd40155683ae19c65e1c03b4aa3499c5328201f1"
   }
  }
 },
 "nbformat": 4,
 "nbformat_minor": 2
}
