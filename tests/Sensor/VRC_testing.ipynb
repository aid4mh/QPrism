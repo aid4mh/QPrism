{
  "nbformat": 4,
  "nbformat_minor": 0,
  "metadata": {
    "colab": {
      "name": "Copy of single_file_Demo.ipynb",
      "provenance": [],
      "collapsed_sections": [],
      "authorship_tag": "ABX9TyO1PHNTTYUUsDXS8ZcFG9Pq",
      "include_colab_link": true
    },
    "kernelspec": {
      "name": "python3",
      "display_name": "Python 3"
    },
    "language_info": {
      "name": "python"
    },
    "accelerator": "GPU",
    "gpuClass": "standard"
  },
  "cells": [
    {
      "cell_type": "markdown",
      "metadata": {
        "id": "view-in-github",
        "colab_type": "text"
      },
      "source": [
        "<a href=\"https://colab.research.google.com/github/aid4mh/QPrism/blob/main/tests/Sensor/VRC_testing.ipynb\" target=\"_parent\"><img src=\"https://colab.research.google.com/assets/colab-badge.svg\" alt=\"Open In Colab\"/></a>"
      ]
    },
    {
      "cell_type": "markdown",
      "source": [
        "#This notebook tests the correctness of VRC using the generated data from [here](https://github.com/aid4mh/QPrism/tree/main/data/sensor/generated_testing_data)."
      ],
      "metadata": {
        "id": "9cTuxXa_N7nm"
      }
    },
    {
      "cell_type": "code",
      "execution_count": 1,
      "metadata": {
        "id": "TsLMcFWy4lFc",
        "colab": {
          "base_uri": "https://localhost:8080/"
        },
        "outputId": "8eb6f99e-6ee2-4d08-e70a-64fc129e79b8"
      },
      "outputs": [
        {
          "output_type": "stream",
          "name": "stdout",
          "text": [
            "Looking in indexes: https://pypi.org/simple, https://us-python.pkg.dev/colab-wheels/public/simple/\n",
            "Requirement already satisfied: pip in /usr/local/lib/python3.7/dist-packages (21.1.3)\n",
            "Collecting pip\n",
            "  Downloading pip-22.2.2-py3-none-any.whl (2.0 MB)\n",
            "\u001b[K     |████████████████████████████████| 2.0 MB 30.9 MB/s \n",
            "\u001b[?25hInstalling collected packages: pip\n",
            "  Attempting uninstall: pip\n",
            "    Found existing installation: pip 21.1.3\n",
            "    Uninstalling pip-21.1.3:\n",
            "      Successfully uninstalled pip-21.1.3\n",
            "Successfully installed pip-22.2.2\n"
          ]
        }
      ],
      "source": [
        "! python3 -m pip install --upgrade pip"
      ]
    },
    {
      "cell_type": "markdown",
      "source": [
        "#Install the dependencies and QPrism"
      ],
      "metadata": {
        "id": "J7iYiUIHxxZP"
      }
    },
    {
      "cell_type": "code",
      "source": [
        "! pip install -r https://raw.githubusercontent.com/aid4mh/QPrism/main/requirements.txt"
      ],
      "metadata": {
        "id": "vp6NbBaoxzxw"
      },
      "execution_count": null,
      "outputs": []
    },
    {
      "cell_type": "code",
      "source": [
        "! pip install --no-deps QPrism"
      ],
      "metadata": {
        "id": "6EkTzyu07_y-",
        "colab": {
          "base_uri": "https://localhost:8080/"
        },
        "outputId": "007fe48f-3538-44d7-fe48-62be51de56b5"
      },
      "execution_count": 34,
      "outputs": [
        {
          "output_type": "stream",
          "name": "stdout",
          "text": [
            "Looking in indexes: https://pypi.org/simple, https://us-python.pkg.dev/colab-wheels/public/simple/\n",
            "Requirement already satisfied: QPrism in /usr/local/lib/python3.7/dist-packages (0.2.7)\n",
            "\u001b[33mWARNING: Running pip as the 'root' user can result in broken permissions and conflicting behaviour with the system package manager. It is recommended to use a virtual environment instead: https://pip.pypa.io/warnings/venv\u001b[0m\u001b[33m\n",
            "\u001b[0m"
          ]
        }
      ]
    },
    {
      "cell_type": "code",
      "source": [
        "from QPrism.Sensor.DQM import DQM_multiple_record\n",
        "from QPrism.Sensor.load_data import *"
      ],
      "metadata": {
        "id": "ddgvt-pT9RBJ"
      },
      "execution_count": 83,
      "outputs": []
    },
    {
      "cell_type": "markdown",
      "source": [
        "#For a record with no invalid data, VDR should be 1"
      ],
      "metadata": {
        "id": "MZLDOoHDDjmc"
      }
    },
    {
      "cell_type": "code",
      "source": [
        "import pandas as pd\n",
        "\n",
        "df_list = []\n",
        "df_list.append(pd.read_csv(\"https://raw.githubusercontent.com/aid4mh/QPrism/main/data/sensor/generated_testing_data/VRC_consistent_1.csv\"))\n",
        "df_list.append(pd.read_csv(\"https://raw.githubusercontent.com/aid4mh/QPrism/main/data/sensor/generated_testing_data/VRC_consistent_2.csv\"))\n",
        "for df in df_list:\n",
        "    print(df)\n"
      ],
      "metadata": {
        "colab": {
          "base_uri": "https://localhost:8080/"
        },
        "id": "G_hzZ30lBSx0",
        "outputId": "7e406771-6a0a-4b66-c7bc-7713c0c0ac2d"
      },
      "execution_count": 128,
      "outputs": [
        {
          "output_type": "stream",
          "name": "stdout",
          "text": [
            "   time_s  lw_x  lw_y\n",
            "0    0.01   0.0   0.5\n",
            "1    0.02   0.1   0.0\n",
            "2    0.03   0.6   0.2\n",
            "3    0.04   1.0   0.9\n",
            "4    0.05   0.4   1.0\n",
            "   time_s  lw_x  lw_y\n",
            "0    0.01   1.0   0.5\n",
            "1    0.02   0.4   0.3\n",
            "2    0.03   0.0   0.2\n",
            "3    0.04   0.4   1.0\n",
            "4    0.05   0.7   0.0\n"
          ]
        }
      ]
    },
    {
      "cell_type": "code",
      "source": [
        "testing_VRC_DQM = DQM_multiple_record()\n",
        "testing_VRC_DQM.set_input_data(df_list)\n",
        "testing_VRC_DQM.compute_avg_DQM()"
      ],
      "metadata": {
        "colab": {
          "base_uri": "https://localhost:8080/"
        },
        "id": "lqOoL_mfRy7o",
        "outputId": "7531f54e-b559-40a8-ea7c-1b837baaae4d"
      },
      "execution_count": 129,
      "outputs": [
        {
          "output_type": "stream",
          "name": "stdout",
          "text": [
            "Start computing the DQM... This may take a long time if the dataset is large\n",
            "The total time for computing the DQM is: 0.06830382347106934 seconds.\n"
          ]
        }
      ]
    },
    {
      "cell_type": "markdown",
      "source": [
        "#The VRC score is 1 as expected"
      ],
      "metadata": {
        "id": "nKtAiJV6Wv9n"
      }
    },
    {
      "cell_type": "code",
      "source": [
        "testing_VRC_DQM.get_VRC()"
      ],
      "metadata": {
        "colab": {
          "base_uri": "https://localhost:8080/",
          "height": 35
        },
        "id": "k-9K8aQLWxrB",
        "outputId": "7e5f91a4-50cd-47f4-ef1b-55e159c92db1"
      },
      "execution_count": 130,
      "outputs": [
        {
          "output_type": "execute_result",
          "data": {
            "text/plain": [
              "'1.0'"
            ],
            "application/vnd.google.colaboratory.intrinsic+json": {
              "type": "string"
            }
          },
          "metadata": {},
          "execution_count": 130
        }
      ]
    },
    {
      "cell_type": "markdown",
      "source": [
        "#Now we import another record, which also has two channels, but both channels range from -10 to 10. This should significantly reduce the VRC computed above."
      ],
      "metadata": {
        "id": "NC0lMIXmUf-L"
      }
    },
    {
      "cell_type": "code",
      "source": [
        "df_list.append(pd.read_csv(\"https://raw.githubusercontent.com/aid4mh/QPrism/main/data/sensor/generated_testing_data/VRC_inconsistent_1.csv\"))\n",
        "for df in df_list:\n",
        "    print(df)"
      ],
      "metadata": {
        "colab": {
          "base_uri": "https://localhost:8080/"
        },
        "id": "xT1mJaAJR6Ti",
        "outputId": "96802c68-cfb8-428b-e595-c124110d99cd"
      },
      "execution_count": 131,
      "outputs": [
        {
          "output_type": "stream",
          "name": "stdout",
          "text": [
            "   time_s  lw_x  lw_y\n",
            "0    0.01   0.0   0.5\n",
            "1    0.02   0.1   0.0\n",
            "2    0.03   0.6   0.2\n",
            "3    0.04   1.0   0.9\n",
            "4    0.05   0.4   1.0\n",
            "   time_s  lw_x  lw_y\n",
            "0    0.01   1.0   0.5\n",
            "1    0.02   0.4   0.3\n",
            "2    0.03   0.0   0.2\n",
            "3    0.04   0.4   1.0\n",
            "4    0.05   0.7   0.0\n",
            "   time_s  lw_x  lw_y\n",
            "0    0.01  10.0   0.0\n",
            "1    0.02   0.1   0.0\n",
            "2    0.03  -6.0 -10.0\n",
            "3    0.04 -10.0   0.9\n",
            "4    0.05   0.4  10.0\n"
          ]
        }
      ]
    },
    {
      "cell_type": "code",
      "source": [
        "testing_VRC_DQM.set_input_data(df_list)\n",
        "testing_VRC_DQM.compute_avg_DQM()"
      ],
      "metadata": {
        "colab": {
          "base_uri": "https://localhost:8080/"
        },
        "id": "uHFqiBXcSBsU",
        "outputId": "ac933a25-b13e-42b7-e116-97cea5a3faf7"
      },
      "execution_count": 132,
      "outputs": [
        {
          "output_type": "stream",
          "name": "stdout",
          "text": [
            "Start computing the DQM... This may take a long time if the dataset is large\n",
            "The total time for computing the DQM is: 0.08545565605163574 seconds.\n"
          ]
        }
      ]
    },
    {
      "cell_type": "markdown",
      "source": [
        "#The VRC score is significantly lower than previous score as expected."
      ],
      "metadata": {
        "id": "h7MdF2kZSKHs"
      }
    },
    {
      "cell_type": "code",
      "source": [
        "testing_VRC_DQM.get_VRC()"
      ],
      "metadata": {
        "colab": {
          "base_uri": "https://localhost:8080/",
          "height": 35
        },
        "id": "C0chw7UWSMJM",
        "outputId": "1a423fe3-7c8a-465c-e22c-a7505e2fc504"
      },
      "execution_count": 133,
      "outputs": [
        {
          "output_type": "execute_result",
          "data": {
            "text/plain": [
              "'0.45539220769422273'"
            ],
            "application/vnd.google.colaboratory.intrinsic+json": {
              "type": "string"
            }
          },
          "metadata": {},
          "execution_count": 133
        }
      ]
    }
  ]
}