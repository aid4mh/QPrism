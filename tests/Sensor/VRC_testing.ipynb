{
 "cells": [
  {
   "cell_type": "markdown",
   "metadata": {},
   "source": [
    "This notebook tests the correctness of VRC using generated data located in data/sensor/generated_testing_data"
   ]
  },
  {
   "cell_type": "code",
   "execution_count": 2,
   "metadata": {},
   "outputs": [],
   "source": [
    "from DQM import DQM_multiple_file\n",
    "import pandas as pd"
   ]
  },
  {
   "cell_type": "markdown",
   "metadata": {},
   "source": [
    "Load two 2-channel records, each channel in the two records has value range from 0 to 1. VRC for these two records should be 1."
   ]
  },
  {
   "cell_type": "code",
   "execution_count": 3,
   "metadata": {},
   "outputs": [
    {
     "name": "stdout",
     "output_type": "stream",
     "text": [
      "   time_s  lw_x  lw_y\n",
      "0    0.01   0.0   0.5\n",
      "1    0.02   0.1   0.0\n",
      "2    0.03   0.6   0.2\n",
      "3    0.04   1.0   0.9\n",
      "4    0.05   0.4   1.0\n",
      "   time_s  lw_x  lw_y\n",
      "0    0.01   0.0   0.5\n",
      "1    0.02   0.1   0.0\n",
      "2    0.03   0.6   0.2\n",
      "3    0.04   1.0   0.9\n",
      "4    0.05   0.4   1.0\n"
     ]
    }
   ],
   "source": [
    "df_list = []\n",
    "df_list.append(pd.read_csv('/home/lin/Documents/CAMH/QA-module/data/sensor/generated_testing_data/VRC_consistent_1.csv'))\n",
    "df_list.append(pd.read_csv('/home/lin/Documents/CAMH/QA-module/data/sensor/generated_testing_data/VRC_consistent_1.csv'))\n",
    "for df in df_list:\n",
    "    print(df)"
   ]
  },
  {
   "cell_type": "code",
   "execution_count": 4,
   "metadata": {},
   "outputs": [
    {
     "name": "stdout",
     "output_type": "stream",
     "text": [
      "Start computing the DQM... This may take a long time if the dataset is large\n",
      "The total time for computing the DQM is: 0.2232189178466797 seconds.\n"
     ]
    }
   ],
   "source": [
    "testing_VRC_DQM = DQM_multiple_file()\n",
    "testing_VRC_DQM.set_input_data(df_list)\n",
    "testing_VRC_DQM.compute_DQM()"
   ]
  },
  {
   "cell_type": "markdown",
   "metadata": {},
   "source": [
    "The VRC score is 1 as expected"
   ]
  },
  {
   "cell_type": "code",
   "execution_count": 5,
   "metadata": {},
   "outputs": [
    {
     "data": {
      "text/plain": [
       "'1.0'"
      ]
     },
     "execution_count": 5,
     "metadata": {},
     "output_type": "execute_result"
    }
   ],
   "source": [
    "testing_VRC_DQM.get_VRC()"
   ]
  },
  {
   "cell_type": "markdown",
   "metadata": {},
   "source": [
    "Now we import another record, which also has two channels, but both channels range from -10 to 10. This should significantly reduce the VRC computed above."
   ]
  },
  {
   "cell_type": "code",
   "execution_count": 6,
   "metadata": {},
   "outputs": [
    {
     "name": "stdout",
     "output_type": "stream",
     "text": [
      "   time_s  lw_x  lw_y\n",
      "0    0.01   0.0   0.5\n",
      "1    0.02   0.1   0.0\n",
      "2    0.03   0.6   0.2\n",
      "3    0.04   1.0   0.9\n",
      "4    0.05   0.4   1.0\n",
      "   time_s  lw_x  lw_y\n",
      "0    0.01   0.0   0.5\n",
      "1    0.02   0.1   0.0\n",
      "2    0.03   0.6   0.2\n",
      "3    0.04   1.0   0.9\n",
      "4    0.05   0.4   1.0\n",
      "   time_s  lw_x  lw_y\n",
      "0    0.01  10.0   0.0\n",
      "1    0.02   0.1   0.0\n",
      "2    0.03  -6.0 -10.0\n",
      "3    0.04 -10.0   0.9\n",
      "4    0.05   0.4  10.0\n"
     ]
    }
   ],
   "source": [
    "df_list.append(pd.read_csv('/home/lin/Documents/CAMH/QA-module/data/sensor/generated_testing_data/VRC_inconsistent_1.csv'))\n",
    "for df in df_list:\n",
    "    print(df)"
   ]
  },
  {
   "cell_type": "code",
   "execution_count": 7,
   "metadata": {},
   "outputs": [
    {
     "name": "stdout",
     "output_type": "stream",
     "text": [
      "Start computing the DQM... This may take a long time if the dataset is large\n",
      "The total time for computing the DQM is: 0.062499046325683594 seconds.\n"
     ]
    }
   ],
   "source": [
    "testing_VRC_DQM.set_input_data(df_list)\n",
    "testing_VRC_DQM.compute_DQM()"
   ]
  },
  {
   "cell_type": "markdown",
   "metadata": {},
   "source": [
    "The VRC score is significantly lower than previous score as expected."
   ]
  },
  {
   "cell_type": "code",
   "execution_count": 8,
   "metadata": {},
   "outputs": [
    {
     "data": {
      "text/plain": [
       "'0.45539220769422273'"
      ]
     },
     "execution_count": 8,
     "metadata": {},
     "output_type": "execute_result"
    }
   ],
   "source": [
    "testing_VRC_DQM.get_VRC()"
   ]
  }
 ],
 "metadata": {
  "kernelspec": {
   "display_name": "Python 3.8.10 64-bit",
   "language": "python",
   "name": "python3"
  },
  "language_info": {
   "codemirror_mode": {
    "name": "ipython",
    "version": 3
   },
   "file_extension": ".py",
   "mimetype": "text/x-python",
   "name": "python",
   "nbconvert_exporter": "python",
   "pygments_lexer": "ipython3",
   "version": "3.8.10"
  },
  "orig_nbformat": 4,
  "vscode": {
   "interpreter": {
    "hash": "916dbcbb3f70747c44a77c7bcd40155683ae19c65e1c03b4aa3499c5328201f1"
   }
  }
 },
 "nbformat": 4,
 "nbformat_minor": 2
}
