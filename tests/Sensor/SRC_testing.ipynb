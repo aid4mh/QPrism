{
  "nbformat": 4,
  "nbformat_minor": 0,
  "metadata": {
    "colab": {
      "name": "Copy of single_file_Demo.ipynb",
      "provenance": [],
      "collapsed_sections": [],
      "authorship_tag": "ABX9TyPVw6JgFWvxUwZvajcSE/0y",
      "include_colab_link": true
    },
    "kernelspec": {
      "name": "python3",
      "display_name": "Python 3"
    },
    "language_info": {
      "name": "python"
    },
    "accelerator": "GPU",
    "gpuClass": "standard"
  },
  "cells": [
    {
      "cell_type": "markdown",
      "metadata": {
        "id": "view-in-github",
        "colab_type": "text"
      },
      "source": [
        "<a href=\"https://colab.research.google.com/github/aid4mh/QPrism/blob/main/tests/Sensor/SRC_testing.ipynb\" target=\"_parent\"><img src=\"https://colab.research.google.com/assets/colab-badge.svg\" alt=\"Open In Colab\"/></a>"
      ]
    },
    {
      "cell_type": "markdown",
      "source": [
        "#This notebook tests the correctness of SRC using the generated data from [here](https://github.com/aid4mh/QPrism/tree/main/data/sensor/generated_testing_data)."
      ],
      "metadata": {
        "id": "9cTuxXa_N7nm"
      }
    },
    {
      "cell_type": "code",
      "execution_count": 1,
      "metadata": {
        "id": "TsLMcFWy4lFc",
        "colab": {
          "base_uri": "https://localhost:8080/"
        },
        "outputId": "b3b9cee3-1430-448e-d18c-93b28dcf37c7"
      },
      "outputs": [
        {
          "output_type": "stream",
          "name": "stdout",
          "text": [
            "Looking in indexes: https://pypi.org/simple, https://us-python.pkg.dev/colab-wheels/public/simple/\n",
            "Requirement already satisfied: pip in /usr/local/lib/python3.7/dist-packages (21.1.3)\n",
            "Collecting pip\n",
            "  Downloading pip-22.2.2-py3-none-any.whl (2.0 MB)\n",
            "\u001b[K     |████████████████████████████████| 2.0 MB 5.1 MB/s \n",
            "\u001b[?25hInstalling collected packages: pip\n",
            "  Attempting uninstall: pip\n",
            "    Found existing installation: pip 21.1.3\n",
            "    Uninstalling pip-21.1.3:\n",
            "      Successfully uninstalled pip-21.1.3\n",
            "Successfully installed pip-22.2.2\n"
          ]
        }
      ],
      "source": [
        "! python3 -m pip install --upgrade pip"
      ]
    },
    {
      "cell_type": "markdown",
      "source": [
        "#Install the dependencies and QPrism"
      ],
      "metadata": {
        "id": "J7iYiUIHxxZP"
      }
    },
    {
      "cell_type": "code",
      "source": [
        "! pip install -r https://raw.githubusercontent.com/aid4mh/QPrism/main/requirements.txt"
      ],
      "metadata": {
        "id": "vp6NbBaoxzxw"
      },
      "execution_count": null,
      "outputs": []
    },
    {
      "cell_type": "code",
      "source": [
        "! pip install --no-deps QPrism"
      ],
      "metadata": {
        "id": "6EkTzyu07_y-"
      },
      "execution_count": null,
      "outputs": []
    },
    {
      "cell_type": "code",
      "source": [
        "from QPrism.Sensor.DQM import DQM_single_record\n",
        "from QPrism.Sensor.load_data import *"
      ],
      "metadata": {
        "id": "ddgvt-pT9RBJ"
      },
      "execution_count": 2,
      "outputs": []
    },
    {
      "cell_type": "markdown",
      "source": [
        "#For a 3-row record with consistent sampling rate 100Hz, SRC should be 1"
      ],
      "metadata": {
        "id": "MZLDOoHDDjmc"
      }
    },
    {
      "cell_type": "code",
      "source": [
        "import pandas as pd\n",
        "\n",
        "df = pd.read_csv(\"https://raw.githubusercontent.com/aid4mh/QPrism/main/data/sensor/generated_testing_data/SRC_3-row_1.csv\")\n",
        "print(df)\n"
      ],
      "metadata": {
        "colab": {
          "base_uri": "https://localhost:8080/"
        },
        "id": "G_hzZ30lBSx0",
        "outputId": "64a1b4f4-a931-4af5-cfc2-f605b48646e4"
      },
      "execution_count": 3,
      "outputs": [
        {
          "output_type": "stream",
          "name": "stdout",
          "text": [
            "   time_s   lw_x   lw_y   lw_z\n",
            "0    0.01 -0.004  0.945 -0.461\n",
            "1    0.02 -0.406 -0.379  1.031\n",
            "2    0.03 -0.340 -0.918  1.160\n"
          ]
        }
      ]
    },
    {
      "cell_type": "code",
      "source": [
        "testing_SRC_DQM = DQM_single_record()\n",
        "testing_SRC_DQM.set_input_data(df)\n",
        "testing_SRC_DQM.compute_DQM()"
      ],
      "metadata": {
        "id": "lqOoL_mfRy7o"
      },
      "execution_count": 4,
      "outputs": []
    },
    {
      "cell_type": "markdown",
      "source": [
        "#The SRC score is 1 as expected"
      ],
      "metadata": {
        "id": "nKtAiJV6Wv9n"
      }
    },
    {
      "cell_type": "code",
      "source": [
        "testing_SRC_DQM.get_SRC()"
      ],
      "metadata": {
        "colab": {
          "base_uri": "https://localhost:8080/",
          "height": 35
        },
        "id": "k-9K8aQLWxrB",
        "outputId": "7e9163aa-0883-43ac-d747-95c7dcf9f95b"
      },
      "execution_count": 5,
      "outputs": [
        {
          "output_type": "execute_result",
          "data": {
            "text/plain": [
              "'1.0'"
            ],
            "application/vnd.google.colaboratory.intrinsic+json": {
              "type": "string"
            }
          },
          "metadata": {},
          "execution_count": 5
        }
      ]
    },
    {
      "cell_type": "markdown",
      "source": [
        "#For a 2-row record with sampling rate 100Hz, SRC should also be 1"
      ],
      "metadata": {
        "id": "NC0lMIXmUf-L"
      }
    },
    {
      "cell_type": "code",
      "source": [
        "df = pd.read_csv(\"https://raw.githubusercontent.com/aid4mh/QPrism/main/data/sensor/generated_testing_data/SRC_2-row_1.csv\")\n",
        "print(df)"
      ],
      "metadata": {
        "colab": {
          "base_uri": "https://localhost:8080/"
        },
        "id": "xT1mJaAJR6Ti",
        "outputId": "6a36bb57-d878-4176-c795-1ccba359e599"
      },
      "execution_count": 6,
      "outputs": [
        {
          "output_type": "stream",
          "name": "stdout",
          "text": [
            "   time_s   lw_x   lw_y   lw_z\n",
            "0    0.01 -0.004  0.945 -0.461\n",
            "1    0.02 -0.406 -0.379  1.031\n"
          ]
        }
      ]
    },
    {
      "cell_type": "code",
      "source": [
        "testing_SRC_DQM.set_input_data(df)\n",
        "testing_SRC_DQM.compute_DQM()"
      ],
      "metadata": {
        "id": "uHFqiBXcSBsU"
      },
      "execution_count": 7,
      "outputs": []
    },
    {
      "cell_type": "markdown",
      "source": [
        "#The SRC score is 1 as expected"
      ],
      "metadata": {
        "id": "h7MdF2kZSKHs"
      }
    },
    {
      "cell_type": "code",
      "source": [
        "testing_SRC_DQM.get_SRC()"
      ],
      "metadata": {
        "colab": {
          "base_uri": "https://localhost:8080/",
          "height": 35
        },
        "id": "C0chw7UWSMJM",
        "outputId": "b6c88d19-c8e3-4c29-9567-2e6f2a67183a"
      },
      "execution_count": 8,
      "outputs": [
        {
          "output_type": "execute_result",
          "data": {
            "text/plain": [
              "'1.0'"
            ],
            "application/vnd.google.colaboratory.intrinsic+json": {
              "type": "string"
            }
          },
          "metadata": {},
          "execution_count": 8
        }
      ]
    },
    {
      "cell_type": "markdown",
      "source": [
        "#For a 3-row record with inconsistent sampling rate, SRC should be less than 1, specifically, it should be 1/2, since two sampling gaps are differed from each other"
      ],
      "metadata": {
        "id": "Oj4WWQRKYLVJ"
      }
    },
    {
      "cell_type": "code",
      "source": [
        "df = pd.read_csv(\"https://raw.githubusercontent.com/aid4mh/QPrism/main/data/sensor/generated_testing_data/SRC_3-row_2.csv\")\n",
        "print(df)"
      ],
      "metadata": {
        "colab": {
          "base_uri": "https://localhost:8080/"
        },
        "id": "z41bB6zjYK3v",
        "outputId": "ace9f215-209e-46f5-d856-d57f1e31b4e4"
      },
      "execution_count": 9,
      "outputs": [
        {
          "output_type": "stream",
          "name": "stdout",
          "text": [
            "   time_s   lw_x   lw_y   lw_z\n",
            "0    0.01 -0.004  0.945 -0.461\n",
            "1    0.02 -0.406 -0.379  1.031\n",
            "2    0.04 -0.340 -0.918  1.160\n"
          ]
        }
      ]
    },
    {
      "cell_type": "code",
      "source": [
        "testing_SRC_DQM.set_input_data(df)\n",
        "testing_SRC_DQM.compute_DQM()"
      ],
      "metadata": {
        "id": "xgUvQmIfYagz"
      },
      "execution_count": 10,
      "outputs": []
    },
    {
      "cell_type": "markdown",
      "source": [
        "#The SRC score is 0.5 as expected"
      ],
      "metadata": {
        "id": "3cHzz9HsYbV1"
      }
    },
    {
      "cell_type": "code",
      "source": [
        "testing_SRC_DQM.get_SRC()"
      ],
      "metadata": {
        "colab": {
          "base_uri": "https://localhost:8080/",
          "height": 35
        },
        "id": "yaEThGr8YdNd",
        "outputId": "34decf8e-1e91-4fae-82c1-2c55fd536f11"
      },
      "execution_count": 11,
      "outputs": [
        {
          "output_type": "execute_result",
          "data": {
            "text/plain": [
              "'0.5'"
            ],
            "application/vnd.google.colaboratory.intrinsic+json": {
              "type": "string"
            }
          },
          "metadata": {},
          "execution_count": 11
        }
      ]
    },
    {
      "cell_type": "markdown",
      "source": [
        "# For a 4-row record with mode sampling rate 0.01, and one abnormal sampling rate 0.02, SRC should be 1-(1/3) = 2/3"
      ],
      "metadata": {
        "id": "HY-jPiuq6-p-"
      }
    },
    {
      "cell_type": "code",
      "source": [
        "df = pd.read_csv(\"https://raw.githubusercontent.com/aid4mh/QPrism/main/data/sensor/generated_testing_data/SRC_4-row.csv\")\n",
        "print(df)"
      ],
      "metadata": {
        "colab": {
          "base_uri": "https://localhost:8080/"
        },
        "id": "ZT2cRAnW7Nr6",
        "outputId": "4e37bf62-6e72-4690-f81b-cbb6421d0de2"
      },
      "execution_count": 12,
      "outputs": [
        {
          "output_type": "stream",
          "name": "stdout",
          "text": [
            "   time_s   lw_x   lw_y   lw_z\n",
            "0    0.01 -0.004  0.945 -0.461\n",
            "1    0.02 -0.406 -0.379  1.031\n",
            "2    0.04 -0.340 -0.918  1.160\n",
            "3    0.05 -0.134 -0.180  1.176\n"
          ]
        }
      ]
    },
    {
      "cell_type": "code",
      "source": [
        "testing_SRC_DQM.set_input_data(df)\n",
        "testing_SRC_DQM.compute_DQM()"
      ],
      "metadata": {
        "id": "gyUtZYQW7TwE"
      },
      "execution_count": 13,
      "outputs": []
    },
    {
      "cell_type": "markdown",
      "source": [
        "# The SRC score is 2/3 as expected"
      ],
      "metadata": {
        "id": "Ktd9_HoG7WNE"
      }
    },
    {
      "cell_type": "code",
      "source": [
        "testing_SRC_DQM.get_SRC()"
      ],
      "metadata": {
        "colab": {
          "base_uri": "https://localhost:8080/",
          "height": 35
        },
        "id": "38CbpfrT7U_s",
        "outputId": "60ba8c94-50f0-4f31-a265-aa35a015492c"
      },
      "execution_count": 14,
      "outputs": [
        {
          "output_type": "execute_result",
          "data": {
            "text/plain": [
              "'0.6666666666666667'"
            ],
            "application/vnd.google.colaboratory.intrinsic+json": {
              "type": "string"
            }
          },
          "metadata": {},
          "execution_count": 14
        }
      ]
    }
  ]
}