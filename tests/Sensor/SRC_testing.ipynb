{
  "nbformat": 4,
  "nbformat_minor": 0,
  "metadata": {
    "colab": {
      "name": "Copy of single_file_Demo.ipynb",
      "provenance": [],
      "collapsed_sections": [],
      "authorship_tag": "ABX9TyNVCS1Zq31pZ9jJWyHJEQ6r",
      "include_colab_link": true
    },
    "kernelspec": {
      "name": "python3",
      "display_name": "Python 3"
    },
    "language_info": {
      "name": "python"
    },
    "accelerator": "GPU",
    "gpuClass": "standard"
  },
  "cells": [
    {
      "cell_type": "markdown",
      "metadata": {
        "id": "view-in-github",
        "colab_type": "text"
      },
      "source": [
        "<a href=\"https://colab.research.google.com/github/aid4mh/QPrism/blob/main/tests/Sensor/SRC_testing.ipynb\" target=\"_parent\"><img src=\"https://colab.research.google.com/assets/colab-badge.svg\" alt=\"Open In Colab\"/></a>"
      ]
    },
    {
      "cell_type": "markdown",
      "source": [
        "#This notebook tests the correctness of SRC using the generated data from [here](https://github.com/aid4mh/QPrism/tree/main/data/sensor/generated_testing_data)."
      ],
      "metadata": {
        "id": "9cTuxXa_N7nm"
      }
    },
    {
      "cell_type": "code",
      "execution_count": 1,
      "metadata": {
        "id": "TsLMcFWy4lFc",
        "colab": {
          "base_uri": "https://localhost:8080/"
        },
        "outputId": "8eb6f99e-6ee2-4d08-e70a-64fc129e79b8"
      },
      "outputs": [
        {
          "output_type": "stream",
          "name": "stdout",
          "text": [
            "Looking in indexes: https://pypi.org/simple, https://us-python.pkg.dev/colab-wheels/public/simple/\n",
            "Requirement already satisfied: pip in /usr/local/lib/python3.7/dist-packages (21.1.3)\n",
            "Collecting pip\n",
            "  Downloading pip-22.2.2-py3-none-any.whl (2.0 MB)\n",
            "\u001b[K     |████████████████████████████████| 2.0 MB 30.9 MB/s \n",
            "\u001b[?25hInstalling collected packages: pip\n",
            "  Attempting uninstall: pip\n",
            "    Found existing installation: pip 21.1.3\n",
            "    Uninstalling pip-21.1.3:\n",
            "      Successfully uninstalled pip-21.1.3\n",
            "Successfully installed pip-22.2.2\n"
          ]
        }
      ],
      "source": [
        "! python3 -m pip install --upgrade pip"
      ]
    },
    {
      "cell_type": "markdown",
      "source": [
        "#Install the dependencies and QPrism"
      ],
      "metadata": {
        "id": "J7iYiUIHxxZP"
      }
    },
    {
      "cell_type": "code",
      "source": [
        "! pip install -r https://raw.githubusercontent.com/aid4mh/QPrism/main/requirements.txt"
      ],
      "metadata": {
        "id": "vp6NbBaoxzxw"
      },
      "execution_count": null,
      "outputs": []
    },
    {
      "cell_type": "code",
      "source": [
        "! pip install --no-deps QPrism"
      ],
      "metadata": {
        "id": "6EkTzyu07_y-",
        "colab": {
          "base_uri": "https://localhost:8080/"
        },
        "outputId": "007fe48f-3538-44d7-fe48-62be51de56b5"
      },
      "execution_count": 34,
      "outputs": [
        {
          "output_type": "stream",
          "name": "stdout",
          "text": [
            "Looking in indexes: https://pypi.org/simple, https://us-python.pkg.dev/colab-wheels/public/simple/\n",
            "Requirement already satisfied: QPrism in /usr/local/lib/python3.7/dist-packages (0.2.7)\n",
            "\u001b[33mWARNING: Running pip as the 'root' user can result in broken permissions and conflicting behaviour with the system package manager. It is recommended to use a virtual environment instead: https://pip.pypa.io/warnings/venv\u001b[0m\u001b[33m\n",
            "\u001b[0m"
          ]
        }
      ]
    },
    {
      "cell_type": "code",
      "source": [
        "from QPrism.Sensor.DQM import DQM_multiple_record\n",
        "from QPrism.Sensor.load_data import *"
      ],
      "metadata": {
        "id": "ddgvt-pT9RBJ"
      },
      "execution_count": 83,
      "outputs": []
    },
    {
      "cell_type": "markdown",
      "source": [
        "#For a 3-row record with consistent sampling rate 100Hz, SRC should be 1"
      ],
      "metadata": {
        "id": "MZLDOoHDDjmc"
      }
    },
    {
      "cell_type": "code",
      "source": [
        "import pandas as pd\n",
        "\n",
        "df = pd.read_csv(\"https://raw.githubusercontent.com/aid4mh/QPrism/main/data/sensor/generated_testing_data/SRC_3-row_1.csv\")\n",
        "print(df)\n"
      ],
      "metadata": {
        "colab": {
          "base_uri": "https://localhost:8080/"
        },
        "id": "G_hzZ30lBSx0",
        "outputId": "4f2626fd-0662-43be-95d1-4861f26d7bfd"
      },
      "execution_count": 112,
      "outputs": [
        {
          "output_type": "stream",
          "name": "stdout",
          "text": [
            "   time_s   lw_x   lw_y   lw_z\n",
            "0    0.01 -0.004  0.945 -0.461\n",
            "1    0.02 -0.406 -0.379  1.031\n",
            "2    0.03 -0.340 -0.918  1.160\n"
          ]
        }
      ]
    },
    {
      "cell_type": "code",
      "source": [
        "testing_SRC_DQM = DQM_single_record()\n",
        "testing_SRC_DQM.set_input_data(df)\n",
        "testing_SRC_DQM.compute_DQM()"
      ],
      "metadata": {
        "id": "lqOoL_mfRy7o"
      },
      "execution_count": 113,
      "outputs": []
    },
    {
      "cell_type": "markdown",
      "source": [
        "#The SRC score is 1 as expected"
      ],
      "metadata": {
        "id": "nKtAiJV6Wv9n"
      }
    },
    {
      "cell_type": "code",
      "source": [
        "testing_SRC_DQM.get_SRC()"
      ],
      "metadata": {
        "colab": {
          "base_uri": "https://localhost:8080/",
          "height": 35
        },
        "id": "k-9K8aQLWxrB",
        "outputId": "3b6d93d2-c31a-41c0-82f9-e88097bde560"
      },
      "execution_count": 114,
      "outputs": [
        {
          "output_type": "execute_result",
          "data": {
            "text/plain": [
              "'1.0'"
            ],
            "application/vnd.google.colaboratory.intrinsic+json": {
              "type": "string"
            }
          },
          "metadata": {},
          "execution_count": 114
        }
      ]
    },
    {
      "cell_type": "markdown",
      "source": [
        "#For a 2-row record with sampling rate 100Hz, SRC should also be 1"
      ],
      "metadata": {
        "id": "NC0lMIXmUf-L"
      }
    },
    {
      "cell_type": "code",
      "source": [
        "df = pd.read_csv(\"https://raw.githubusercontent.com/aid4mh/QPrism/main/data/sensor/generated_testing_data/SRC_2-row_1.csv\")\n",
        "print(df)"
      ],
      "metadata": {
        "colab": {
          "base_uri": "https://localhost:8080/"
        },
        "id": "xT1mJaAJR6Ti",
        "outputId": "aef36de1-5884-4ab6-f273-437eb259bd87"
      },
      "execution_count": 115,
      "outputs": [
        {
          "output_type": "stream",
          "name": "stdout",
          "text": [
            "   time_s   lw_x   lw_y   lw_z\n",
            "0    0.01 -0.004  0.945 -0.461\n",
            "1    0.02 -0.406 -0.379  1.031\n"
          ]
        }
      ]
    },
    {
      "cell_type": "code",
      "source": [
        "testing_SRC_DQM.set_input_data(df)\n",
        "testing_SRC_DQM.compute_DQM()"
      ],
      "metadata": {
        "id": "uHFqiBXcSBsU"
      },
      "execution_count": 116,
      "outputs": []
    },
    {
      "cell_type": "markdown",
      "source": [
        "#The SRC score is 1 as expected"
      ],
      "metadata": {
        "id": "h7MdF2kZSKHs"
      }
    },
    {
      "cell_type": "code",
      "source": [
        "testing_SRC_DQM.get_SRC()"
      ],
      "metadata": {
        "colab": {
          "base_uri": "https://localhost:8080/",
          "height": 35
        },
        "id": "C0chw7UWSMJM",
        "outputId": "b206f158-4c6a-478d-cbbd-5b6772cc2271"
      },
      "execution_count": 117,
      "outputs": [
        {
          "output_type": "execute_result",
          "data": {
            "text/plain": [
              "'1.0'"
            ],
            "application/vnd.google.colaboratory.intrinsic+json": {
              "type": "string"
            }
          },
          "metadata": {},
          "execution_count": 117
        }
      ]
    },
    {
      "cell_type": "markdown",
      "source": [
        "#For a 3-row record with inconsistent sampling rate, SRC should be less than 1"
      ],
      "metadata": {
        "id": "Oj4WWQRKYLVJ"
      }
    },
    {
      "cell_type": "code",
      "source": [
        "df = pd.read_csv(\"https://raw.githubusercontent.com/aid4mh/QPrism/main/data/sensor/generated_testing_data/SRC_3-row_2.csv\")\n",
        "print(df)"
      ],
      "metadata": {
        "colab": {
          "base_uri": "https://localhost:8080/"
        },
        "id": "z41bB6zjYK3v",
        "outputId": "875c8f25-6361-4f5a-a8cb-8dd398893673"
      },
      "execution_count": 118,
      "outputs": [
        {
          "output_type": "stream",
          "name": "stdout",
          "text": [
            "   time_s   lw_x   lw_y   lw_z\n",
            "0    0.01 -0.004  0.945 -0.461\n",
            "1    0.02 -0.406 -0.379  1.031\n",
            "2    0.04 -0.340 -0.918  1.160\n"
          ]
        }
      ]
    },
    {
      "cell_type": "code",
      "source": [
        "testing_SRC_DQM.set_input_data(df)\n",
        "testing_SRC_DQM.compute_DQM()"
      ],
      "metadata": {
        "id": "xgUvQmIfYagz"
      },
      "execution_count": 120,
      "outputs": []
    },
    {
      "cell_type": "markdown",
      "source": [
        "#The SRC score is less than 1 as expected"
      ],
      "metadata": {
        "id": "3cHzz9HsYbV1"
      }
    },
    {
      "cell_type": "code",
      "source": [
        "testing_SRC_DQM.get_SRC()"
      ],
      "metadata": {
        "colab": {
          "base_uri": "https://localhost:8080/",
          "height": 35
        },
        "id": "yaEThGr8YdNd",
        "outputId": "9bb3bbb8-b121-43d9-dd1e-55cc6207b95f"
      },
      "execution_count": 121,
      "outputs": [
        {
          "output_type": "execute_result",
          "data": {
            "text/plain": [
              "'0.8348595870753706'"
            ],
            "application/vnd.google.colaboratory.intrinsic+json": {
              "type": "string"
            }
          },
          "metadata": {},
          "execution_count": 121
        }
      ]
    }
  ]
}