{
 "cells": [
  {
   "cell_type": "markdown",
   "metadata": {},
   "source": [
    "This notebook tests the correctness of SCR using generated data located in data/sensor/generated_testing_data"
   ]
  },
  {
   "cell_type": "code",
   "execution_count": 1,
   "metadata": {},
   "outputs": [],
   "source": [
    "from DQM import DQM_multiple_file\n",
    "import pandas as pd"
   ]
  },
  {
   "cell_type": "markdown",
   "metadata": {},
   "source": [
    "For two records both have 3 data channels, SCR should be 1"
   ]
  },
  {
   "cell_type": "code",
   "execution_count": 2,
   "metadata": {},
   "outputs": [
    {
     "name": "stdout",
     "output_type": "stream",
     "text": [
      "   time_s   lw_x   lw_y   lw_z\n",
      "0    0.01 -0.004  0.945 -0.461\n",
      "1    0.02 -0.406 -0.379  1.031\n",
      "2    0.03 -0.340 -0.918  1.160\n",
      "   time_s   lw_x   lw_y   lw_z\n",
      "0    0.01 -0.004  0.945 -0.461\n",
      "1    0.02 -0.406 -0.379  1.031\n",
      "2    0.03 -0.340 -0.918  1.160\n"
     ]
    }
   ],
   "source": [
    "df_list = []\n",
    "df_list.append(pd.read_csv('/home/lin/Documents/CAMH/QA-module/data/sensor/generated_testing_data/SCR_complete_1.csv'))\n",
    "df_list.append(pd.read_csv('/home/lin/Documents/CAMH/QA-module/data/sensor/generated_testing_data/SCR_complete_2.csv'))\n",
    "for df in df_list:\n",
    "    print(df)"
   ]
  },
  {
   "cell_type": "code",
   "execution_count": 3,
   "metadata": {},
   "outputs": [
    {
     "name": "stdout",
     "output_type": "stream",
     "text": [
      "Start computing the DQM... This may take a long time if the dataset is large\n",
      "The total time for computing the DQM is: 0.0479583740234375 seconds.\n"
     ]
    }
   ],
   "source": [
    "testing_SCR_DQM = DQM_multiple_file()\n",
    "testing_SCR_DQM.set_input_data(df_list)\n",
    "testing_SCR_DQM.compute_DQM()"
   ]
  },
  {
   "cell_type": "markdown",
   "metadata": {},
   "source": [
    "The SCR score is 1 as expected"
   ]
  },
  {
   "cell_type": "code",
   "execution_count": 4,
   "metadata": {},
   "outputs": [
    {
     "data": {
      "text/plain": [
       "'1.0'"
      ]
     },
     "execution_count": 4,
     "metadata": {},
     "output_type": "execute_result"
    }
   ],
   "source": [
    "testing_SCR_DQM.get_SCR()"
   ]
  },
  {
   "cell_type": "markdown",
   "metadata": {},
   "source": [
    "Now we adding one more record that has 2 data channels to the list. Since the majority records has 3 data channels, the newly added record will be counted as a record with missing channels. Thus, the SCR will be 1/3."
   ]
  },
  {
   "cell_type": "code",
   "execution_count": 5,
   "metadata": {},
   "outputs": [
    {
     "name": "stdout",
     "output_type": "stream",
     "text": [
      "   time_s   lw_x   lw_y   lw_z\n",
      "0    0.01 -0.004  0.945 -0.461\n",
      "1    0.02 -0.406 -0.379  1.031\n",
      "2    0.03 -0.340 -0.918  1.160\n",
      "   time_s   lw_x   lw_y   lw_z\n",
      "0    0.01 -0.004  0.945 -0.461\n",
      "1    0.02 -0.406 -0.379  1.031\n",
      "2    0.03 -0.340 -0.918  1.160\n",
      "   time_s   lw_x   lw_y\n",
      "0    0.01 -0.004  0.945\n",
      "1    0.02 -0.406 -0.379\n",
      "2    0.03 -0.340 -0.918\n"
     ]
    }
   ],
   "source": [
    "df_list.append(pd.read_csv('/home/lin/Documents/CAMH/QA-module/data/sensor/generated_testing_data/SCR_incomplete.csv'))\n",
    "for df in df_list:\n",
    "    print(df)"
   ]
  },
  {
   "cell_type": "code",
   "execution_count": 6,
   "metadata": {},
   "outputs": [
    {
     "name": "stdout",
     "output_type": "stream",
     "text": [
      "Start computing the DQM... This may take a long time if the dataset is large\n",
      "The total time for computing the DQM is: 0.0564875602722168 seconds.\n"
     ]
    }
   ],
   "source": [
    "testing_SCR_DQM.set_input_data(df_list)\n",
    "testing_SCR_DQM.compute_DQM()"
   ]
  },
  {
   "cell_type": "markdown",
   "metadata": {},
   "source": [
    "The SCR score is 1/3 as expected"
   ]
  },
  {
   "cell_type": "code",
   "execution_count": 7,
   "metadata": {},
   "outputs": [
    {
     "data": {
      "text/plain": [
       "'0.6666666666666666'"
      ]
     },
     "execution_count": 7,
     "metadata": {},
     "output_type": "execute_result"
    }
   ],
   "source": [
    "testing_SCR_DQM.get_SCR()"
   ]
  }
 ],
 "metadata": {
  "kernelspec": {
   "display_name": "Python 3.8.10 64-bit",
   "language": "python",
   "name": "python3"
  },
  "language_info": {
   "codemirror_mode": {
    "name": "ipython",
    "version": 3
   },
   "file_extension": ".py",
   "mimetype": "text/x-python",
   "name": "python",
   "nbconvert_exporter": "python",
   "pygments_lexer": "ipython3",
   "version": "3.8.10"
  },
  "orig_nbformat": 4,
  "vscode": {
   "interpreter": {
    "hash": "916dbcbb3f70747c44a77c7bcd40155683ae19c65e1c03b4aa3499c5328201f1"
   }
  }
 },
 "nbformat": 4,
 "nbformat_minor": 2
}
