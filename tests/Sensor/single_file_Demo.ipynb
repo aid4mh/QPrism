{
  "nbformat": 4,
  "nbformat_minor": 0,
  "metadata": {
    "colab": {
      "name": "single_file_Demo.ipynb",
      "provenance": [],
      "collapsed_sections": [],
      "authorship_tag": "ABX9TyMwl4/GyhZjwWnAnahhUrjt",
      "include_colab_link": true
    },
    "kernelspec": {
      "name": "python3",
      "display_name": "Python 3"
    },
    "language_info": {
      "name": "python"
    }
  },
  "cells": [
    {
      "cell_type": "markdown",
      "metadata": {
        "id": "view-in-github",
        "colab_type": "text"
      },
      "source": [
        "<a href=\"https://colab.research.google.com/github/aid4mh/QPrism/blob/main/tests/Sensor/single_file_Demo.ipynb\" target=\"_parent\"><img src=\"https://colab.research.google.com/assets/colab-badge.svg\" alt=\"Open In Colab\"/></a>"
      ]
    },
    {
      "cell_type": "code",
      "execution_count": 1,
      "metadata": {
        "id": "TsLMcFWy4lFc",
        "colab": {
          "base_uri": "https://localhost:8080/"
        },
        "outputId": "0fa28e4e-9411-4cbf-d1d2-e4caf41c9ac3"
      },
      "outputs": [
        {
          "output_type": "stream",
          "name": "stdout",
          "text": [
            "Looking in indexes: https://pypi.org/simple, https://us-python.pkg.dev/colab-wheels/public/simple/\n",
            "Requirement already satisfied: pip in /usr/local/lib/python3.7/dist-packages (21.1.3)\n",
            "Collecting pip\n",
            "  Downloading pip-22.2.1-py3-none-any.whl (2.0 MB)\n",
            "\u001b[K     |████████████████████████████████| 2.0 MB 5.1 MB/s \n",
            "\u001b[?25hInstalling collected packages: pip\n",
            "  Attempting uninstall: pip\n",
            "    Found existing installation: pip 21.1.3\n",
            "    Uninstalling pip-21.1.3:\n",
            "      Successfully uninstalled pip-21.1.3\n",
            "Successfully installed pip-22.2.1\n"
          ]
        }
      ],
      "source": [
        "! python3 -m pip install --upgrade pip"
      ]
    },
    {
      "cell_type": "markdown",
      "source": [
        "Install the dependencies"
      ],
      "metadata": {
        "id": "J7iYiUIHxxZP"
      }
    },
    {
      "cell_type": "code",
      "source": [
        "! pip install -r https://raw.githubusercontent.com/aid4mh/QPrism/main/requirements.txt"
      ],
      "metadata": {
        "id": "vp6NbBaoxzxw"
      },
      "execution_count": null,
      "outputs": []
    },
    {
      "cell_type": "code",
      "source": [
        "! pip install --no-deps -i https://test.pypi.org/simple/ QPrism==0.1.6"
      ],
      "metadata": {
        "id": "6EkTzyu07_y-",
        "colab": {
          "base_uri": "https://localhost:8080/"
        },
        "outputId": "e0ca1b12-4897-47b3-adaf-533e9770d9f8"
      },
      "execution_count": 3,
      "outputs": [
        {
          "output_type": "stream",
          "name": "stdout",
          "text": [
            "Looking in indexes: https://test.pypi.org/simple/, https://us-python.pkg.dev/colab-wheels/public/simple/\n",
            "Collecting QPrism==0.1.6\n",
            "  Downloading https://test-files.pythonhosted.org/packages/ff/99/e02142a2383d555aedf34f085e711029b6ff27fd18c843f686546c216c25/qprism-0.1.6-py3-none-any.whl (35 kB)\n",
            "Installing collected packages: QPrism\n",
            "Successfully installed QPrism-0.1.6\n",
            "\u001b[33mWARNING: Running pip as the 'root' user can result in broken permissions and conflicting behaviour with the system package manager. It is recommended to use a virtual environment instead: https://pip.pypa.io/warnings/venv\u001b[0m\u001b[33m\n",
            "\u001b[0m"
          ]
        }
      ]
    },
    {
      "cell_type": "code",
      "source": [
        "from QPrism.Sensor.DQM import DQM_single_file\n",
        "from QPrism.Sensor.load_data import *"
      ],
      "metadata": {
        "id": "ddgvt-pT9RBJ"
      },
      "execution_count": 4,
      "outputs": []
    },
    {
      "cell_type": "markdown",
      "source": [
        "Load a sufficient json record and demonstrate the structure of the loaded data frame. For the original json file data structure, check the provided test data under data/sensor/json in the repo. modules/Sensor/load_data.py provides examples of how to load a json/csv file into this particular structure locally."
      ],
      "metadata": {
        "id": "MZLDOoHDDjmc"
      }
    },
    {
      "cell_type": "code",
      "source": [
        "from urllib.request import urlopen\n",
        "import json\n",
        "import pandas as pd\n",
        "\n",
        "response = urlopen(\"https://raw.githubusercontent.com/aid4mh/QPrism/main/data/sensor/json/SUBJ00001_Accelerometer_REC000000.json\")\n",
        "json_data = response.read().decode('utf-8', 'replace')\n",
        "\n",
        "json_file = json.loads(json_data)\n",
        "json_file = json.dumps(list(json_file['records']))\n",
        "df = (pd.read_json(json_file))\n",
        "df[list(df.keys())[0]] = df[list(df.keys())[0]].apply(lambda x: x.value)\n",
        "print(df)"
      ],
      "metadata": {
        "colab": {
          "base_uri": "https://localhost:8080/"
        },
        "id": "G_hzZ30lBSx0",
        "outputId": "4ce9dbc5-a1a1-418e-b75e-d84227c0f415"
      },
      "execution_count": 43,
      "outputs": [
        {
          "output_type": "stream",
          "name": "stdout",
          "text": [
            "               timestamp         x         y          z\n",
            "0    1593954057754000000  2.229002  6.114791   5.324705\n",
            "1    1593954058125000000  2.135628  4.283227   6.833052\n",
            "2    1593954058506000000 -1.721431  5.561730  10.201694\n",
            "3    1593954058729000000 -0.220267  5.365406   7.668628\n",
            "4    1593954058937000000 -0.177171  5.130774   8.346188\n",
            "..                   ...       ...       ...        ...\n",
            "440  1593954154639000000 -0.258574  6.212954   7.388506\n",
            "441  1593954154858000000 -0.301669  6.212954   7.378930\n",
            "442  1593954155076000000 -0.275333  6.193800   7.407660\n",
            "443  1593954155276000000 -0.385466  6.205771   7.474698\n",
            "444  1593954155491000000 -0.385466  6.215348   7.129933\n",
            "\n",
            "[445 rows x 4 columns]\n"
          ]
        }
      ]
    },
    {
      "cell_type": "markdown",
      "source": [
        "Create the DQM_single_file object, set the input data frame, then compute DQM"
      ],
      "metadata": {
        "id": "SVi2w41qEHVg"
      }
    },
    {
      "cell_type": "code",
      "source": [
        "single_json_file_dqm = DQM_single_file()\n",
        "single_json_file_dqm.set_input_data(df)\n",
        "single_json_file_dqm.compute_DQM()"
      ],
      "metadata": {
        "id": "LE5FGzAwEJKa"
      },
      "execution_count": 44,
      "outputs": []
    },
    {
      "cell_type": "markdown",
      "source": [
        "Get the fields of computed data quality matrix"
      ],
      "metadata": {
        "id": "8tAUKcHqEV5b"
      }
    },
    {
      "cell_type": "code",
      "source": [
        "single_json_file_dqm.get_fields()"
      ],
      "metadata": {
        "colab": {
          "base_uri": "https://localhost:8080/"
        },
        "id": "z_jGawxLEWcU",
        "outputId": "99f426cd-dbf3-4a2d-939f-e1b3f352decb"
      },
      "execution_count": 7,
      "outputs": [
        {
          "output_type": "execute_result",
          "data": {
            "text/plain": [
              "['IRLR', 'SNR', 'VDR', 'SRC', 'MDR', 'APD']"
            ]
          },
          "metadata": {},
          "execution_count": 7
        }
      ]
    },
    {
      "cell_type": "markdown",
      "source": [
        "Get the computed data quality matrix as a list, each element in the list represents a metric."
      ],
      "metadata": {
        "id": "zevqKAmBEZA-"
      }
    },
    {
      "cell_type": "code",
      "source": [
        "single_json_file_dqm.get_DQM()"
      ],
      "metadata": {
        "colab": {
          "base_uri": "https://localhost:8080/"
        },
        "id": "Om7c73RqEZ67",
        "outputId": "a2baac6e-3f17-434a-b922-45d92df16c04"
      },
      "execution_count": 8,
      "outputs": [
        {
          "output_type": "execute_result",
          "data": {
            "text/plain": [
              "['1',\n",
              " '-3.096340603605768',\n",
              " '1.0',\n",
              " '0.9011216710642995',\n",
              " '0.013303769401330377',\n",
              " '0.015730337078651686']"
            ]
          },
          "metadata": {},
          "execution_count": 8
        }
      ]
    },
    {
      "cell_type": "markdown",
      "source": [
        "Get each single metric of the computed DQM as a str"
      ],
      "metadata": {
        "id": "thLISO7BEg9u"
      }
    },
    {
      "cell_type": "code",
      "source": [
        "single_json_file_dqm.get_IRLR()"
      ],
      "metadata": {
        "colab": {
          "base_uri": "https://localhost:8080/",
          "height": 35
        },
        "id": "zCQRj9bAEljK",
        "outputId": "0ace7d9b-f133-40a9-88f4-05b3ff9befa4"
      },
      "execution_count": 9,
      "outputs": [
        {
          "output_type": "execute_result",
          "data": {
            "text/plain": [
              "'1'"
            ],
            "application/vnd.google.colaboratory.intrinsic+json": {
              "type": "string"
            }
          },
          "metadata": {},
          "execution_count": 9
        }
      ]
    },
    {
      "cell_type": "code",
      "source": [
        "single_json_file_dqm.get_SNR()"
      ],
      "metadata": {
        "colab": {
          "base_uri": "https://localhost:8080/",
          "height": 35
        },
        "id": "AB8wzKQ3EosY",
        "outputId": "24701885-180d-4c0e-9c69-06edd168f326"
      },
      "execution_count": 10,
      "outputs": [
        {
          "output_type": "execute_result",
          "data": {
            "text/plain": [
              "'-3.096340603605768'"
            ],
            "application/vnd.google.colaboratory.intrinsic+json": {
              "type": "string"
            }
          },
          "metadata": {},
          "execution_count": 10
        }
      ]
    },
    {
      "cell_type": "code",
      "source": [
        "single_json_file_dqm.get_VDR()"
      ],
      "metadata": {
        "colab": {
          "base_uri": "https://localhost:8080/",
          "height": 35
        },
        "id": "2DxN8dD_EqDm",
        "outputId": "924c0d34-f10d-4933-ec54-74cb64c0d727"
      },
      "execution_count": 11,
      "outputs": [
        {
          "output_type": "execute_result",
          "data": {
            "text/plain": [
              "'1.0'"
            ],
            "application/vnd.google.colaboratory.intrinsic+json": {
              "type": "string"
            }
          },
          "metadata": {},
          "execution_count": 11
        }
      ]
    },
    {
      "cell_type": "code",
      "source": [
        "single_json_file_dqm.get_SRC()"
      ],
      "metadata": {
        "colab": {
          "base_uri": "https://localhost:8080/",
          "height": 35
        },
        "id": "Dvd4ir6FEtqC",
        "outputId": "f850cdd2-7a35-459f-efa9-8a79c18ddfe9"
      },
      "execution_count": 12,
      "outputs": [
        {
          "output_type": "execute_result",
          "data": {
            "text/plain": [
              "'0.9011216710642995'"
            ],
            "application/vnd.google.colaboratory.intrinsic+json": {
              "type": "string"
            }
          },
          "metadata": {},
          "execution_count": 12
        }
      ]
    },
    {
      "cell_type": "code",
      "source": [
        "single_json_file_dqm.get_MDR()"
      ],
      "metadata": {
        "colab": {
          "base_uri": "https://localhost:8080/",
          "height": 35
        },
        "id": "lNyXD7z2Eux6",
        "outputId": "8a9a5f46-0097-41b8-a5f3-532fee06ff72"
      },
      "execution_count": 13,
      "outputs": [
        {
          "output_type": "execute_result",
          "data": {
            "text/plain": [
              "'0.013303769401330377'"
            ],
            "application/vnd.google.colaboratory.intrinsic+json": {
              "type": "string"
            }
          },
          "metadata": {},
          "execution_count": 13
        }
      ]
    },
    {
      "cell_type": "code",
      "source": [
        "single_json_file_dqm.get_APD()"
      ],
      "metadata": {
        "colab": {
          "base_uri": "https://localhost:8080/",
          "height": 35
        },
        "id": "MAKthq5uEwLY",
        "outputId": "e7a354e4-6300-4774-acd8-2c20f410aca5"
      },
      "execution_count": 14,
      "outputs": [
        {
          "output_type": "execute_result",
          "data": {
            "text/plain": [
              "'0.015730337078651686'"
            ],
            "application/vnd.google.colaboratory.intrinsic+json": {
              "type": "string"
            }
          },
          "metadata": {},
          "execution_count": 14
        }
      ]
    },
    {
      "cell_type": "markdown",
      "source": [
        "We can also get the detected outliers' index"
      ],
      "metadata": {
        "id": "ehQckjk4aFNh"
      }
    },
    {
      "cell_type": "code",
      "source": [
        "single_json_file_dqm.get_anomaly_index()"
      ],
      "metadata": {
        "colab": {
          "base_uri": "https://localhost:8080/"
        },
        "id": "45DMEE0eaLuT",
        "outputId": "6cf630d8-a667-436a-d635-caadf0c54175"
      },
      "execution_count": 45,
      "outputs": [
        {
          "output_type": "execute_result",
          "data": {
            "text/plain": [
              "[268, 277, 306, 310, 334, 340, 354, 360, 361, 367, 382, 384]"
            ]
          },
          "metadata": {},
          "execution_count": 45
        }
      ]
    },
    {
      "cell_type": "markdown",
      "source": [
        "Save the computed DQM as a csv file at given path."
      ],
      "metadata": {
        "id": "gHRGVdafFG7d"
      }
    },
    {
      "cell_type": "code",
      "source": [
        "from google.colab import drive\n",
        "drive.mount('/content/gdrive')"
      ],
      "metadata": {
        "colab": {
          "base_uri": "https://localhost:8080/"
        },
        "id": "EOVNZAnaSyA2",
        "outputId": "103a0539-bb9c-4326-cbfd-c10c62c80710"
      },
      "execution_count": 16,
      "outputs": [
        {
          "output_type": "stream",
          "name": "stdout",
          "text": [
            "Mounted at /content/gdrive\n"
          ]
        }
      ]
    },
    {
      "cell_type": "markdown",
      "source": [
        "Change the saved path to your gdrive path before run the following lines."
      ],
      "metadata": {
        "id": "H3xNX-ZcTPdQ"
      }
    },
    {
      "cell_type": "code",
      "source": [
        "\n",
        "single_json_file_dqm.save_to_file('/content/gdrive/MyDrive/CAMH/JOSS/Sensor_result/demo_result_single_file.csv')"
      ],
      "metadata": {
        "colab": {
          "base_uri": "https://localhost:8080/"
        },
        "id": "aY0DmWJIFHcz",
        "outputId": "8a3b1ce8-2e5d-43f6-a56f-10468b938477"
      },
      "execution_count": 18,
      "outputs": [
        {
          "output_type": "stream",
          "name": "stdout",
          "text": [
            "Data successfuly saved.\n"
          ]
        }
      ]
    },
    {
      "cell_type": "markdown",
      "source": [
        "Display the saved csv file."
      ],
      "metadata": {
        "id": "ecHlVhARFOX3"
      }
    },
    {
      "cell_type": "code",
      "source": [
        "with open(\"/content/gdrive/MyDrive/CAMH/JOSS/Sensor_result/demo_result_single_file.csv\", \"r\") as DQM_csv:\n",
        "    for row in DQM_csv:\n",
        "        print(row)"
      ],
      "metadata": {
        "colab": {
          "base_uri": "https://localhost:8080/"
        },
        "id": "vO-m8RNzFPCT",
        "outputId": "388ac343-8c1a-41af-ada6-e6d8ad4a4493"
      },
      "execution_count": 19,
      "outputs": [
        {
          "output_type": "stream",
          "name": "stdout",
          "text": [
            "IRLR,SNR,VDR,SRC,MDR,APD\n",
            "\n",
            "1,-3.096340603605768,1.0,0.9011216710642995,0.013303769401330377,0.015730337078651686\n",
            "\n"
          ]
        }
      ]
    },
    {
      "cell_type": "markdown",
      "source": [
        "Set SNR to be not included in DQM"
      ],
      "metadata": {
        "id": "e-Jnlzi4FTtx"
      }
    },
    {
      "cell_type": "code",
      "source": [
        "single_json_file_dqm.set_SNR(False)"
      ],
      "metadata": {
        "id": "Eyai4thbFWLO"
      },
      "execution_count": 20,
      "outputs": []
    },
    {
      "cell_type": "markdown",
      "source": [
        "Compute and get the updated DQM, now SNR should not be included in DQM."
      ],
      "metadata": {
        "id": "_kl8rH2jFX0M"
      }
    },
    {
      "cell_type": "code",
      "source": [
        "single_json_file_dqm.compute_DQM()"
      ],
      "metadata": {
        "id": "5Qe0JQQEFZU0"
      },
      "execution_count": 21,
      "outputs": []
    },
    {
      "cell_type": "code",
      "source": [
        "single_json_file_dqm.get_fields()"
      ],
      "metadata": {
        "colab": {
          "base_uri": "https://localhost:8080/"
        },
        "id": "hlnNDt3iFc0E",
        "outputId": "7554bfd3-e939-4d37-8300-a2291dfabc49"
      },
      "execution_count": 22,
      "outputs": [
        {
          "output_type": "execute_result",
          "data": {
            "text/plain": [
              "['IRLR', 'VDR', 'SRC', 'MDR', 'APD']"
            ]
          },
          "metadata": {},
          "execution_count": 22
        }
      ]
    },
    {
      "cell_type": "code",
      "source": [
        "single_json_file_dqm.get_DQM()"
      ],
      "metadata": {
        "colab": {
          "base_uri": "https://localhost:8080/"
        },
        "id": "eDkVg6bVFeHS",
        "outputId": "24fe269d-3c12-46bd-bbe0-96c7a87688fb"
      },
      "execution_count": 23,
      "outputs": [
        {
          "output_type": "execute_result",
          "data": {
            "text/plain": [
              "['1',\n",
              " '1.0',\n",
              " '0.9011216710642995',\n",
              " '0.013303769401330377',\n",
              " '0.02696629213483146']"
            ]
          },
          "metadata": {},
          "execution_count": 23
        }
      ]
    },
    {
      "cell_type": "markdown",
      "source": [
        "Now get_SNR should not be called"
      ],
      "metadata": {
        "id": "YzpPaWXjFftR"
      }
    },
    {
      "cell_type": "code",
      "source": [
        "single_json_file_dqm.get_SNR()"
      ],
      "metadata": {
        "colab": {
          "base_uri": "https://localhost:8080/",
          "height": 35
        },
        "id": "TE_BOLnYFgdC",
        "outputId": "93be68fd-0757-43d0-ef3c-17d97bedbbe1"
      },
      "execution_count": 24,
      "outputs": [
        {
          "output_type": "execute_result",
          "data": {
            "text/plain": [
              "'SNR is not computed according to the configuration'"
            ],
            "application/vnd.google.colaboratory.intrinsic+json": {
              "type": "string"
            }
          },
          "metadata": {},
          "execution_count": 24
        }
      ]
    },
    {
      "cell_type": "markdown",
      "source": [
        "Note that you can set any metrics except IRLR to be not included as above."
      ],
      "metadata": {
        "id": "YyCt_8NXTs4T"
      }
    },
    {
      "cell_type": "markdown",
      "source": [
        "\n",
        "\n",
        "For an insufficient record, DQM will have np.NaN for all metrics except IRLR. IRLR will have a value of 0 to indicate the input record is insufficient. The following record is an empty record, thus the input data is an empty DataFrame."
      ],
      "metadata": {
        "id": "Ychjr_19Ttn1"
      }
    },
    {
      "cell_type": "code",
      "source": [
        "response = urlopen(\"https://raw.githubusercontent.com/aid4mh/QPrism/main/data/sensor/json/SUBJ00001_Accelerometer_REC000006.json\")\n",
        "json_data = response.read().decode('utf-8', 'replace')\n",
        "\n",
        "print(json_data)"
      ],
      "metadata": {
        "colab": {
          "base_uri": "https://localhost:8080/"
        },
        "id": "fZ2_LksmTwGc",
        "outputId": "5ea5bbb4-2308-49e5-a098-85e8f317c525"
      },
      "execution_count": 26,
      "outputs": [
        {
          "output_type": "stream",
          "name": "stdout",
          "text": [
            "\n"
          ]
        }
      ]
    },
    {
      "cell_type": "code",
      "source": [
        "df = pd.DataFrame([])\n",
        "single_json_file_dqm.set_input_data(df)\n"
      ],
      "metadata": {
        "id": "Fe_F_K_HVvz8"
      },
      "execution_count": 30,
      "outputs": []
    },
    {
      "cell_type": "markdown",
      "source": [
        "First we need to set SNR to be included, since we previously excluded SNR."
      ],
      "metadata": {
        "id": "W4h70J02WIyK"
      }
    },
    {
      "cell_type": "code",
      "source": [
        "single_json_file_dqm.set_SNR(True)"
      ],
      "metadata": {
        "id": "5kyI5wjtWPxm"
      },
      "execution_count": 31,
      "outputs": []
    },
    {
      "cell_type": "markdown",
      "source": [
        "Then we compute the DQM for this insufficient record."
      ],
      "metadata": {
        "id": "53obhxKDWUon"
      }
    },
    {
      "cell_type": "code",
      "source": [
        "single_json_file_dqm.compute_DQM()\n"
      ],
      "metadata": {
        "id": "4Y0mwxl-WTdh"
      },
      "execution_count": 33,
      "outputs": []
    },
    {
      "cell_type": "code",
      "source": [
        "single_json_file_dqm.get_fields()\n"
      ],
      "metadata": {
        "colab": {
          "base_uri": "https://localhost:8080/"
        },
        "id": "s4MVV3jGWowg",
        "outputId": "8b622357-46b8-40e8-b416-f0b00ff5f410"
      },
      "execution_count": 34,
      "outputs": [
        {
          "output_type": "execute_result",
          "data": {
            "text/plain": [
              "['IRLR', 'SNR', 'VDR', 'SRC', 'MDR', 'APD']"
            ]
          },
          "metadata": {},
          "execution_count": 34
        }
      ]
    },
    {
      "cell_type": "code",
      "source": [
        "single_json_file_dqm.get_DQM()"
      ],
      "metadata": {
        "colab": {
          "base_uri": "https://localhost:8080/"
        },
        "id": "oixsMKudWqBJ",
        "outputId": "70062f0d-88b2-4578-9706-10dc3e22c81a"
      },
      "execution_count": 35,
      "outputs": [
        {
          "output_type": "execute_result",
          "data": {
            "text/plain": [
              "['0', nan, nan, nan, nan, nan]"
            ]
          },
          "metadata": {},
          "execution_count": 35
        }
      ]
    },
    {
      "cell_type": "markdown",
      "source": [
        "For the definition of insufficient, please check the IRLR in this [Glossary](https://qprism.readthedocs.io/en/latest/glossary.html#sensor-module)."
      ],
      "metadata": {
        "id": "by6mz-BDWsme"
      }
    },
    {
      "cell_type": "markdown",
      "source": [
        "Now load a sufficient csv sensor data, similarly, you can check modules/Sensor/load_data.py for the code that loads the csv into this structure locally."
      ],
      "metadata": {
        "id": "SFW_0KfPXoKj"
      }
    },
    {
      "cell_type": "code",
      "source": [
        "df = load_data_csv_one_file('https://raw.githubusercontent.com/aid4mh/QPrism/main/data/sensor/csv/id9603e9c3.csv')\n",
        "print(df)"
      ],
      "metadata": {
        "colab": {
          "base_uri": "https://localhost:8080/"
        },
        "id": "DZ8xtnBcXssx",
        "outputId": "176d6990-0f9f-4257-e00c-41132beff87d"
      },
      "execution_count": 36,
      "outputs": [
        {
          "output_type": "stream",
          "name": "stdout",
          "text": [
            "         time_s   lw_x   lw_y   lw_z   lh_x   lh_y   lh_z   la_x   la_y  \\\n",
            "0          0.01 -0.004  0.945 -0.461  0.055  0.992 -0.199  0.168  1.418   \n",
            "1          0.02 -0.406 -0.379  1.031 -0.320 -0.102  0.844 -0.422  0.559   \n",
            "2          0.03 -0.340 -0.918  1.160 -0.152 -0.676  1.160 -0.500  1.004   \n",
            "3          0.04 -0.207 -1.023  0.344  0.059 -0.797  0.453 -0.363  1.363   \n",
            "4          0.05 -0.152 -1.098 -0.012  0.133 -0.875  0.133 -0.301  1.582   \n",
            "...         ...    ...    ...    ...    ...    ...    ...    ...    ...   \n",
            "111295  1112.96  0.000  0.000  0.000  0.246  0.012  0.949  0.453  0.102   \n",
            "111296  1112.97  0.000  0.000  0.000  0.246  0.012  0.949  0.449  0.102   \n",
            "111297  1112.98  0.000  0.000  0.000  0.246  0.012  0.949  0.449  0.102   \n",
            "111298  1112.99  0.000  0.000  0.000  0.246  0.012  0.949  0.449  0.102   \n",
            "111299  1113.00  0.000  0.000  0.000  0.246  0.012  0.949  0.453  0.102   \n",
            "\n",
            "         la_z   ra_x   ra_y   ra_z  \n",
            "0      -0.070 -0.105  1.000  0.125  \n",
            "1       0.891 -0.352 -0.086  0.984  \n",
            "2       1.168 -0.105 -0.602  1.438  \n",
            "3       0.523  0.109 -0.797  0.793  \n",
            "4       0.305  0.203 -0.992  0.512  \n",
            "...       ...    ...    ...    ...  \n",
            "111295  0.879 -0.059  1.027 -0.043  \n",
            "111296  0.879 -0.059  1.027 -0.043  \n",
            "111297  0.871 -0.059  1.027 -0.043  \n",
            "111298  0.875 -0.059  1.027 -0.043  \n",
            "111299  0.875 -0.059  1.027 -0.043  \n",
            "\n",
            "[111300 rows x 13 columns]\n"
          ]
        }
      ]
    },
    {
      "cell_type": "markdown",
      "source": [
        "Compute the DQM, this computation takes significantly longer time, since the record contains 111300 rows × 13 columns of data. The runtime for this record on a PC with intel i7-8700k processor, 16G DDR4 3600MHz RAM is ~160s"
      ],
      "metadata": {
        "id": "YB8Kn086YPWX"
      }
    },
    {
      "cell_type": "code",
      "source": [
        "single_csv_file_dqm = DQM_single_file()\n",
        "single_csv_file_dqm.set_input_data(df)\n",
        "single_csv_file_dqm.compute_DQM()"
      ],
      "metadata": {
        "id": "1Od9_K43YQul"
      },
      "execution_count": 37,
      "outputs": []
    },
    {
      "cell_type": "markdown",
      "source": [
        "Now display the result"
      ],
      "metadata": {
        "id": "3aNF1DY2ZytC"
      }
    },
    {
      "cell_type": "code",
      "source": [
        "single_csv_file_dqm.get_fields()"
      ],
      "metadata": {
        "colab": {
          "base_uri": "https://localhost:8080/"
        },
        "id": "d24_kzkWZwBd",
        "outputId": "4c324534-c8bf-4350-c102-d27dd64836d9"
      },
      "execution_count": 38,
      "outputs": [
        {
          "output_type": "execute_result",
          "data": {
            "text/plain": [
              "['IRLR', 'SNR', 'VDR', 'SRC', 'MDR', 'APD']"
            ]
          },
          "metadata": {},
          "execution_count": 38
        }
      ]
    },
    {
      "cell_type": "code",
      "source": [
        "single_csv_file_dqm.get_DQM()"
      ],
      "metadata": {
        "colab": {
          "base_uri": "https://localhost:8080/"
        },
        "id": "wtq8JEdZZ8Tl",
        "outputId": "b7456e6d-6b0e-46d8-e2c6-adb695d020e3"
      },
      "execution_count": 39,
      "outputs": [
        {
          "output_type": "execute_result",
          "data": {
            "text/plain": [
              "['1',\n",
              " '-3.436961042075442',\n",
              " '1.0',\n",
              " '0.9999999999986589',\n",
              " '0.0',\n",
              " '0.0029469901168014375']"
            ]
          },
          "metadata": {},
          "execution_count": 39
        }
      ]
    },
    {
      "cell_type": "code",
      "source": [
        "single_csv_file_dqm.get_anomaly_index()"
      ],
      "metadata": {
        "colab": {
          "base_uri": "https://localhost:8080/"
        },
        "id": "53lg-euDaZcv",
        "outputId": "f28f7a2f-6eb9-455e-8feb-e157f1366cb3"
      },
      "execution_count": 41,
      "outputs": [
        {
          "output_type": "execute_result",
          "data": {
            "text/plain": [
              "[103149,\n",
              " 103271,\n",
              " 103831,\n",
              " 103878,\n",
              " 104205,\n",
              " 104260,\n",
              " 104384,\n",
              " 104506,\n",
              " 104757,\n",
              " 107901,\n",
              " 107912,\n",
              " 107940,\n",
              " 107981,\n",
              " 107991,\n",
              " 108020,\n",
              " 108050,\n",
              " 108060,\n",
              " 108064,\n",
              " 108116,\n",
              " 108124,\n",
              " 108131,\n",
              " 108134,\n",
              " 108166,\n",
              " 108170,\n",
              " 108187,\n",
              " 108188,\n",
              " 108189,\n",
              " 108238,\n",
              " 108245,\n",
              " 108246,\n",
              " 108283,\n",
              " 108284,\n",
              " 108294,\n",
              " 108299,\n",
              " 108311,\n",
              " 108313,\n",
              " 108327,\n",
              " 108329,\n",
              " 108344,\n",
              " 108390,\n",
              " 108404,\n",
              " 108451,\n",
              " 108455,\n",
              " 108462,\n",
              " 108467,\n",
              " 108470,\n",
              " 108475,\n",
              " 108501,\n",
              " 108509,\n",
              " 108527,\n",
              " 108560,\n",
              " 108561,\n",
              " 108590,\n",
              " 108600,\n",
              " 108604,\n",
              " 108617,\n",
              " 108620,\n",
              " 108641,\n",
              " 108648,\n",
              " 108650,\n",
              " 108651,\n",
              " 108654,\n",
              " 108673,\n",
              " 108690,\n",
              " 108738,\n",
              " 108752,\n",
              " 108781,\n",
              " 108783,\n",
              " 108784,\n",
              " 108788,\n",
              " 108796,\n",
              " 108826,\n",
              " 108846,\n",
              " 108847,\n",
              " 108849,\n",
              " 108851,\n",
              " 108895,\n",
              " 108897,\n",
              " 108898,\n",
              " 108904,\n",
              " 108913,\n",
              " 108954,\n",
              " 108955,\n",
              " 108963,\n",
              " 108994,\n",
              " 109036,\n",
              " 109071,\n",
              " 109076,\n",
              " 109090,\n",
              " 109092,\n",
              " 109132,\n",
              " 109169,\n",
              " 109172,\n",
              " 109177,\n",
              " 109178,\n",
              " 109192,\n",
              " 109209,\n",
              " 109255,\n",
              " 109294,\n",
              " 109301,\n",
              " 109303,\n",
              " 109312,\n",
              " 109313,\n",
              " 109317,\n",
              " 109325,\n",
              " 109348,\n",
              " 109350,\n",
              " 109351,\n",
              " 109386,\n",
              " 109401,\n",
              " 109402,\n",
              " 109445,\n",
              " 109451,\n",
              " 109452,\n",
              " 109462,\n",
              " 109468,\n",
              " 109471,\n",
              " 109475,\n",
              " 109484,\n",
              " 109500,\n",
              " 109502,\n",
              " 109541,\n",
              " 109554,\n",
              " 109557,\n",
              " 109601,\n",
              " 109609,\n",
              " 109620,\n",
              " 109651,\n",
              " 109678,\n",
              " 109679,\n",
              " 109685,\n",
              " 109707,\n",
              " 109709,\n",
              " 109725,\n",
              " 109740,\n",
              " 109751,\n",
              " 109763,\n",
              " 109764,\n",
              " 109767,\n",
              " 109772,\n",
              " 109780,\n",
              " 109790,\n",
              " 109795,\n",
              " 109801,\n",
              " 109815,\n",
              " 109817,\n",
              " 109834,\n",
              " 109857,\n",
              " 109863,\n",
              " 109880,\n",
              " 109889,\n",
              " 109901,\n",
              " 109906,\n",
              " 109907,\n",
              " 109932,\n",
              " 109935,\n",
              " 109939,\n",
              " 109954,\n",
              " 109957,\n",
              " 109963,\n",
              " 109968,\n",
              " 109970,\n",
              " 109971,\n",
              " 109974,\n",
              " 109976,\n",
              " 109987,\n",
              " 109996,\n",
              " 109999,\n",
              " 110001,\n",
              " 110005,\n",
              " 110009,\n",
              " 110015,\n",
              " 110018,\n",
              " 110048,\n",
              " 110049,\n",
              " 110051,\n",
              " 110059,\n",
              " 110082,\n",
              " 110086,\n",
              " 110093,\n",
              " 110098,\n",
              " 110099,\n",
              " 110100,\n",
              " 110109,\n",
              " 110116,\n",
              " 110118,\n",
              " 110141,\n",
              " 110142,\n",
              " 110149,\n",
              " 110151,\n",
              " 110168,\n",
              " 110169,\n",
              " 110182,\n",
              " 110186,\n",
              " 110189,\n",
              " 110203,\n",
              " 110204,\n",
              " 110217,\n",
              " 110224,\n",
              " 110225,\n",
              " 110233,\n",
              " 110234,\n",
              " 110235,\n",
              " 110236,\n",
              " 110237,\n",
              " 110241,\n",
              " 110251,\n",
              " 110264,\n",
              " 110265,\n",
              " 110266,\n",
              " 110267,\n",
              " 110268,\n",
              " 110280,\n",
              " 110287,\n",
              " 110288,\n",
              " 110304,\n",
              " 110309,\n",
              " 110324,\n",
              " 110362,\n",
              " 110367,\n",
              " 110374,\n",
              " 110375,\n",
              " 110377,\n",
              " 110400,\n",
              " 110409,\n",
              " 110419,\n",
              " 110446,\n",
              " 110466,\n",
              " 110474,\n",
              " 110475,\n",
              " 110476,\n",
              " 110485,\n",
              " 110488,\n",
              " 110498,\n",
              " 110501,\n",
              " 110508,\n",
              " 110525,\n",
              " 110528,\n",
              " 110536,\n",
              " 110539,\n",
              " 110551,\n",
              " 110556,\n",
              " 110564,\n",
              " 110565,\n",
              " 110566,\n",
              " 110576,\n",
              " 110581,\n",
              " 110587,\n",
              " 110590,\n",
              " 110591,\n",
              " 110601,\n",
              " 110616,\n",
              " 110618,\n",
              " 110619,\n",
              " 110630,\n",
              " 110646,\n",
              " 110658,\n",
              " 110665,\n",
              " 110666,\n",
              " 110680,\n",
              " 110700,\n",
              " 110718,\n",
              " 110731,\n",
              " 110732,\n",
              " 110737,\n",
              " 110738,\n",
              " 110740,\n",
              " 110745,\n",
              " 110746,\n",
              " 110757,\n",
              " 110761,\n",
              " 110787,\n",
              " 110803,\n",
              " 110804,\n",
              " 110810,\n",
              " 110816,\n",
              " 110817,\n",
              " 110845,\n",
              " 110846,\n",
              " 110856,\n",
              " 110859,\n",
              " 110866,\n",
              " 110874,\n",
              " 110898,\n",
              " 110909,\n",
              " 110923,\n",
              " 110932,\n",
              " 110936,\n",
              " 110939,\n",
              " 110940,\n",
              " 110945,\n",
              " 110977,\n",
              " 110985,\n",
              " 111022,\n",
              " 111044,\n",
              " 111090,\n",
              " 111092,\n",
              " 111093,\n",
              " 111100,\n",
              " 111101,\n",
              " 111109,\n",
              " 111110,\n",
              " 111122,\n",
              " 111123,\n",
              " 111142,\n",
              " 111151,\n",
              " 111179,\n",
              " 111185,\n",
              " 111186,\n",
              " 111187,\n",
              " 111191,\n",
              " 111202,\n",
              " 111209,\n",
              " 111214,\n",
              " 111222,\n",
              " 111227,\n",
              " 111236,\n",
              " 111237,\n",
              " 111251,\n",
              " 111269,\n",
              " 111270,\n",
              " 111271,\n",
              " 111273,\n",
              " 111278,\n",
              " 111284,\n",
              " 111294,\n",
              " 111295,\n",
              " 111296]"
            ]
          },
          "metadata": {},
          "execution_count": 41
        }
      ]
    }
  ]
}