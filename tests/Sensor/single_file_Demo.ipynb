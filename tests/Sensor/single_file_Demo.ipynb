{
  "nbformat": 4,
  "nbformat_minor": 0,
  "metadata": {
    "colab": {
      "name": "single_file_Demo.ipynb",
      "provenance": [],
      "collapsed_sections": [],
      "authorship_tag": "ABX9TyMwl4/GyhZjwWnAnahhUrjt",
      "include_colab_link": true
    },
    "kernelspec": {
      "name": "python3",
      "display_name": "Python 3"
    },
    "language_info": {
      "name": "python"
    },
    "accelerator": "GPU",
    "gpuClass": "standard"
  },
  "cells": [
    {
      "cell_type": "markdown",
      "metadata": {
        "id": "view-in-github",
        "colab_type": "text"
      },
      "source": [
        "<a href=\"https://colab.research.google.com/github/aid4mh/QPrism/blob/main/tests/Sensor/single_file_Demo.ipynb\" target=\"_parent\"><img src=\"https://colab.research.google.com/assets/colab-badge.svg\" alt=\"Open In Colab\"/></a>"
      ]
    },
    {
      "cell_type": "code",
      "execution_count": 1,
      "metadata": {
        "id": "TsLMcFWy4lFc",
        "colab": {
          "base_uri": "https://localhost:8080/"
        },
        "outputId": "0fa28e4e-9411-4cbf-d1d2-e4caf41c9ac3"
      },
      "outputs": [
        {
          "output_type": "stream",
          "name": "stdout",
          "text": [
            "Looking in indexes: https://pypi.org/simple, https://us-python.pkg.dev/colab-wheels/public/simple/\n",
            "Requirement already satisfied: pip in /usr/local/lib/python3.7/dist-packages (21.1.3)\n",
            "Collecting pip\n",
            "  Downloading pip-22.2.1-py3-none-any.whl (2.0 MB)\n",
            "\u001b[K     |████████████████████████████████| 2.0 MB 5.1 MB/s \n",
            "\u001b[?25hInstalling collected packages: pip\n",
            "  Attempting uninstall: pip\n",
            "    Found existing installation: pip 21.1.3\n",
            "    Uninstalling pip-21.1.3:\n",
            "      Successfully uninstalled pip-21.1.3\n",
            "Successfully installed pip-22.2.1\n"
          ]
        }
      ],
      "source": [
        "! python3 -m pip install --upgrade pip"
      ]
    },
    {
      "cell_type": "markdown",
      "source": [
        "Install the dependencies"
      ],
      "metadata": {
        "id": "J7iYiUIHxxZP"
      }
    },
    {
      "cell_type": "code",
      "source": [
        "! pip install -r https://raw.githubusercontent.com/aid4mh/QPrism/main/requirements.txt"
      ],
      "metadata": {
        "id": "vp6NbBaoxzxw"
      },
      "execution_count": null,
      "outputs": []
    },
    {
      "cell_type": "code",
      "source": [
        "! pip install --no-deps -i https://test.pypi.org/simple/ QPrism==0.1.6"
      ],
      "metadata": {
        "id": "6EkTzyu07_y-",
        "colab": {
          "base_uri": "https://localhost:8080/"
        },
        "outputId": "8e73fc35-ac8c-4324-d3e0-6a43fc4d3562"
      },
      "execution_count": 1,
      "outputs": [
        {
          "output_type": "stream",
          "name": "stdout",
          "text": [
            "Looking in indexes: https://test.pypi.org/simple/, https://us-python.pkg.dev/colab-wheels/public/simple/\n",
            "Collecting QPrism==0.1.6\n",
            "  Downloading https://test-files.pythonhosted.org/packages/ff/99/e02142a2383d555aedf34f085e711029b6ff27fd18c843f686546c216c25/qprism-0.1.6-py3-none-any.whl (35 kB)\n",
            "Installing collected packages: QPrism\n",
            "Successfully installed QPrism-0.1.6\n"
          ]
        }
      ]
    },
    {
      "cell_type": "code",
      "source": [
        "from QPrism.Sensor.DQM import DQM_single_file\n",
        "from QPrism.Sensor.load_data import *"
      ],
      "metadata": {
        "id": "ddgvt-pT9RBJ"
      },
      "execution_count": 2,
      "outputs": []
    },
    {
      "cell_type": "markdown",
      "source": [
        "Load a sufficient json record and demonstrate the structure of the loaded data frame. For the original json file data structure, check the provided test data under data/sensor/json in the repo. modules/Sensor/load_data.py provides examples of how to load a json/csv file into this particular structure locally."
      ],
      "metadata": {
        "id": "MZLDOoHDDjmc"
      }
    },
    {
      "cell_type": "code",
      "source": [
        "from urllib.request import urlopen\n",
        "import json\n",
        "import pandas as pd\n",
        "\n",
        "response = urlopen(\"https://raw.githubusercontent.com/aid4mh/QPrism/main/data/sensor/json/SUBJ00001_Accelerometer_REC000000.json\")\n",
        "json_data = response.read().decode('utf-8', 'replace')\n",
        "\n",
        "json_file = json.loads(json_data)\n",
        "json_file = json.dumps(list(json_file['records']))\n",
        "df = (pd.read_json(json_file))\n",
        "df[list(df.keys())[0]] = df[list(df.keys())[0]].apply(lambda x: x.value)\n",
        "print(df)"
      ],
      "metadata": {
        "colab": {
          "base_uri": "https://localhost:8080/"
        },
        "id": "G_hzZ30lBSx0",
        "outputId": "c8a95084-18d6-4452-dc15-5735a374c5e8"
      },
      "execution_count": 3,
      "outputs": [
        {
          "output_type": "stream",
          "name": "stdout",
          "text": [
            "               timestamp         x         y          z\n",
            "0    1593954057754000000  2.229002  6.114791   5.324705\n",
            "1    1593954058125000000  2.135628  4.283227   6.833052\n",
            "2    1593954058506000000 -1.721431  5.561730  10.201694\n",
            "3    1593954058729000000 -0.220267  5.365406   7.668628\n",
            "4    1593954058937000000 -0.177171  5.130774   8.346188\n",
            "..                   ...       ...       ...        ...\n",
            "440  1593954154639000000 -0.258574  6.212954   7.388506\n",
            "441  1593954154858000000 -0.301669  6.212954   7.378930\n",
            "442  1593954155076000000 -0.275333  6.193800   7.407660\n",
            "443  1593954155276000000 -0.385466  6.205771   7.474698\n",
            "444  1593954155491000000 -0.385466  6.215348   7.129933\n",
            "\n",
            "[445 rows x 4 columns]\n"
          ]
        }
      ]
    },
    {
      "cell_type": "markdown",
      "source": [
        "Create the DQM_single_file object, set the input data frame, then compute DQM"
      ],
      "metadata": {
        "id": "SVi2w41qEHVg"
      }
    },
    {
      "cell_type": "code",
      "source": [
        "single_json_file_dqm = DQM_single_file()\n",
        "single_json_file_dqm.set_input_data(df)\n",
        "single_json_file_dqm.compute_DQM()"
      ],
      "metadata": {
        "id": "LE5FGzAwEJKa"
      },
      "execution_count": 4,
      "outputs": []
    },
    {
      "cell_type": "markdown",
      "source": [
        "Get the fields of computed data quality matrix"
      ],
      "metadata": {
        "id": "8tAUKcHqEV5b"
      }
    },
    {
      "cell_type": "code",
      "source": [
        "single_json_file_dqm.get_fields()"
      ],
      "metadata": {
        "colab": {
          "base_uri": "https://localhost:8080/"
        },
        "id": "z_jGawxLEWcU",
        "outputId": "caf9e74d-8e23-4463-aa26-926acc2165ee"
      },
      "execution_count": 5,
      "outputs": [
        {
          "output_type": "execute_result",
          "data": {
            "text/plain": [
              "['IRLR', 'SNR', 'VDR', 'SRC', 'MDR', 'APD']"
            ]
          },
          "metadata": {},
          "execution_count": 5
        }
      ]
    },
    {
      "cell_type": "markdown",
      "source": [
        "Get the computed data quality matrix as a list, each element in the list represents a metric."
      ],
      "metadata": {
        "id": "zevqKAmBEZA-"
      }
    },
    {
      "cell_type": "code",
      "source": [
        "single_json_file_dqm.get_DQM()"
      ],
      "metadata": {
        "colab": {
          "base_uri": "https://localhost:8080/"
        },
        "id": "Om7c73RqEZ67",
        "outputId": "a45b689e-667e-4c03-901e-90a00ceb5019"
      },
      "execution_count": 6,
      "outputs": [
        {
          "output_type": "execute_result",
          "data": {
            "text/plain": [
              "['1',\n",
              " '-3.096340603605768',\n",
              " '1.0',\n",
              " '0.9011216710642995',\n",
              " '0.013303769401330377',\n",
              " '0.02696629213483146']"
            ]
          },
          "metadata": {},
          "execution_count": 6
        }
      ]
    },
    {
      "cell_type": "markdown",
      "source": [
        "Get each single metric of the computed DQM as a str"
      ],
      "metadata": {
        "id": "thLISO7BEg9u"
      }
    },
    {
      "cell_type": "code",
      "source": [
        "single_json_file_dqm.get_IRLR()"
      ],
      "metadata": {
        "colab": {
          "base_uri": "https://localhost:8080/",
          "height": 35
        },
        "id": "zCQRj9bAEljK",
        "outputId": "65a1f9d4-3a20-44cc-becc-804a415b850f"
      },
      "execution_count": 7,
      "outputs": [
        {
          "output_type": "execute_result",
          "data": {
            "text/plain": [
              "'1'"
            ],
            "application/vnd.google.colaboratory.intrinsic+json": {
              "type": "string"
            }
          },
          "metadata": {},
          "execution_count": 7
        }
      ]
    },
    {
      "cell_type": "code",
      "source": [
        "single_json_file_dqm.get_SNR()"
      ],
      "metadata": {
        "colab": {
          "base_uri": "https://localhost:8080/",
          "height": 35
        },
        "id": "AB8wzKQ3EosY",
        "outputId": "ef798af8-28d0-41e5-f949-5e7e892fbb1d"
      },
      "execution_count": 8,
      "outputs": [
        {
          "output_type": "execute_result",
          "data": {
            "text/plain": [
              "'-3.096340603605768'"
            ],
            "application/vnd.google.colaboratory.intrinsic+json": {
              "type": "string"
            }
          },
          "metadata": {},
          "execution_count": 8
        }
      ]
    },
    {
      "cell_type": "code",
      "source": [
        "single_json_file_dqm.get_VDR()"
      ],
      "metadata": {
        "colab": {
          "base_uri": "https://localhost:8080/",
          "height": 35
        },
        "id": "2DxN8dD_EqDm",
        "outputId": "a99b8844-abe7-4de5-8f97-0eddfe0d32c4"
      },
      "execution_count": 9,
      "outputs": [
        {
          "output_type": "execute_result",
          "data": {
            "text/plain": [
              "'1.0'"
            ],
            "application/vnd.google.colaboratory.intrinsic+json": {
              "type": "string"
            }
          },
          "metadata": {},
          "execution_count": 9
        }
      ]
    },
    {
      "cell_type": "code",
      "source": [
        "single_json_file_dqm.get_SRC()"
      ],
      "metadata": {
        "colab": {
          "base_uri": "https://localhost:8080/",
          "height": 35
        },
        "id": "Dvd4ir6FEtqC",
        "outputId": "f90b7997-5de9-443c-acf7-5162aadda7cc"
      },
      "execution_count": 10,
      "outputs": [
        {
          "output_type": "execute_result",
          "data": {
            "text/plain": [
              "'0.9011216710642995'"
            ],
            "application/vnd.google.colaboratory.intrinsic+json": {
              "type": "string"
            }
          },
          "metadata": {},
          "execution_count": 10
        }
      ]
    },
    {
      "cell_type": "code",
      "source": [
        "single_json_file_dqm.get_MDR()"
      ],
      "metadata": {
        "colab": {
          "base_uri": "https://localhost:8080/",
          "height": 35
        },
        "id": "lNyXD7z2Eux6",
        "outputId": "41208c15-b967-46cf-94cf-08a09d240f3e"
      },
      "execution_count": 11,
      "outputs": [
        {
          "output_type": "execute_result",
          "data": {
            "text/plain": [
              "'0.013303769401330377'"
            ],
            "application/vnd.google.colaboratory.intrinsic+json": {
              "type": "string"
            }
          },
          "metadata": {},
          "execution_count": 11
        }
      ]
    },
    {
      "cell_type": "code",
      "source": [
        "single_json_file_dqm.get_APD()"
      ],
      "metadata": {
        "colab": {
          "base_uri": "https://localhost:8080/",
          "height": 35
        },
        "id": "MAKthq5uEwLY",
        "outputId": "bdd9f6ef-97e9-4e8c-f28e-e3e826072585"
      },
      "execution_count": 12,
      "outputs": [
        {
          "output_type": "execute_result",
          "data": {
            "text/plain": [
              "'0.02696629213483146'"
            ],
            "application/vnd.google.colaboratory.intrinsic+json": {
              "type": "string"
            }
          },
          "metadata": {},
          "execution_count": 12
        }
      ]
    },
    {
      "cell_type": "markdown",
      "source": [
        "We can also get the detected outliers' index"
      ],
      "metadata": {
        "id": "ehQckjk4aFNh"
      }
    },
    {
      "cell_type": "code",
      "source": [
        "single_json_file_dqm.get_anomaly_index()"
      ],
      "metadata": {
        "colab": {
          "base_uri": "https://localhost:8080/"
        },
        "id": "45DMEE0eaLuT",
        "outputId": "ee080503-a9de-48d8-d979-dda78103b56c"
      },
      "execution_count": 13,
      "outputs": [
        {
          "output_type": "execute_result",
          "data": {
            "text/plain": [
              "[268, 277, 306, 310, 334, 340, 354, 360, 361, 367, 382, 384]"
            ]
          },
          "metadata": {},
          "execution_count": 13
        }
      ]
    },
    {
      "cell_type": "markdown",
      "source": [
        "Save the computed DQM as a csv file at given path."
      ],
      "metadata": {
        "id": "gHRGVdafFG7d"
      }
    },
    {
      "cell_type": "code",
      "source": [
        "from google.colab import drive\n",
        "drive.mount('/content/gdrive')"
      ],
      "metadata": {
        "colab": {
          "base_uri": "https://localhost:8080/"
        },
        "id": "EOVNZAnaSyA2",
        "outputId": "978e8050-e475-4382-8274-82e3262c30b8"
      },
      "execution_count": 14,
      "outputs": [
        {
          "output_type": "stream",
          "name": "stdout",
          "text": [
            "Mounted at /content/gdrive\n"
          ]
        }
      ]
    },
    {
      "cell_type": "markdown",
      "source": [
        "Change the saved path to your gdrive path before run the following lines."
      ],
      "metadata": {
        "id": "H3xNX-ZcTPdQ"
      }
    },
    {
      "cell_type": "code",
      "source": [
        "\n",
        "single_json_file_dqm.save_to_file('/content/gdrive/MyDrive/CAMH/JOSS/Sensor_result/demo_result_single_file.csv')"
      ],
      "metadata": {
        "colab": {
          "base_uri": "https://localhost:8080/"
        },
        "id": "aY0DmWJIFHcz",
        "outputId": "4f9e9d6e-30b4-465f-a19a-8d30081dfcc8"
      },
      "execution_count": 15,
      "outputs": [
        {
          "output_type": "stream",
          "name": "stdout",
          "text": [
            "Data successfuly saved.\n"
          ]
        }
      ]
    },
    {
      "cell_type": "markdown",
      "source": [
        "Display the saved csv file."
      ],
      "metadata": {
        "id": "ecHlVhARFOX3"
      }
    },
    {
      "cell_type": "code",
      "source": [
        "with open(\"/content/gdrive/MyDrive/CAMH/JOSS/Sensor_result/demo_result_single_file.csv\", \"r\") as DQM_csv:\n",
        "    for row in DQM_csv:\n",
        "        print(row)"
      ],
      "metadata": {
        "colab": {
          "base_uri": "https://localhost:8080/"
        },
        "id": "vO-m8RNzFPCT",
        "outputId": "c6d4d8b5-d572-4429-c936-b308d44a3310"
      },
      "execution_count": 16,
      "outputs": [
        {
          "output_type": "stream",
          "name": "stdout",
          "text": [
            "IRLR,SNR,VDR,SRC,MDR,APD\n",
            "\n",
            "1,-3.096340603605768,1.0,0.9011216710642995,0.013303769401330377,0.02696629213483146\n",
            "\n"
          ]
        }
      ]
    },
    {
      "cell_type": "markdown",
      "source": [
        "Set SNR to be not included in DQM"
      ],
      "metadata": {
        "id": "e-Jnlzi4FTtx"
      }
    },
    {
      "cell_type": "code",
      "source": [
        "single_json_file_dqm.set_SNR(False)"
      ],
      "metadata": {
        "id": "Eyai4thbFWLO"
      },
      "execution_count": 17,
      "outputs": []
    },
    {
      "cell_type": "markdown",
      "source": [
        "Compute and get the updated DQM, now SNR should not be included in DQM."
      ],
      "metadata": {
        "id": "_kl8rH2jFX0M"
      }
    },
    {
      "cell_type": "code",
      "source": [
        "single_json_file_dqm.compute_DQM()"
      ],
      "metadata": {
        "id": "5Qe0JQQEFZU0"
      },
      "execution_count": 18,
      "outputs": []
    },
    {
      "cell_type": "code",
      "source": [
        "single_json_file_dqm.get_fields()"
      ],
      "metadata": {
        "colab": {
          "base_uri": "https://localhost:8080/"
        },
        "id": "hlnNDt3iFc0E",
        "outputId": "63dd2091-7bc3-4153-92c5-699bdc736a16"
      },
      "execution_count": 19,
      "outputs": [
        {
          "output_type": "execute_result",
          "data": {
            "text/plain": [
              "['IRLR', 'VDR', 'SRC', 'MDR', 'APD']"
            ]
          },
          "metadata": {},
          "execution_count": 19
        }
      ]
    },
    {
      "cell_type": "code",
      "source": [
        "single_json_file_dqm.get_DQM()"
      ],
      "metadata": {
        "colab": {
          "base_uri": "https://localhost:8080/"
        },
        "id": "eDkVg6bVFeHS",
        "outputId": "8b2ae330-483f-4ebf-f413-4bdc14b4679e"
      },
      "execution_count": 20,
      "outputs": [
        {
          "output_type": "execute_result",
          "data": {
            "text/plain": [
              "['1',\n",
              " '1.0',\n",
              " '0.9011216710642995',\n",
              " '0.013303769401330377',\n",
              " '0.02696629213483146']"
            ]
          },
          "metadata": {},
          "execution_count": 20
        }
      ]
    },
    {
      "cell_type": "markdown",
      "source": [
        "Now get_SNR should not be called"
      ],
      "metadata": {
        "id": "YzpPaWXjFftR"
      }
    },
    {
      "cell_type": "code",
      "source": [
        "single_json_file_dqm.get_SNR()"
      ],
      "metadata": {
        "colab": {
          "base_uri": "https://localhost:8080/",
          "height": 35
        },
        "id": "TE_BOLnYFgdC",
        "outputId": "c2c28ca5-b4b2-4763-964a-f543c81d5237"
      },
      "execution_count": 21,
      "outputs": [
        {
          "output_type": "execute_result",
          "data": {
            "text/plain": [
              "'SNR is not computed according to the configuration'"
            ],
            "application/vnd.google.colaboratory.intrinsic+json": {
              "type": "string"
            }
          },
          "metadata": {},
          "execution_count": 21
        }
      ]
    },
    {
      "cell_type": "markdown",
      "source": [
        "Note that you can set any metrics except IRLR to be not included as above."
      ],
      "metadata": {
        "id": "YyCt_8NXTs4T"
      }
    },
    {
      "cell_type": "markdown",
      "source": [
        "\n",
        "\n",
        "For an insufficient record, DQM will have np.NaN for all metrics except IRLR. IRLR will have a value of 0 to indicate the input record is insufficient. The following record is an empty record, thus the input data is an empty DataFrame."
      ],
      "metadata": {
        "id": "Ychjr_19Ttn1"
      }
    },
    {
      "cell_type": "code",
      "source": [
        "response = urlopen(\"https://raw.githubusercontent.com/aid4mh/QPrism/main/data/sensor/json/SUBJ00001_Accelerometer_REC000006.json\")\n",
        "json_data = response.read().decode('utf-8', 'replace')\n",
        "\n",
        "print(json_data)"
      ],
      "metadata": {
        "colab": {
          "base_uri": "https://localhost:8080/"
        },
        "id": "fZ2_LksmTwGc",
        "outputId": "a094ed3a-89dc-4502-de6f-7c82c8b71a49"
      },
      "execution_count": 22,
      "outputs": [
        {
          "output_type": "stream",
          "name": "stdout",
          "text": [
            "\n"
          ]
        }
      ]
    },
    {
      "cell_type": "code",
      "source": [
        "df = pd.DataFrame([])\n",
        "single_json_file_dqm.set_input_data(df)\n"
      ],
      "metadata": {
        "id": "Fe_F_K_HVvz8"
      },
      "execution_count": 23,
      "outputs": []
    },
    {
      "cell_type": "markdown",
      "source": [
        "First we need to set SNR to be included, since we previously excluded SNR."
      ],
      "metadata": {
        "id": "W4h70J02WIyK"
      }
    },
    {
      "cell_type": "code",
      "source": [
        "single_json_file_dqm.set_SNR(True)"
      ],
      "metadata": {
        "id": "5kyI5wjtWPxm"
      },
      "execution_count": 24,
      "outputs": []
    },
    {
      "cell_type": "markdown",
      "source": [
        "Then we compute the DQM for this insufficient record."
      ],
      "metadata": {
        "id": "53obhxKDWUon"
      }
    },
    {
      "cell_type": "code",
      "source": [
        "single_json_file_dqm.compute_DQM()\n"
      ],
      "metadata": {
        "id": "4Y0mwxl-WTdh"
      },
      "execution_count": 25,
      "outputs": []
    },
    {
      "cell_type": "code",
      "source": [
        "single_json_file_dqm.get_fields()\n"
      ],
      "metadata": {
        "colab": {
          "base_uri": "https://localhost:8080/"
        },
        "id": "s4MVV3jGWowg",
        "outputId": "4c5450b1-e138-45b4-eb4e-c0209ec969fd"
      },
      "execution_count": 26,
      "outputs": [
        {
          "output_type": "execute_result",
          "data": {
            "text/plain": [
              "['IRLR', 'SNR', 'VDR', 'SRC', 'MDR', 'APD']"
            ]
          },
          "metadata": {},
          "execution_count": 26
        }
      ]
    },
    {
      "cell_type": "code",
      "source": [
        "single_json_file_dqm.get_DQM()"
      ],
      "metadata": {
        "colab": {
          "base_uri": "https://localhost:8080/"
        },
        "id": "oixsMKudWqBJ",
        "outputId": "e1ff0944-d8e2-4ed6-852c-d03aa849cba8"
      },
      "execution_count": 27,
      "outputs": [
        {
          "output_type": "execute_result",
          "data": {
            "text/plain": [
              "['0', nan, nan, nan, nan, nan]"
            ]
          },
          "metadata": {},
          "execution_count": 27
        }
      ]
    },
    {
      "cell_type": "markdown",
      "source": [
        "For the definition of insufficient, please check the IRLR in this [Glossary](https://qprism.readthedocs.io/en/latest/glossary.html#sensor-module)."
      ],
      "metadata": {
        "id": "by6mz-BDWsme"
      }
    },
    {
      "cell_type": "markdown",
      "source": [
        "Now load a sufficient csv sensor data, similarly, you can check modules/Sensor/load_data.py for the code that loads the csv into this structure locally."
      ],
      "metadata": {
        "id": "SFW_0KfPXoKj"
      }
    },
    {
      "cell_type": "code",
      "source": [
        "df = load_data_csv_one_file('https://raw.githubusercontent.com/aid4mh/QPrism/main/data/sensor/csv/id9603e9c3.csv')\n",
        "print(df)"
      ],
      "metadata": {
        "colab": {
          "base_uri": "https://localhost:8080/"
        },
        "id": "DZ8xtnBcXssx",
        "outputId": "369090bc-4c25-4a3f-81bb-30a41531e20f"
      },
      "execution_count": 28,
      "outputs": [
        {
          "output_type": "stream",
          "name": "stdout",
          "text": [
            "         time_s   lw_x   lw_y   lw_z   lh_x   lh_y   lh_z   la_x   la_y  \\\n",
            "0          0.01 -0.004  0.945 -0.461  0.055  0.992 -0.199  0.168  1.418   \n",
            "1          0.02 -0.406 -0.379  1.031 -0.320 -0.102  0.844 -0.422  0.559   \n",
            "2          0.03 -0.340 -0.918  1.160 -0.152 -0.676  1.160 -0.500  1.004   \n",
            "3          0.04 -0.207 -1.023  0.344  0.059 -0.797  0.453 -0.363  1.363   \n",
            "4          0.05 -0.152 -1.098 -0.012  0.133 -0.875  0.133 -0.301  1.582   \n",
            "...         ...    ...    ...    ...    ...    ...    ...    ...    ...   \n",
            "111295  1112.96  0.000  0.000  0.000  0.246  0.012  0.949  0.453  0.102   \n",
            "111296  1112.97  0.000  0.000  0.000  0.246  0.012  0.949  0.449  0.102   \n",
            "111297  1112.98  0.000  0.000  0.000  0.246  0.012  0.949  0.449  0.102   \n",
            "111298  1112.99  0.000  0.000  0.000  0.246  0.012  0.949  0.449  0.102   \n",
            "111299  1113.00  0.000  0.000  0.000  0.246  0.012  0.949  0.453  0.102   \n",
            "\n",
            "         la_z   ra_x   ra_y   ra_z  \n",
            "0      -0.070 -0.105  1.000  0.125  \n",
            "1       0.891 -0.352 -0.086  0.984  \n",
            "2       1.168 -0.105 -0.602  1.438  \n",
            "3       0.523  0.109 -0.797  0.793  \n",
            "4       0.305  0.203 -0.992  0.512  \n",
            "...       ...    ...    ...    ...  \n",
            "111295  0.879 -0.059  1.027 -0.043  \n",
            "111296  0.879 -0.059  1.027 -0.043  \n",
            "111297  0.871 -0.059  1.027 -0.043  \n",
            "111298  0.875 -0.059  1.027 -0.043  \n",
            "111299  0.875 -0.059  1.027 -0.043  \n",
            "\n",
            "[111300 rows x 13 columns]\n"
          ]
        }
      ]
    },
    {
      "cell_type": "markdown",
      "source": [
        "Compute the DQM, this computation takes significantly longer time, since the record contains 111300 rows × 13 columns of data. The runtime for this record on a PC with intel i7-8700k processor, 16G DDR4 3600MHz RAM is ~160s"
      ],
      "metadata": {
        "id": "YB8Kn086YPWX"
      }
    },
    {
      "cell_type": "code",
      "source": [
        "single_csv_file_dqm = DQM_single_file()\n",
        "single_csv_file_dqm.set_input_data(df)\n",
        "single_csv_file_dqm.compute_DQM()"
      ],
      "metadata": {
        "id": "1Od9_K43YQul"
      },
      "execution_count": 29,
      "outputs": []
    },
    {
      "cell_type": "markdown",
      "source": [
        "Now display the result"
      ],
      "metadata": {
        "id": "3aNF1DY2ZytC"
      }
    },
    {
      "cell_type": "code",
      "source": [
        "single_csv_file_dqm.get_fields()"
      ],
      "metadata": {
        "colab": {
          "base_uri": "https://localhost:8080/"
        },
        "id": "d24_kzkWZwBd",
        "outputId": "f93fa150-7f84-4351-d444-b0c13794b635"
      },
      "execution_count": 30,
      "outputs": [
        {
          "output_type": "execute_result",
          "data": {
            "text/plain": [
              "['IRLR', 'SNR', 'VDR', 'SRC', 'MDR', 'APD']"
            ]
          },
          "metadata": {},
          "execution_count": 30
        }
      ]
    },
    {
      "cell_type": "code",
      "source": [
        "single_csv_file_dqm.get_DQM()"
      ],
      "metadata": {
        "colab": {
          "base_uri": "https://localhost:8080/"
        },
        "id": "wtq8JEdZZ8Tl",
        "outputId": "45a188a1-2e2d-48c2-d661-ada5048bbf11"
      },
      "execution_count": 31,
      "outputs": [
        {
          "output_type": "execute_result",
          "data": {
            "text/plain": [
              "['1',\n",
              " '-3.436961042075442',\n",
              " '1.0',\n",
              " '0.9999999999986589',\n",
              " '0.0',\n",
              " '0.006415094339622641']"
            ]
          },
          "metadata": {},
          "execution_count": 31
        }
      ]
    },
    {
      "cell_type": "code",
      "source": [
        "single_csv_file_dqm.get_anomaly_index()"
      ],
      "metadata": {
        "colab": {
          "base_uri": "https://localhost:8080/"
        },
        "id": "53lg-euDaZcv",
        "outputId": "5200d491-3995-4ce0-cd0e-94127fab895d"
      },
      "execution_count": 32,
      "outputs": [
        {
          "output_type": "execute_result",
          "data": {
            "text/plain": [
              "[102184,\n",
              " 102661,\n",
              " 102670,\n",
              " 102683,\n",
              " 102687,\n",
              " 102700,\n",
              " 102707,\n",
              " 102722,\n",
              " 102750,\n",
              " 102769,\n",
              " 102798,\n",
              " 102810,\n",
              " 102815,\n",
              " 102829,\n",
              " 102832,\n",
              " 102833,\n",
              " 102838,\n",
              " 102846,\n",
              " 102849,\n",
              " 102854,\n",
              " 102895,\n",
              " 102899,\n",
              " 102916,\n",
              " 102921,\n",
              " 102945,\n",
              " 102963,\n",
              " 102993,\n",
              " 102997,\n",
              " 103020,\n",
              " 103057,\n",
              " 103088,\n",
              " 103099,\n",
              " 103100,\n",
              " 103121,\n",
              " 103142,\n",
              " 103170,\n",
              " 103171,\n",
              " 103173,\n",
              " 103174,\n",
              " 103191,\n",
              " 103192,\n",
              " 103194,\n",
              " 103205,\n",
              " 103225,\n",
              " 103233,\n",
              " 103254,\n",
              " 103285,\n",
              " 103304,\n",
              " 103347,\n",
              " 103385,\n",
              " 103429,\n",
              " 103436,\n",
              " 103508,\n",
              " 103523,\n",
              " 103531,\n",
              " 103560,\n",
              " 103561,\n",
              " 103590,\n",
              " 103608,\n",
              " 103624,\n",
              " 103625,\n",
              " 103632,\n",
              " 103644,\n",
              " 103667,\n",
              " 103668,\n",
              " 103687,\n",
              " 103688,\n",
              " 103696,\n",
              " 103709,\n",
              " 103732,\n",
              " 103765,\n",
              " 103786,\n",
              " 103805,\n",
              " 103827,\n",
              " 103831,\n",
              " 103836,\n",
              " 103838,\n",
              " 103844,\n",
              " 103869,\n",
              " 103888,\n",
              " 103891,\n",
              " 103898,\n",
              " 103899,\n",
              " 103900,\n",
              " 103912,\n",
              " 103938,\n",
              " 103943,\n",
              " 103945,\n",
              " 103952,\n",
              " 103974,\n",
              " 103975,\n",
              " 103987,\n",
              " 103990,\n",
              " 103998,\n",
              " 104007,\n",
              " 104012,\n",
              " 104014,\n",
              " 104022,\n",
              " 104023,\n",
              " 104032,\n",
              " 104042,\n",
              " 104057,\n",
              " 104067,\n",
              " 104070,\n",
              " 104072,\n",
              " 104075,\n",
              " 104085,\n",
              " 104089,\n",
              " 104105,\n",
              " 104106,\n",
              " 104117,\n",
              " 104123,\n",
              " 104152,\n",
              " 104160,\n",
              " 104164,\n",
              " 104181,\n",
              " 104191,\n",
              " 104225,\n",
              " 104230,\n",
              " 104235,\n",
              " 104251,\n",
              " 104262,\n",
              " 104267,\n",
              " 104272,\n",
              " 104314,\n",
              " 104322,\n",
              " 104345,\n",
              " 104367,\n",
              " 104392,\n",
              " 104437,\n",
              " 104445,\n",
              " 104471,\n",
              " 104486,\n",
              " 104508,\n",
              " 104512,\n",
              " 104544,\n",
              " 104548,\n",
              " 104558,\n",
              " 104571,\n",
              " 104576,\n",
              " 104594,\n",
              " 104596,\n",
              " 104625,\n",
              " 104632,\n",
              " 104648,\n",
              " 104688,\n",
              " 104690,\n",
              " 104692,\n",
              " 104697,\n",
              " 104709,\n",
              " 104730,\n",
              " 104747,\n",
              " 104749,\n",
              " 104766,\n",
              " 104774,\n",
              " 104815,\n",
              " 104817,\n",
              " 104828,\n",
              " 104870,\n",
              " 104877,\n",
              " 104878,\n",
              " 104879,\n",
              " 104881,\n",
              " 104885,\n",
              " 104932,\n",
              " 104957,\n",
              " 104974,\n",
              " 104979,\n",
              " 104980,\n",
              " 104985,\n",
              " 104986,\n",
              " 104987,\n",
              " 104991,\n",
              " 105016,\n",
              " 105026,\n",
              " 105096,\n",
              " 105119,\n",
              " 105146,\n",
              " 105204,\n",
              " 105222,\n",
              " 105305,\n",
              " 105334,\n",
              " 105392,\n",
              " 105428,\n",
              " 105433,\n",
              " 105479,\n",
              " 105691,\n",
              " 105692,\n",
              " 105723,\n",
              " 105741,\n",
              " 105792,\n",
              " 105803,\n",
              " 105830,\n",
              " 105840,\n",
              " 105864,\n",
              " 105870,\n",
              " 105872,\n",
              " 105904,\n",
              " 105905,\n",
              " 105948,\n",
              " 105950,\n",
              " 106045,\n",
              " 106051,\n",
              " 106419,\n",
              " 106420,\n",
              " 106435,\n",
              " 106457,\n",
              " 106458,\n",
              " 106461,\n",
              " 106465,\n",
              " 106473,\n",
              " 106485,\n",
              " 106502,\n",
              " 106503,\n",
              " 106510,\n",
              " 106516,\n",
              " 106520,\n",
              " 106521,\n",
              " 106526,\n",
              " 106534,\n",
              " 106540,\n",
              " 106541,\n",
              " 106546,\n",
              " 106551,\n",
              " 106553,\n",
              " 106567,\n",
              " 106568,\n",
              " 106590,\n",
              " 106592,\n",
              " 106600,\n",
              " 106606,\n",
              " 106609,\n",
              " 106612,\n",
              " 106642,\n",
              " 106646,\n",
              " 106649,\n",
              " 106650,\n",
              " 106652,\n",
              " 106702,\n",
              " 106703,\n",
              " 106704,\n",
              " 106708,\n",
              " 106713,\n",
              " 106720,\n",
              " 106723,\n",
              " 106726,\n",
              " 106730,\n",
              " 106732,\n",
              " 106736,\n",
              " 106741,\n",
              " 106751,\n",
              " 106756,\n",
              " 106775,\n",
              " 106777,\n",
              " 106780,\n",
              " 106795,\n",
              " 106796,\n",
              " 106798,\n",
              " 106811,\n",
              " 106823,\n",
              " 106834,\n",
              " 106843,\n",
              " 106848,\n",
              " 106853,\n",
              " 106862,\n",
              " 106866,\n",
              " 106870,\n",
              " 106873,\n",
              " 106883,\n",
              " 106891,\n",
              " 106902,\n",
              " 106903,\n",
              " 106904,\n",
              " 106909,\n",
              " 106911,\n",
              " 106912,\n",
              " 106916,\n",
              " 106923,\n",
              " 107371,\n",
              " 107540,\n",
              " 107556,\n",
              " 107753,\n",
              " 107782,\n",
              " 107901,\n",
              " 107908,\n",
              " 107917,\n",
              " 107918,\n",
              " 107919,\n",
              " 107932,\n",
              " 107933,\n",
              " 107935,\n",
              " 107951,\n",
              " 107961,\n",
              " 107968,\n",
              " 107970,\n",
              " 107988,\n",
              " 107989,\n",
              " 108000,\n",
              " 108007,\n",
              " 108011,\n",
              " 108017,\n",
              " 108018,\n",
              " 108019,\n",
              " 108020,\n",
              " 108028,\n",
              " 108032,\n",
              " 108048,\n",
              " 108053,\n",
              " 108054,\n",
              " 108058,\n",
              " 108070,\n",
              " 108093,\n",
              " 108107,\n",
              " 108116,\n",
              " 108120,\n",
              " 108122,\n",
              " 108131,\n",
              " 108133,\n",
              " 108135,\n",
              " 108146,\n",
              " 108147,\n",
              " 108151,\n",
              " 108166,\n",
              " 108173,\n",
              " 108174,\n",
              " 108187,\n",
              " 108188,\n",
              " 108189,\n",
              " 108194,\n",
              " 108212,\n",
              " 108216,\n",
              " 108223,\n",
              " 108225,\n",
              " 108237,\n",
              " 108246,\n",
              " 108249,\n",
              " 108256,\n",
              " 108257,\n",
              " 108258,\n",
              " 108281,\n",
              " 108282,\n",
              " 108284,\n",
              " 108287,\n",
              " 108288,\n",
              " 108291,\n",
              " 108297,\n",
              " 108298,\n",
              " 108302,\n",
              " 108304,\n",
              " 108310,\n",
              " 108311,\n",
              " 108313,\n",
              " 108317,\n",
              " 108330,\n",
              " 108331,\n",
              " 108333,\n",
              " 108338,\n",
              " 108339,\n",
              " 108340,\n",
              " 108341,\n",
              " 108347,\n",
              " 108348,\n",
              " 108350,\n",
              " 108353,\n",
              " 108362,\n",
              " 108363,\n",
              " 108367,\n",
              " 108375,\n",
              " 108382,\n",
              " 108386,\n",
              " 108397,\n",
              " 108411,\n",
              " 108416,\n",
              " 108422,\n",
              " 108427,\n",
              " 108430,\n",
              " 108438,\n",
              " 108439,\n",
              " 108448,\n",
              " 108461,\n",
              " 108464,\n",
              " 108467,\n",
              " 108470,\n",
              " 108472,\n",
              " 108475,\n",
              " 108493,\n",
              " 108502,\n",
              " 108505,\n",
              " 108509,\n",
              " 108537,\n",
              " 108551,\n",
              " 108554,\n",
              " 108555,\n",
              " 108557,\n",
              " 108561,\n",
              " 108571,\n",
              " 108583,\n",
              " 108584,\n",
              " 108590,\n",
              " 108604,\n",
              " 108614,\n",
              " 108617,\n",
              " 108619,\n",
              " 108620,\n",
              " 108622,\n",
              " 108633,\n",
              " 108636,\n",
              " 108637,\n",
              " 108641,\n",
              " 108645,\n",
              " 108650,\n",
              " 108660,\n",
              " 108662,\n",
              " 108672,\n",
              " 108673,\n",
              " 108677,\n",
              " 108686,\n",
              " 108690,\n",
              " 108696,\n",
              " 108700,\n",
              " 108704,\n",
              " 108712,\n",
              " 108723,\n",
              " 108727,\n",
              " 108731,\n",
              " 108734,\n",
              " 108737,\n",
              " 108738,\n",
              " 108741,\n",
              " 108743,\n",
              " 108744,\n",
              " 108752,\n",
              " 108758,\n",
              " 108770,\n",
              " 108776,\n",
              " 108782,\n",
              " 108787,\n",
              " 108791,\n",
              " 108802,\n",
              " 108806,\n",
              " 108810,\n",
              " 108821,\n",
              " 108822,\n",
              " 108824,\n",
              " 108826,\n",
              " 108846,\n",
              " 108847,\n",
              " 108849,\n",
              " 108851,\n",
              " 108858,\n",
              " 108859,\n",
              " 108861,\n",
              " 108874,\n",
              " 108879,\n",
              " 108882,\n",
              " 108886,\n",
              " 108895,\n",
              " 108898,\n",
              " 108901,\n",
              " 108904,\n",
              " 108910,\n",
              " 108913,\n",
              " 108914,\n",
              " 108927,\n",
              " 108928,\n",
              " 108934,\n",
              " 108938,\n",
              " 108954,\n",
              " 108955,\n",
              " 108956,\n",
              " 108959,\n",
              " 108965,\n",
              " 108967,\n",
              " 108970,\n",
              " 108972,\n",
              " 108976,\n",
              " 108983,\n",
              " 108986,\n",
              " 108991,\n",
              " 109000,\n",
              " 109003,\n",
              " 109004,\n",
              " 109036,\n",
              " 109042,\n",
              " 109045,\n",
              " 109057,\n",
              " 109061,\n",
              " 109065,\n",
              " 109071,\n",
              " 109076,\n",
              " 109080,\n",
              " 109081,\n",
              " 109086,\n",
              " 109089,\n",
              " 109090,\n",
              " 109092,\n",
              " 109094,\n",
              " 109098,\n",
              " 109107,\n",
              " 109109,\n",
              " 109110,\n",
              " 109118,\n",
              " 109119,\n",
              " 109120,\n",
              " 109122,\n",
              " 109127,\n",
              " 109132,\n",
              " 109152,\n",
              " 109157,\n",
              " 109159,\n",
              " 109162,\n",
              " 109169,\n",
              " 109177,\n",
              " 109178,\n",
              " 109182,\n",
              " 109184,\n",
              " 109185,\n",
              " 109188,\n",
              " 109189,\n",
              " 109191,\n",
              " 109193,\n",
              " 109197,\n",
              " 109205,\n",
              " 109208,\n",
              " 109209,\n",
              " 109228,\n",
              " 109254,\n",
              " 109255,\n",
              " 109259,\n",
              " 109292,\n",
              " 109294,\n",
              " 109301,\n",
              " 109302,\n",
              " 109313,\n",
              " 109325,\n",
              " 109348,\n",
              " 109351,\n",
              " 109386,\n",
              " 109401,\n",
              " 109402,\n",
              " 109445,\n",
              " 109451,\n",
              " 109452,\n",
              " 109462,\n",
              " 109471,\n",
              " 109475,\n",
              " 109501,\n",
              " 109554,\n",
              " 109557,\n",
              " 109601,\n",
              " 109609,\n",
              " 109610,\n",
              " 109620,\n",
              " 109651,\n",
              " 109678,\n",
              " 109679,\n",
              " 109685,\n",
              " 109707,\n",
              " 109740,\n",
              " 109748,\n",
              " 109751,\n",
              " 109763,\n",
              " 109764,\n",
              " 109767,\n",
              " 109772,\n",
              " 109780,\n",
              " 109801,\n",
              " 109815,\n",
              " 109817,\n",
              " 109834,\n",
              " 109878,\n",
              " 109880,\n",
              " 109889,\n",
              " 109901,\n",
              " 109932,\n",
              " 109957,\n",
              " 109967,\n",
              " 109968,\n",
              " 109970,\n",
              " 109971,\n",
              " 109974,\n",
              " 109996,\n",
              " 109999,\n",
              " 110001,\n",
              " 110005,\n",
              " 110009,\n",
              " 110015,\n",
              " 110018,\n",
              " 110048,\n",
              " 110049,\n",
              " 110051,\n",
              " 110059,\n",
              " 110086,\n",
              " 110093,\n",
              " 110098,\n",
              " 110099,\n",
              " 110100,\n",
              " 110109,\n",
              " 110116,\n",
              " 110118,\n",
              " 110141,\n",
              " 110151,\n",
              " 110168,\n",
              " 110169,\n",
              " 110186,\n",
              " 110189,\n",
              " 110203,\n",
              " 110204,\n",
              " 110217,\n",
              " 110224,\n",
              " 110225,\n",
              " 110233,\n",
              " 110234,\n",
              " 110235,\n",
              " 110236,\n",
              " 110237,\n",
              " 110251,\n",
              " 110265,\n",
              " 110266,\n",
              " 110267,\n",
              " 110268,\n",
              " 110280,\n",
              " 110281,\n",
              " 110287,\n",
              " 110304,\n",
              " 110309,\n",
              " 110324,\n",
              " 110375,\n",
              " 110400,\n",
              " 110409,\n",
              " 110446,\n",
              " 110466,\n",
              " 110474,\n",
              " 110475,\n",
              " 110476,\n",
              " 110485,\n",
              " 110488,\n",
              " 110501,\n",
              " 110508,\n",
              " 110536,\n",
              " 110539,\n",
              " 110551,\n",
              " 110564,\n",
              " 110566,\n",
              " 110576,\n",
              " 110581,\n",
              " 110587,\n",
              " 110590,\n",
              " 110591,\n",
              " 110601,\n",
              " 110618,\n",
              " 110630,\n",
              " 110646,\n",
              " 110658,\n",
              " 110665,\n",
              " 110666,\n",
              " 110718,\n",
              " 110731,\n",
              " 110732,\n",
              " 110737,\n",
              " 110738,\n",
              " 110745,\n",
              " 110746,\n",
              " 110757,\n",
              " 110761,\n",
              " 110787,\n",
              " 110803,\n",
              " 110804,\n",
              " 110810,\n",
              " 110815,\n",
              " 110816,\n",
              " 110845,\n",
              " 110846,\n",
              " 110856,\n",
              " 110859,\n",
              " 110866,\n",
              " 110874,\n",
              " 110898,\n",
              " 110909,\n",
              " 110923,\n",
              " 110932,\n",
              " 110936,\n",
              " 110940,\n",
              " 110945,\n",
              " 110986,\n",
              " 111009,\n",
              " 111044,\n",
              " 111092,\n",
              " 111093,\n",
              " 111109,\n",
              " 111110,\n",
              " 111122,\n",
              " 111142,\n",
              " 111151,\n",
              " 111179,\n",
              " 111185,\n",
              " 111186,\n",
              " 111187,\n",
              " 111191,\n",
              " 111202,\n",
              " 111209,\n",
              " 111214,\n",
              " 111222,\n",
              " 111227,\n",
              " 111236,\n",
              " 111237,\n",
              " 111251,\n",
              " 111269,\n",
              " 111271,\n",
              " 111273,\n",
              " 111284,\n",
              " 111294,\n",
              " 111295,\n",
              " 111296]"
            ]
          },
          "metadata": {},
          "execution_count": 32
        }
      ]
    }
  ]
}