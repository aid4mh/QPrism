{
  "cells": [
    {
      "cell_type": "markdown",
      "metadata": {
        "id": "KFdxf1I5klow"
      },
      "source": [
        "<a href=\"https://colab.research.google.com/github/aid4mh/QPrism/blob/main/tests/Audio/demo_audio.ipynb\" target=\"_parent\"><img src=\"https://colab.research.google.com/assets/colab-badge.svg\" alt=\"Open In Colab\"/></a>"
      ]
    },
    {
      "cell_type": "code",
      "execution_count": null,
      "metadata": {
        "id": "QgRdbXmHkofp"
      },
      "outputs": [],
      "source": [
        "!python3 -m pip install --upgrade pip"
      ]
    },
    {
      "cell_type": "code",
      "execution_count": null,
      "metadata": {
        "id": "t3y25ar9kqKf"
      },
      "outputs": [],
      "source": [
        "!pip install -r https://raw.githubusercontent.com/aid4mh/QPrism/main/requirements.txt"
      ]
    },
    {
      "cell_type": "code",
      "execution_count": 3,
      "metadata": {
        "colab": {
          "base_uri": "https://localhost:8080/"
        },
        "id": "4OiKG_JU3lre",
        "outputId": "f5cf2ac0-1ab9-4909-d538-d645a9cc78e6"
      },
      "outputs": [
        {
          "name": "stdout",
          "output_type": "stream",
          "text": [
            "Looking in indexes: https://test.pypi.org/simple/, https://us-python.pkg.dev/colab-wheels/public/simple/\n",
            "Collecting QPrism==0.1.6\n",
            "  Downloading https://test-files.pythonhosted.org/packages/ff/99/e02142a2383d555aedf34f085e711029b6ff27fd18c843f686546c216c25/qprism-0.1.6-py3-none-any.whl (35 kB)\n",
            "Installing collected packages: QPrism\n",
            "Successfully installed QPrism-0.1.6\n",
            "\u001b[33mWARNING: Running pip as the 'root' user can result in broken permissions and conflicting behaviour with the system package manager. It is recommended to use a virtual environment instead: https://pip.pypa.io/warnings/venv\u001b[0m\u001b[33m\n",
            "\u001b[0m"
          ]
        }
      ],
      "source": [
        "#Install Library\n",
        "!pip install --no-deps -i https://test.pypi.org/simple/ QPrism==0.1.6"
      ]
    },
    {
      "cell_type": "code",
      "execution_count": 4,
      "metadata": {
        "id": "mT1sXCfA8GMY"
      },
      "outputs": [],
      "source": [
        "#Import Library\n",
        "import QPrism.Audio.DQM as Audio"
      ]
    },
    {
      "cell_type": "code",
      "execution_count": 5,
      "metadata": {
        "id": "y2JoFccl8Mcm"
      },
      "outputs": [],
      "source": [
        "# Define an object for the Audio class\n",
        "Audio = Audio.Audio_DQM()"
      ]
    },
    {
      "cell_type": "code",
      "execution_count": null,
      "metadata": {
        "colab": {
          "base_uri": "https://localhost:8080/"
        },
        "id": "0AITFhAn9hkP",
        "outputId": "882c8299-849d-4fb2-8003-ba07f4b7aec1"
      },
      "outputs": [
        {
          "name": "stdout",
          "output_type": "stream",
          "text": [
            "Length of the audio is 4 seconds\n",
            "Length of the audios are: \n",
            "             Audios  Length\n",
            "0      assets_fish   4.547\n",
            "1  merged_aud_mono  16.199\n"
          ]
        }
      ],
      "source": [
        "# Length of a single audio file\n",
        "length = Audio.length(path='/content/taunt.wav')\n",
        "print(\"Length of the audio is %d seconds\" %length)\n",
        "\n",
        "# Length of an audio folder\n",
        "length = Audio.length(path='/content/Audios')\n",
        "print(\"Length of the audios are: \\n\", length)"
      ]
    },
    {
      "cell_type": "code",
      "execution_count": null,
      "metadata": {
        "colab": {
          "base_uri": "https://localhost:8080/"
        },
        "id": "nF5uoyPZA1MH",
        "outputId": "42d7eb1f-14ba-4a29-eee5-887dd935eac1"
      },
      "outputs": [
        {
          "name": "stdout",
          "output_type": "stream",
          "text": [
            "Sample rate of the audio is 22257\n",
            "Sample rate of the audio are: \n",
            "             Audios  Sample Rate\n",
            "0      assets_fish        44100\n",
            "1  merged_aud_mono        44100\n"
          ]
        }
      ],
      "source": [
        "# Sample rate of a single audio file\n",
        "samplerate = Audio.sample_rate(path='/content/taunt.wav')\n",
        "print(\"Sample rate of the audio is\", samplerate)\n",
        "\n",
        "# Sample Rate of an audio folder\n",
        "samplerate = Audio.sample_rate(path='/content/Audios')\n",
        "print(\"Sample rate of the audio are: \\n\", samplerate)"
      ]
    },
    {
      "cell_type": "code",
      "execution_count": null,
      "metadata": {
        "colab": {
          "base_uri": "https://localhost:8080/"
        },
        "id": "Edp_t99XBudM",
        "outputId": "4dcb1f97-75f1-4c1c-ba61-2d8f6bc16320"
      },
      "outputs": [
        {
          "name": "stdout",
          "output_type": "stream",
          "text": [
            "Sounds in the audio are: \n",
            " ['Speech', 'Silence']\n",
            "Sounds in the audios are: \n",
            "             Audios                                             Voices\n",
            "0      assets_fish                                           [Speech]\n",
            "1  merged_aud_mono  [Speech, Whistling, Animal, Domestic animals, ...\n"
          ]
        }
      ],
      "source": [
        "# Sounds in a single audio file\n",
        "sounds = Audio.audio_classify(path='/content/taunt.wav')\n",
        "print(\"Sounds in the audio are: \\n\", sounds)\n",
        "# Sounds of an audio folder\n",
        "sounds = Audio.audio_classify(path='/content/Audios')\n",
        "print(\"Sounds in the audios are: \\n\", sounds)"
      ]
    },
    {
      "cell_type": "code",
      "execution_count": null,
      "metadata": {
        "colab": {
          "base_uri": "https://localhost:8080/"
        },
        "id": "9Z0uAgvoE0qG",
        "outputId": "ad57ec4d-f1f7-4a95-ab8f-8294539b28ea"
      },
      "outputs": [
        {
          "name": "stdout",
          "output_type": "stream",
          "text": [
            "RMS of the audio is 3499\n",
            "RMS of the audios are: \n",
            "             Audios   RMS\n",
            "0      assets_fish  3499\n",
            "1  merged_aud_mono  3042\n"
          ]
        }
      ],
      "source": [
        "# RMS level of a single audio file\n",
        "rms = Audio.root_mean_square(path='/content/Audios/assets_fish.wav')\n",
        "print(\"RMS of the audio is\", rms)\n",
        "\n",
        "# RMS level of an audio folder\n",
        "rms = Audio.root_mean_square(path='/content/Audios')\n",
        "print(\"RMS of the audios are: \\n\", rms)"
      ]
    },
    {
      "cell_type": "code",
      "execution_count": null,
      "metadata": {
        "colab": {
          "base_uri": "https://localhost:8080/"
        },
        "id": "05PoRXG-GPva",
        "outputId": "473982a1-1a25-4692-a655-7e9e2707648a"
      },
      "outputs": [
        {
          "name": "stdout",
          "output_type": "stream",
          "text": [
            "SNR of the video is 4.802\n",
            "SNR of the videos are: \n",
            "             Audios    SNR\n",
            "0      assets_fish  4.802\n",
            "1  merged_aud_mono  4.511\n"
          ]
        }
      ],
      "source": [
        "# SNR value of a single audio file\n",
        "snr = Audio.signaltonoise(path='/content/Audios/assets_fish.wav')\n",
        "print(\"SNR of the audio is\", snr)\n",
        "\n",
        "# SNR value of an audio folder\n",
        "snr = Audio.signaltonoise(path='/content/Audios')\n",
        "print(\"SNR of the audios are: \\n\", snr)"
      ]
    },
    {
      "cell_type": "code",
      "execution_count": null,
      "metadata": {
        "colab": {
          "base_uri": "https://localhost:8080/"
        },
        "id": "rjDkQLmVGtaG",
        "outputId": "e01fac6f-4d8b-4d5b-94df-ea6663acff9e"
      },
      "outputs": [
        {
          "name": "stdout",
          "output_type": "stream",
          "text": [
            "Metrics saved to  /content/audio_metrics.csv\n"
          ]
        }
      ],
      "source": [
        "# All metrics\n",
        "Audio.all_audio(path='/content/taunt.wav')"
      ]
    },
    {
      "cell_type": "code",
      "execution_count": null,
      "metadata": {
        "colab": {
          "base_uri": "https://localhost:8080/",
          "height": 81
        },
        "id": "N36IlGCOHL0_",
        "outputId": "9611de1b-f55c-42d8-9455-7749e6191923"
      },
      "outputs": [
        {
          "data": {
            "text/html": [
              "\n",
              "  <div id=\"df-26a4a9cc-ec37-40e9-9119-85341e89a8f9\">\n",
              "    <div class=\"colab-df-container\">\n",
              "      <div>\n",
              "<style scoped>\n",
              "    .dataframe tbody tr th:only-of-type {\n",
              "        vertical-align: middle;\n",
              "    }\n",
              "\n",
              "    .dataframe tbody tr th {\n",
              "        vertical-align: top;\n",
              "    }\n",
              "\n",
              "    .dataframe thead th {\n",
              "        text-align: right;\n",
              "    }\n",
              "</style>\n",
              "<table border=\"1\" class=\"dataframe\">\n",
              "  <thead>\n",
              "    <tr style=\"text-align: right;\">\n",
              "      <th></th>\n",
              "      <th>Audio Name</th>\n",
              "      <th>Length</th>\n",
              "      <th>Sample Rate</th>\n",
              "      <th>Voices</th>\n",
              "      <th>SNR</th>\n",
              "      <th>RMS</th>\n",
              "    </tr>\n",
              "  </thead>\n",
              "  <tbody>\n",
              "    <tr>\n",
              "      <th>0</th>\n",
              "      <td>taunt</td>\n",
              "      <td>4.099</td>\n",
              "      <td>22257</td>\n",
              "      <td>['Speech', 'Silence']</td>\n",
              "      <td>41.881</td>\n",
              "      <td>113</td>\n",
              "    </tr>\n",
              "  </tbody>\n",
              "</table>\n",
              "</div>\n",
              "      <button class=\"colab-df-convert\" onclick=\"convertToInteractive('df-26a4a9cc-ec37-40e9-9119-85341e89a8f9')\"\n",
              "              title=\"Convert this dataframe to an interactive table.\"\n",
              "              style=\"display:none;\">\n",
              "        \n",
              "  <svg xmlns=\"http://www.w3.org/2000/svg\" height=\"24px\"viewBox=\"0 0 24 24\"\n",
              "       width=\"24px\">\n",
              "    <path d=\"M0 0h24v24H0V0z\" fill=\"none\"/>\n",
              "    <path d=\"M18.56 5.44l.94 2.06.94-2.06 2.06-.94-2.06-.94-.94-2.06-.94 2.06-2.06.94zm-11 1L8.5 8.5l.94-2.06 2.06-.94-2.06-.94L8.5 2.5l-.94 2.06-2.06.94zm10 10l.94 2.06.94-2.06 2.06-.94-2.06-.94-.94-2.06-.94 2.06-2.06.94z\"/><path d=\"M17.41 7.96l-1.37-1.37c-.4-.4-.92-.59-1.43-.59-.52 0-1.04.2-1.43.59L10.3 9.45l-7.72 7.72c-.78.78-.78 2.05 0 2.83L4 21.41c.39.39.9.59 1.41.59.51 0 1.02-.2 1.41-.59l7.78-7.78 2.81-2.81c.8-.78.8-2.07 0-2.86zM5.41 20L4 18.59l7.72-7.72 1.47 1.35L5.41 20z\"/>\n",
              "  </svg>\n",
              "      </button>\n",
              "      \n",
              "  <style>\n",
              "    .colab-df-container {\n",
              "      display:flex;\n",
              "      flex-wrap:wrap;\n",
              "      gap: 12px;\n",
              "    }\n",
              "\n",
              "    .colab-df-convert {\n",
              "      background-color: #E8F0FE;\n",
              "      border: none;\n",
              "      border-radius: 50%;\n",
              "      cursor: pointer;\n",
              "      display: none;\n",
              "      fill: #1967D2;\n",
              "      height: 32px;\n",
              "      padding: 0 0 0 0;\n",
              "      width: 32px;\n",
              "    }\n",
              "\n",
              "    .colab-df-convert:hover {\n",
              "      background-color: #E2EBFA;\n",
              "      box-shadow: 0px 1px 2px rgba(60, 64, 67, 0.3), 0px 1px 3px 1px rgba(60, 64, 67, 0.15);\n",
              "      fill: #174EA6;\n",
              "    }\n",
              "\n",
              "    [theme=dark] .colab-df-convert {\n",
              "      background-color: #3B4455;\n",
              "      fill: #D2E3FC;\n",
              "    }\n",
              "\n",
              "    [theme=dark] .colab-df-convert:hover {\n",
              "      background-color: #434B5C;\n",
              "      box-shadow: 0px 1px 3px 1px rgba(0, 0, 0, 0.15);\n",
              "      filter: drop-shadow(0px 1px 2px rgba(0, 0, 0, 0.3));\n",
              "      fill: #FFFFFF;\n",
              "    }\n",
              "  </style>\n",
              "\n",
              "      <script>\n",
              "        const buttonEl =\n",
              "          document.querySelector('#df-26a4a9cc-ec37-40e9-9119-85341e89a8f9 button.colab-df-convert');\n",
              "        buttonEl.style.display =\n",
              "          google.colab.kernel.accessAllowed ? 'block' : 'none';\n",
              "\n",
              "        async function convertToInteractive(key) {\n",
              "          const element = document.querySelector('#df-26a4a9cc-ec37-40e9-9119-85341e89a8f9');\n",
              "          const dataTable =\n",
              "            await google.colab.kernel.invokeFunction('convertToInteractive',\n",
              "                                                     [key], {});\n",
              "          if (!dataTable) return;\n",
              "\n",
              "          const docLinkHtml = 'Like what you see? Visit the ' +\n",
              "            '<a target=\"_blank\" href=https://colab.research.google.com/notebooks/data_table.ipynb>data table notebook</a>'\n",
              "            + ' to learn more about interactive tables.';\n",
              "          element.innerHTML = '';\n",
              "          dataTable['output_type'] = 'display_data';\n",
              "          await google.colab.output.renderOutput(dataTable, element);\n",
              "          const docLink = document.createElement('div');\n",
              "          docLink.innerHTML = docLinkHtml;\n",
              "          element.appendChild(docLink);\n",
              "        }\n",
              "      </script>\n",
              "    </div>\n",
              "  </div>\n",
              "  "
            ],
            "text/plain": [
              "  Audio Name  Length  Sample Rate                 Voices     SNR  RMS\n",
              "0      taunt   4.099        22257  ['Speech', 'Silence']  41.881  113"
            ]
          },
          "execution_count": 56,
          "metadata": {},
          "output_type": "execute_result"
        }
      ],
      "source": [
        "import pandas as pd\n",
        "df = pd.read_csv('/content/audio_metrics.csv')\n",
        "df.head()"
      ]
    }
  ],
  "metadata": {
    "colab": {
      "name": "Audio Demo.ipynb",
      "provenance": []
    },
    "kernelspec": {
      "display_name": "Python 3.10.4 ('env_tf')",
      "language": "python",
      "name": "python3"
    },
    "language_info": {
      "name": "python",
      "version": "3.10.4"
    },
    "vscode": {
      "interpreter": {
        "hash": "5de9ea968598f77146e9bcf7403aafc4990d0b8fd820669c1cc9c3a0b1879543"
      }
    }
  },
  "nbformat": 4,
  "nbformat_minor": 0
}
