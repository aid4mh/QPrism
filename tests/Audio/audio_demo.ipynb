{
  "cells": [
    {
      "cell_type": "markdown",
      "metadata": {
        "colab_type": "text",
        "id": "view-in-github"
      },
      "source": [
        "<a href=\"https://colab.research.google.com/github/aid4mh/QPrism/blob/main/tests/Audio/audio_demo.ipynb\" target=\"_parent\"><img src=\"https://colab.research.google.com/assets/colab-badge.svg\" alt=\"Open In Colab\"/></a>"
      ]
    },
    {
      "cell_type": "markdown",
      "metadata": {
        "id": "yy0Lrxsvh6l7"
      },
      "source": [
        "# Install QPrism"
      ]
    },
    {
      "cell_type": "code",
      "execution_count": 1,
      "metadata": {
        "colab": {
          "base_uri": "https://localhost:8080/"
        },
        "id": "QgRdbXmHkofp",
        "outputId": "1bcf46a2-9e8a-445b-ce41-e96b70577c7c"
      },
      "outputs": [
        {
          "name": "stdout",
          "output_type": "stream",
          "text": [
            "Looking in indexes: https://pypi.org/simple, https://us-python.pkg.dev/colab-wheels/public/simple/\n",
            "Requirement already satisfied: pip in /usr/local/lib/python3.7/dist-packages (21.1.3)\n",
            "Collecting pip\n",
            "  Downloading pip-22.2.2-py3-none-any.whl (2.0 MB)\n",
            "\u001b[K     |████████████████████████████████| 2.0 MB 5.0 MB/s \n",
            "\u001b[?25hInstalling collected packages: pip\n",
            "  Attempting uninstall: pip\n",
            "    Found existing installation: pip 21.1.3\n",
            "    Uninstalling pip-21.1.3:\n",
            "      Successfully uninstalled pip-21.1.3\n",
            "Successfully installed pip-22.2.2\n"
          ]
        }
      ],
      "source": [
        "!python3 -m pip install --upgrade pip"
      ]
    },
    {
      "cell_type": "code",
      "execution_count": null,
      "metadata": {
        "id": "t3y25ar9kqKf"
      },
      "outputs": [],
      "source": [
        "!pip install -r https://raw.githubusercontent.com/aid4mh/QPrism/main/requirements.txt"
      ]
    },
    {
      "cell_type": "code",
      "execution_count": 3,
      "metadata": {
        "colab": {
          "base_uri": "https://localhost:8080/"
        },
        "id": "4OiKG_JU3lre",
        "outputId": "74a2beff-49c5-4bf9-94da-98053d3e54c5"
      },
      "outputs": [
        {
          "name": "stdout",
          "output_type": "stream",
          "text": [
            "Looking in indexes: https://pypi.org/simple, https://us-python.pkg.dev/colab-wheels/public/simple/\n",
            "Collecting QPrism\n",
            "  Downloading qprism-0.2.5-py3-none-any.whl (33 kB)\n",
            "Installing collected packages: QPrism\n",
            "Successfully installed QPrism-0.2.5\n",
            "\u001b[33mWARNING: Running pip as the 'root' user can result in broken permissions and conflicting behaviour with the system package manager. It is recommended to use a virtual environment instead: https://pip.pypa.io/warnings/venv\u001b[0m\u001b[33m\n",
            "\u001b[0m"
          ]
        }
      ],
      "source": [
        "#Install Library\n",
        "!pip install --no-deps QPrism"
      ]
    },
    {
      "cell_type": "code",
      "execution_count": 4,
      "metadata": {
        "id": "mT1sXCfA8GMY"
      },
      "outputs": [],
      "source": [
        "#Import Library\n",
        "import QPrism.Audio.DQM"
      ]
    },
    {
      "cell_type": "code",
      "execution_count": 5,
      "metadata": {
        "id": "y2JoFccl8Mcm"
      },
      "outputs": [],
      "source": [
        "# Define an object for the Audio class\n",
        "Audio = QPrism.Audio.DQM.Audio_DQM()"
      ]
    },
    {
      "cell_type": "markdown",
      "metadata": {
        "id": "D9LXezEBiA_X"
      },
      "source": [
        "###First, you need to create a folder named Audios under content, then upload the assets_fish.wav and taunt.wav to the folder. After this, there should exist the following files: /content/Audios/assets_fish.wav, /content/Audios/taunt.wav. Both audio files for testing can be downloaded [here](https://github.com/aid4mh/QPrism/tree/main/data/audio)."
      ]
    },
    {
      "cell_type": "markdown",
      "metadata": {
        "id": "8YGBi21Mi_G_"
      },
      "source": [
        "#Get the supported metrics for the videos"
      ]
    },
    {
      "cell_type": "code",
      "execution_count": 6,
      "metadata": {
        "colab": {
          "base_uri": "https://localhost:8080/"
        },
        "id": "0AITFhAn9hkP",
        "outputId": "423e6999-4633-417f-a706-d1f98295727c"
      },
      "outputs": [
        {
          "name": "stdout",
          "output_type": "stream",
          "text": [
            "Length of the audio is 4 seconds\n"
          ]
        }
      ],
      "source": [
        "# Length of a single audio file\n",
        "length = Audio.observation_duration(path='/content/Audios/taunt.wav')\n",
        "print(\"Length of the audio is %d seconds\" %length)"
      ]
    },
    {
      "cell_type": "code",
      "execution_count": 7,
      "metadata": {
        "colab": {
          "base_uri": "https://localhost:8080/"
        },
        "id": "z1oL_xCPWiIL",
        "outputId": "e2f4afe0-a023-4aa8-dac0-67515bbbf0d7"
      },
      "outputs": [
        {
          "name": "stdout",
          "output_type": "stream",
          "text": [
            "Length of the audios are: \n",
            "         Audios  Length\n",
            "0  assets_fish   4.547\n",
            "1        taunt   4.099\n"
          ]
        }
      ],
      "source": [
        "# Length of an audio folder\n",
        "length = Audio.observation_duration(path='/content/Audios')\n",
        "print(\"Length of the audios are: \\n\", length)"
      ]
    },
    {
      "cell_type": "code",
      "execution_count": 8,
      "metadata": {
        "colab": {
          "base_uri": "https://localhost:8080/"
        },
        "id": "nF5uoyPZA1MH",
        "outputId": "2f1e9a5c-0c7f-4653-a21e-08ad866a6db2"
      },
      "outputs": [
        {
          "name": "stdout",
          "output_type": "stream",
          "text": [
            "Sample rate of the audio is 22257\n"
          ]
        }
      ],
      "source": [
        "# Sample rate of a single audio file\n",
        "samplerate = Audio.sampling_rate(path='/content/Audios/taunt.wav')\n",
        "print(\"Sample rate of the audio is\", samplerate)"
      ]
    },
    {
      "cell_type": "code",
      "execution_count": 9,
      "metadata": {
        "colab": {
          "base_uri": "https://localhost:8080/"
        },
        "id": "kjwzwJ4ZWnLE",
        "outputId": "389f6b14-3bd3-4dba-9e4e-96053eabd950"
      },
      "outputs": [
        {
          "name": "stdout",
          "output_type": "stream",
          "text": [
            "Sample rate of the audio are: \n",
            "         Audios  Sample Rate\n",
            "0  assets_fish        44100\n",
            "1        taunt        22257\n"
          ]
        }
      ],
      "source": [
        "# Sample Rate of an audio folder\n",
        "samplerate = Audio.sampling_rate(path='/content/Audios')\n",
        "print(\"Sample rate of the audio are: \\n\", samplerate)"
      ]
    },
    {
      "cell_type": "code",
      "execution_count": 10,
      "metadata": {
        "colab": {
          "base_uri": "https://localhost:8080/"
        },
        "id": "Edp_t99XBudM",
        "outputId": "8b9ad79f-6ffc-4311-f201-ad09d963ff5c"
      },
      "outputs": [
        {
          "name": "stdout",
          "output_type": "stream",
          "text": [
            "Sounds in the audio are: \n",
            " ['Speech', 'Silence']\n"
          ]
        }
      ],
      "source": [
        "# Sounds in a single audio file\n",
        "sounds = Audio.voice_classification(path='/content/Audios/taunt.wav')\n",
        "print(\"Sounds in the audio are: \\n\", sounds)"
      ]
    },
    {
      "cell_type": "code",
      "execution_count": 11,
      "metadata": {
        "colab": {
          "base_uri": "https://localhost:8080/"
        },
        "id": "NqBiTkw5WrYc",
        "outputId": "aa1982ba-075d-4d8e-ad0e-a429534c1e1a"
      },
      "outputs": [
        {
          "name": "stdout",
          "output_type": "stream",
          "text": [
            "Sounds in the audios are: \n",
            "         Audios             Voices\n",
            "0  assets_fish           [Speech]\n",
            "1        taunt  [Speech, Silence]\n"
          ]
        }
      ],
      "source": [
        "# Sounds of an audio folder\n",
        "sounds = Audio.voice_classification(path='/content/Audios')\n",
        "print(\"Sounds in the audios are: \\n\", sounds)"
      ]
    },
    {
      "cell_type": "code",
      "execution_count": 12,
      "metadata": {
        "colab": {
          "base_uri": "https://localhost:8080/"
        },
        "id": "9Z0uAgvoE0qG",
        "outputId": "b7007661-060e-4974-9145-04b6d662e33c"
      },
      "outputs": [
        {
          "name": "stdout",
          "output_type": "stream",
          "text": [
            "RMS of the audio is 3499\n"
          ]
        }
      ],
      "source": [
        "# RMS level of a single audio file\n",
        "rms = Audio.RMS(path='/content/Audios/assets_fish.wav')\n",
        "print(\"RMS of the audio is\", rms)"
      ]
    },
    {
      "cell_type": "code",
      "execution_count": 13,
      "metadata": {
        "colab": {
          "base_uri": "https://localhost:8080/"
        },
        "id": "6DYABsfZWuFh",
        "outputId": "e410682f-6e00-4f07-e9b2-d3bc00423b74"
      },
      "outputs": [
        {
          "name": "stdout",
          "output_type": "stream",
          "text": [
            "RMS of the audios are: \n",
            "         Audios   RMS\n",
            "0  assets_fish  3499\n",
            "1        taunt   113\n"
          ]
        }
      ],
      "source": [
        "# RMS level of an audio folder\n",
        "rms = Audio.RMS(path='/content/Audios')\n",
        "print(\"RMS of the audios are: \\n\", rms)"
      ]
    },
    {
      "cell_type": "code",
      "execution_count": 14,
      "metadata": {
        "colab": {
          "base_uri": "https://localhost:8080/"
        },
        "id": "rjDkQLmVGtaG",
        "outputId": "3730958d-4d10-4456-bf1b-3cf950237a33"
      },
      "outputs": [
        {
          "name": "stdout",
          "output_type": "stream",
          "text": [
            "Metrics saved to  /content/Audios/audio_metrics.csv\n"
          ]
        }
      ],
      "source": [
        "# All metrics\n",
        "Audio.save_csv(path='/content/Audios/taunt.wav', output_path='/content/Audios/audio_metrics.csv')"
      ]
    },
    {
      "cell_type": "code",
      "execution_count": 15,
      "metadata": {
        "colab": {
          "base_uri": "https://localhost:8080/",
          "height": 81
        },
        "id": "N36IlGCOHL0_",
        "outputId": "20c646c0-3e8a-4bd9-a2b6-35bf1151447a"
      },
      "outputs": [
        {
          "data": {
            "text/html": [
              "\n",
              "  <div id=\"df-fd0d279e-1dbd-4d94-94e4-b5ed1d464179\">\n",
              "    <div class=\"colab-df-container\">\n",
              "      <div>\n",
              "<style scoped>\n",
              "    .dataframe tbody tr th:only-of-type {\n",
              "        vertical-align: middle;\n",
              "    }\n",
              "\n",
              "    .dataframe tbody tr th {\n",
              "        vertical-align: top;\n",
              "    }\n",
              "\n",
              "    .dataframe thead th {\n",
              "        text-align: right;\n",
              "    }\n",
              "</style>\n",
              "<table border=\"1\" class=\"dataframe\">\n",
              "  <thead>\n",
              "    <tr style=\"text-align: right;\">\n",
              "      <th></th>\n",
              "      <th>Audio Name</th>\n",
              "      <th>Length</th>\n",
              "      <th>RMS</th>\n",
              "      <th>Sample Rate</th>\n",
              "      <th>Voices</th>\n",
              "    </tr>\n",
              "  </thead>\n",
              "  <tbody>\n",
              "    <tr>\n",
              "      <th>0</th>\n",
              "      <td>taunt</td>\n",
              "      <td>4.099</td>\n",
              "      <td>113.0</td>\n",
              "      <td>22257.0</td>\n",
              "      <td>['Speech', 'Silence']</td>\n",
              "    </tr>\n",
              "  </tbody>\n",
              "</table>\n",
              "</div>\n",
              "      <button class=\"colab-df-convert\" onclick=\"convertToInteractive('df-fd0d279e-1dbd-4d94-94e4-b5ed1d464179')\"\n",
              "              title=\"Convert this dataframe to an interactive table.\"\n",
              "              style=\"display:none;\">\n",
              "        \n",
              "  <svg xmlns=\"http://www.w3.org/2000/svg\" height=\"24px\"viewBox=\"0 0 24 24\"\n",
              "       width=\"24px\">\n",
              "    <path d=\"M0 0h24v24H0V0z\" fill=\"none\"/>\n",
              "    <path d=\"M18.56 5.44l.94 2.06.94-2.06 2.06-.94-2.06-.94-.94-2.06-.94 2.06-2.06.94zm-11 1L8.5 8.5l.94-2.06 2.06-.94-2.06-.94L8.5 2.5l-.94 2.06-2.06.94zm10 10l.94 2.06.94-2.06 2.06-.94-2.06-.94-.94-2.06-.94 2.06-2.06.94z\"/><path d=\"M17.41 7.96l-1.37-1.37c-.4-.4-.92-.59-1.43-.59-.52 0-1.04.2-1.43.59L10.3 9.45l-7.72 7.72c-.78.78-.78 2.05 0 2.83L4 21.41c.39.39.9.59 1.41.59.51 0 1.02-.2 1.41-.59l7.78-7.78 2.81-2.81c.8-.78.8-2.07 0-2.86zM5.41 20L4 18.59l7.72-7.72 1.47 1.35L5.41 20z\"/>\n",
              "  </svg>\n",
              "      </button>\n",
              "      \n",
              "  <style>\n",
              "    .colab-df-container {\n",
              "      display:flex;\n",
              "      flex-wrap:wrap;\n",
              "      gap: 12px;\n",
              "    }\n",
              "\n",
              "    .colab-df-convert {\n",
              "      background-color: #E8F0FE;\n",
              "      border: none;\n",
              "      border-radius: 50%;\n",
              "      cursor: pointer;\n",
              "      display: none;\n",
              "      fill: #1967D2;\n",
              "      height: 32px;\n",
              "      padding: 0 0 0 0;\n",
              "      width: 32px;\n",
              "    }\n",
              "\n",
              "    .colab-df-convert:hover {\n",
              "      background-color: #E2EBFA;\n",
              "      box-shadow: 0px 1px 2px rgba(60, 64, 67, 0.3), 0px 1px 3px 1px rgba(60, 64, 67, 0.15);\n",
              "      fill: #174EA6;\n",
              "    }\n",
              "\n",
              "    [theme=dark] .colab-df-convert {\n",
              "      background-color: #3B4455;\n",
              "      fill: #D2E3FC;\n",
              "    }\n",
              "\n",
              "    [theme=dark] .colab-df-convert:hover {\n",
              "      background-color: #434B5C;\n",
              "      box-shadow: 0px 1px 3px 1px rgba(0, 0, 0, 0.15);\n",
              "      filter: drop-shadow(0px 1px 2px rgba(0, 0, 0, 0.3));\n",
              "      fill: #FFFFFF;\n",
              "    }\n",
              "  </style>\n",
              "\n",
              "      <script>\n",
              "        const buttonEl =\n",
              "          document.querySelector('#df-fd0d279e-1dbd-4d94-94e4-b5ed1d464179 button.colab-df-convert');\n",
              "        buttonEl.style.display =\n",
              "          google.colab.kernel.accessAllowed ? 'block' : 'none';\n",
              "\n",
              "        async function convertToInteractive(key) {\n",
              "          const element = document.querySelector('#df-fd0d279e-1dbd-4d94-94e4-b5ed1d464179');\n",
              "          const dataTable =\n",
              "            await google.colab.kernel.invokeFunction('convertToInteractive',\n",
              "                                                     [key], {});\n",
              "          if (!dataTable) return;\n",
              "\n",
              "          const docLinkHtml = 'Like what you see? Visit the ' +\n",
              "            '<a target=\"_blank\" href=https://colab.research.google.com/notebooks/data_table.ipynb>data table notebook</a>'\n",
              "            + ' to learn more about interactive tables.';\n",
              "          element.innerHTML = '';\n",
              "          dataTable['output_type'] = 'display_data';\n",
              "          await google.colab.output.renderOutput(dataTable, element);\n",
              "          const docLink = document.createElement('div');\n",
              "          docLink.innerHTML = docLinkHtml;\n",
              "          element.appendChild(docLink);\n",
              "        }\n",
              "      </script>\n",
              "    </div>\n",
              "  </div>\n",
              "  "
            ],
            "text/plain": [
              "  Audio Name  Length    RMS  Sample Rate                 Voices\n",
              "0      taunt   4.099  113.0      22257.0  ['Speech', 'Silence']"
            ]
          },
          "execution_count": 15,
          "metadata": {},
          "output_type": "execute_result"
        }
      ],
      "source": [
        "import pandas as pd\n",
        "df = pd.read_csv('/content/Audios/audio_metrics.csv')\n",
        "df.head()"
      ]
    }
  ],
  "metadata": {
    "colab": {
      "collapsed_sections": [],
      "include_colab_link": true,
      "name": "Copy of Audio Demo.ipynb",
      "provenance": []
    },
    "kernelspec": {
      "display_name": "Python 3.8.10 64-bit",
      "language": "python",
      "name": "python3"
    },
    "language_info": {
      "name": "python",
      "version": "3.8.10"
    },
    "vscode": {
      "interpreter": {
        "hash": "916dbcbb3f70747c44a77c7bcd40155683ae19c65e1c03b4aa3499c5328201f1"
      }
    }
  },
  "nbformat": 4,
  "nbformat_minor": 0
}
