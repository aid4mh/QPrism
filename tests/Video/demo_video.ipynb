{
  "nbformat": 4,
  "nbformat_minor": 0,
  "metadata": {
    "colab": {
      "name": "demo_video.ipynb",
      "provenance": [],
      "collapsed_sections": [],
      "authorship_tag": "ABX9TyM/4VJtsmYtvFDctSG9isHm",
      "include_colab_link": true
    },
    "kernelspec": {
      "name": "python3",
      "display_name": "Python 3"
    },
    "language_info": {
      "name": "python"
    }
  },
  "cells": [
    {
      "cell_type": "markdown",
      "metadata": {
        "id": "view-in-github",
        "colab_type": "text"
      },
      "source": [
        "<a href=\"https://colab.research.google.com/github/aid4mh/QPrism/blob/main/tests/Video/demo_video.ipynb\" target=\"_parent\"><img src=\"https://colab.research.google.com/assets/colab-badge.svg\" alt=\"Open In Colab\"/></a>"
      ]
    },
    {
      "cell_type": "markdown",
      "source": [
        "## **Demo notebook for the Video submodule**"
      ],
      "metadata": {
        "id": "sZOWYYDIbAH-"
      }
    },
    {
      "cell_type": "markdown",
      "source": [
        "### Create virtualenv using pip"
      ],
      "metadata": {
        "id": "zDPStmWxcsCA"
      }
    },
    {
      "cell_type": "code",
      "source": [
        "!python3 -m pip install --upgrade pip"
      ],
      "metadata": {
        "id": "QN8nipRsKWcN"
      },
      "execution_count": null,
      "outputs": []
    },
    {
      "cell_type": "code",
      "source": [
        "# Install virtualenv\n",
        "!python3 -m pip install --user virtualenv"
      ],
      "metadata": {
        "id": "Inr91UZYcvKD"
      },
      "execution_count": null,
      "outputs": []
    },
    {
      "cell_type": "code",
      "source": [
        "!python3 -m venv QPrism"
      ],
      "metadata": {
        "id": "56wfluHFcv9M"
      },
      "execution_count": null,
      "outputs": []
    },
    {
      "cell_type": "code",
      "source": [
        "# Activate the QPrism virtual enviroment\n",
        "!source Qprism/bin/activate"
      ],
      "metadata": {
        "id": "QraxMnI2cy6W"
      },
      "execution_count": null,
      "outputs": []
    },
    {
      "cell_type": "markdown",
      "source": [
        "### Create virtualenv using conda"
      ],
      "metadata": {
        "id": "48sBPsmKdKoB"
      }
    },
    {
      "cell_type": "code",
      "source": [
        "# Install conda on google colab\n",
        "! wget https://repo.anaconda.com/miniconda/Miniconda3-py37_4.8.2-Linux-x86_64.sh\n",
        "! chmod +x Miniconda3-py37_4.8.2-Linux-x86_64.sh\n",
        "! bash ./Miniconda3-py37_4.8.2-Linux-x86_64.sh -b -f -p /usr/local\n",
        "import sys\n",
        "sys.path.append('/usr/local/lib/python3.7/site-packages/')"
      ],
      "metadata": {
        "id": "AlwrXaT1dNiK"
      },
      "execution_count": null,
      "outputs": []
    },
    {
      "cell_type": "code",
      "source": [
        "!conda create --name QPrism"
      ],
      "metadata": {
        "id": "gYV2SJQ6eGMw"
      },
      "execution_count": null,
      "outputs": []
    },
    {
      "cell_type": "code",
      "source": [
        "!conda activate QPrism"
      ],
      "metadata": {
        "id": "LLZIJGW6eMUD"
      },
      "execution_count": null,
      "outputs": []
    },
    {
      "cell_type": "markdown",
      "source": [
        "### Installation of QPrism"
      ],
      "metadata": {
        "id": "16Zi-ul2bMLd"
      }
    },
    {
      "cell_type": "code",
      "source": [
        "!pip install -r https://raw.githubusercontent.com/aid4mh/QPrism/main/requirements.txt"
      ],
      "metadata": {
        "id": "FiNb4H8zjZXa"
      },
      "execution_count": null,
      "outputs": []
    },
    {
      "cell_type": "code",
      "execution_count": null,
      "metadata": {
        "id": "jV38gnfPIQpU"
      },
      "outputs": [],
      "source": [
        "!pip install --no-deps -i https://test.pypi.org/simple/ QPrism==0.1.6"
      ]
    },
    {
      "cell_type": "markdown",
      "source": [
        "### Import the library"
      ],
      "metadata": {
        "id": "pP9VgxW1biVd"
      }
    },
    {
      "cell_type": "code",
      "source": [
        "import QPrism.Video.DQM as Video"
      ],
      "metadata": {
        "id": "TzV6U6T1KnRh"
      },
      "execution_count": null,
      "outputs": []
    },
    {
      "cell_type": "markdown",
      "source": [
        "### Create an instance for the Video class"
      ],
      "metadata": {
        "id": "a1WoPn3vbqT_"
      }
    },
    {
      "cell_type": "code",
      "source": [
        "Video = Video.Video_DQM()"
      ],
      "metadata": {
        "id": "glYjN3bBKvtQ"
      },
      "execution_count": null,
      "outputs": []
    },
    {
      "cell_type": "markdown",
      "source": [
        "### Video Length"
      ],
      "metadata": {
        "id": "ULp96W_cb46s"
      }
    },
    {
      "cell_type": "code",
      "source": [
        "# Length of a single video file\n",
        "length = Video.length(path='/content/video_1.mp4')\n",
        "print(\"Length of the video is %d seconds\" %length)\n",
        "\n",
        "# Length of a video folder\n",
        "length = Video.length(path='/content/video_samples')\n",
        "print(\"Length of the videos are: \\n\", length)"
      ],
      "metadata": {
        "colab": {
          "base_uri": "https://localhost:8080/"
        },
        "id": "0lW-4HS8MVq7",
        "outputId": "3e839e51-b939-4e8a-dcbf-66df5d9cae7a"
      },
      "execution_count": null,
      "outputs": [
        {
          "output_type": "stream",
          "name": "stdout",
          "text": [
            "Length of the video is 154 seconds\n",
            "Length of the videos are: \n",
            "     Videos  Length\n",
            "0  video_2     267\n",
            "1  video_1     154\n"
          ]
        }
      ]
    },
    {
      "cell_type": "markdown",
      "source": [
        "### Video Resolution"
      ],
      "metadata": {
        "id": "tlbt2-Qfb-oL"
      }
    },
    {
      "cell_type": "code",
      "source": [
        "# Resolution of the video\n",
        "resolution = Video.resolution(path='/content/video_1.mp4')\n",
        "print(\"Resolution of the video:\", resolution)\n",
        "\n",
        "# Resolution of the video folder\n",
        "resolution = Video.resolution(path='/content/video_samples')\n",
        "print(\"Resolution of the videos: \\n\", resolution)"
      ],
      "metadata": {
        "colab": {
          "base_uri": "https://localhost:8080/"
        },
        "id": "UN4_CqgtPQ-G",
        "outputId": "3f1f628d-80f0-442d-ec9c-a113b962edc8"
      },
      "execution_count": null,
      "outputs": [
        {
          "output_type": "stream",
          "name": "stdout",
          "text": [
            "Resolution of the video: 720\n",
            "Resolution of the videos: \n",
            "     Videos  Resolution\n",
            "0  video_2         720\n",
            "1  video_1         720\n"
          ]
        }
      ]
    },
    {
      "cell_type": "markdown",
      "source": [
        "### Video Format"
      ],
      "metadata": {
        "id": "2mcAyfQrcAtY"
      }
    },
    {
      "cell_type": "code",
      "source": [
        "# Format of a single video file\n",
        "format = Video.format(path='/content/video_1.mp4')\n",
        "print(\"Format of the video is\", format)\n",
        "\n",
        "# Format of a video folder\n",
        "format = Video.format(path='/content/video_samples')\n",
        "print(\"Format of the videos are: \\n\", format)"
      ],
      "metadata": {
        "colab": {
          "base_uri": "https://localhost:8080/"
        },
        "id": "a4Xik-D5Pfle",
        "outputId": "e74a7990-a1b8-45e3-b5af-8b53e5a17d9b"
      },
      "execution_count": null,
      "outputs": [
        {
          "output_type": "stream",
          "name": "stdout",
          "text": [
            "Format of the video is .mp4\n",
            "Format of the videos are: \n",
            "     Videos Format\n",
            "0  video_2   .mp4\n",
            "1  video_1   .mp4\n"
          ]
        }
      ]
    },
    {
      "cell_type": "markdown",
      "source": [
        "### Bitrate of the video"
      ],
      "metadata": {
        "id": "afJEMl52cCm5"
      }
    },
    {
      "cell_type": "code",
      "source": [
        "# Bitrate of a single video file\n",
        "bitrate = Video.bit_rate(path='/content/video_1.mp4')\n",
        "print(\"Bitrate of the video is\", bitrate)\n",
        "\n",
        "# Bitrate of a video folder\n",
        "bitrate = Video.bit_rate(path='/content/video_samples')\n",
        "print(\"Bitrate of the videos are: \\n\", bitrate)"
      ],
      "metadata": {
        "colab": {
          "base_uri": "https://localhost:8080/"
        },
        "id": "suC_vY-jPnLq",
        "outputId": "dfcc064b-e828-4b73-85d8-84bb64c18de7"
      },
      "execution_count": null,
      "outputs": [
        {
          "output_type": "stream",
          "name": "stdout",
          "text": [
            "Audio file not found!!!\n",
            "Extracting audio from video\n",
            "[MoviePy] Writing audio in audio_files/video_1_Audio.mp3\n"
          ]
        },
        {
          "output_type": "stream",
          "name": "stderr",
          "text": [
            "100%|██████████| 3274/3274 [00:05<00:00, 604.64it/s]"
          ]
        },
        {
          "output_type": "stream",
          "name": "stdout",
          "text": [
            "[MoviePy] Done.\n"
          ]
        },
        {
          "output_type": "stream",
          "name": "stderr",
          "text": [
            "\n"
          ]
        },
        {
          "output_type": "stream",
          "name": "stdout",
          "text": [
            "Bitrate of the video is 1205\n",
            "Audio file not found!!!\n",
            "Extracting audio from video\n",
            "[MoviePy] Writing audio in audio_files/video_2_Audio.mp3\n"
          ]
        },
        {
          "output_type": "stream",
          "name": "stderr",
          "text": [
            "100%|██████████| 5659/5659 [00:09<00:00, 600.67it/s]"
          ]
        },
        {
          "output_type": "stream",
          "name": "stdout",
          "text": [
            "[MoviePy] Done.\n"
          ]
        },
        {
          "output_type": "stream",
          "name": "stderr",
          "text": [
            "\n"
          ]
        },
        {
          "output_type": "stream",
          "name": "stdout",
          "text": [
            "Bitrate of the videos are: \n",
            "     Videos  Bitrate\n",
            "0  video_2      337\n",
            "1  video_1     1205\n"
          ]
        }
      ]
    },
    {
      "cell_type": "markdown",
      "source": [
        "### Object Detection"
      ],
      "metadata": {
        "id": "Ri_9DDH-cEsE"
      }
    },
    {
      "cell_type": "code",
      "source": [
        "# Object Detection for Single file\n",
        "objects = Video.object_detection(path='/content/video_1.mp4', modelname='yolov5s')\n",
        "print(\"Objects detected in the video are:\", objects)\n",
        "\n",
        "# Folder\n",
        "objects = Video.object_detection(path='/content/video_samples', modelname='yolov5s')\n",
        "print(\"Objects detected in the videos are \\n:\", objects)"
      ],
      "metadata": {
        "colab": {
          "base_uri": "https://localhost:8080/"
        },
        "id": "yYhyaQtMQJpB",
        "outputId": "a0b474a4-755c-4e13-c8ff-6b28f619134e"
      },
      "execution_count": null,
      "outputs": [
        {
          "metadata": {
            "tags": null
          },
          "name": "stderr",
          "output_type": "stream",
          "text": [
            "Using cache found in /root/.cache/torch/hub/ultralytics_yolov5_master\n",
            "YOLOv5 🚀 2022-7-27 Python-3.7.13 torch-1.12.0+cu113 CPU\n",
            "\n",
            "Fusing layers... \n",
            "YOLOv5s summary: 213 layers, 7225885 parameters, 0 gradients\n",
            "Adding AutoShape... \n",
            "Using cache found in /root/.cache/torch/hub/ultralytics_yolov5_master\n",
            "YOLOv5 🚀 2022-7-27 Python-3.7.13 torch-1.12.0+cu113 CPU\n",
            "\n",
            "Fusing layers... \n"
          ]
        },
        {
          "metadata": {
            "tags": null
          },
          "name": "stdout",
          "output_type": "stream",
          "text": [
            "Objects detected in the video are: ['person', 'suitcase', 'cell phone', 'refrigerator', 'backpack', 'chair', 'bottle', 'bowl', 'tv', 'sports ball', 'umbrella', 'cup', 'handbag', 'cake', 'tie', 'wine glass', 'cat', 'spoon', 'couch', 'bus', 'dining table', 'baseball glove', 'vase', 'bicycle', 'fork', 'oven', 'bed', 'potted plant', 'car', 'bird', 'motorcycle', 'dog', 'clock', 'book', 'laptop', 'truck', 'remote', 'parking meter']\n"
          ]
        },
        {
          "metadata": {
            "tags": null
          },
          "name": "stderr",
          "output_type": "stream",
          "text": [
            "YOLOv5s summary: 213 layers, 7225885 parameters, 0 gradients\n",
            "Adding AutoShape... \n"
          ]
        },
        {
          "output_type": "stream",
          "name": "stdout",
          "text": [
            "Objects detected in the videos are \n",
            ":     Videos                                            Objects\n",
            "0  video_2  [person, suitcase, cell phone, backpack, mouse...\n",
            "1  video_1  [person, suitcase, cell phone, refrigerator, b...\n"
          ]
        }
      ]
    },
    {
      "cell_type": "markdown",
      "source": [
        "### Framerate "
      ],
      "metadata": {
        "id": "l820CfnxcHCu"
      }
    },
    {
      "cell_type": "code",
      "source": [
        "# Frame rate of a single video file\n",
        "framerate = Video.framerate(path='/content/video_1.mp4')\n",
        "print(\"Frame rate of the video is\", framerate)\n",
        "\n",
        "# Frame Rate of a video folder\n",
        "framerate = Video.framerate(path='/content/video_samples')\n",
        "print(\"Frame rate of the videos are: \\n\", framerate)"
      ],
      "metadata": {
        "colab": {
          "base_uri": "https://localhost:8080/"
        },
        "id": "6Gbo2_LnR0iF",
        "outputId": "69368d94-f7cc-4b1e-fc38-f2fecde196c0"
      },
      "execution_count": null,
      "outputs": [
        {
          "output_type": "stream",
          "name": "stdout",
          "text": [
            "Frame rate of the video is 23\n",
            "Frame rate of the videos are: \n",
            "     Videos  Framerate\n",
            "0  video_2         23\n",
            "1  video_1         23\n"
          ]
        }
      ]
    },
    {
      "cell_type": "markdown",
      "source": [
        "### Illumination (Brightness)"
      ],
      "metadata": {
        "id": "Kvp5FErxcJDB"
      }
    },
    {
      "cell_type": "code",
      "source": [
        "# Brightness of a single video file\n",
        "brightness = Video.brightness(path='/content/video_1.mp4')\n",
        "print(\"Brightness of the video is\", brightness)\n",
        "\n",
        "# Brightness of a video folder\n",
        "brightness = Video.brightness(path='/content/video_samples')\n",
        "print(\"Brightness of the videos are: \\n\", brightness)"
      ],
      "metadata": {
        "colab": {
          "base_uri": "https://localhost:8080/"
        },
        "id": "P_0YJ-4ASlsf",
        "outputId": "6ceeea6a-d9e7-4033-decd-50db804f5a93"
      },
      "execution_count": null,
      "outputs": [
        {
          "output_type": "stream",
          "name": "stdout",
          "text": [
            "Brightness of the video is 56.75\n",
            "Brightness of the videos are: \n",
            "     Videos  Brightness\n",
            "0  video_2      49.158\n",
            "1  video_1      56.750\n"
          ]
        }
      ]
    },
    {
      "cell_type": "markdown",
      "source": [
        "### Date of creation"
      ],
      "metadata": {
        "id": "RVP6UUDbcNJT"
      }
    },
    {
      "cell_type": "code",
      "source": [
        "# Time created of a single video file\n",
        "time = Video.time_created(path='/content/video_1.mp4')\n",
        "print(\"Time created of the video is\", time)\n",
        "\n",
        "# Time created of a video folder\n",
        "time = Video.time_created(path='/content/video_samples')\n",
        "print(\"Time created of the videos are: \\n\", time)"
      ],
      "metadata": {
        "colab": {
          "base_uri": "https://localhost:8080/"
        },
        "id": "FUHIzSXJSojf",
        "outputId": "e3e84b4b-76be-4d83-cda0-715b868b1634"
      },
      "execution_count": null,
      "outputs": [
        {
          "output_type": "stream",
          "name": "stdout",
          "text": [
            "Time created of the video is 2019-12-14T06:50:03\n",
            "Enter path of video directory: /content/video_samples\n",
            "Time created of the videos are: \n",
            "     Videos         Date created\n",
            "0  video_2  2022-06-03T15:05:49\n",
            "1  video_1  2019-12-14T06:50:03\n"
          ]
        }
      ]
    },
    {
      "cell_type": "markdown",
      "source": [
        "### Presence of artifacts"
      ],
      "metadata": {
        "id": "GBT-lqPMcRmE"
      }
    },
    {
      "cell_type": "code",
      "source": [
        "# Percentage of artifacts present of a single video file\n",
        "artifact = Video.check_artifacts(path='/content/video_1.mp4')\n",
        "print(\"Percentage of artifacts present of the video is\", artifact)\n",
        "\n",
        "# Percentage of artifacts present of a video folder\n",
        "artifact = Video.check_artifacts(path='/content/video_samples')\n",
        "print(\"Percentage of artifacts present of the videos are: \\n\", artifact)"
      ],
      "metadata": {
        "colab": {
          "base_uri": "https://localhost:8080/"
        },
        "id": "h82Gr3LeSq5G",
        "outputId": "a205bdfe-a00a-42b2-8c3d-9be055d488e5"
      },
      "execution_count": null,
      "outputs": [
        {
          "output_type": "stream",
          "name": "stdout",
          "text": [
            "Percentage of artifacts present of the video is 1.0\n",
            "Percentage of artifacts present of the videos are: \n",
            "     Videos  Artifacts\n",
            "0  video_2      0.982\n",
            "1  video_1      1.000\n"
          ]
        }
      ]
    },
    {
      "cell_type": "markdown",
      "source": [
        "### Get all the metrics"
      ],
      "metadata": {
        "id": "jPjLFlfYcW7R"
      }
    },
    {
      "cell_type": "code",
      "source": [
        "# All metrics\n",
        "Video.all_video(path='/content/video_1.mp4', modelname='yolov5s')"
      ],
      "metadata": {
        "colab": {
          "base_uri": "https://localhost:8080/"
        },
        "id": "p8CbLjKWSrYX",
        "outputId": "d2cef41b-983a-419e-ddf9-e61e23c22d26"
      },
      "execution_count": null,
      "outputs": [
        {
          "metadata": {
            "tags": null
          },
          "name": "stdout",
          "output_type": "stream",
          "text": [
            "Audio file not found!!!\n",
            "Extracting audio from video\n",
            "[MoviePy] Writing audio in audio_files/video_1_Audio.mp3\n"
          ]
        },
        {
          "metadata": {
            "tags": null
          },
          "name": "stderr",
          "output_type": "stream",
          "text": [
            "100%|██████████| 3274/3274 [00:05<00:00, 640.78it/s]"
          ]
        },
        {
          "metadata": {
            "tags": null
          },
          "name": "stdout",
          "output_type": "stream",
          "text": [
            "[MoviePy] Done.\n"
          ]
        },
        {
          "metadata": {
            "tags": null
          },
          "name": "stderr",
          "output_type": "stream",
          "text": [
            "\n"
          ]
        },
        {
          "name": "stdout",
          "output_type": "stream",
          "text": [
            "Enter path of video directory: /content/\n"
          ]
        },
        {
          "output_type": "stream",
          "name": "stderr",
          "text": [
            "Using cache found in /root/.cache/torch/hub/ultralytics_yolov5_master\n",
            "YOLOv5 🚀 2022-7-27 Python-3.7.13 torch-1.12.0+cu113 CPU\n",
            "\n",
            "Fusing layers... \n",
            "YOLOv5s summary: 213 layers, 7225885 parameters, 0 gradients\n",
            "Adding AutoShape... \n"
          ]
        },
        {
          "output_type": "stream",
          "name": "stdout",
          "text": [
            "Metrics saved to  /content/video_samples/video_metrics.csv\n"
          ]
        }
      ]
    }
  ]
}