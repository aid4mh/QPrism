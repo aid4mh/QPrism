{
  "nbformat": 4,
  "nbformat_minor": 0,
  "metadata": {
    "colab": {
      "name": "Copy of demo_video.ipynb",
      "provenance": [],
      "collapsed_sections": [],
      "toc_visible": true,
      "include_colab_link": true
    },
    "kernelspec": {
      "name": "python3",
      "display_name": "Python 3"
    },
    "language_info": {
      "name": "python"
    },
    "accelerator": "GPU",
    "gpuClass": "standard"
  },
  "cells": [
    {
      "cell_type": "markdown",
      "metadata": {
        "id": "view-in-github",
        "colab_type": "text"
      },
      "source": [
        "<a href=\"https://colab.research.google.com/github/aid4mh/QPrism/blob/main/tests/Video/video_demo.ipynb\" target=\"_parent\"><img src=\"https://colab.research.google.com/assets/colab-badge.svg\" alt=\"Open In Colab\"/></a>"
      ]
    },
    {
      "cell_type": "markdown",
      "source": [
        "## **Demo notebook for the Video submodule**"
      ],
      "metadata": {
        "id": "sZOWYYDIbAH-"
      }
    },
    {
      "cell_type": "code",
      "source": [
        "!python3 -m pip install --upgrade pip"
      ],
      "metadata": {
        "id": "QN8nipRsKWcN",
        "colab": {
          "base_uri": "https://localhost:8080/"
        },
        "outputId": "a5286627-86fd-4123-feea-78e5bddc4d40"
      },
      "execution_count": null,
      "outputs": [
        {
          "output_type": "stream",
          "name": "stdout",
          "text": [
            "Looking in indexes: https://pypi.org/simple, https://us-python.pkg.dev/colab-wheels/public/simple/\n",
            "Requirement already satisfied: pip in /usr/local/lib/python3.7/dist-packages (22.2.2)\n",
            "\u001b[33mWARNING: Running pip as the 'root' user can result in broken permissions and conflicting behaviour with the system package manager. It is recommended to use a virtual environment instead: https://pip.pypa.io/warnings/venv\u001b[0m\u001b[33m\n",
            "\u001b[0m"
          ]
        }
      ]
    },
    {
      "cell_type": "markdown",
      "source": [
        "### Installation of QPrism"
      ],
      "metadata": {
        "id": "16Zi-ul2bMLd"
      }
    },
    {
      "cell_type": "code",
      "source": [
        "!pip install -r https://raw.githubusercontent.com/aid4mh/QPrism/main/requirements.txt"
      ],
      "metadata": {
        "id": "FiNb4H8zjZXa"
      },
      "execution_count": null,
      "outputs": []
    },
    {
      "cell_type": "code",
      "execution_count": null,
      "metadata": {
        "id": "jV38gnfPIQpU",
        "colab": {
          "base_uri": "https://localhost:8080/"
        },
        "outputId": "9c28c2a2-f476-4974-f09c-0f4a96dd9da5"
      },
      "outputs": [
        {
          "output_type": "stream",
          "name": "stdout",
          "text": [
            "Looking in indexes: https://pypi.org/simple, https://us-python.pkg.dev/colab-wheels/public/simple/\n",
            "Requirement already satisfied: QPrism in /usr/local/lib/python3.7/dist-packages (0.1.9)\n",
            "\u001b[33mWARNING: Running pip as the 'root' user can result in broken permissions and conflicting behaviour with the system package manager. It is recommended to use a virtual environment instead: https://pip.pypa.io/warnings/venv\u001b[0m\u001b[33m\n",
            "\u001b[0m"
          ]
        }
      ],
      "source": [
        "!pip install --no-deps QPrism"
      ]
    },
    {
      "cell_type": "markdown",
      "source": [
        "### Import the library"
      ],
      "metadata": {
        "id": "pP9VgxW1biVd"
      }
    },
    {
      "cell_type": "code",
      "source": [
        "import QPrism.Video.DQM"
      ],
      "metadata": {
        "id": "TzV6U6T1KnRh"
      },
      "execution_count": null,
      "outputs": []
    },
    {
      "cell_type": "markdown",
      "source": [
        "### Create an instance for the Video class"
      ],
      "metadata": {
        "id": "a1WoPn3vbqT_"
      }
    },
    {
      "cell_type": "code",
      "source": [
        "Video = QPrism.Video.DQM.Video_DQM()"
      ],
      "metadata": {
        "id": "glYjN3bBKvtQ"
      },
      "execution_count": null,
      "outputs": []
    },
    {
      "cell_type": "markdown",
      "source": [
        "###First, you need to create a folder named video_samples under content, then upload the video_1.mp4 and video_2.mp4 to the folder. After this, there should exist the following files: /content/video_samples/video_1.mp4, /content/video_samples/video_2.mp4. Both video files for testing can be downloaded [here](https://github.com/aid4mh/QPrism/tree/main/data/video)."
      ],
      "metadata": {
        "id": "makGeSA8tXXL"
      }
    },
    {
      "cell_type": "markdown",
      "source": [
        "### Video Length"
      ],
      "metadata": {
        "id": "ULp96W_cb46s"
      }
    },
    {
      "cell_type": "code",
      "source": [
        "# Length of a single video file\n",
        "length = Video.length(path='/content/video_samples/video_1.mp4')\n",
        "print(\"Length of the video is %d seconds\" %length)\n",
        "\n"
      ],
      "metadata": {
        "colab": {
          "base_uri": "https://localhost:8080/"
        },
        "id": "0lW-4HS8MVq7",
        "outputId": "24808a65-4efc-46b4-d7e8-da173824f556"
      },
      "execution_count": null,
      "outputs": [
        {
          "output_type": "stream",
          "name": "stdout",
          "text": [
            "Length of the video is 65 seconds\n"
          ]
        }
      ]
    },
    {
      "cell_type": "code",
      "source": [
        "# Length of a video folder\n",
        "length = Video.length(path='/content/video_samples')\n",
        "print(\"Length of the videos are: \\n\", length)"
      ],
      "metadata": {
        "colab": {
          "base_uri": "https://localhost:8080/"
        },
        "id": "uSh7gR6OvNyG",
        "outputId": "d3d46fa3-27e0-4c71-f9c6-47ec95873555"
      },
      "execution_count": null,
      "outputs": [
        {
          "output_type": "stream",
          "name": "stdout",
          "text": [
            "Length of the videos are: \n",
            "     Videos  Length\n",
            "0  video_1      65\n",
            "1  video_2     267\n"
          ]
        }
      ]
    },
    {
      "cell_type": "markdown",
      "source": [
        "### Video Resolution"
      ],
      "metadata": {
        "id": "tlbt2-Qfb-oL"
      }
    },
    {
      "cell_type": "code",
      "source": [
        "# Resolution of the video\n",
        "resolution = Video.resolution(path='/content/video_samples/video_1.mp4')\n",
        "print(\"Resolution of the video:\", resolution)\n"
      ],
      "metadata": {
        "colab": {
          "base_uri": "https://localhost:8080/"
        },
        "id": "UN4_CqgtPQ-G",
        "outputId": "51d6db2f-6469-4b64-d0ac-7e89151d8faf"
      },
      "execution_count": null,
      "outputs": [
        {
          "output_type": "stream",
          "name": "stdout",
          "text": [
            "Resolution of the video: 1080\n"
          ]
        }
      ]
    },
    {
      "cell_type": "code",
      "source": [
        "# Resolution of the video folder\n",
        "resolution = Video.resolution(path='/content/video_samples')\n",
        "print(\"Resolution of the videos: \\n\", resolution)"
      ],
      "metadata": {
        "colab": {
          "base_uri": "https://localhost:8080/"
        },
        "id": "zi8OcD1cvR7g",
        "outputId": "ecd10876-17c2-487a-a079-cdac5dc3ba4d"
      },
      "execution_count": null,
      "outputs": [
        {
          "output_type": "stream",
          "name": "stdout",
          "text": [
            "Resolution of the videos: \n",
            "     Videos  Resolution\n",
            "0  video_1        1080\n",
            "1  video_2         720\n"
          ]
        }
      ]
    },
    {
      "cell_type": "markdown",
      "source": [
        "### Video Format"
      ],
      "metadata": {
        "id": "2mcAyfQrcAtY"
      }
    },
    {
      "cell_type": "code",
      "source": [
        "# Format of a single video file\n",
        "format = Video.format(path='/content/video_samples/video_1.mp4')\n",
        "print(\"Format of the video is\", format)\n"
      ],
      "metadata": {
        "colab": {
          "base_uri": "https://localhost:8080/"
        },
        "id": "a4Xik-D5Pfle",
        "outputId": "a76ee22b-f604-4158-b90b-73e5289d57ec"
      },
      "execution_count": null,
      "outputs": [
        {
          "output_type": "stream",
          "name": "stdout",
          "text": [
            "Format of the video is .mp4\n"
          ]
        }
      ]
    },
    {
      "cell_type": "code",
      "source": [
        "# Format of a video folder\n",
        "format = Video.format(path='/content/video_samples')\n",
        "print(\"Format of the videos are: \\n\", format)"
      ],
      "metadata": {
        "colab": {
          "base_uri": "https://localhost:8080/"
        },
        "id": "CSMDGzXSvYGi",
        "outputId": "ac78042a-80a5-4ed5-d760-4f1d6b864832"
      },
      "execution_count": null,
      "outputs": [
        {
          "output_type": "stream",
          "name": "stdout",
          "text": [
            "Format of the videos are: \n",
            "     Videos Format\n",
            "0  video_1   .mp4\n",
            "1  video_2   .mp4\n"
          ]
        }
      ]
    },
    {
      "cell_type": "markdown",
      "source": [
        "### Bitrate of the video"
      ],
      "metadata": {
        "id": "afJEMl52cCm5"
      }
    },
    {
      "cell_type": "code",
      "source": [
        "# Bitrate of a single video file\n",
        "bitrate = Video.bit_rate(path='/content/video_samples/video_1.mp4')\n",
        "print(\"Bitrate of the video is\", bitrate)"
      ],
      "metadata": {
        "colab": {
          "base_uri": "https://localhost:8080/"
        },
        "id": "suC_vY-jPnLq",
        "outputId": "a4da5665-4d27-4b69-fcff-53de937b8489"
      },
      "execution_count": null,
      "outputs": [
        {
          "output_type": "stream",
          "name": "stdout",
          "text": [
            "Bitrate of the video is 3630\n"
          ]
        }
      ]
    },
    {
      "cell_type": "code",
      "source": [
        "# Bitrate of a video folder\n",
        "bitrate = Video.bit_rate(path='/content/video_samples')\n",
        "print(\"Bitrate of the videos are: \\n\", bitrate)"
      ],
      "metadata": {
        "colab": {
          "base_uri": "https://localhost:8080/"
        },
        "id": "kXShOAKiviQH",
        "outputId": "a92413f5-e2b1-4185-ac16-4853bed02117"
      },
      "execution_count": null,
      "outputs": [
        {
          "output_type": "stream",
          "name": "stdout",
          "text": [
            "Bitrate of the videos are: \n",
            "     Videos  Bitrate\n",
            "0  video_1     3630\n",
            "1  video_2      337\n"
          ]
        }
      ]
    },
    {
      "cell_type": "markdown",
      "source": [
        "### Object Detection\n",
        "\n",
        "####Note: Object Detection will take a long time. It takes more than 10 min on GPU acceleration on Colab for video_1.mp4"
      ],
      "metadata": {
        "id": "Ri_9DDH-cEsE"
      }
    },
    {
      "cell_type": "code",
      "source": [
        "# Object Detection for Single file\n",
        "objects = Video.object_detection(path='/content/video_samples/video_1.mp4', modelname='yolov5s')\n",
        "print(\"Objects detected in the video are:\", objects)"
      ],
      "metadata": {
        "colab": {
          "base_uri": "https://localhost:8080/"
        },
        "id": "yYhyaQtMQJpB",
        "outputId": "a4be13c8-83be-4091-b5e8-4a03bc36b40f"
      },
      "execution_count": null,
      "outputs": [
        {
          "output_type": "stream",
          "name": "stderr",
          "text": [
            "Using cache found in /root/.cache/torch/hub/ultralytics_yolov5_master\n",
            "INFO:yolov5:\u001b[31m\u001b[1mrequirements:\u001b[0m Pillow>=7.1.2 not found and is required by YOLOv5, attempting auto-update...\n",
            "\u001b[31m\u001b[1mrequirements:\u001b[0m Pillow>=7.1.2 not found and is required by YOLOv5, attempting auto-update...\n",
            "INFO:yolov5:Looking in indexes: https://pypi.org/simple, https://us-python.pkg.dev/colab-wheels/public/simple/\n",
            "Requirement already satisfied: Pillow>=7.1.2 in /usr/local/lib/python3.7/dist-packages (9.1.0)\n",
            "\n",
            "Looking in indexes: https://pypi.org/simple, https://us-python.pkg.dev/colab-wheels/public/simple/\n",
            "Requirement already satisfied: Pillow>=7.1.2 in /usr/local/lib/python3.7/dist-packages (9.1.0)\n",
            "\n",
            "INFO:yolov5:\u001b[31m\u001b[1mrequirements:\u001b[0m 1 package updated per /root/.cache/torch/hub/ultralytics_yolov5_master/requirements.txt\n",
            "\u001b[31m\u001b[1mrequirements:\u001b[0m ⚠️ \u001b[1mRestart runtime or rerun command for updates to take effect\u001b[0m\n",
            "\n",
            "\u001b[31m\u001b[1mrequirements:\u001b[0m 1 package updated per /root/.cache/torch/hub/ultralytics_yolov5_master/requirements.txt\n",
            "\u001b[31m\u001b[1mrequirements:\u001b[0m ⚠️ \u001b[1mRestart runtime or rerun command for updates to take effect\u001b[0m\n",
            "\n",
            "INFO:yolov5:YOLOv5 🚀 2022-8-15 Python-3.7.13 torch-1.12.1+cu113 CUDA:0 (Tesla T4, 15110MiB)\n",
            "\n",
            "YOLOv5 🚀 2022-8-15 Python-3.7.13 torch-1.12.1+cu113 CUDA:0 (Tesla T4, 15110MiB)\n",
            "\n",
            "INFO:yolov5:Fusing layers... \n",
            "Fusing layers... \n",
            "INFO:yolov5:YOLOv5s summary: 213 layers, 7225885 parameters, 0 gradients\n",
            "YOLOv5s summary: 213 layers, 7225885 parameters, 0 gradients\n",
            "INFO:yolov5:Adding AutoShape... \n",
            "Adding AutoShape... \n"
          ]
        },
        {
          "output_type": "stream",
          "name": "stdout",
          "text": [
            "Objects detected in the video are: ['baseball bat', 'handbag', 'cell phone', 'remote', 'chair', 'bed', 'tie', 'mouse', 'toothbrush', 'couch', 'person']\n"
          ]
        }
      ]
    },
    {
      "cell_type": "code",
      "source": [
        "# Folder\n",
        "objects = Video.object_detection(path='/content/video_samples', modelname='yolov5s')\n",
        "print(\"Objects detected in the videos are \\n:\", objects)"
      ],
      "metadata": {
        "colab": {
          "base_uri": "https://localhost:8080/"
        },
        "id": "zUT3Jfy8vwrb",
        "outputId": "72ecf110-7314-49cd-9136-62c7b3d7a2c5"
      },
      "execution_count": null,
      "outputs": [
        {
          "metadata": {
            "tags": null
          },
          "name": "stderr",
          "output_type": "stream",
          "text": [
            "Using cache found in /root/.cache/torch/hub/ultralytics_yolov5_master\n",
            "INFO:yolov5:YOLOv5 🚀 2022-8-15 Python-3.7.13 torch-1.12.1+cu113 CUDA:0 (Tesla T4, 15110MiB)\n",
            "\n",
            "YOLOv5 🚀 2022-8-15 Python-3.7.13 torch-1.12.1+cu113 CUDA:0 (Tesla T4, 15110MiB)\n",
            "\n",
            "INFO:yolov5:Fusing layers... \n",
            "Fusing layers... \n",
            "INFO:yolov5:YOLOv5s summary: 213 layers, 7225885 parameters, 0 gradients\n",
            "YOLOv5s summary: 213 layers, 7225885 parameters, 0 gradients\n",
            "INFO:yolov5:Adding AutoShape... \n",
            "Adding AutoShape... \n"
          ]
        },
        {
          "output_type": "stream",
          "name": "stdout",
          "text": [
            "Objects detected in the videos are \n",
            ":     Videos                                            Objects\n",
            "0  video_1  [baseball bat, handbag, cell phone, remote, ch...\n",
            "1  video_2  [bicycle, baseball bat, cell phone, chair, rem...\n"
          ]
        }
      ]
    },
    {
      "cell_type": "markdown",
      "source": [
        "### Framerate "
      ],
      "metadata": {
        "id": "l820CfnxcHCu"
      }
    },
    {
      "cell_type": "code",
      "source": [
        "# Frame rate of a single video file\n",
        "framerate = Video.framerate(path='/content/video_samples/video_1.mp4')\n",
        "print(\"Frame rate of the video is\", framerate)"
      ],
      "metadata": {
        "colab": {
          "base_uri": "https://localhost:8080/"
        },
        "id": "6Gbo2_LnR0iF",
        "outputId": "a37aede0-aa32-4c4b-ec66-10537ccb05a5"
      },
      "execution_count": null,
      "outputs": [
        {
          "output_type": "stream",
          "name": "stdout",
          "text": [
            "Frame rate of the video is 60\n"
          ]
        }
      ]
    },
    {
      "cell_type": "code",
      "source": [
        "# Frame Rate of a video folder\n",
        "framerate = Video.framerate(path='/content/video_samples')\n",
        "print(\"Frame rate of the videos are: \\n\", framerate)"
      ],
      "metadata": {
        "colab": {
          "base_uri": "https://localhost:8080/"
        },
        "id": "l2PYwuMdFfD_",
        "outputId": "5a126e76-392f-4262-ab67-cbc8a12a4fdd"
      },
      "execution_count": null,
      "outputs": [
        {
          "output_type": "stream",
          "name": "stdout",
          "text": [
            "Frame rate of the videos are: \n",
            "     Videos  Framerate\n",
            "0  video_1         60\n",
            "1  video_2         23\n"
          ]
        }
      ]
    },
    {
      "cell_type": "markdown",
      "source": [
        "### Illumination (Brightness)"
      ],
      "metadata": {
        "id": "Kvp5FErxcJDB"
      }
    },
    {
      "cell_type": "code",
      "source": [
        "# Brightness of a single video file\n",
        "brightness = Video.brightness(path='/content/video_samples/video_1.mp4')\n",
        "print(\"Brightness of the video is\", brightness)"
      ],
      "metadata": {
        "colab": {
          "base_uri": "https://localhost:8080/"
        },
        "id": "P_0YJ-4ASlsf",
        "outputId": "b244cb3c-76be-4124-9789-7dab1d56b0ef"
      },
      "execution_count": null,
      "outputs": [
        {
          "output_type": "stream",
          "name": "stdout",
          "text": [
            "Brightness of the video is 66.614\n"
          ]
        }
      ]
    },
    {
      "cell_type": "code",
      "source": [
        "# Brightness of a video folder\n",
        "brightness = Video.brightness(path='/content/video_samples')\n",
        "print(\"Brightness of the videos are: \\n\", brightness)"
      ],
      "metadata": {
        "colab": {
          "base_uri": "https://localhost:8080/"
        },
        "id": "BeZZJ3IPFjUu",
        "outputId": "cd9ba618-709b-4512-b30a-373f2a28366b"
      },
      "execution_count": null,
      "outputs": [
        {
          "output_type": "stream",
          "name": "stdout",
          "text": [
            "Brightness of the videos are: \n",
            "     Videos  Brightness\n",
            "0  video_1      66.614\n",
            "1  video_2      49.158\n"
          ]
        }
      ]
    },
    {
      "cell_type": "markdown",
      "source": [
        "### Date of creation"
      ],
      "metadata": {
        "id": "RVP6UUDbcNJT"
      }
    },
    {
      "cell_type": "code",
      "source": [
        "# Time created of a single video file\n",
        "time = Video.time_created(path='/content/video_samples/video_1.mp4')\n",
        "print(\"Time created of the video is\", time)"
      ],
      "metadata": {
        "colab": {
          "base_uri": "https://localhost:8080/",
          "height": 364
        },
        "id": "FUHIzSXJSojf",
        "outputId": "1cb62faf-9737-4cba-f5f3-d49b24c7c4ac"
      },
      "execution_count": null,
      "outputs": [
        {
          "name": "stdout",
          "output_type": "stream",
          "text": [
            "Enter path of video directory: /content/video_samples\n"
          ]
        },
        {
          "output_type": "error",
          "ename": "KeyError",
          "evalue": "ignored",
          "traceback": [
            "\u001b[0;31m---------------------------------------------------------------------------\u001b[0m",
            "\u001b[0;31mKeyError\u001b[0m                                  Traceback (most recent call last)",
            "\u001b[0;32m<ipython-input-23-7a3cf3df2ae5>\u001b[0m in \u001b[0;36m<module>\u001b[0;34m\u001b[0m\n\u001b[1;32m      1\u001b[0m \u001b[0;31m# Time created of a single video file\u001b[0m\u001b[0;34m\u001b[0m\u001b[0;34m\u001b[0m\u001b[0;34m\u001b[0m\u001b[0m\n\u001b[0;32m----> 2\u001b[0;31m \u001b[0mtime\u001b[0m \u001b[0;34m=\u001b[0m \u001b[0mVideo\u001b[0m\u001b[0;34m.\u001b[0m\u001b[0mtime_created\u001b[0m\u001b[0;34m(\u001b[0m\u001b[0mpath\u001b[0m\u001b[0;34m=\u001b[0m\u001b[0;34m'/content/video_samples/video_1.mp4'\u001b[0m\u001b[0;34m)\u001b[0m\u001b[0;34m\u001b[0m\u001b[0;34m\u001b[0m\u001b[0m\n\u001b[0m\u001b[1;32m      3\u001b[0m \u001b[0mprint\u001b[0m\u001b[0;34m(\u001b[0m\u001b[0;34m\"Time created of the video is\"\u001b[0m\u001b[0;34m,\u001b[0m \u001b[0mtime\u001b[0m\u001b[0;34m)\u001b[0m\u001b[0;34m\u001b[0m\u001b[0;34m\u001b[0m\u001b[0m\n\u001b[1;32m      4\u001b[0m \u001b[0;34m\u001b[0m\u001b[0m\n",
            "\u001b[0;32m/usr/local/lib/python3.7/dist-packages/QPrism/Video/DQM.py\u001b[0m in \u001b[0;36mtime_created\u001b[0;34m(self, path)\u001b[0m\n\u001b[1;32m    250\u001b[0m \u001b[0;34m\u001b[0m\u001b[0m\n\u001b[1;32m    251\u001b[0m         \u001b[0;32melse\u001b[0m\u001b[0;34m:\u001b[0m\u001b[0;34m\u001b[0m\u001b[0;34m\u001b[0m\u001b[0m\n\u001b[0;32m--> 252\u001b[0;31m             \u001b[0;32mreturn\u001b[0m \u001b[0mcreation_time\u001b[0m\u001b[0;34m(\u001b[0m\u001b[0mpath\u001b[0m\u001b[0;34m)\u001b[0m\u001b[0;34m\u001b[0m\u001b[0;34m\u001b[0m\u001b[0m\n\u001b[0m\u001b[1;32m    253\u001b[0m \u001b[0;34m\u001b[0m\u001b[0m\n\u001b[1;32m    254\u001b[0m \u001b[0;34m\u001b[0m\u001b[0m\n",
            "\u001b[0;32m/usr/local/lib/python3.7/dist-packages/QPrism/Video/creation_time.py\u001b[0m in \u001b[0;36mcreation_time\u001b[0;34m(video_path)\u001b[0m\n\u001b[1;32m     29\u001b[0m     \u001b[0mdict\u001b[0m \u001b[0;34m=\u001b[0m \u001b[0mbyteD\u001b[0m\u001b[0;34m.\u001b[0m\u001b[0mdecode\u001b[0m\u001b[0;34m(\u001b[0m\u001b[0;34m\"UTF-8\"\u001b[0m\u001b[0;34m)\u001b[0m\u001b[0;34m\u001b[0m\u001b[0;34m\u001b[0m\u001b[0m\n\u001b[1;32m     30\u001b[0m     \u001b[0mmydata\u001b[0m \u001b[0;34m=\u001b[0m \u001b[0mast\u001b[0m\u001b[0;34m.\u001b[0m\u001b[0mliteral_eval\u001b[0m\u001b[0;34m(\u001b[0m\u001b[0mdict\u001b[0m\u001b[0;34m)\u001b[0m\u001b[0;34m\u001b[0m\u001b[0;34m\u001b[0m\u001b[0m\n\u001b[0;32m---> 31\u001b[0;31m     \u001b[0mtime\u001b[0m \u001b[0;34m=\u001b[0m \u001b[0mmydata\u001b[0m\u001b[0;34m[\u001b[0m\u001b[0;34m'format'\u001b[0m\u001b[0;34m]\u001b[0m\u001b[0;34m[\u001b[0m\u001b[0;34m'tags'\u001b[0m\u001b[0;34m]\u001b[0m\u001b[0;34m[\u001b[0m\u001b[0;34m'creation_time'\u001b[0m\u001b[0;34m]\u001b[0m\u001b[0;34m\u001b[0m\u001b[0;34m\u001b[0m\u001b[0m\n\u001b[0m\u001b[1;32m     32\u001b[0m     \u001b[0;32mreturn\u001b[0m \u001b[0mstr\u001b[0m\u001b[0;34m(\u001b[0m\u001b[0mtime\u001b[0m\u001b[0;34m)\u001b[0m\u001b[0;34m.\u001b[0m\u001b[0msplit\u001b[0m\u001b[0;34m(\u001b[0m\u001b[0;34m'.'\u001b[0m\u001b[0;34m)\u001b[0m\u001b[0;34m[\u001b[0m\u001b[0;36m0\u001b[0m\u001b[0;34m]\u001b[0m\u001b[0;34m\u001b[0m\u001b[0;34m\u001b[0m\u001b[0m\n",
            "\u001b[0;31mKeyError\u001b[0m: 'creation_time'"
          ]
        }
      ]
    },
    {
      "cell_type": "code",
      "source": [
        "# Time created of a video folder\n",
        "time = Video.time_created(path='/content/video_samples')\n",
        "print(\"Time created of the videos are: \\n\", time)"
      ],
      "metadata": {
        "colab": {
          "base_uri": "https://localhost:8080/",
          "height": 329
        },
        "id": "P0a3B3bNFp0n",
        "outputId": "acb28628-8b93-4a3c-f4a5-324a3a4476fc"
      },
      "execution_count": null,
      "outputs": [
        {
          "output_type": "error",
          "ename": "KeyError",
          "evalue": "ignored",
          "traceback": [
            "\u001b[0;31m---------------------------------------------------------------------------\u001b[0m",
            "\u001b[0;31mKeyError\u001b[0m                                  Traceback (most recent call last)",
            "\u001b[0;32m<ipython-input-26-62ecf39395ef>\u001b[0m in \u001b[0;36m<module>\u001b[0;34m\u001b[0m\n\u001b[1;32m      1\u001b[0m \u001b[0;31m# Time created of a video folder\u001b[0m\u001b[0;34m\u001b[0m\u001b[0;34m\u001b[0m\u001b[0;34m\u001b[0m\u001b[0m\n\u001b[0;32m----> 2\u001b[0;31m \u001b[0mtime\u001b[0m \u001b[0;34m=\u001b[0m \u001b[0mVideo\u001b[0m\u001b[0;34m.\u001b[0m\u001b[0mtime_created\u001b[0m\u001b[0;34m(\u001b[0m\u001b[0mpath\u001b[0m\u001b[0;34m=\u001b[0m\u001b[0;34m'/content/video_samples'\u001b[0m\u001b[0;34m)\u001b[0m\u001b[0;34m\u001b[0m\u001b[0;34m\u001b[0m\u001b[0m\n\u001b[0m\u001b[1;32m      3\u001b[0m \u001b[0mprint\u001b[0m\u001b[0;34m(\u001b[0m\u001b[0;34m\"Time created of the videos are: \\n\"\u001b[0m\u001b[0;34m,\u001b[0m \u001b[0mtime\u001b[0m\u001b[0;34m)\u001b[0m\u001b[0;34m\u001b[0m\u001b[0;34m\u001b[0m\u001b[0m\n",
            "\u001b[0;32m/usr/local/lib/python3.7/dist-packages/QPrism/Video/DQM.py\u001b[0m in \u001b[0;36mtime_created\u001b[0;34m(self, path)\u001b[0m\n\u001b[1;32m    245\u001b[0m \u001b[0;34m\u001b[0m\u001b[0m\n\u001b[1;32m    246\u001b[0m             \u001b[0;32mfor\u001b[0m \u001b[0mfile\u001b[0m \u001b[0;32min\u001b[0m \u001b[0mvideo_files\u001b[0m\u001b[0;34m:\u001b[0m\u001b[0;34m\u001b[0m\u001b[0;34m\u001b[0m\u001b[0m\n\u001b[0;32m--> 247\u001b[0;31m                 \u001b[0mtime\u001b[0m\u001b[0;34m[\u001b[0m\u001b[0mstr\u001b[0m\u001b[0;34m(\u001b[0m\u001b[0mPath\u001b[0m\u001b[0;34m(\u001b[0m\u001b[0mfile\u001b[0m\u001b[0;34m)\u001b[0m\u001b[0;34m.\u001b[0m\u001b[0mstem\u001b[0m\u001b[0;34m)\u001b[0m\u001b[0;34m]\u001b[0m \u001b[0;34m=\u001b[0m \u001b[0mcreation_time\u001b[0m\u001b[0;34m(\u001b[0m\u001b[0mfile\u001b[0m\u001b[0;34m)\u001b[0m\u001b[0;34m\u001b[0m\u001b[0;34m\u001b[0m\u001b[0m\n\u001b[0m\u001b[1;32m    248\u001b[0m \u001b[0;34m\u001b[0m\u001b[0m\n\u001b[1;32m    249\u001b[0m             \u001b[0;32mreturn\u001b[0m \u001b[0mpd\u001b[0m\u001b[0;34m.\u001b[0m\u001b[0mDataFrame\u001b[0m\u001b[0;34m(\u001b[0m\u001b[0mtime\u001b[0m\u001b[0;34m.\u001b[0m\u001b[0mitems\u001b[0m\u001b[0;34m(\u001b[0m\u001b[0;34m)\u001b[0m\u001b[0;34m,\u001b[0m \u001b[0mcolumns\u001b[0m\u001b[0;34m=\u001b[0m\u001b[0;34m[\u001b[0m\u001b[0;34m'Videos'\u001b[0m\u001b[0;34m,\u001b[0m \u001b[0;34m'Date created'\u001b[0m\u001b[0;34m]\u001b[0m\u001b[0;34m)\u001b[0m\u001b[0;34m\u001b[0m\u001b[0;34m\u001b[0m\u001b[0m\n",
            "\u001b[0;32m/usr/local/lib/python3.7/dist-packages/QPrism/Video/creation_time.py\u001b[0m in \u001b[0;36mcreation_time\u001b[0;34m(video_path)\u001b[0m\n\u001b[1;32m     29\u001b[0m     \u001b[0mdict\u001b[0m \u001b[0;34m=\u001b[0m \u001b[0mbyteD\u001b[0m\u001b[0;34m.\u001b[0m\u001b[0mdecode\u001b[0m\u001b[0;34m(\u001b[0m\u001b[0;34m\"UTF-8\"\u001b[0m\u001b[0;34m)\u001b[0m\u001b[0;34m\u001b[0m\u001b[0;34m\u001b[0m\u001b[0m\n\u001b[1;32m     30\u001b[0m     \u001b[0mmydata\u001b[0m \u001b[0;34m=\u001b[0m \u001b[0mast\u001b[0m\u001b[0;34m.\u001b[0m\u001b[0mliteral_eval\u001b[0m\u001b[0;34m(\u001b[0m\u001b[0mdict\u001b[0m\u001b[0;34m)\u001b[0m\u001b[0;34m\u001b[0m\u001b[0;34m\u001b[0m\u001b[0m\n\u001b[0;32m---> 31\u001b[0;31m     \u001b[0mtime\u001b[0m \u001b[0;34m=\u001b[0m \u001b[0mmydata\u001b[0m\u001b[0;34m[\u001b[0m\u001b[0;34m'format'\u001b[0m\u001b[0;34m]\u001b[0m\u001b[0;34m[\u001b[0m\u001b[0;34m'tags'\u001b[0m\u001b[0;34m]\u001b[0m\u001b[0;34m[\u001b[0m\u001b[0;34m'creation_time'\u001b[0m\u001b[0;34m]\u001b[0m\u001b[0;34m\u001b[0m\u001b[0;34m\u001b[0m\u001b[0m\n\u001b[0m\u001b[1;32m     32\u001b[0m     \u001b[0;32mreturn\u001b[0m \u001b[0mstr\u001b[0m\u001b[0;34m(\u001b[0m\u001b[0mtime\u001b[0m\u001b[0;34m)\u001b[0m\u001b[0;34m.\u001b[0m\u001b[0msplit\u001b[0m\u001b[0;34m(\u001b[0m\u001b[0;34m'.'\u001b[0m\u001b[0;34m)\u001b[0m\u001b[0;34m[\u001b[0m\u001b[0;36m0\u001b[0m\u001b[0;34m]\u001b[0m\u001b[0;34m\u001b[0m\u001b[0;34m\u001b[0m\u001b[0m\n",
            "\u001b[0;31mKeyError\u001b[0m: 'creation_time'"
          ]
        }
      ]
    },
    {
      "cell_type": "markdown",
      "source": [
        "### Presence of artifacts"
      ],
      "metadata": {
        "id": "GBT-lqPMcRmE"
      }
    },
    {
      "cell_type": "code",
      "source": [
        "# Percentage of artifacts present of a single video file\n",
        "artifact = Video.check_artifacts(path='/content/video_samples/video_1.mp4')\n",
        "print(\"Percentage of artifacts present of the video is\", artifact)"
      ],
      "metadata": {
        "colab": {
          "base_uri": "https://localhost:8080/"
        },
        "id": "h82Gr3LeSq5G",
        "outputId": "f68c50d1-1c7f-4386-a2db-1e00a24483f7"
      },
      "execution_count": null,
      "outputs": [
        {
          "output_type": "stream",
          "name": "stdout",
          "text": [
            "Percentage of artifacts present of the video is 1.0\n"
          ]
        }
      ]
    },
    {
      "cell_type": "code",
      "source": [
        "# Percentage of artifacts present of a video folder\n",
        "artifact = Video.check_artifacts(path='/content/video_samples')\n",
        "print(\"Percentage of artifacts present of the videos are: \\n\", artifact)"
      ],
      "metadata": {
        "colab": {
          "base_uri": "https://localhost:8080/"
        },
        "id": "Cl908GppFu2E",
        "outputId": "29972e3c-54c7-44bc-c1e2-bfadf09ded3c"
      },
      "execution_count": null,
      "outputs": [
        {
          "output_type": "stream",
          "name": "stdout",
          "text": [
            "Percentage of artifacts present of the videos are: \n",
            "     Videos  Artifacts\n",
            "0  video_1      1.000\n",
            "1  video_2      0.982\n"
          ]
        }
      ]
    },
    {
      "cell_type": "markdown",
      "source": [
        "### Get all the metrics"
      ],
      "metadata": {
        "id": "jPjLFlfYcW7R"
      }
    },
    {
      "cell_type": "code",
      "source": [
        "# All metrics\n",
        "Video.save_csv(path='/content/video_samples/video_1.mp4', output_path='/content/video_samples/video_metrics.csv', modelname='yolov5s')"
      ],
      "metadata": {
        "id": "p8CbLjKWSrYX"
      },
      "execution_count": null,
      "outputs": []
    }
  ]
}