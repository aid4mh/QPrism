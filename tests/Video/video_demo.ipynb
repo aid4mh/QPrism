{
  "cells": [
    {
      "cell_type": "markdown",
      "metadata": {
        "colab_type": "text",
        "id": "view-in-github"
      },
      "source": [
        "<a href=\"https://colab.research.google.com/github/aid4mh/QPrism/blob/main/tests/Video/video_demo.ipynb\" target=\"_parent\"><img src=\"https://colab.research.google.com/assets/colab-badge.svg\" alt=\"Open In Colab\"/></a>"
      ]
    },
    {
      "cell_type": "markdown",
      "metadata": {
        "id": "sZOWYYDIbAH-"
      },
      "source": [
        "## **Demo notebook for the Video submodule**"
      ]
    },
    {
      "cell_type": "code",
      "execution_count": 1,
      "metadata": {
        "colab": {
          "base_uri": "https://localhost:8080/"
        },
        "id": "QN8nipRsKWcN",
        "outputId": "99e7465f-10ac-4af6-e42b-1ce308ead7b6"
      },
      "outputs": [
        {
          "name": "stdout",
          "output_type": "stream",
          "text": [
            "Looking in indexes: https://pypi.org/simple, https://us-python.pkg.dev/colab-wheels/public/simple/\n",
            "Requirement already satisfied: pip in /usr/local/lib/python3.7/dist-packages (22.2.2)\n",
            "\u001b[33mWARNING: Running pip as the 'root' user can result in broken permissions and conflicting behaviour with the system package manager. It is recommended to use a virtual environment instead: https://pip.pypa.io/warnings/venv\u001b[0m\u001b[33m\n",
            "\u001b[0m"
          ]
        }
      ],
      "source": [
        "!python3 -m pip install --upgrade pip"
      ]
    },
    {
      "cell_type": "markdown",
      "metadata": {
        "id": "16Zi-ul2bMLd"
      },
      "source": [
        "### Installation of QPrism, you may need to restart the runtime after the installation."
      ]
    },
    {
      "cell_type": "code",
      "execution_count": null,
      "metadata": {
        "id": "FiNb4H8zjZXa"
      },
      "outputs": [],
      "source": [
        "!pip install -r https://raw.githubusercontent.com/aid4mh/QPrism/main/requirements.txt"
      ]
    },
    {
      "cell_type": "code",
      "execution_count": 3,
      "metadata": {
        "colab": {
          "base_uri": "https://localhost:8080/"
        },
        "id": "jV38gnfPIQpU",
        "outputId": "ab9d45a5-a9ec-4028-fa25-27c88e69c8ad"
      },
      "outputs": [
        {
          "name": "stdout",
          "output_type": "stream",
          "text": [
            "Looking in indexes: https://pypi.org/simple, https://us-python.pkg.dev/colab-wheels/public/simple/\n",
            "Requirement already satisfied: QPrism in /usr/local/lib/python3.7/dist-packages (0.2.6)\n",
            "\u001b[33mWARNING: Running pip as the 'root' user can result in broken permissions and conflicting behaviour with the system package manager. It is recommended to use a virtual environment instead: https://pip.pypa.io/warnings/venv\u001b[0m\u001b[33m\n",
            "\u001b[0m"
          ]
        }
      ],
      "source": [
        "!pip install --no-deps QPrism"
      ]
    },
    {
      "cell_type": "markdown",
      "metadata": {
        "id": "pP9VgxW1biVd"
      },
      "source": [
        "### Import the library"
      ]
    },
    {
      "cell_type": "code",
      "execution_count": 4,
      "metadata": {
        "id": "TzV6U6T1KnRh"
      },
      "outputs": [],
      "source": [
        "import QPrism.Video.DQM"
      ]
    },
    {
      "cell_type": "markdown",
      "metadata": {
        "id": "a1WoPn3vbqT_"
      },
      "source": [
        "### Create an instance for the Video class"
      ]
    },
    {
      "cell_type": "code",
      "execution_count": 5,
      "metadata": {
        "id": "glYjN3bBKvtQ"
      },
      "outputs": [],
      "source": [
        "Video = QPrism.Video.DQM.Video_DQM()"
      ]
    },
    {
      "cell_type": "markdown",
      "metadata": {
        "id": "makGeSA8tXXL"
      },
      "source": [
        "###First, you need to create a folder named video_samples under content, then upload the video_1.mp4 and video_2.mp4 to the folder. After this, there should exist the following files: /content/video_samples/video_1.mp4, /content/video_samples/video_2.mp4. Both video files for testing can be downloaded [here](https://github.com/aid4mh/QPrism/tree/main/data/video)."
      ]
    },
    {
      "cell_type": "markdown",
      "metadata": {
        "id": "ULp96W_cb46s"
      },
      "source": [
        "### Video Length"
      ]
    },
    {
      "cell_type": "code",
      "execution_count": 6,
      "metadata": {
        "colab": {
          "base_uri": "https://localhost:8080/"
        },
        "id": "0lW-4HS8MVq7",
        "outputId": "e3d0b09b-9547-47d4-9931-cfbd810f4a12"
      },
      "outputs": [
        {
          "name": "stdout",
          "output_type": "stream",
          "text": [
            "Length of the video is 65 seconds\n"
          ]
        }
      ],
      "source": [
        "# Length of a single video file\n",
        "length = Video.duration(path='/content/video_samples/video_1.mp4')\n",
        "print(\"Length of the video is %d seconds\" %length)\n",
        "\n"
      ]
    },
    {
      "cell_type": "code",
      "execution_count": 7,
      "metadata": {
        "colab": {
          "base_uri": "https://localhost:8080/"
        },
        "id": "uSh7gR6OvNyG",
        "outputId": "7f6e7175-4438-4545-9854-bf43a79dc7bd"
      },
      "outputs": [
        {
          "name": "stdout",
          "output_type": "stream",
          "text": [
            "Length of the videos are: \n",
            "     Videos  Length\n",
            "0  video_1      65\n",
            "1  video_2     267\n"
          ]
        }
      ],
      "source": [
        "# Length of a video folder\n",
        "length = Video.duration(path='/content/video_samples')\n",
        "print(\"Length of the videos are: \\n\", length)"
      ]
    },
    {
      "cell_type": "markdown",
      "metadata": {
        "id": "tlbt2-Qfb-oL"
      },
      "source": [
        "### Video Resolution"
      ]
    },
    {
      "cell_type": "code",
      "execution_count": 8,
      "metadata": {
        "colab": {
          "base_uri": "https://localhost:8080/"
        },
        "id": "UN4_CqgtPQ-G",
        "outputId": "e64a1d4f-a253-47f2-c6f1-631e03e38a12"
      },
      "outputs": [
        {
          "name": "stdout",
          "output_type": "stream",
          "text": [
            "Resolution of the video: 1080\n"
          ]
        }
      ],
      "source": [
        "# Resolution of the video\n",
        "resolution = Video.resolution(path='/content/video_samples/video_1.mp4')\n",
        "print(\"Resolution of the video:\", resolution)\n"
      ]
    },
    {
      "cell_type": "code",
      "execution_count": 9,
      "metadata": {
        "colab": {
          "base_uri": "https://localhost:8080/"
        },
        "id": "zi8OcD1cvR7g",
        "outputId": "a49592ff-b9a6-449c-a012-e4ed2aa209ed"
      },
      "outputs": [
        {
          "name": "stdout",
          "output_type": "stream",
          "text": [
            "Resolution of the videos: \n",
            "     Videos  Resolution\n",
            "0  video_1        1080\n",
            "1  video_2         720\n"
          ]
        }
      ],
      "source": [
        "# Resolution of the video folder\n",
        "resolution = Video.resolution(path='/content/video_samples')\n",
        "print(\"Resolution of the videos: \\n\", resolution)"
      ]
    },
    {
      "cell_type": "markdown",
      "metadata": {
        "id": "2mcAyfQrcAtY"
      },
      "source": [
        "### Video Format"
      ]
    },
    {
      "cell_type": "code",
      "execution_count": 10,
      "metadata": {
        "colab": {
          "base_uri": "https://localhost:8080/"
        },
        "id": "a4Xik-D5Pfle",
        "outputId": "460f61c8-b6cc-462d-d571-064ad81460ab"
      },
      "outputs": [
        {
          "name": "stdout",
          "output_type": "stream",
          "text": [
            "Format of the video is .mp4\n"
          ]
        }
      ],
      "source": [
        "# Format of a single video file\n",
        "format = Video.format(path='/content/video_samples/video_1.mp4')\n",
        "print(\"Format of the video is\", format)\n"
      ]
    },
    {
      "cell_type": "code",
      "execution_count": 11,
      "metadata": {
        "colab": {
          "base_uri": "https://localhost:8080/"
        },
        "id": "CSMDGzXSvYGi",
        "outputId": "9bc40b9b-9cb2-440f-954e-93b9b69734d9"
      },
      "outputs": [
        {
          "name": "stdout",
          "output_type": "stream",
          "text": [
            "Format of the videos are: \n",
            "     Videos Format\n",
            "0  video_1   .mp4\n",
            "1  video_2   .mp4\n"
          ]
        }
      ],
      "source": [
        "# Format of a video folder\n",
        "format = Video.format(path='/content/video_samples')\n",
        "print(\"Format of the videos are: \\n\", format)"
      ]
    },
    {
      "cell_type": "markdown",
      "metadata": {
        "id": "afJEMl52cCm5"
      },
      "source": [
        "### Bitrate of the video"
      ]
    },
    {
      "cell_type": "code",
      "execution_count": 12,
      "metadata": {
        "colab": {
          "base_uri": "https://localhost:8080/"
        },
        "id": "suC_vY-jPnLq",
        "outputId": "7c5335fd-43ec-487f-b8ed-b8aa3d770ec6"
      },
      "outputs": [
        {
          "name": "stdout",
          "output_type": "stream",
          "text": [
            "Bitrate of the video is 3630\n"
          ]
        }
      ],
      "source": [
        "# Bitrate of a single video file\n",
        "bitrate = Video.bit_rate(path='/content/video_samples/video_1.mp4')\n",
        "print(\"Bitrate of the video is\", bitrate)"
      ]
    },
    {
      "cell_type": "code",
      "execution_count": 13,
      "metadata": {
        "colab": {
          "base_uri": "https://localhost:8080/"
        },
        "id": "kXShOAKiviQH",
        "outputId": "50c479c8-9090-41b4-b395-d33c78509197"
      },
      "outputs": [
        {
          "name": "stdout",
          "output_type": "stream",
          "text": [
            "Bitrate of the videos are: \n",
            "     Videos  Bitrate\n",
            "0  video_1     3630\n",
            "1  video_2      337\n"
          ]
        }
      ],
      "source": [
        "# Bitrate of a video folder\n",
        "bitrate = Video.bit_rate(path='/content/video_samples')\n",
        "print(\"Bitrate of the videos are: \\n\", bitrate)"
      ]
    },
    {
      "cell_type": "markdown",
      "metadata": {
        "id": "Ri_9DDH-cEsE"
      },
      "source": [
        "### Object Detection\n",
        "\n",
        "####Note: Object Detection will take a long time. It takes more than 15 min on GPU acceleration on Colab for video_1.mp4. In the first run, it will automatically install yolov5 and dependencies, you may need to restart the runtime again after the installation."
      ]
    },
    {
      "cell_type": "code",
      "execution_count": 14,
      "metadata": {
        "colab": {
          "base_uri": "https://localhost:8080/"
        },
        "id": "yYhyaQtMQJpB",
        "outputId": "55acd7b7-610f-43b0-fc07-ff70ec6cc531"
      },
      "outputs": [
        {
          "name": "stderr",
          "output_type": "stream",
          "text": [
            "Using cache found in /root/.cache/torch/hub/ultralytics_yolov5_master\n",
            "INFO:yolov5:YOLOv5 🚀 2022-8-16 Python-3.7.13 torch-1.12.1+cu113 CUDA:0 (Tesla T4, 15110MiB)\n",
            "\n",
            "YOLOv5 🚀 2022-8-16 Python-3.7.13 torch-1.12.1+cu113 CUDA:0 (Tesla T4, 15110MiB)\n",
            "\n",
            "INFO:yolov5:Fusing layers... \n",
            "Fusing layers... \n",
            "INFO:yolov5:YOLOv5s summary: 213 layers, 7225885 parameters, 0 gradients\n",
            "YOLOv5s summary: 213 layers, 7225885 parameters, 0 gradients\n",
            "INFO:yolov5:Adding AutoShape... \n",
            "Adding AutoShape... \n"
          ]
        },
        {
          "name": "stdout",
          "output_type": "stream",
          "text": [
            "Objects detected in the video are: ['couch', 'baseball bat', 'toothbrush', 'tie', 'person', 'remote', 'cell phone', 'handbag', 'mouse', 'chair', 'bed']\n"
          ]
        }
      ],
      "source": [
        "# Object Detection for Single file\n",
        "objects = Video.object_detection(path='/content/video_samples/video_1.mp4', modelname='yolov5s')\n",
        "print(\"Objects detected in the video are:\", objects)"
      ]
    },
    {
      "cell_type": "code",
      "execution_count": 15,
      "metadata": {
        "colab": {
          "base_uri": "https://localhost:8080/"
        },
        "id": "zUT3Jfy8vwrb",
        "outputId": "73adf933-0340-4f96-8d49-1ca01857d750"
      },
      "outputs": [
        {
          "name": "stderr",
          "output_type": "stream",
          "text": [
            "Using cache found in /root/.cache/torch/hub/ultralytics_yolov5_master\n",
            "INFO:yolov5:YOLOv5 🚀 2022-8-16 Python-3.7.13 torch-1.12.1+cu113 CUDA:0 (Tesla T4, 15110MiB)\n",
            "\n",
            "YOLOv5 🚀 2022-8-16 Python-3.7.13 torch-1.12.1+cu113 CUDA:0 (Tesla T4, 15110MiB)\n",
            "\n",
            "INFO:yolov5:Fusing layers... \n",
            "Fusing layers... \n",
            "INFO:yolov5:YOLOv5s summary: 213 layers, 7225885 parameters, 0 gradients\n",
            "YOLOv5s summary: 213 layers, 7225885 parameters, 0 gradients\n",
            "INFO:yolov5:Adding AutoShape... \n",
            "Adding AutoShape... \n"
          ]
        },
        {
          "name": "stdout",
          "output_type": "stream",
          "text": [
            "Objects detected in the videos are \n",
            ":     Videos                                            Objects\n",
            "0  video_1  [couch, baseball bat, toothbrush, tie, person,...\n",
            "1  video_2  [car, bird, tie, book, refrigerator, donut, tr...\n"
          ]
        }
      ],
      "source": [
        "# Folder\n",
        "objects = Video.object_detection(path='/content/video_samples', modelname='yolov5s')\n",
        "print(\"Objects detected in the videos are \\n:\", objects)"
      ]
    },
    {
      "cell_type": "markdown",
      "metadata": {
        "id": "l820CfnxcHCu"
      },
      "source": [
        "### Framerate "
      ]
    },
    {
      "cell_type": "code",
      "execution_count": 16,
      "metadata": {
        "colab": {
          "base_uri": "https://localhost:8080/"
        },
        "id": "6Gbo2_LnR0iF",
        "outputId": "558c0e45-b24c-4d6f-e090-5c42d91be8bd"
      },
      "outputs": [
        {
          "name": "stdout",
          "output_type": "stream",
          "text": [
            "Frame rate of the video is 60\n"
          ]
        }
      ],
      "source": [
        "# Frame rate of a single video file\n",
        "framerate = Video.framerate(path='/content/video_samples/video_1.mp4')\n",
        "print(\"Frame rate of the video is\", framerate)"
      ]
    },
    {
      "cell_type": "code",
      "execution_count": 17,
      "metadata": {
        "colab": {
          "base_uri": "https://localhost:8080/"
        },
        "id": "l2PYwuMdFfD_",
        "outputId": "7ef20e24-2687-4939-cc99-ca71e215cb86"
      },
      "outputs": [
        {
          "name": "stdout",
          "output_type": "stream",
          "text": [
            "Frame rate of the videos are: \n",
            "     Videos  Framerate\n",
            "0  video_1         60\n",
            "1  video_2         23\n"
          ]
        }
      ],
      "source": [
        "# Frame Rate of a video folder\n",
        "framerate = Video.framerate(path='/content/video_samples')\n",
        "print(\"Frame rate of the videos are: \\n\", framerate)"
      ]
    },
    {
      "cell_type": "markdown",
      "metadata": {
        "id": "Kvp5FErxcJDB"
      },
      "source": [
        "### Illumination (Brightness)"
      ]
    },
    {
      "cell_type": "code",
      "execution_count": 18,
      "metadata": {
        "colab": {
          "base_uri": "https://localhost:8080/"
        },
        "id": "P_0YJ-4ASlsf",
        "outputId": "80e05a1f-8aa1-4189-d3e7-73197e9f3148"
      },
      "outputs": [
        {
          "name": "stdout",
          "output_type": "stream",
          "text": [
            "Brightness of the video is 66.614\n"
          ]
        }
      ],
      "source": [
        "# Brightness of a single video file\n",
        "brightness = Video.illumination(path='/content/video_samples/video_1.mp4')\n",
        "print(\"Brightness of the video is\", brightness)"
      ]
    },
    {
      "cell_type": "code",
      "execution_count": 19,
      "metadata": {
        "colab": {
          "base_uri": "https://localhost:8080/"
        },
        "id": "BeZZJ3IPFjUu",
        "outputId": "b03c03ef-7867-46fb-973b-3c6ee96cd61a"
      },
      "outputs": [
        {
          "name": "stdout",
          "output_type": "stream",
          "text": [
            "Brightness of the videos are: \n",
            "     Videos  Brightness\n",
            "0  video_1      66.614\n",
            "1  video_2      49.158\n"
          ]
        }
      ],
      "source": [
        "# Brightness of a video folder\n",
        "brightness = Video.illumination(path='/content/video_samples')\n",
        "print(\"Brightness of the videos are: \\n\", brightness)"
      ]
    },
    {
      "cell_type": "markdown",
      "metadata": {
        "id": "RVP6UUDbcNJT"
      },
      "source": [
        "### Date of creation"
      ]
    },
    {
      "cell_type": "code",
      "execution_count": 20,
      "metadata": {
        "colab": {
          "base_uri": "https://localhost:8080/"
        },
        "id": "FUHIzSXJSojf",
        "outputId": "d1a2baa8-439d-46ab-ac42-6cfa7dca2b62"
      },
      "outputs": [
        {
          "name": "stdout",
          "output_type": "stream",
          "text": [
            "Time created of the video is N/A\n"
          ]
        }
      ],
      "source": [
        "# Time created of a single video file\n",
        "time = Video.creation_time(path='/content/video_samples/video_1.mp4')\n",
        "print(\"Time created of the video is\", time)"
      ]
    },
    {
      "cell_type": "code",
      "execution_count": 21,
      "metadata": {
        "colab": {
          "base_uri": "https://localhost:8080/"
        },
        "id": "P0a3B3bNFp0n",
        "outputId": "ae183587-a450-42ca-820f-a1733886fe29"
      },
      "outputs": [
        {
          "name": "stdout",
          "output_type": "stream",
          "text": [
            "Time created of the videos are: \n",
            "     Videos         Date created\n",
            "0  video_1                  N/A\n",
            "1  video_2  2022-06-03T15:05:49\n"
          ]
        }
      ],
      "source": [
        "# Time created of a video folder\n",
        "time = Video.creation_time(path='/content/video_samples')\n",
        "print(\"Time created of the videos are: \\n\", time)"
      ]
    },
    {
      "cell_type": "markdown",
      "metadata": {
        "id": "GBT-lqPMcRmE"
      },
      "source": [
        "### Presence of artifacts"
      ]
    },
    {
      "cell_type": "code",
      "execution_count": 22,
      "metadata": {
        "colab": {
          "base_uri": "https://localhost:8080/"
        },
        "id": "h82Gr3LeSq5G",
        "outputId": "3d828c98-8091-4ee2-e69a-0370889bfc61"
      },
      "outputs": [
        {
          "name": "stdout",
          "output_type": "stream",
          "text": [
            "Percentage of artifacts present of the video is 1.0\n"
          ]
        }
      ],
      "source": [
        "# Percentage of artifacts present of a single video file\n",
        "artifact = Video.artifacts_ratio(path='/content/video_samples/video_1.mp4')\n",
        "print(\"Percentage of artifacts present of the video is\", artifact)"
      ]
    },
    {
      "cell_type": "code",
      "execution_count": 23,
      "metadata": {
        "colab": {
          "base_uri": "https://localhost:8080/"
        },
        "id": "Cl908GppFu2E",
        "outputId": "f97ab004-5f77-4a97-d372-b913e23db86b"
      },
      "outputs": [
        {
          "name": "stdout",
          "output_type": "stream",
          "text": [
            "Percentage of artifacts present of the videos are: \n",
            "     Videos  Artifacts\n",
            "0  video_1      1.000\n",
            "1  video_2      0.982\n"
          ]
        }
      ],
      "source": [
        "# Percentage of artifacts present of a video folder\n",
        "artifact = Video.artifacts_ratio(path='/content/video_samples')\n",
        "print(\"Percentage of artifacts present of the videos are: \\n\", artifact)"
      ]
    },
    {
      "cell_type": "markdown",
      "metadata": {
        "id": "jPjLFlfYcW7R"
      },
      "source": [
        "### Get all the metrics"
      ]
    },
    {
      "cell_type": "code",
      "execution_count": null,
      "metadata": {
        "id": "p8CbLjKWSrYX"
      },
      "outputs": [],
      "source": [
        "# All metrics\n",
        "Video.save_csv(path='/content/video_samples/video_1.mp4', output_path='/content/video_samples/video_metrics.csv', modelname='yolov5s')"
      ]
    },
    {
      "cell_type": "markdown",
      "metadata": {
        "id": "E6mRd9dNnTVL"
      },
      "source": [
        "###Display the saved csv"
      ]
    },
    {
      "cell_type": "code",
      "execution_count": null,
      "metadata": {
        "id": "VKD_22DVnS4d"
      },
      "outputs": [],
      "source": [
        "import pandas as pd\n",
        "df = pd.read_csv('/content/video_samples/video_metrics.csv')\n",
        "print(df)"
      ]
    }
  ],
  "metadata": {
    "accelerator": "GPU",
    "colab": {
      "collapsed_sections": [],
      "include_colab_link": true,
      "name": "Copy of demo_video.ipynb",
      "provenance": []
    },
    "gpuClass": "standard",
    "kernelspec": {
      "display_name": "Python 3.8.10 64-bit",
      "language": "python",
      "name": "python3"
    },
    "language_info": {
      "name": "python",
      "version": "3.8.10"
    },
    "vscode": {
      "interpreter": {
        "hash": "916dbcbb3f70747c44a77c7bcd40155683ae19c65e1c03b4aa3499c5328201f1"
      }
    }
  },
  "nbformat": 4,
  "nbformat_minor": 0
}
