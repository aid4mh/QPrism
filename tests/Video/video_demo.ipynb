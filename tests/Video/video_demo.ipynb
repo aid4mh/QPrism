{
  "nbformat": 4,
  "nbformat_minor": 0,
  "metadata": {
    "colab": {
      "name": "Copy of demo_video.ipynb",
      "provenance": [],
      "collapsed_sections": [],
      "include_colab_link": true
    },
    "kernelspec": {
      "name": "python3",
      "display_name": "Python 3"
    },
    "language_info": {
      "name": "python"
    },
    "accelerator": "GPU",
    "gpuClass": "standard"
  },
  "cells": [
    {
      "cell_type": "markdown",
      "metadata": {
        "id": "view-in-github",
        "colab_type": "text"
      },
      "source": [
        "<a href=\"https://colab.research.google.com/github/aid4mh/QPrism/blob/main/tests/Video/video_demo.ipynb\" target=\"_parent\"><img src=\"https://colab.research.google.com/assets/colab-badge.svg\" alt=\"Open In Colab\"/></a>"
      ]
    },
    {
      "cell_type": "markdown",
      "source": [
        "## **Demo notebook for the Video submodule**"
      ],
      "metadata": {
        "id": "sZOWYYDIbAH-"
      }
    },
    {
      "cell_type": "code",
      "source": [
        "!python3 -m pip install --upgrade pip"
      ],
      "metadata": {
        "id": "QN8nipRsKWcN",
        "colab": {
          "base_uri": "https://localhost:8080/"
        },
        "outputId": "99e7465f-10ac-4af6-e42b-1ce308ead7b6"
      },
      "execution_count": 1,
      "outputs": [
        {
          "output_type": "stream",
          "name": "stdout",
          "text": [
            "Looking in indexes: https://pypi.org/simple, https://us-python.pkg.dev/colab-wheels/public/simple/\n",
            "Requirement already satisfied: pip in /usr/local/lib/python3.7/dist-packages (22.2.2)\n",
            "\u001b[33mWARNING: Running pip as the 'root' user can result in broken permissions and conflicting behaviour with the system package manager. It is recommended to use a virtual environment instead: https://pip.pypa.io/warnings/venv\u001b[0m\u001b[33m\n",
            "\u001b[0m"
          ]
        }
      ]
    },
    {
      "cell_type": "markdown",
      "source": [
        "### Installation of QPrism, you may need to restart the runtime after the installation."
      ],
      "metadata": {
        "id": "16Zi-ul2bMLd"
      }
    },
    {
      "cell_type": "code",
      "source": [
        "!pip install -r https://raw.githubusercontent.com/aid4mh/QPrism/main/requirements.txt"
      ],
      "metadata": {
        "id": "FiNb4H8zjZXa"
      },
      "execution_count": null,
      "outputs": []
    },
    {
      "cell_type": "code",
      "execution_count": 3,
      "metadata": {
        "id": "jV38gnfPIQpU",
        "colab": {
          "base_uri": "https://localhost:8080/"
        },
        "outputId": "ab9d45a5-a9ec-4028-fa25-27c88e69c8ad"
      },
      "outputs": [
        {
          "output_type": "stream",
          "name": "stdout",
          "text": [
            "Looking in indexes: https://pypi.org/simple, https://us-python.pkg.dev/colab-wheels/public/simple/\n",
            "Requirement already satisfied: QPrism in /usr/local/lib/python3.7/dist-packages (0.2.6)\n",
            "\u001b[33mWARNING: Running pip as the 'root' user can result in broken permissions and conflicting behaviour with the system package manager. It is recommended to use a virtual environment instead: https://pip.pypa.io/warnings/venv\u001b[0m\u001b[33m\n",
            "\u001b[0m"
          ]
        }
      ],
      "source": [
        "!pip install --no-deps QPrism"
      ]
    },
    {
      "cell_type": "markdown",
      "source": [
        "### Import the library"
      ],
      "metadata": {
        "id": "pP9VgxW1biVd"
      }
    },
    {
      "cell_type": "code",
      "source": [
        "import QPrism.Video.DQM"
      ],
      "metadata": {
        "id": "TzV6U6T1KnRh"
      },
      "execution_count": 4,
      "outputs": []
    },
    {
      "cell_type": "markdown",
      "source": [
        "### Create an instance for the Video class"
      ],
      "metadata": {
        "id": "a1WoPn3vbqT_"
      }
    },
    {
      "cell_type": "code",
      "source": [
        "Video = QPrism.Video.DQM.Video_DQM()"
      ],
      "metadata": {
        "id": "glYjN3bBKvtQ"
      },
      "execution_count": 5,
      "outputs": []
    },
    {
      "cell_type": "markdown",
      "source": [
        "###First, you need to create a folder named video_samples under content, then upload the video_1.mp4 and video_2.mp4 to the folder. After this, there should exist the following files: /content/video_samples/video_1.mp4, /content/video_samples/video_2.mp4. Both video files for testing can be downloaded [here](https://github.com/aid4mh/QPrism/tree/main/data/video)."
      ],
      "metadata": {
        "id": "makGeSA8tXXL"
      }
    },
    {
      "cell_type": "markdown",
      "source": [
        "### Video Length"
      ],
      "metadata": {
        "id": "ULp96W_cb46s"
      }
    },
    {
      "cell_type": "code",
      "source": [
        "# Length of a single video file\n",
        "length = Video.length(path='/content/video_samples/video_1.mp4')\n",
        "print(\"Length of the video is %d seconds\" %length)\n",
        "\n"
      ],
      "metadata": {
        "colab": {
          "base_uri": "https://localhost:8080/"
        },
        "id": "0lW-4HS8MVq7",
        "outputId": "e3d0b09b-9547-47d4-9931-cfbd810f4a12"
      },
      "execution_count": 6,
      "outputs": [
        {
          "output_type": "stream",
          "name": "stdout",
          "text": [
            "Length of the video is 65 seconds\n"
          ]
        }
      ]
    },
    {
      "cell_type": "code",
      "source": [
        "# Length of a video folder\n",
        "length = Video.length(path='/content/video_samples')\n",
        "print(\"Length of the videos are: \\n\", length)"
      ],
      "metadata": {
        "colab": {
          "base_uri": "https://localhost:8080/"
        },
        "id": "uSh7gR6OvNyG",
        "outputId": "7f6e7175-4438-4545-9854-bf43a79dc7bd"
      },
      "execution_count": 7,
      "outputs": [
        {
          "output_type": "stream",
          "name": "stdout",
          "text": [
            "Length of the videos are: \n",
            "     Videos  Length\n",
            "0  video_1      65\n",
            "1  video_2     267\n"
          ]
        }
      ]
    },
    {
      "cell_type": "markdown",
      "source": [
        "### Video Resolution"
      ],
      "metadata": {
        "id": "tlbt2-Qfb-oL"
      }
    },
    {
      "cell_type": "code",
      "source": [
        "# Resolution of the video\n",
        "resolution = Video.resolution(path='/content/video_samples/video_1.mp4')\n",
        "print(\"Resolution of the video:\", resolution)\n"
      ],
      "metadata": {
        "colab": {
          "base_uri": "https://localhost:8080/"
        },
        "id": "UN4_CqgtPQ-G",
        "outputId": "e64a1d4f-a253-47f2-c6f1-631e03e38a12"
      },
      "execution_count": 8,
      "outputs": [
        {
          "output_type": "stream",
          "name": "stdout",
          "text": [
            "Resolution of the video: 1080\n"
          ]
        }
      ]
    },
    {
      "cell_type": "code",
      "source": [
        "# Resolution of the video folder\n",
        "resolution = Video.resolution(path='/content/video_samples')\n",
        "print(\"Resolution of the videos: \\n\", resolution)"
      ],
      "metadata": {
        "colab": {
          "base_uri": "https://localhost:8080/"
        },
        "id": "zi8OcD1cvR7g",
        "outputId": "a49592ff-b9a6-449c-a012-e4ed2aa209ed"
      },
      "execution_count": 9,
      "outputs": [
        {
          "output_type": "stream",
          "name": "stdout",
          "text": [
            "Resolution of the videos: \n",
            "     Videos  Resolution\n",
            "0  video_1        1080\n",
            "1  video_2         720\n"
          ]
        }
      ]
    },
    {
      "cell_type": "markdown",
      "source": [
        "### Video Format"
      ],
      "metadata": {
        "id": "2mcAyfQrcAtY"
      }
    },
    {
      "cell_type": "code",
      "source": [
        "# Format of a single video file\n",
        "format = Video.format(path='/content/video_samples/video_1.mp4')\n",
        "print(\"Format of the video is\", format)\n"
      ],
      "metadata": {
        "colab": {
          "base_uri": "https://localhost:8080/"
        },
        "id": "a4Xik-D5Pfle",
        "outputId": "460f61c8-b6cc-462d-d571-064ad81460ab"
      },
      "execution_count": 10,
      "outputs": [
        {
          "output_type": "stream",
          "name": "stdout",
          "text": [
            "Format of the video is .mp4\n"
          ]
        }
      ]
    },
    {
      "cell_type": "code",
      "source": [
        "# Format of a video folder\n",
        "format = Video.format(path='/content/video_samples')\n",
        "print(\"Format of the videos are: \\n\", format)"
      ],
      "metadata": {
        "colab": {
          "base_uri": "https://localhost:8080/"
        },
        "id": "CSMDGzXSvYGi",
        "outputId": "9bc40b9b-9cb2-440f-954e-93b9b69734d9"
      },
      "execution_count": 11,
      "outputs": [
        {
          "output_type": "stream",
          "name": "stdout",
          "text": [
            "Format of the videos are: \n",
            "     Videos Format\n",
            "0  video_1   .mp4\n",
            "1  video_2   .mp4\n"
          ]
        }
      ]
    },
    {
      "cell_type": "markdown",
      "source": [
        "### Bitrate of the video"
      ],
      "metadata": {
        "id": "afJEMl52cCm5"
      }
    },
    {
      "cell_type": "code",
      "source": [
        "# Bitrate of a single video file\n",
        "bitrate = Video.bit_rate(path='/content/video_samples/video_1.mp4')\n",
        "print(\"Bitrate of the video is\", bitrate)"
      ],
      "metadata": {
        "colab": {
          "base_uri": "https://localhost:8080/"
        },
        "id": "suC_vY-jPnLq",
        "outputId": "7c5335fd-43ec-487f-b8ed-b8aa3d770ec6"
      },
      "execution_count": 12,
      "outputs": [
        {
          "output_type": "stream",
          "name": "stdout",
          "text": [
            "Bitrate of the video is 3630\n"
          ]
        }
      ]
    },
    {
      "cell_type": "code",
      "source": [
        "# Bitrate of a video folder\n",
        "bitrate = Video.bit_rate(path='/content/video_samples')\n",
        "print(\"Bitrate of the videos are: \\n\", bitrate)"
      ],
      "metadata": {
        "colab": {
          "base_uri": "https://localhost:8080/"
        },
        "id": "kXShOAKiviQH",
        "outputId": "50c479c8-9090-41b4-b395-d33c78509197"
      },
      "execution_count": 13,
      "outputs": [
        {
          "output_type": "stream",
          "name": "stdout",
          "text": [
            "Bitrate of the videos are: \n",
            "     Videos  Bitrate\n",
            "0  video_1     3630\n",
            "1  video_2      337\n"
          ]
        }
      ]
    },
    {
      "cell_type": "markdown",
      "source": [
        "### Object Detection\n",
        "\n",
        "####Note: Object Detection will take a long time. It takes more than 15 min on GPU acceleration on Colab for video_1.mp4. In the first run, it will automatically install yolov5 and dependencies, you may need to restart the runtime again after the installation."
      ],
      "metadata": {
        "id": "Ri_9DDH-cEsE"
      }
    },
    {
      "cell_type": "code",
      "source": [
        "# Object Detection for Single file\n",
        "objects = Video.object_detection(path='/content/video_samples/video_1.mp4', modelname='yolov5s')\n",
        "print(\"Objects detected in the video are:\", objects)"
      ],
      "metadata": {
        "colab": {
          "base_uri": "https://localhost:8080/"
        },
        "id": "yYhyaQtMQJpB",
        "outputId": "55acd7b7-610f-43b0-fc07-ff70ec6cc531"
      },
      "execution_count": 14,
      "outputs": [
        {
          "output_type": "stream",
          "name": "stderr",
          "text": [
            "Using cache found in /root/.cache/torch/hub/ultralytics_yolov5_master\n",
            "INFO:yolov5:YOLOv5 🚀 2022-8-16 Python-3.7.13 torch-1.12.1+cu113 CUDA:0 (Tesla T4, 15110MiB)\n",
            "\n",
            "YOLOv5 🚀 2022-8-16 Python-3.7.13 torch-1.12.1+cu113 CUDA:0 (Tesla T4, 15110MiB)\n",
            "\n",
            "INFO:yolov5:Fusing layers... \n",
            "Fusing layers... \n",
            "INFO:yolov5:YOLOv5s summary: 213 layers, 7225885 parameters, 0 gradients\n",
            "YOLOv5s summary: 213 layers, 7225885 parameters, 0 gradients\n",
            "INFO:yolov5:Adding AutoShape... \n",
            "Adding AutoShape... \n"
          ]
        },
        {
          "output_type": "stream",
          "name": "stdout",
          "text": [
            "Objects detected in the video are: ['couch', 'baseball bat', 'toothbrush', 'tie', 'person', 'remote', 'cell phone', 'handbag', 'mouse', 'chair', 'bed']\n"
          ]
        }
      ]
    },
    {
      "cell_type": "code",
      "source": [
        "# Folder\n",
        "objects = Video.object_detection(path='/content/video_samples', modelname='yolov5s')\n",
        "print(\"Objects detected in the videos are \\n:\", objects)"
      ],
      "metadata": {
        "colab": {
          "base_uri": "https://localhost:8080/"
        },
        "id": "zUT3Jfy8vwrb",
        "outputId": "73adf933-0340-4f96-8d49-1ca01857d750"
      },
      "execution_count": 15,
      "outputs": [
        {
          "output_type": "stream",
          "name": "stderr",
          "text": [
            "Using cache found in /root/.cache/torch/hub/ultralytics_yolov5_master\n",
            "INFO:yolov5:YOLOv5 🚀 2022-8-16 Python-3.7.13 torch-1.12.1+cu113 CUDA:0 (Tesla T4, 15110MiB)\n",
            "\n",
            "YOLOv5 🚀 2022-8-16 Python-3.7.13 torch-1.12.1+cu113 CUDA:0 (Tesla T4, 15110MiB)\n",
            "\n",
            "INFO:yolov5:Fusing layers... \n",
            "Fusing layers... \n",
            "INFO:yolov5:YOLOv5s summary: 213 layers, 7225885 parameters, 0 gradients\n",
            "YOLOv5s summary: 213 layers, 7225885 parameters, 0 gradients\n",
            "INFO:yolov5:Adding AutoShape... \n",
            "Adding AutoShape... \n"
          ]
        },
        {
          "output_type": "stream",
          "name": "stdout",
          "text": [
            "Objects detected in the videos are \n",
            ":     Videos                                            Objects\n",
            "0  video_1  [couch, baseball bat, toothbrush, tie, person,...\n",
            "1  video_2  [car, bird, tie, book, refrigerator, donut, tr...\n"
          ]
        }
      ]
    },
    {
      "cell_type": "markdown",
      "source": [
        "### Framerate "
      ],
      "metadata": {
        "id": "l820CfnxcHCu"
      }
    },
    {
      "cell_type": "code",
      "source": [
        "# Frame rate of a single video file\n",
        "framerate = Video.framerate(path='/content/video_samples/video_1.mp4')\n",
        "print(\"Frame rate of the video is\", framerate)"
      ],
      "metadata": {
        "colab": {
          "base_uri": "https://localhost:8080/"
        },
        "id": "6Gbo2_LnR0iF",
        "outputId": "558c0e45-b24c-4d6f-e090-5c42d91be8bd"
      },
      "execution_count": 16,
      "outputs": [
        {
          "output_type": "stream",
          "name": "stdout",
          "text": [
            "Frame rate of the video is 60\n"
          ]
        }
      ]
    },
    {
      "cell_type": "code",
      "source": [
        "# Frame Rate of a video folder\n",
        "framerate = Video.framerate(path='/content/video_samples')\n",
        "print(\"Frame rate of the videos are: \\n\", framerate)"
      ],
      "metadata": {
        "colab": {
          "base_uri": "https://localhost:8080/"
        },
        "id": "l2PYwuMdFfD_",
        "outputId": "7ef20e24-2687-4939-cc99-ca71e215cb86"
      },
      "execution_count": 17,
      "outputs": [
        {
          "output_type": "stream",
          "name": "stdout",
          "text": [
            "Frame rate of the videos are: \n",
            "     Videos  Framerate\n",
            "0  video_1         60\n",
            "1  video_2         23\n"
          ]
        }
      ]
    },
    {
      "cell_type": "markdown",
      "source": [
        "### Illumination (Brightness)"
      ],
      "metadata": {
        "id": "Kvp5FErxcJDB"
      }
    },
    {
      "cell_type": "code",
      "source": [
        "# Brightness of a single video file\n",
        "brightness = Video.brightness(path='/content/video_samples/video_1.mp4')\n",
        "print(\"Brightness of the video is\", brightness)"
      ],
      "metadata": {
        "colab": {
          "base_uri": "https://localhost:8080/"
        },
        "id": "P_0YJ-4ASlsf",
        "outputId": "80e05a1f-8aa1-4189-d3e7-73197e9f3148"
      },
      "execution_count": 18,
      "outputs": [
        {
          "output_type": "stream",
          "name": "stdout",
          "text": [
            "Brightness of the video is 66.614\n"
          ]
        }
      ]
    },
    {
      "cell_type": "code",
      "source": [
        "# Brightness of a video folder\n",
        "brightness = Video.brightness(path='/content/video_samples')\n",
        "print(\"Brightness of the videos are: \\n\", brightness)"
      ],
      "metadata": {
        "colab": {
          "base_uri": "https://localhost:8080/"
        },
        "id": "BeZZJ3IPFjUu",
        "outputId": "b03c03ef-7867-46fb-973b-3c6ee96cd61a"
      },
      "execution_count": 19,
      "outputs": [
        {
          "output_type": "stream",
          "name": "stdout",
          "text": [
            "Brightness of the videos are: \n",
            "     Videos  Brightness\n",
            "0  video_1      66.614\n",
            "1  video_2      49.158\n"
          ]
        }
      ]
    },
    {
      "cell_type": "markdown",
      "source": [
        "### Date of creation"
      ],
      "metadata": {
        "id": "RVP6UUDbcNJT"
      }
    },
    {
      "cell_type": "code",
      "source": [
        "# Time created of a single video file\n",
        "time = Video.time_created(path='/content/video_samples/video_1.mp4')\n",
        "print(\"Time created of the video is\", time)"
      ],
      "metadata": {
        "colab": {
          "base_uri": "https://localhost:8080/"
        },
        "id": "FUHIzSXJSojf",
        "outputId": "d1a2baa8-439d-46ab-ac42-6cfa7dca2b62"
      },
      "execution_count": 20,
      "outputs": [
        {
          "output_type": "stream",
          "name": "stdout",
          "text": [
            "Time created of the video is N/A\n"
          ]
        }
      ]
    },
    {
      "cell_type": "code",
      "source": [
        "# Time created of a video folder\n",
        "time = Video.time_created(path='/content/video_samples')\n",
        "print(\"Time created of the videos are: \\n\", time)"
      ],
      "metadata": {
        "colab": {
          "base_uri": "https://localhost:8080/"
        },
        "id": "P0a3B3bNFp0n",
        "outputId": "ae183587-a450-42ca-820f-a1733886fe29"
      },
      "execution_count": 21,
      "outputs": [
        {
          "output_type": "stream",
          "name": "stdout",
          "text": [
            "Time created of the videos are: \n",
            "     Videos         Date created\n",
            "0  video_1                  N/A\n",
            "1  video_2  2022-06-03T15:05:49\n"
          ]
        }
      ]
    },
    {
      "cell_type": "markdown",
      "source": [
        "### Presence of artifacts"
      ],
      "metadata": {
        "id": "GBT-lqPMcRmE"
      }
    },
    {
      "cell_type": "code",
      "source": [
        "# Percentage of artifacts present of a single video file\n",
        "artifact = Video.check_artifacts(path='/content/video_samples/video_1.mp4')\n",
        "print(\"Percentage of artifacts present of the video is\", artifact)"
      ],
      "metadata": {
        "colab": {
          "base_uri": "https://localhost:8080/"
        },
        "id": "h82Gr3LeSq5G",
        "outputId": "3d828c98-8091-4ee2-e69a-0370889bfc61"
      },
      "execution_count": 22,
      "outputs": [
        {
          "output_type": "stream",
          "name": "stdout",
          "text": [
            "Percentage of artifacts present of the video is 1.0\n"
          ]
        }
      ]
    },
    {
      "cell_type": "code",
      "source": [
        "# Percentage of artifacts present of a video folder\n",
        "artifact = Video.check_artifacts(path='/content/video_samples')\n",
        "print(\"Percentage of artifacts present of the videos are: \\n\", artifact)"
      ],
      "metadata": {
        "colab": {
          "base_uri": "https://localhost:8080/"
        },
        "id": "Cl908GppFu2E",
        "outputId": "f97ab004-5f77-4a97-d372-b913e23db86b"
      },
      "execution_count": 23,
      "outputs": [
        {
          "output_type": "stream",
          "name": "stdout",
          "text": [
            "Percentage of artifacts present of the videos are: \n",
            "     Videos  Artifacts\n",
            "0  video_1      1.000\n",
            "1  video_2      0.982\n"
          ]
        }
      ]
    },
    {
      "cell_type": "markdown",
      "source": [
        "### Get all the metrics"
      ],
      "metadata": {
        "id": "jPjLFlfYcW7R"
      }
    },
    {
      "cell_type": "code",
      "source": [
        "# All metrics\n",
        "Video.save_csv(path='/content/video_samples/video_1.mp4', output_path='/content/video_samples/video_metrics.csv', modelname='yolov5s')"
      ],
      "metadata": {
        "id": "p8CbLjKWSrYX"
      },
      "execution_count": null,
      "outputs": []
    },
    {
      "cell_type": "markdown",
      "source": [
        "###Display the saved csv"
      ],
      "metadata": {
        "id": "E6mRd9dNnTVL"
      }
    },
    {
      "cell_type": "code",
      "source": [
        "import pandas as pd\n",
        "df = pd.read_csv('/content/video_samples/video_metrics.csv')\n",
        "print(df)"
      ],
      "metadata": {
        "id": "VKD_22DVnS4d"
      },
      "execution_count": null,
      "outputs": []
    }
  ]
}